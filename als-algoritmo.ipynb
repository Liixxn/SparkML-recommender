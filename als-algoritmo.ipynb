{
 "cells": [
  {
   "cell_type": "code",
   "execution_count": 1,
   "metadata": {},
   "outputs": [],
   "source": [
    "import findspark\n",
    "findspark.init()\n",
    "from pyspark.ml.evaluation import RegressionEvaluator\n",
    "from pyspark.ml.recommendation import ALS\n",
    "from pyspark.sql import Row\n",
    "from pyspark import *\n",
    "from pyspark.sql import SparkSession\n",
    "from pyspark.sql.functions import explode, col"
   ]
  },
  {
   "cell_type": "code",
   "execution_count": 2,
   "metadata": {},
   "outputs": [],
   "source": [
    "spark = SparkSession.builder.appName(\"SPARK_ML_SistemaRecomendacion\").config(\"spark.executor.memory\", \"8g\").config(\"spark.executor.cores\", \"6\").config(\"spark.driver.memory\",\"8g\").getOrCreate()"
   ]
  },
  {
   "cell_type": "code",
   "execution_count": 3,
   "metadata": {},
   "outputs": [],
   "source": [
    "df_animes = spark.read.csv(\"data/anime.csv\", header=True, sep=\",\", encoding=\"UTF-8\", inferSchema=True)"
   ]
  },
  {
   "cell_type": "code",
   "execution_count": 12,
   "metadata": {},
   "outputs": [],
   "source": [
    "df_peliculas = df_animes.filter(df_animes[\"Type\"] == \"Movie\")"
   ]
  },
  {
   "cell_type": "code",
   "execution_count": 13,
   "metadata": {},
   "outputs": [
    {
     "data": {
      "text/plain": [
       "3039"
      ]
     },
     "execution_count": 13,
     "metadata": {},
     "output_type": "execute_result"
    }
   ],
   "source": [
    "df_peliculas.count()"
   ]
  },
  {
   "cell_type": "code",
   "execution_count": 14,
   "metadata": {},
   "outputs": [],
   "source": [
    "df_series = df_animes.filter(df_animes[\"Type\"] == \"TV\")"
   ]
  },
  {
   "cell_type": "code",
   "execution_count": 15,
   "metadata": {},
   "outputs": [
    {
     "data": {
      "text/plain": [
       "4994"
      ]
     },
     "execution_count": 15,
     "metadata": {},
     "output_type": "execute_result"
    }
   ],
   "source": [
    "df_series.count()"
   ]
  },
  {
   "cell_type": "code",
   "execution_count": 16,
   "metadata": {},
   "outputs": [],
   "source": [
    "df_ratings = spark.read.csv(\"data/rating_complete.csv\", header=True, sep=\",\", encoding=\"UTF-8\", inferSchema=True)\n",
    "\n",
    "df_ratings_ep = spark.read.csv(\"data/valoraciones_EP.csv\", header=False, sep=\",\", encoding=\"UTF-8\", inferSchema=True)\n",
    "df_ratings_ep = df_ratings_ep.withColumnRenamed(\"_c0\", \"user_id\")\n",
    "df_ratings_ep = df_ratings_ep.withColumnRenamed(\"_c1\", \"anime_id\")\n",
    "df_ratings_ep = df_ratings_ep.withColumnRenamed(\"_c2\", \"rating\")"
   ]
  },
  {
   "cell_type": "code",
   "execution_count": 17,
   "metadata": {},
   "outputs": [],
   "source": [
    "df_ratings_completo = df_ratings.union(df_ratings_ep)"
   ]
  },
  {
   "cell_type": "code",
   "execution_count": 18,
   "metadata": {},
   "outputs": [
    {
     "name": "stdout",
     "output_type": "stream",
     "text": [
      "+-------+--------+------+\n",
      "|user_id|anime_id|rating|\n",
      "+-------+--------+------+\n",
      "|      0|     430|   9.0|\n",
      "|      0|    1004|   5.0|\n",
      "|      0|    3010|   7.0|\n",
      "|      0|     570|   7.0|\n",
      "|      0|    2762|   9.0|\n",
      "|      0|     431|   8.0|\n",
      "|      0|     578|  10.0|\n",
      "|      0|     433|   6.0|\n",
      "|      0|    1571|  10.0|\n",
      "|      0|     121|   9.0|\n",
      "|      0|     356|   9.0|\n",
      "|      0|    1250|   7.0|\n",
      "|      0|    2913|   6.0|\n",
      "|      0|    1689|   6.0|\n",
      "|      0|      68|   6.0|\n",
      "|      0|    1829|   7.0|\n",
      "|      0|     600|   6.0|\n",
      "|      0|    3418|   9.0|\n",
      "|      0|     164|   8.0|\n",
      "|      0|    1894|   7.0|\n",
      "+-------+--------+------+\n",
      "only showing top 20 rows\n",
      "\n"
     ]
    }
   ],
   "source": [
    "df_ratings_completo.show()"
   ]
  },
  {
   "cell_type": "code",
   "execution_count": null,
   "metadata": {},
   "outputs": [],
   "source": [
    "df_ratings_completo_movies = df_ratings_completo.join(df_animes, df_ratings_completo[\"anime_id\"] == df_animes[\"ID\"], \"inner\")"
   ]
  },
  {
   "cell_type": "markdown",
   "metadata": {},
   "source": []
  },
  {
   "cell_type": "code",
   "execution_count": 6,
   "metadata": {},
   "outputs": [],
   "source": [
    "(training, test) = df_ratings_completo.randomSplit([0.8, 0.2])"
   ]
  },
  {
   "cell_type": "code",
   "execution_count": null,
   "metadata": {},
   "outputs": [],
   "source": []
  },
  {
   "cell_type": "code",
   "execution_count": 7,
   "metadata": {},
   "outputs": [],
   "source": [
    "als = ALS(rank=10, maxIter=5, regParam=0.01, userCol=\"user_id\", itemCol=\"anime_id\", ratingCol=\"rating\", coldStartStrategy=\"drop\")"
   ]
  },
  {
   "cell_type": "code",
   "execution_count": 8,
   "metadata": {},
   "outputs": [],
   "source": [
    "model = als.fit(training)"
   ]
  },
  {
   "cell_type": "code",
   "execution_count": 9,
   "metadata": {},
   "outputs": [],
   "source": [
    "predictions = model.transform(test)"
   ]
  },
  {
   "cell_type": "code",
   "execution_count": 10,
   "metadata": {},
   "outputs": [],
   "source": [
    "evaluator = RegressionEvaluator(metricName=\"rmse\", labelCol=\"rating\", predictionCol=\"prediction\")"
   ]
  },
  {
   "cell_type": "code",
   "execution_count": 11,
   "metadata": {},
   "outputs": [
    {
     "name": "stdout",
     "output_type": "stream",
     "text": [
      "Root-mean-square error = 1.1653396874384212\n"
     ]
    }
   ],
   "source": [
    "rmse = evaluator.evaluate(predictions) \n",
    "print(\"Root-mean-square error = \" + str(rmse))"
   ]
  },
  {
   "cell_type": "code",
   "execution_count": 12,
   "metadata": {},
   "outputs": [],
   "source": [
    "userRecs = model.recommendForAllUsers(10)\n"
   ]
  },
  {
   "cell_type": "code",
   "execution_count": null,
   "metadata": {},
   "outputs": [],
   "source": []
  },
  {
   "cell_type": "code",
   "execution_count": 13,
   "metadata": {},
   "outputs": [],
   "source": [
    "movieRecs = model.recommendForAllItems(10)"
   ]
  },
  {
   "cell_type": "code",
   "execution_count": 14,
   "metadata": {},
   "outputs": [],
   "source": [
    "users = df_ratings_completo.select(als.getUserCol()).distinct().limit(3)\n",
    "userSubsetRecs = model.recommendForUserSubset(users, 10)"
   ]
  },
  {
   "cell_type": "code",
   "execution_count": 15,
   "metadata": {},
   "outputs": [],
   "source": [
    "movies = df_ratings_completo.select(als.getItemCol()).distinct().limit(3)\n",
    "movieSubSetRecs = model.recommendForItemSubset(movies, 10)"
   ]
  },
  {
   "cell_type": "code",
   "execution_count": 16,
   "metadata": {},
   "outputs": [
    {
     "name": "stdout",
     "output_type": "stream",
     "text": [
      "User Recommendations\n",
      "+-------+--------------------------------------------------------------------------------------------------------------------------------------------------------------------------------------------------------+\n",
      "|user_id|recommendations                                                                                                                                                                                         |\n",
      "+-------+--------------------------------------------------------------------------------------------------------------------------------------------------------------------------------------------------------+\n",
      "|27     |[{30997, 26.546774}, {35035, 24.273293}, {35058, 23.806496}, {35054, 23.806496}, {28561, 23.509024}, {35055, 21.14663}, {38094, 20.67978}, {35476, 19.84515}, {39083, 19.141048}, {20703, 18.951517}]   |\n",
      "|28     |[{35035, 24.478012}, {35074, 21.513226}, {24981, 21.259594}, {26293, 20.854996}, {16838, 20.688904}, {19445, 20.420752}, {35058, 20.089546}, {35054, 20.089546}, {26145, 19.73428}, {20703, 18.188728}] |\n",
      "|31     |[{35035, 47.299835}, {35058, 43.909355}, {35054, 43.909355}, {35055, 43.789444}, {26293, 38.990044}, {35151, 30.888966}, {29713, 29.711708}, {37749, 29.338787}, {16572, 27.671595}, {28561, 26.654755}]|\n",
      "|34     |[{35074, 24.01087}, {19445, 23.918282}, {35035, 23.76215}, {24981, 21.330906}, {26293, 20.964111}, {35058, 20.854937}, {35054, 20.854937}, {40030, 20.588966}, {29435, 19.381859}, {34925, 19.058258}]  |\n",
      "|44     |[{38174, 28.460287}, {35058, 23.90862}, {35054, 23.90862}, {35055, 23.624315}, {35035, 23.040783}, {26293, 22.817284}, {35151, 21.996548}, {15069, 18.873356}, {33762, 17.344948}, {35274, 16.763063}]  |\n",
      "|53     |[{35058, 21.79981}, {35054, 21.79981}, {35035, 20.38306}, {35055, 20.311052}, {26293, 19.920635}, {35151, 17.61771}, {15069, 16.832699}, {35274, 16.011911}, {19445, 15.58414}, {39253, 15.147261}]     |\n",
      "|65     |[{38174, 44.449142}, {25615, 27.652987}, {30602, 27.491}, {25611, 26.93238}, {38126, 25.35805}, {38120, 25.155972}, {36981, 25.135794}, {38129, 25.06124}, {38119, 24.919842}, {3973, 24.875784}]       |\n",
      "|78     |[{24981, 22.740932}, {29435, 22.688862}, {33706, 21.12112}, {20081, 20.456486}, {18573, 20.065605}, {29467, 19.929468}, {40030, 19.921883}, {19445, 19.688927}, {35036, 19.66069}, {16838, 18.78472}]   |\n",
      "|81     |[{35058, 25.681128}, {35054, 25.681128}, {35035, 23.168377}, {35055, 22.663563}, {29435, 21.816736}, {28561, 21.145807}, {26293, 21.079107}, {26283, 21.005272}, {19497, 19.683521}, {40030, 19.099045}]|\n",
      "|85     |[{35035, 27.033546}, {35058, 26.97916}, {35054, 26.97916}, {26293, 26.483013}, {35055, 25.543327}, {35151, 21.063963}, {39253, 17.374771}, {9956, 16.948273}, {37878, 15.923868}, {18327, 15.882325}]   |\n",
      "|101    |[{35035, 25.985596}, {35058, 23.878563}, {35054, 23.878563}, {26293, 22.987116}, {35055, 22.161074}, {19445, 21.714743}, {37749, 19.677948}, {18573, 19.662071}, {35074, 19.336323}, {34236, 18.921724}]|\n",
      "|103    |[{37749, 28.982977}, {35035, 28.340263}, {30997, 27.479088}, {20703, 26.997406}, {16800, 26.601444}, {38094, 26.37021}, {16776, 26.199944}, {30268, 25.699121}, {18573, 25.621796}, {30969, 25.264889}] |\n",
      "|108    |[{35058, 22.451601}, {35054, 22.451601}, {35035, 22.27289}, {35055, 20.923916}, {26293, 20.066996}, {39253, 15.691686}, {28561, 15.419418}, {28023, 15.403308}, {30997, 14.974396}, {35151, 13.487805}] |\n",
      "|126    |[{35035, 31.31087}, {35058, 30.957827}, {35054, 30.957827}, {35055, 29.145193}, {28561, 28.282179}, {26293, 24.90414}, {19467, 24.492765}, {30997, 23.785936}, {29713, 22.843727}, {39253, 20.119759}]  |\n",
      "|133    |[{30055, 33.22502}, {18573, 31.69267}, {36383, 31.444721}, {16800, 31.0219}, {37749, 30.00297}, {10057, 29.156555}, {19467, 28.215612}, {30997, 27.964582}, {30969, 27.389845}, {36087, 27.234068}]     |\n",
      "|137    |[{35058, 32.78239}, {35054, 32.78239}, {35035, 31.465206}, {35055, 30.956665}, {26293, 28.374388}, {35151, 24.493473}, {28561, 23.890303}, {39253, 21.383862}, {26321, 18.824516}, {34182, 18.278725}]  |\n",
      "|148    |[{35035, 20.514666}, {26293, 19.797161}, {35058, 18.32452}, {35054, 18.32452}, {38075, 16.84853}, {26145, 16.809576}, {19467, 16.144632}, {31696, 15.978709}, {30997, 15.887159}, {35055, 15.565621}]   |\n",
      "|155    |[{35035, 30.435417}, {35058, 28.858532}, {35054, 28.858532}, {26293, 27.283619}, {35055, 27.215992}, {29713, 23.764585}, {9956, 21.90421}, {36978, 21.091536}, {37749, 20.921677}, {19467, 19.826954}]  |\n",
      "|192    |[{35035, 28.633938}, {26293, 25.824986}, {35058, 24.315924}, {35054, 24.315924}, {35055, 22.798906}, {37749, 21.612444}, {16572, 19.703514}, {35151, 19.336912}, {29467, 19.23589}, {26145, 19.003738}] |\n",
      "|193    |[{28561, 33.644386}, {35058, 30.93858}, {35054, 30.93858}, {35055, 29.332514}, {35035, 28.357811}, {26293, 23.375467}, {30997, 21.580591}, {39253, 20.090515}, {34182, 18.183304}, {28023, 16.228027}]  |\n",
      "+-------+--------------------------------------------------------------------------------------------------------------------------------------------------------------------------------------------------------+\n",
      "only showing top 20 rows\n",
      "\n"
     ]
    }
   ],
   "source": [
    "print(\"User Recommendations\")\n",
    "userRecs.show(20, False)"
   ]
  },
  {
   "cell_type": "code",
   "execution_count": 17,
   "metadata": {},
   "outputs": [
    {
     "name": "stdout",
     "output_type": "stream",
     "text": [
      "root\n",
      " |-- user_id: integer (nullable = false)\n",
      " |-- recommendations: array (nullable = true)\n",
      " |    |-- element: struct (containsNull = true)\n",
      " |    |    |-- anime_id: integer (nullable = true)\n",
      " |    |    |-- rating: float (nullable = true)\n",
      "\n"
     ]
    }
   ],
   "source": [
    "userRecs.printSchema()"
   ]
  },
  {
   "cell_type": "code",
   "execution_count": 18,
   "metadata": {},
   "outputs": [],
   "source": [
    "usuario6666 = userRecs.filter(userRecs[\"user_id\"] == 666666)"
   ]
  },
  {
   "cell_type": "code",
   "execution_count": 19,
   "metadata": {},
   "outputs": [
    {
     "name": "stdout",
     "output_type": "stream",
     "text": [
      "+-------+------------------------------------------------------------------------------------------------------------------------------------------------------------------------------------------------------+\n",
      "|user_id|recommendations                                                                                                                                                                                       |\n",
      "+-------+------------------------------------------------------------------------------------------------------------------------------------------------------------------------------------------------------+\n",
      "|666666 |[{30997, 28.92321}, {35035, 26.584492}, {29713, 26.177824}, {35058, 26.105375}, {35054, 26.105375}, {28561, 24.957449}, {19467, 24.732687}, {35055, 24.61034}, {26293, 21.248882}, {31463, 20.518385}]|\n",
      "+-------+------------------------------------------------------------------------------------------------------------------------------------------------------------------------------------------------------+\n",
      "\n"
     ]
    }
   ],
   "source": [
    "usuario6666.show(20, False)"
   ]
  },
  {
   "cell_type": "code",
   "execution_count": 20,
   "metadata": {},
   "outputs": [],
   "source": [
    "exploded_df = usuario6666.select(\"user_id\", explode(\"recommendations\").alias(\"recommendation\"))"
   ]
  },
  {
   "cell_type": "code",
   "execution_count": 21,
   "metadata": {},
   "outputs": [],
   "source": [
    "result_df = exploded_df.select(\"user_id\",\n",
    "                               col(\"recommendation.anime_id\").alias(\"anime_id\"),\n",
    "                               col(\"recommendation.rating\").alias(\"rating\"))"
   ]
  },
  {
   "cell_type": "code",
   "execution_count": 22,
   "metadata": {},
   "outputs": [
    {
     "name": "stdout",
     "output_type": "stream",
     "text": [
      "+-------+--------+---------+\n",
      "|user_id|anime_id|rating   |\n",
      "+-------+--------+---------+\n",
      "|666666 |30997   |28.92321 |\n",
      "|666666 |35035   |26.584492|\n",
      "|666666 |29713   |26.177824|\n",
      "|666666 |35058   |26.105375|\n",
      "|666666 |35054   |26.105375|\n",
      "|666666 |28561   |24.957449|\n",
      "|666666 |19467   |24.732687|\n",
      "|666666 |35055   |24.61034 |\n",
      "|666666 |26293   |21.248882|\n",
      "|666666 |31463   |20.518385|\n",
      "+-------+--------+---------+\n",
      "\n"
     ]
    }
   ],
   "source": [
    "result_df.show(truncate=False)"
   ]
  },
  {
   "cell_type": "code",
   "execution_count": 23,
   "metadata": {},
   "outputs": [],
   "source": [
    "df_peliculas_user = df_animes.join(result_df, df_animes[\"ID\"] == result_df[\"anime_id\"], how=\"inner\")"
   ]
  },
  {
   "cell_type": "code",
   "execution_count": 24,
   "metadata": {},
   "outputs": [
    {
     "name": "stdout",
     "output_type": "stream",
     "text": [
      "+-----+------------------------------------------------------------------+-------+---------------------+--------------------+----------------------------------------------------+-----+--------+----------------------------+-----------+-----------+---------+-------------------------------+--------+---------------+-------------------------+-------+----------+-------+---------+--------+---------+-------+-------+-------------+--------+-------+-------+-------+-------+-------+-------+-------+-------+-------+-------+--------+---------+\n",
      "|ID   |Name                                                              |Score  |Genres               |English name        |Japanese name                                       |Type |Episodes|Aired                       |Premiered  |Producers  |Licensors|Studios                        |Source  |Duration       |Rating                   |Ranked |Popularity|Members|Favorites|Watching|Completed|On-Hold|Dropped|Plan to Watch|Score-10|Score-9|Score-8|Score-7|Score-6|Score-5|Score-4|Score-3|Score-2|Score-1|user_id|anime_id|rating   |\n",
      "+-----+------------------------------------------------------------------+-------+---------------------+--------------------+----------------------------------------------------+-----+--------+----------------------------+-----------+-----------+---------+-------------------------------+--------+---------------+-------------------------+-------+----------+-------+---------+--------+---------+-------+-------+-------------+--------+-------+-------+-------+-------+-------+-------+-------+-------+-------+-------+--------+---------+\n",
      "|30997|Ojiichan no Tomato                                                |Unknown|Drama, Kids          |Unknown             |おじいちゃんのトマト                                |OVA  |1       |1998                        |Unknown    |Unknown    |Unknown  |Unknown                        |Unknown |39 min.        |G - All Ages             |11301.0|16730     |103.0  |0        |6       |27       |1      |39     |30           |4.0     |Unknown|2.0    |2.0    |2.0    |Unknown|Unknown|Unknown|4.0    |1.0    |666666 |30997   |28.92321 |\n",
      "|35035|Sam-chan no Obake Nanka Kowaku Nai                                |Unknown|Kids, Supernatural   |Unknown             |サムちゃんのおばけなんか怖くない                    |OVA  |1       |Aug, 1998                   |Unknown    |Unknown    |Unknown  |Unknown                        |Original|10 min.        |G - All Ages             |11791.0|16792     |98.0   |0        |6       |22       |1      |34     |35           |4.0     |1.0    |1.0    |1.0    |1.0    |4.0    |Unknown|Unknown|1.0    |4.0    |666666 |35035   |26.584492|\n",
      "|29713|Don't You Wish You Were Here?                                     |Unknown|Dementia             |Unknown             |Don't you wish you were here?                       |Movie|1       |1997                        |Unknown    |Unknown    |Unknown  |Unknown                        |Unknown |4 min.         |G - All Ages             |13833.0|14906     |199.0  |2        |5       |47       |7      |41     |99           |5.0     |Unknown|2.0    |3.0    |6.0    |1.0    |1.0    |Unknown|2.0    |4.0    |666666 |29713   |26.177824|\n",
      "|35058|Trojan wo Jibun no Te de                                          |Unknown|Historical, Kids     |Unknown             |トロヤを自分の手で                                  |OVA  |1       |Jan, 2015                   |Unknown    |Unknown    |Unknown  |Unknown                        |Original|12 min.        |G - All Ages             |12616.0|16993     |84.0   |0        |9       |17       |0      |31     |27           |4.0     |Unknown|Unknown|1.0    |2.0    |2.0    |1.0    |Unknown|Unknown|3.0    |666666 |35058   |26.105375|\n",
      "|35054|Ni wa no Kotori                                                   |Unknown|Kids                 |Unknown             |二わのことり                                        |OVA  |1       |Unknown                     |Unknown    |Unknown    |Unknown  |Unknown                        |Original|6 min.         |G - All Ages             |11114.0|16903     |89.0   |0        |7       |18       |1      |32     |31           |4.0     |1.0    |1.0    |3.0    |Unknown|Unknown|Unknown|Unknown|Unknown|3.0    |666666 |35054   |26.105375|\n",
      "|28561|Saru Tarou Jishin ni wa Makenai zo!: Jishin e no Sonae Dai Sakusen|Unknown|Drama, Kids          |Unknown             |サル太郎 地震には負けないぞ！ ～地震への備え大作戦～|OVA  |1       |Jun 25, 2009                |Unknown    |Unknown    |Unknown  |Unknown                        |Unknown |15 min.        |G - All Ages             |11833.0|16507     |114.0  |0        |7       |31       |1      |39     |36           |8.0     |Unknown|1.0    |3.0    |1.0    |4.0    |Unknown|Unknown|Unknown|3.0    |666666 |28561   |24.957449|\n",
      "|19467|Revbahaf Wang-gug Jaegeon-soelgi                                  |Unknown|Comedy, Drama, Shoujo|Unknown             |ルブバハフ王国再建設記                              |TV   |26      |May 21, 2007 to Nov 26, 2007|Spring 2007|Studio Kaab|Unknown  |Unknown                        |Unknown |20 min. per ep.|Unknown                  |11698.0|11922     |544.0  |1        |34      |71       |19     |54     |366          |6.0     |2.0    |5.0    |3.0    |7.0    |7.0    |Unknown|4.0    |2.0    |2.0    |666666 |19467   |24.732687|\n",
      "|35055|Mametarou Ganbare                                                 |Unknown|Kids                 |Unknown             |まめたろうがんばれ                                  |OVA  |1       |Unknown                     |Unknown    |Unknown    |Unknown  |Unknown                        |Original|7 min.         |G - All Ages             |15393.0|16900     |89.0   |0        |8       |20       |0      |32     |29           |4.0     |1.0    |Unknown|1.0    |3.0    |1.0    |Unknown|Unknown|Unknown|3.0    |666666 |35055   |24.61034 |\n",
      "|26293|Kokoro no Hanataba                                                |Unknown|Kids                 |Unknown             |心の花たば                                          |OVA  |1       |2001                        |Unknown    |Gakken     |Unknown  |Unknown                        |Unknown |13 min.        |G - All Ages             |15117.0|16419     |117.0  |0        |6       |31       |4      |35     |41           |3.0     |6.0    |2.0    |3.0    |2.0    |Unknown|Unknown|Unknown|Unknown|1.0    |666666 |26293   |21.248882|\n",
      "|31463|Maemilggot, Unsu Joeun Nal, Geurigo Bombom                        |Unknown|Drama, Slice of Life |The Road Called Life|메밀꽃, 운수 좋은 날, 그리고 봄봄                   |Movie|1       |Aug 21, 2014                |Unknown    |Unknown    |Unknown  |Studio Meditation With a Pencil|Original|1 hr. 30 min.  |PG-13 - Teens 13 or older|15357.0|13249     |325.0  |0        |28      |54       |10     |27     |206          |4.0     |2.0    |Unknown|4.0    |9.0    |6.0    |Unknown|6.0    |Unknown|3.0    |666666 |31463   |20.518385|\n",
      "+-----+------------------------------------------------------------------+-------+---------------------+--------------------+----------------------------------------------------+-----+--------+----------------------------+-----------+-----------+---------+-------------------------------+--------+---------------+-------------------------+-------+----------+-------+---------+--------+---------+-------+-------+-------------+--------+-------+-------+-------+-------+-------+-------+-------+-------+-------+-------+--------+---------+\n",
      "\n"
     ]
    }
   ],
   "source": [
    "df_peliculas_user.show(20, False)"
   ]
  },
  {
   "cell_type": "code",
   "execution_count": 25,
   "metadata": {},
   "outputs": [
    {
     "name": "stdout",
     "output_type": "stream",
     "text": [
      "Movies Recommendations\n",
      "+--------+-----------------------------------------------------------------------------------------------------------------------------------------------------------------------------------------------------------------+\n",
      "|anime_id|recommendations                                                                                                                                                                                                  |\n",
      "+--------+-----------------------------------------------------------------------------------------------------------------------------------------------------------------------------------------------------------------+\n",
      "|26      |[{70660, 17.183125}, {322894, 16.615702}, {162019, 16.261873}, {130450, 16.11904}, {191137, 15.037886}, {300865, 14.9564705}, {201497, 14.652828}, {220771, 14.62065}, {96817, 13.646431}, {274977, 13.623729}]  |\n",
      "|27      |[{237363, 13.200034}, {88286, 12.843759}, {257137, 12.249708}, {261790, 11.480342}, {166248, 11.285796}, {70555, 11.247663}, {254242, 11.1674385}, {150998, 11.089435}, {48250, 11.060234}, {273202, 11.05444}]  |\n",
      "|28      |[{300699, 13.43944}, {197591, 12.909087}, {10817, 12.272203}, {8722, 11.963462}, {343514, 11.8046255}, {309743, 11.604372}, {280614, 11.561941}, {50515, 11.550301}, {48128, 11.505035}, {305511, 11.43791}]     |\n",
      "|31      |[{191137, 17.609783}, {88286, 15.169561}, {220771, 15.104544}, {59599, 14.632782}, {257137, 14.400578}, {162019, 14.328563}, {170111, 13.589017}, {117650, 13.39211}, {4411, 13.079193}, {122156, 13.053911}]    |\n",
      "|44      |[{322894, 17.411228}, {162019, 14.591351}, {309743, 14.204264}, {88286, 13.569895}, {237927, 13.335506}, {96817, 13.261353}, {113769, 12.958439}, {236263, 12.883622}, {64024, 12.836699}, {220771, 12.833809}]  |\n",
      "|53      |[{220771, 13.58217}, {260455, 13.543353}, {88286, 13.5363455}, {257137, 12.307414}, {18152, 12.237311}, {227850, 12.020157}, {138386, 11.989589}, {227521, 11.954079}, {194179, 11.894286}, {18793, 11.722929}]  |\n",
      "|65      |[{88286, 14.849272}, {69047, 12.754038}, {278499, 12.268494}, {339713, 12.202089}, {269956, 12.11988}, {295222, 12.088989}, {257137, 12.04608}, {70555, 11.923672}, {347116, 11.754858}, {166248, 11.731373}]    |\n",
      "|76      |[{180116, 14.844113}, {197591, 14.393647}, {81273, 13.046596}, {48982, 13.024633}, {167336, 12.799362}, {92286, 12.606088}, {88286, 12.60502}, {70555, 12.598324}, {226405, 12.594108}, {54478, 12.461615}]      |\n",
      "|81      |[{322894, 15.220272}, {162019, 14.230225}, {180116, 13.18873}, {309743, 13.101104}, {321439, 13.068815}, {8590, 12.7610655}, {64024, 12.674194}, {18357, 12.611355}, {50718, 12.5768385}, {260455, 12.50628}]    |\n",
      "|85      |[{180116, 17.651957}, {322894, 16.138096}, {300699, 16.034258}, {116404, 15.763842}, {50718, 15.722673}, {309743, 15.450304}, {162019, 15.175213}, {305511, 15.134731}, {8590, 14.9395485}, {269484, 14.838524}] |\n",
      "|101     |[{88286, 16.980715}, {91650, 14.7738}, {339713, 13.999638}, {18152, 13.850735}, {254242, 13.5924015}, {257137, 13.491771}, {180770, 13.203566}, {272131, 13.200291}, {256664, 13.161352}, {108932, 12.971254}]   |\n",
      "|103     |[{129668, 18.31802}, {180116, 18.048222}, {258060, 16.635677}, {181980, 15.846392}, {90794, 15.4064665}, {222160, 14.946036}, {50718, 14.900484}, {33212, 14.88859}, {269484, 14.709786}, {347116, 14.572421}]   |\n",
      "|108     |[{88286, 16.587479}, {220771, 14.774441}, {257137, 14.507871}, {223194, 14.047621}, {129668, 13.744362}, {64024, 13.408561}, {162019, 13.382799}, {347116, 13.377037}, {152928, 13.278375}, {48982, 13.080179}]  |\n",
      "|115     |[{129668, 14.003496}, {220771, 13.594019}, {245101, 13.054975}, {348579, 12.747396}, {138860, 12.671468}, {88286, 12.612116}, {328782, 12.563999}, {99060, 12.280359}, {236553, 12.208682}, {210210, 12.192117}] |\n",
      "|126     |[{130450, 14.1504965}, {70660, 13.971674}, {18793, 13.569178}, {220771, 13.00719}, {211898, 12.962784}, {162019, 12.6191025}, {138288, 12.54632}, {8590, 12.496883}, {252014, 12.454906}, {227850, 12.431235}]   |\n",
      "|133     |[{300699, 14.925924}, {137718, 13.845929}, {220771, 13.494724}, {265123, 13.374874}, {227850, 13.3668585}, {291611, 12.850585}, {154747, 12.828089}, {70660, 12.81998}, {99060, 12.772791}, {299004, 12.687787}] |\n",
      "|137     |[{343514, 13.071232}, {305511, 13.024165}, {180116, 12.521327}, {162019, 12.464281}, {50718, 12.322981}, {309743, 12.227785}, {135857, 11.9914255}, {20992, 11.863878}, {10362, 11.653086}, {197591, 11.603556}] |\n",
      "|148     |[{129668, 15.199169}, {220771, 14.771414}, {88286, 14.386271}, {108932, 13.611669}, {201448, 13.285479}, {339713, 13.195712}, {139332, 13.193862}, {59358, 13.106859}, {232093, 13.087531}, {150998, 13.034149}] |\n",
      "|155     |[{220771, 22.64228}, {237363, 21.24066}, {257137, 17.252161}, {88286, 16.39641}, {272027, 16.159946}, {318699, 16.134079}, {223194, 15.0217285}, {170111, 14.762626}, {139819, 14.6558275}, {336053, 14.3191395}]|\n",
      "|159     |[{220771, 16.374353}, {300699, 16.352234}, {265123, 15.296335}, {295544, 14.864619}, {348579, 14.685164}, {203701, 14.643332}, {129668, 14.587807}, {59358, 14.52377}, {23123, 14.407935}, {99060, 14.158745}]   |\n",
      "+--------+-----------------------------------------------------------------------------------------------------------------------------------------------------------------------------------------------------------------+\n",
      "only showing top 20 rows\n",
      "\n"
     ]
    }
   ],
   "source": [
    "print(\"Movies Recommendations\")\n",
    "movieRecs.show(20, False)"
   ]
  },
  {
   "cell_type": "code",
   "execution_count": 34,
   "metadata": {},
   "outputs": [
    {
     "name": "stdout",
     "output_type": "stream",
     "text": [
      "root\n",
      " |-- ID: integer (nullable = true)\n",
      " |-- Name: string (nullable = true)\n",
      " |-- Score: string (nullable = true)\n",
      " |-- Genres: string (nullable = true)\n",
      " |-- English name: string (nullable = true)\n",
      " |-- Japanese name: string (nullable = true)\n",
      " |-- Type: string (nullable = true)\n",
      " |-- Episodes: string (nullable = true)\n",
      " |-- Aired: string (nullable = true)\n",
      " |-- Premiered: string (nullable = true)\n",
      " |-- Producers: string (nullable = true)\n",
      " |-- Licensors: string (nullable = true)\n",
      " |-- Studios: string (nullable = true)\n",
      " |-- Source: string (nullable = true)\n",
      " |-- Duration: string (nullable = true)\n",
      " |-- Rating: string (nullable = true)\n",
      " |-- Ranked: string (nullable = true)\n",
      " |-- Popularity: string (nullable = true)\n",
      " |-- Members: double (nullable = true)\n",
      " |-- Favorites: integer (nullable = true)\n",
      " |-- Watching: integer (nullable = true)\n",
      " |-- Completed: integer (nullable = true)\n",
      " |-- On-Hold: integer (nullable = true)\n",
      " |-- Dropped: integer (nullable = true)\n",
      " |-- Plan to Watch: integer (nullable = true)\n",
      " |-- Score-10: string (nullable = true)\n",
      " |-- Score-9: string (nullable = true)\n",
      " |-- Score-8: string (nullable = true)\n",
      " |-- Score-7: string (nullable = true)\n",
      " |-- Score-6: string (nullable = true)\n",
      " |-- Score-5: string (nullable = true)\n",
      " |-- Score-4: string (nullable = true)\n",
      " |-- Score-3: string (nullable = true)\n",
      " |-- Score-2: string (nullable = true)\n",
      " |-- Score-1: string (nullable = true)\n",
      "\n"
     ]
    }
   ],
   "source": [
    "df_animes.printSchema()"
   ]
  },
  {
   "cell_type": "code",
   "execution_count": 53,
   "metadata": {},
   "outputs": [
    {
     "name": "stdout",
     "output_type": "stream",
     "text": [
      "+-------+\n",
      "|Score-2|\n",
      "+-------+\n",
      "|741.0  |\n",
      "|109.0  |\n",
      "|316.0  |\n",
      "|164.0  |\n",
      "|50.0   |\n",
      "|140.0  |\n",
      "|278.0  |\n",
      "|31.0   |\n",
      "|48.0   |\n",
      "|593.0  |\n",
      "|3582.0 |\n",
      "|2616.0 |\n",
      "|210.0  |\n",
      "|32.0   |\n",
      "|441.0  |\n",
      "|350.0  |\n",
      "|411.0  |\n",
      "|456.0  |\n",
      "|56.0   |\n",
      "|13.0   |\n",
      "+-------+\n",
      "only showing top 20 rows\n",
      "\n"
     ]
    }
   ],
   "source": [
    "df_animes.select(df_animes[\"Score-2\"]).replace(\"Unknown\", \"0\").show(20, False)"
   ]
  },
  {
   "cell_type": "code",
   "execution_count": null,
   "metadata": {},
   "outputs": [],
   "source": []
  },
  {
   "cell_type": "code",
   "execution_count": 57,
   "metadata": {},
   "outputs": [],
   "source": [
    "df_animes_unknown = df_animes.filter(df_animes[\"Score\"] == \"Unknown\")"
   ]
  },
  {
   "cell_type": "code",
   "execution_count": 60,
   "metadata": {},
   "outputs": [],
   "source": [
    "a = df_animes_unknown.select(df_animes_unknown[\"Score-2\"]).replace(\"Unknown\", \"0\")"
   ]
  },
  {
   "cell_type": "code",
   "execution_count": 59,
   "metadata": {},
   "outputs": [
    {
     "name": "stdout",
     "output_type": "stream",
     "text": [
      "+----+-----------------------------------------------------------------+-------+-------------------------------------------+------------------------------------------------------------------------------+-----------------------------------------------------------+-----+--------+----------------------------+-----------+--------------------------------------------------------------------------+---------+--------------------------+---------+---------------+------------------------------+-------+----------+-------+---------+--------+---------+-------+-------+-------------+--------+-------+-------+-------+-------+-------+-------+-------+-------+-------+\n",
      "|ID  |Name                                                             |Score  |Genres                                     |English name                                                                  |Japanese name                                              |Type |Episodes|Aired                       |Premiered  |Producers                                                                 |Licensors|Studios                   |Source   |Duration       |Rating                        |Ranked |Popularity|Members|Favorites|Watching|Completed|On-Hold|Dropped|Plan to Watch|Score-10|Score-9|Score-8|Score-7|Score-6|Score-5|Score-4|Score-3|Score-2|Score-1|\n",
      "+----+-----------------------------------------------------------------+-------+-------------------------------------------+------------------------------------------------------------------------------+-----------------------------------------------------------+-----+--------+----------------------------+-----------+--------------------------------------------------------------------------+---------+--------------------------+---------+---------------+------------------------------+-------+----------+-------+---------+--------+---------+-------+-------+-------------+--------+-------+-------+-------+-------+-------+-------+-------+-------+-------+\n",
      "|1547|Obake no Q-tarou                                                 |Unknown|Comedy, School, Slice of Life, Supernatural|Unknown                                                                       |オバケのＱ太郎                                             |TV   |96      |Aug 29, 1965 to Jun 28, 1967|Summer 1965|Unknown                                                                   |Unknown  |Shin-Ei Animation         |Manga    |25 min. per ep.|G - All Ages                  |11270.0|11870     |557.0  |0        |25      |175      |26     |107    |224          |8.0     |5.0    |6.0    |20.0   |28.0   |31.0   |6.0    |6.0    |2.0    |10.0   |\n",
      "|1656|PostPet Momobin                                                  |Unknown|Comedy, Kids                               |Unknown                                                                       |ポストペットモモ便                                         |TV   |24      |Jul 4, 2004 to Jan 9, 2005  |Summer 2004|Unknown                                                                   |Unknown  |Unknown                   |Unknown  |3 min. per ep. |G - All Ages                  |11598.0|12929     |359.0  |0        |18      |140      |12     |71     |118          |7.0     |2.0    |6.0    |13.0   |17.0   |22.0   |15.0   |12.0   |7.0    |10.0   |\n",
      "|1739|Shibawanko no Wa no Kokoro                                       |Unknown|Kids                                       |Unknown                                                                       |しばわんこの和のこころ                                     |TV   |80      |Apr 5, 2006 to Mar 14, 2007 |Spring 2006|Unknown                                                                   |Unknown  |Three-d                   |Unknown  |2 min. per ep. |G - All Ages                  |11947.0|11799     |574.0  |0        |52      |104      |61     |100    |257          |6.0     |4.0    |23.0   |28.0   |18.0   |17.0   |1.0    |3.0    |Unknown|8.0    |\n",
      "|1863|Silk Road Shounen Yuuto                                          |Unknown|Adventure, Fantasy, Historical             |Unknown                                                                       |シルクロード少年 ユート                                    |TV   |26      |Sep 16, 2006 to Mar 24, 2007|Fall 2006  |NHK-BS2                                                                   |Unknown  |OLM                       |Unknown  |20 min. per ep.|Unknown                       |12096.0|12286     |473.0  |0        |31      |71       |8      |57     |306          |3.0     |1.0    |2.0    |9.0    |5.0    |9.0    |3.0    |1.0    |2.0    |3.0    |\n",
      "|2073|Hengen Taima Yakou Karura Mau! Sendai Kokeshi Enka               |Unknown|Horror, Shoujo                             |Unknown                                                                       |変幻退魔夜行 カルラ舞う！ 仙台小芥子怨歌                   |OVA  |6       |Sep 14, 1990 to Mar 8, 1991 |Unknown    |Unknown                                                                   |Unknown  |Unknown                   |Manga    |30 min. per ep.|R - 17+ (violence & profanity)|14363.0|11317     |693.0  |1        |37      |158      |23     |39     |436          |10.0    |3.0    |14.0   |26.0   |27.0   |19.0   |10.0   |3.0    |1.0    |4.0    |\n",
      "|2173|Kouchuu Ouja Mushiking Super Battle Movie: Yami no Kaizou Kouchuu|Unknown|Adventure, Fantasy                         |Mushiking:The King of Beetles SUPER BATTLE MOVIE -Altered Beetles of Darkness-|甲虫王者ムシキング　スーパーバトルムービー ～闇の改造甲虫～|Movie|1       |Mar 21, 2007                |Unknown    |Sega                                                                      |Unknown  |Unknown                   |Card game|50 min.        |G - All Ages                  |15166.0|12530     |424.0  |1        |20      |159      |16     |41     |188          |9.0     |5.0    |4.0    |20.0   |22.0   |18.0   |9.0    |3.0    |7.0    |4.0    |\n",
      "|2366|Touma Kishinden Oni                                              |Unknown|Supernatural                               |Unknown                                                                       |闘魔鬼神伝ONI                                              |TV   |25      |Oct 5, 1995 to Mar 21, 1996 |Fall 1995  |Sotsu, Youmex, Jinnan Studio                                              |Unknown  |J.C.Staff                 |Game     |8 min. per ep. |PG-13 - Teens 13 or older     |12591.0|11179     |736.0  |0        |56      |133      |26     |66     |455          |5.0     |7.0    |16.0   |10.0   |19.0   |18.0   |6.0    |4.0    |2.0    |6.0    |\n",
      "|2636|Dorami-chan: Wow, The Kid Gang of Bandits                        |Unknown|Fantasy                                    |Unknown                                                                       |ドラミちゃん アララ・少年山賊団！                          |Movie|1       |Mar 9, 1991                 |Unknown    |Unknown                                                                   |Unknown  |Unknown                   |Unknown  |40 min.        |G - All Ages                  |13835.0|13232     |324.0  |0        |14      |157      |11     |34     |108          |8.0     |1.0    |7.0    |22.0   |24.0   |21.0   |7.0    |2.0    |1.0    |4.0    |\n",
      "|2639|Dorami-chan: Hello Kyouryuu Kids!!                               |Unknown|Fantasy                                    |Unknown                                                                       |ドラミちゃん ハロー恐竜キッズ!!                            |Movie|1       |Mar 6, 1993                 |Unknown    |Unknown                                                                   |Unknown  |Unknown                   |Unknown  |40 min.        |G - All Ages                  |13844.0|13242     |321.0  |0        |13      |165      |9      |32     |102          |6.0     |3.0    |3.0    |23.0   |30.0   |27.0   |8.0    |2.0    |Unknown|3.0    |\n",
      "|2642|Dorami-chan: A Blue Straw Hat                                    |Unknown|Kids, Fantasy                              |Unknown                                                                       |ドラミちゃん 青いストローハット                            |Movie|1       |Mar 12, 1994                |Unknown    |Unknown                                                                   |Unknown  |Unknown                   |Unknown  |15 min.        |G - All Ages                  |13845.0|13790     |274.0  |0        |10      |137      |9      |29     |89           |7.0     |2.0    |4.0    |13.0   |22.0   |26.0   |4.0    |3.0    |2.0    |2.0    |\n",
      "|2691|Gensei Shugoshin P-hyoro Ikka                                    |Unknown|Adventure, Fantasy                         |Unknown                                                                       |現世守護神　ぴーひょろ一家                                 |Movie|1       |Jul 9, 1988                 |Unknown    |Bandai Visual                                                             |Unknown  |Unknown                   |Manga    |30 min.        |PG-13 - Teens 13 or older     |14116.0|13295     |320.0  |0        |17      |64       |11     |43     |185          |5.0     |Unknown|2.0    |3.0    |6.0    |14.0   |2.0    |4.0    |1.0    |5.0    |\n",
      "|2701|Susie-chan to Marvy                                              |Unknown|Comedy, Kids                               |Little Susie and Marvy                                                        |スージーちゃんとマービー                                   |TV   |104     |Apr 5, 1999 to Feb 3, 2000  |Spring 1999|Unknown                                                                   |Unknown  |Xebec                     |Unknown  |15 min. per ep.|Unknown                       |12301.0|14538     |221.0  |0        |13      |68       |10     |56     |74           |4.0     |4.0    |Unknown|8.0    |6.0    |8.0    |6.0    |2.0    |3.0    |3.0    |\n",
      "|2708|Wankorobee                                                       |Unknown|Comedy, Fantasy, Kids                      |Unknown                                                                       |わんころべえ                                               |TV   |26      |Oct 6, 1996 to Mar 30, 1997 |Fall 1996  |Unknown                                                                   |Unknown  |Ajia-Do, TMS Entertainment|Original |15 min. per ep.|G - All Ages                  |12782.0|14602     |216.0  |0        |11      |59       |7      |66     |73           |2.0     |Unknown|3.0    |7.0    |1.0    |9.0    |6.0    |2.0    |Unknown|4.0    |\n",
      "|2712|Shiratori Reiko de Gozaimasu!                                    |Unknown|Comedy, Romance                            |I am THE Shiratori Reiko!                                                     |白鳥麗子でございます！                                     |OVA  |1       |Apr 25, 1990                |Unknown    |Unknown                                                                   |Unknown  |Ajia-Do                   |Manga    |44 min.        |PG-13 - Teens 13 or older     |11996.0|12892     |362.0  |0        |16      |103      |8      |49     |186          |6.0     |2.0    |2.0    |15.0   |12.0   |20.0   |7.0    |1.0    |4.0    |4.0    |\n",
      "|2735|Mugen Senki Portriss                                             |Unknown|Action, Mecha, Sci-Fi, Shounen             |Unknown                                                                       |無限戦記ポトリス                                           |TV   |52      |Apr 5, 2003 to Mar 27, 2004 |Spring 2003|TV Tokyo, Bandai Visual                                                   |Unknown  |Sunrise, Dongwoo A&E      |Unknown  |25 min. per ep.|PG - Children                 |15698.0|12851     |372.0  |0        |32      |95       |13     |62     |170          |3.0     |Unknown|7.0    |11.0   |10.0   |17.0   |1.0    |6.0    |1.0    |4.0    |\n",
      "|2738|Kasumin 3rd Season                                               |Unknown|Kids, Fantasy                              |Unknown                                                                       |カスミン (第3シリーズ)                                     |TV   |26      |Apr 9, 2003 to Oct 1, 2003  |Spring 2003|NHK                                                                       |Unknown  |OLM                       |Unknown  |25 min. per ep.|PG - Children                 |14908.0|12369     |455.0  |3        |32      |125      |31     |68     |199          |5.0     |5.0    |11.0   |28.0   |18.0   |18.0   |10.0   |3.0    |Unknown|3.0    |\n",
      "|2739|Highschool Aurabuster: Hikari no Mezame                          |Unknown|Drama, Fantasy, Super Power                |Unknown                                                                       |ハイスクール・オーラバスター　光の誕生[めざめ]             |OVA  |3       |Feb 5, 1999 to Sep 22, 1999 |Unknown    |Unknown                                                                   |Unknown  |OLM                       |Unknown  |27 min. per ep.|Unknown                       |14409.0|11791     |574.0  |1        |26      |187      |12     |45     |304          |9.0     |8.0    |9.0    |25.0   |22.0   |20.0   |9.0    |3.0    |4.0    |4.0    |\n",
      "|2741|Monkey Turn V                                                    |Unknown|Action, Sports, Drama, Shounen             |Unknown                                                                       |モンキー ターン V                                          |TV   |25      |Jul 4, 2004 to Dec 19, 2004 |Summer 2004|AIC                                                                       |Unknown  |OLM                       |Manga    |24 min. per ep.|PG-13 - Teens 13 or older     |15646.0|11845     |562.0  |0        |37      |168      |20     |63     |274          |12.0    |2.0    |24.0   |28.0   |19.0   |11.0   |5.0    |4.0    |3.0    |4.0    |\n",
      "|2742|Omoikkiri Kagaku Adventure Sou Nanda!                            |Unknown|Comedy, Kids, Sci-Fi                       |Full-Blast Science Adventure:So That's How It Is!                             |おもいっきり科学アドベンチャー そーなんだ!                 |TV   |26      |Oct 5, 2003 to Mar 28, 2004 |Fall 2003  |TV Tokyo, Geneon Universal Entertainment, Dentsu, WAO World, Future Planet|Unknown  |OLM                       |Unknown  |20 min. per ep.|Unknown                       |11329.0|12746     |387.0  |0        |33      |87       |14     |70     |183          |5.0     |2.0    |3.0    |12.0   |5.0    |16.0   |7.0    |4.0    |2.0    |5.0    |\n",
      "|2750|Heisei Inu Monogatari Bow Movie                                  |Unknown|Adventure, Comedy                          |Heisei Dog Stories:Bow                                                        |平成イヌ物語バウ                                           |Movie|1       |Aug 20, 1994                |Unknown    |Unknown                                                                   |Unknown  |Nippon Animation          |Unknown  |22 min.        |Unknown                       |14333.0|13734     |278.0  |0        |13      |104      |6      |44     |111          |5.0     |3.0    |12.0   |16.0   |10.0   |11.0   |2.0    |Unknown|3.0    |5.0    |\n",
      "+----+-----------------------------------------------------------------+-------+-------------------------------------------+------------------------------------------------------------------------------+-----------------------------------------------------------+-----+--------+----------------------------+-----------+--------------------------------------------------------------------------+---------+--------------------------+---------+---------------+------------------------------+-------+----------+-------+---------+--------+---------+-------+-------+-------------+--------+-------+-------+-------+-------+-------+-------+-------+-------+-------+\n",
      "only showing top 20 rows\n",
      "\n"
     ]
    }
   ],
   "source": []
  }
 ],
 "metadata": {
  "kernelspec": {
   "display_name": "Python 3",
   "language": "python",
   "name": "python3"
  },
  "language_info": {
   "codemirror_mode": {
    "name": "ipython",
    "version": 3
   },
   "file_extension": ".py",
   "mimetype": "text/x-python",
   "name": "python",
   "nbconvert_exporter": "python",
   "pygments_lexer": "ipython3",
   "version": "3.10.2"
  }
 },
 "nbformat": 4,
 "nbformat_minor": 2
}
