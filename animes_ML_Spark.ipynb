{
 "cells": [
  {
   "cell_type": "code",
   "execution_count": 2,
   "metadata": {},
   "outputs": [],
   "source": [
    "import findspark\n",
    "findspark.init()\n",
    "from pyspark.ml.evaluation import RegressionEvaluator\n",
    "from pyspark.ml.recommendation import ALS\n",
    "from pyspark.sql import Row\n",
    "from pyspark import *\n",
    "from pyspark.sql import SparkSession"
   ]
  },
  {
   "cell_type": "code",
   "execution_count": 3,
   "metadata": {},
   "outputs": [],
   "source": [
    "spark = SparkSession.builder.appName(\"SPARK_ML_SistemaRecomendacion\").getOrCreate()"
   ]
  },
  {
   "cell_type": "code",
   "execution_count": 4,
   "metadata": {},
   "outputs": [],
   "source": [
    "# lines = spark.read.text(\"ml-latest-small/ratings.csv\").rdd\n",
    "# parts = lines.map(lambda row: row.value.split(\";\"))\n",
    "# ratingsRDD = parts.map(lambda p: Row(userId=int(p[0]), movieId=int(p[1]), rating=float(p[2]), timestamp=int(p[3])))"
   ]
  },
  {
   "cell_type": "code",
   "execution_count": null,
   "metadata": {},
   "outputs": [],
   "source": []
  },
  {
   "cell_type": "code",
   "execution_count": 5,
   "metadata": {},
   "outputs": [
    {
     "name": "stdout",
     "output_type": "stream",
     "text": [
      "+-----+--------------------+-------+--------------------+--------------------+------------------------------------+-------+--------+--------------------+-----------+--------------------+--------------------+--------------------+-----------+---------------+--------------------+-------+----------+-------+---------+--------+---------+-------+-------+-------------+--------+--------+--------+-------+-------+-------+-------+-------+-------+-------+\n",
      "|   ID|                Name|  Score|              Genres|        English name|                       Japanese name|   Type|Episodes|               Aired|  Premiered|           Producers|           Licensors|             Studios|     Source|       Duration|              Rating| Ranked|Popularity|Members|Favorites|Watching|Completed|On-Hold|Dropped|Plan to Watch|Score-10| Score-9| Score-8|Score-7|Score-6|Score-5|Score-4|Score-3|Score-2|Score-1|\n",
      "+-----+--------------------+-------+--------------------+--------------------+------------------------------------+-------+--------+--------------------+-----------+--------------------+--------------------+--------------------+-----------+---------------+--------------------+-------+----------+-------+---------+--------+---------+-------+-------+-------------+--------+--------+--------+-------+-------+-------+-------+-------+-------+-------+\n",
      "|    1|        Cowboy Bebop|   8.78|Action, Adventure...|        Cowboy Bebop|                  カウボーイビバップ|     TV|      26|Apr 3, 1998 to Ap...|Spring 1998|       Bandai Visual|Funimation, Banda...|             Sunrise|   Original|24 min. per ep.|R - 17+ (violence...|   28.0|        39|1251960|    61971|  105808|   718161|  71513|  26678|       329800|229170.0|182126.0|131625.0|62330.0|20688.0| 8904.0| 3184.0| 1357.0|  741.0| 1580.0|\n",
      "|  100|Shin Shirayuki-hi...|    7.2|Comedy, Drama, Fa...|Prétear:The New L...|            新白雪姫伝説プリーティア|     TV|      13|Apr 4, 2001 to Ju...|Spring 2001|Kadokawa Shoten, ...|ADV Films, Funima...|      Hal Film Maker|      Manga|23 min. per ep.|PG-13 - Teens 13 ...| 2785.0|      2162|  53508|      457|    1607|    33827|   1504|   1760|        14810|  2198.0|  3135.0|  5368.0| 7030.0| 4152.0| 2306.0|  783.0|  270.0|  127.0|   98.0|\n",
      "| 1000|Uchuu Kaizoku Cap...|   7.71|Action, Sci-Fi, A...|Space Pirate Capt...|      宇宙海賊・キャプテンハーロック|     TV|      42|Mar 14, 1978 to F...|Spring 1978|          Studio Nue|      Discotek Media|      Toei Animation|      Manga|25 min. per ep.|PG-13 - Teens 13 ...|  995.0|      3059|  28480|      297|    1941|     9540|   1860|   1106|        14033|  1072.0|  1346.0|  2336.0| 2130.0|  856.0|  388.0|  133.0|   63.0|   26.0|   32.0|\n",
      "|10000|Esper Mami Specia...|Unknown|Comedy, Super Pow...|             Unknown|エスパー魔美スペシャル マイエンジ...|Special|       1|        Dec 27, 1988|    Unknown|             Unknown|             Unknown|   Shin-Ei Animation|    Unknown|        23 min.|PG-13 - Teens 13 ...|13930.0|     13268|    324|        1|      15|      110|      8|     42|          149|     7.0|     3.0|     3.0|   18.0|   19.0|   11.0|    3.0|    2.0|Unknown|    6.0|\n",
      "|10003|Kago Shintarou An...|   5.01|Comedy, Dementia,...|             Unknown|              駕籠真太郎アニメ作品集|    OVA|      15|                2008|    Unknown|             Unknown|             Unknown|             Unknown|   Original| 2 min. per ep.|    R+ - Mild Nudity|10606.0|      6961|   4180|        8|     129|     1682|     76|     69|         2224|    49.0|    30.0|    89.0|  177.0|  224.0|  180.0|  135.0|  106.0|  115.0|  155.0|\n",
      "|10005|Tetsujin 28-gou: ...|   6.43|Action, Adventure...|             Unknown|               鉄人２８号 白昼の残月|  Movie|       1|        Mar 31, 2007|    Unknown|             Unknown|      Discotek Media|         Palm Studio|    Unknown|  1 hr. 35 min.|        G - All Ages| 6256.0|     11035|    778|        3|      27|      341|     12|     49|          349|     9.0|    10.0|    42.0|   68.0|   66.0|   23.0|    6.0|    7.0|    5.0|    3.0|\n",
      "| 1001|Tide-Line Blue: K...|   6.66|Adventure, Drama,...|             Unknown|           タイドライン・ブルー 兄弟|Special|       1|        Apr 26, 2006|    Unknown|Bandai Visual, TV...|Bandai Entertainment|Telecom Animation...|   Original|        23 min.|PG-13 - Teens 13 ...| 5109.0|      9256|   1702|        1|      35|     1166|     38|     25|          438|    22.0|    51.0|   131.0|  281.0|  173.0|   89.0|   30.0|   10.0|    3.0|    4.0|\n",
      "|10012|   Carnival Phantasm|   7.89|Comedy, Parody, S...|             Unknown|            カーニバル・ファンタズム|    OVA|      12|Aug 14, 2011 to D...|    Unknown|Bandai Visual, Notes|             Unknown|              Lerche|      Manga|14 min. per ep.|PG-13 - Teens 13 ...|  685.0|       978| 150806|     1393|    7062|    89903|   4737|   3493|        45611| 10415.0| 13876.0| 22565.0|16417.0| 6392.0| 2520.0|  826.0|  369.0|  187.0|  188.0|\n",
      "|10013|Shouwa Monogatari...|   6.42|   Drama, Historical|             Unknown|                            昭和物語|  Movie|       1|        Jan 29, 2011|    Unknown|           WAO World|             Unknown|             Unknown|    Unknown|  1 hr. 40 min.|       PG - Children| 6344.0|      9792|   1372|        1|      43|      562|     28|     50|          689|    13.0|    17.0|    59.0|  121.0|  108.0|   62.0|   23.0|    4.0|    3.0|    2.0|\n",
      "|10014|   Shouwa Monogatari|   6.93|   Drama, Historical|             Unknown|                         昭和物語 TV|     TV|      13|Apr 4, 2011 to Ju...|Spring 2011|             Unknown|             Unknown|           WAO World|   Original|25 min. per ep.|       PG - Children| 3879.0|      6452|   5026|       11|     317|     1309|    377|    450|         2573|    60.0|    95.0|   268.0|  403.0|  271.0|  174.0|   35.0|   20.0|   10.0|   17.0|\n",
      "|10015|     Yu☆Gi☆Oh! Zexal|   6.34|Action, Game, Fan...|     Yu-Gi-Oh! Zexal|                       遊☆戯☆王ZEXAL|     TV|      73|Apr 11, 2011 to S...|Spring 2011|TV Tokyo, Marvelo...|Konami, 4Kids Ent...|              Gallop|      Manga|24 min. per ep.|PG-13 - Teens 13 ...| 6701.0|      2163|  53642|      273|    3352|    33308|   2834|   6692|         7456|  1521.0|  1655.0|  3740.0| 7141.0| 6592.0| 4416.0| 2520.0| 1268.0|  770.0|  601.0|\n",
      "|10016|     Kizuna Ichigeki|   6.59|Comedy, Martial Arts|             Unknown|                         キズナ 一撃|  Movie|       1|         Mar 5, 2011|    Unknown|             Imagine|             Unknown|           Ascension|   Original|        24 min.|        G - All Ages| 5454.0|      6166|   5611|        2|      97|     4100|     43|     53|         1318|    65.0|   163.0|   535.0| 1043.0|  797.0|  400.0|  119.0|   46.0|   23.0|   16.0|\n",
      "|10017|Dragon Ball: Supe...|   6.68|Sci-Fi, Adventure...|             Unknown|  ドラゴンボール　超サイヤ人絶滅計画|    OVA|       1|        Nov 11, 2010|    Unknown|             Unknown|             Unknown|      Toei Animation|      Manga|        30 min.|PG-13 - Teens 13 ...| 5010.0|      2876|  31959|       20|     345|    27585|    199|    221|         3609|  1501.0|  1141.0|  2599.0| 4988.0| 3918.0| 2154.0|  913.0|  404.0|  223.0|  123.0|\n",
      "| 1002|Top wo Nerae 2! D...|   7.67|Action, Sci-Fi, S...|         Gunbuster 2|          トップをねらえ2！DIEBUSTER|    OVA|       6|Oct 3, 2004 to Au...|    Unknown|       Bandai Visual|Discotek Media, B...|              Gainax|   Original|30 min. per ep.|    R+ - Mild Nudity| 1101.0|      1903|  64986|      820|    2091|    37877|   1296|    882|        22840|  3140.0|  6173.0|  9082.0| 6900.0| 3053.0| 1436.0|  693.0|  252.0|  122.0|  109.0|\n",
      "|10020|Ore no Imouto ga ...|   7.42|Slice of Life, Co...|     OreImo Specials|    俺の妹がこんなに可愛いわけがない|    ONA|       4|Feb 22, 2011 to M...|    Unknown|             Aniplex|  Aniplex of America|           AIC Build|Light novel|28 min. per ep.|PG-13 - Teens 13 ...| 1834.0|       916| 162153|      200|    2500|   140719|   1198|    934|        16802|  7877.0| 15065.0| 30813.0|28212.0|12354.0| 5433.0| 2371.0|  982.0|  521.0|  664.0|\n",
      "|10029|Coquelicot-zaka kara|   7.85|Historical, Roman...|From Up on Poppy ...|                      コクリコ坂から|  Movie|       1|        Jul 16, 2011|    Unknown|Nippon Television...|               GKIDS|       Studio Ghibli|      Manga|  1 hr. 35 min.|        G - All Ages|  738.0|      1194| 123073|      671|    1694|    90100|    797|    303|        30179|  8300.0| 13897.0| 22063.0|16688.0| 6070.0| 2292.0|  742.0|  210.0|   94.0|   64.0|\n",
      "| 1003|Aa! Megami-sama! ...|   7.53|Magic, Comedy, Ro...|             Unknown|                    ああっ女神さまっ|Special|       3|Apr 1, 2005 to De...|    Unknown|  Bandai Visual, AIC|Media Blasters, N...|             Unknown|      Manga|24 min. per ep.|PG-13 - Teens 13 ...| 1478.0|      3320|  24443|       59|     346|    19754|    349|    193|         3801|  1307.0|  1831.0|  3655.0| 3844.0| 1607.0|  689.0|  149.0|   60.0|   22.0|   24.0|\n",
      "|10030| Bakuman. 2nd Season|    8.4|Comedy, Drama, Ro...|            Bakuman.|               バクマン。2ndシーズン|     TV|      25|Oct 1, 2011 to Ma...|  Fall 2011|       NHK, Shueisha|      Media Blasters|           J.C.Staff|      Manga|24 min. per ep.|PG-13 - Teens 13 ...|  153.0|       488| 289356|     1380|    9715|   220954|   6474|   3764|        48449| 32226.0| 52496.0| 56133.0|24916.0| 6780.0| 2260.0|  608.0|  228.0|  112.0|  415.0|\n",
      "|10033|              Toriko|   7.56|Action, Adventure...|              Toriko|                              トリコ|     TV|     147|Apr 3, 2011 to Ma...|Spring 2011|Yomiko Advertisin...|          Funimation|      Toei Animation|      Manga|23 min. per ep.|PG-13 - Teens 13 ...| 1406.0|      1384| 100907|      823|   13456|    37022|   9463|  11668|        29298|  4193.0|  5938.0| 10807.0|10732.0| 5205.0| 2696.0| 1274.0|  588.0|  315.0|  370.0|\n",
      "|10036|Boku no Chikyuu w...|   6.59|Sci-Fi, Music, Dr...|Please Save My Ea...|  ぼくの地球を守って \\t～金色の時...|Special|       1|        Oct 24, 2001|    Unknown|Victor Entertainment|             Unknown|      Production I.G|    Unknown|        27 min.|PG-13 - Teens 13 ...| 5434.0|     10013|   1226|        4|      40|      468|     22|     42|          654|    28.0|    17.0|    53.0|   86.0|   61.0|   45.0|    8.0|    5.0|    3.0|    5.0|\n",
      "+-----+--------------------+-------+--------------------+--------------------+------------------------------------+-------+--------+--------------------+-----------+--------------------+--------------------+--------------------+-----------+---------------+--------------------+-------+----------+-------+---------+--------+---------+-------+-------+-------------+--------+--------+--------+-------+-------+-------+-------+-------+-------+-------+\n",
      "only showing top 20 rows\n",
      "\n"
     ]
    }
   ],
   "source": [
    "# CABECERA:\n",
    "# ID,Name,Score,Genres,English name,Japanese name,Type,Episodes,Aired,Premiered,Producers,Licensors,Studios,Source,Duration,Rating,Ranked,Popularity,Members,Favorites,Watching,Completed,On-Hold,Dropped,Plan to Watch,Score-10,Score-9,Score-8,Score-7,Score-6,Score-5,Score-4,Score-3,Score-2,Score-1\n",
    "df_animes = spark.read.csv(\"data/anime.csv\", header=True, sep=\",\", encoding=\"UTF-8\")\n",
    "#ratingsRDD = df.rdd.map(lambda row: Row(userId=int(row['ID']), animeId=int(row['anime_id']), rating=int(row['rating'])))\n",
    "#df.printSchema()\n",
    "\n",
    "# La ordenacion por ID no funciona correctamente, ya que el ID es un string\n",
    "df_animes.orderBy(df_animes['ID'].asc()).show()\n"
   ]
  },
  {
   "cell_type": "code",
   "execution_count": 6,
   "metadata": {},
   "outputs": [
    {
     "name": "stdout",
     "output_type": "stream",
     "text": [
      "root\n",
      " |-- ID: string (nullable = true)\n",
      " |-- Name: string (nullable = true)\n",
      " |-- Score: string (nullable = true)\n",
      " |-- Genres: string (nullable = true)\n",
      " |-- English name: string (nullable = true)\n",
      " |-- Japanese name: string (nullable = true)\n",
      " |-- Type: string (nullable = true)\n",
      " |-- Episodes: string (nullable = true)\n",
      " |-- Aired: string (nullable = true)\n",
      " |-- Premiered: string (nullable = true)\n",
      " |-- Producers: string (nullable = true)\n",
      " |-- Licensors: string (nullable = true)\n",
      " |-- Studios: string (nullable = true)\n",
      " |-- Source: string (nullable = true)\n",
      " |-- Duration: string (nullable = true)\n",
      " |-- Rating: string (nullable = true)\n",
      " |-- Ranked: string (nullable = true)\n",
      " |-- Popularity: string (nullable = true)\n",
      " |-- Members: string (nullable = true)\n",
      " |-- Favorites: string (nullable = true)\n",
      " |-- Watching: string (nullable = true)\n",
      " |-- Completed: string (nullable = true)\n",
      " |-- On-Hold: string (nullable = true)\n",
      " |-- Dropped: string (nullable = true)\n",
      " |-- Plan to Watch: string (nullable = true)\n",
      " |-- Score-10: string (nullable = true)\n",
      " |-- Score-9: string (nullable = true)\n",
      " |-- Score-8: string (nullable = true)\n",
      " |-- Score-7: string (nullable = true)\n",
      " |-- Score-6: string (nullable = true)\n",
      " |-- Score-5: string (nullable = true)\n",
      " |-- Score-4: string (nullable = true)\n",
      " |-- Score-3: string (nullable = true)\n",
      " |-- Score-2: string (nullable = true)\n",
      " |-- Score-1: string (nullable = true)\n",
      "\n"
     ]
    }
   ],
   "source": [
    "\n",
    "df_animes.printSchema()"
   ]
  },
  {
   "cell_type": "code",
   "execution_count": 7,
   "metadata": {},
   "outputs": [
    {
     "data": {
      "text/plain": [
       "17562"
      ]
     },
     "execution_count": 7,
     "metadata": {},
     "output_type": "execute_result"
    }
   ],
   "source": [
    "# Imprime el numero de filas\n",
    "df_animes.count()"
   ]
  },
  {
   "cell_type": "code",
   "execution_count": 8,
   "metadata": {},
   "outputs": [
    {
     "name": "stdout",
     "output_type": "stream",
     "text": [
      "root\n",
      " |-- ID: integer (nullable = true)\n",
      " |-- Name: string (nullable = true)\n",
      " |-- Score: string (nullable = true)\n",
      " |-- Genres: string (nullable = true)\n",
      " |-- English name: string (nullable = true)\n",
      " |-- Japanese name: string (nullable = true)\n",
      " |-- Type: string (nullable = true)\n",
      " |-- Episodes: string (nullable = true)\n",
      " |-- Aired: string (nullable = true)\n",
      " |-- Premiered: string (nullable = true)\n",
      " |-- Producers: string (nullable = true)\n",
      " |-- Licensors: string (nullable = true)\n",
      " |-- Studios: string (nullable = true)\n",
      " |-- Source: string (nullable = true)\n",
      " |-- Duration: string (nullable = true)\n",
      " |-- Rating: string (nullable = true)\n",
      " |-- Ranked: string (nullable = true)\n",
      " |-- Popularity: string (nullable = true)\n",
      " |-- Members: string (nullable = true)\n",
      " |-- Favorites: string (nullable = true)\n",
      " |-- Watching: string (nullable = true)\n",
      " |-- Completed: string (nullable = true)\n",
      " |-- On-Hold: string (nullable = true)\n",
      " |-- Dropped: string (nullable = true)\n",
      " |-- Plan to Watch: string (nullable = true)\n",
      " |-- Score-10: string (nullable = true)\n",
      " |-- Score-9: string (nullable = true)\n",
      " |-- Score-8: string (nullable = true)\n",
      " |-- Score-7: string (nullable = true)\n",
      " |-- Score-6: string (nullable = true)\n",
      " |-- Score-5: string (nullable = true)\n",
      " |-- Score-4: string (nullable = true)\n",
      " |-- Score-3: string (nullable = true)\n",
      " |-- Score-2: string (nullable = true)\n",
      " |-- Score-1: string (nullable = true)\n",
      "\n",
      "+---+--------------------+-----+--------------------+--------------------+------------------------------+-----+--------+--------------------+-----------+--------------------+--------------------+----------------+-----------+---------------+--------------------+------+----------+-------+---------+--------+---------+-------+-------+-------------+--------+--------+--------+--------+--------+-------+-------+-------+-------+-------+\n",
      "| ID|                Name|Score|              Genres|        English name|                 Japanese name| Type|Episodes|               Aired|  Premiered|           Producers|           Licensors|         Studios|     Source|       Duration|              Rating|Ranked|Popularity|Members|Favorites|Watching|Completed|On-Hold|Dropped|Plan to Watch|Score-10| Score-9| Score-8| Score-7| Score-6|Score-5|Score-4|Score-3|Score-2|Score-1|\n",
      "+---+--------------------+-----+--------------------+--------------------+------------------------------+-----+--------+--------------------+-----------+--------------------+--------------------+----------------+-----------+---------------+--------------------+------+----------+-------+---------+--------+---------+-------+-------+-------------+--------+--------+--------+--------+--------+-------+-------+-------+-------+-------+\n",
      "|  1|        Cowboy Bebop| 8.78|Action, Adventure...|        Cowboy Bebop|            カウボーイビバップ|   TV|      26|Apr 3, 1998 to Ap...|Spring 1998|       Bandai Visual|Funimation, Banda...|         Sunrise|   Original|24 min. per ep.|R - 17+ (violence...|  28.0|        39|1251960|    61971|  105808|   718161|  71513|  26678|       329800|229170.0|182126.0|131625.0| 62330.0| 20688.0| 8904.0| 3184.0| 1357.0|  741.0| 1580.0|\n",
      "|  5|Cowboy Bebop: Ten...| 8.39|Action, Drama, My...|Cowboy Bebop:The ...|   カウボーイビバップ 天国の扉|Movie|       1|         Sep 1, 2001|    Unknown|Sunrise, Bandai V...|Sony Pictures Ent...|           Bones|   Original|  1 hr. 55 min.|R - 17+ (violence...| 159.0|       518| 273145|     1174|    4143|   208333|   1935|    770|        57964| 30043.0| 49201.0| 49505.0| 22632.0|  5805.0| 1877.0|  577.0|  221.0|  109.0|  379.0|\n",
      "|  6|              Trigun| 8.24|Action, Sci-Fi, A...|              Trigun|                    トライガン|   TV|      26|Apr 1, 1998 to Se...|Spring 1998|Victor Entertainment|Funimation, Geneo...|        Madhouse|      Manga|24 min. per ep.|PG-13 - Teens 13 ...| 266.0|       201| 558913|    12944|   29113|   343492|  25465|  13925|       146918| 50229.0| 75651.0| 86142.0| 49432.0| 15376.0| 5838.0| 1965.0|  664.0|  316.0|  533.0|\n",
      "|  7|  Witch Hunter Robin| 7.27|Action, Mystery, ...|  Witch Hunter Robin|          Witch Hunter ROBI...|   TV|      26|Jul 2, 2002 to De...|Summer 2002|TV Tokyo, Bandai ...|Funimation, Banda...|         Sunrise|   Original|25 min. per ep.|PG-13 - Teens 13 ...|2481.0|      1467|  94683|      587|    4300|    46165|   5121|   5378|        33719|  2182.0|  4806.0| 10128.0| 11618.0|  5709.0| 2920.0| 1083.0|  353.0|  164.0|  131.0|\n",
      "|  8|      Bouken Ou Beet| 6.98|Adventure, Fantas...|Beet the Vandel B...|                  冒険王ビィト|   TV|      52|Sep 30, 2004 to S...|  Fall 2004|    TV Tokyo, Dentsu|             Unknown|  Toei Animation|      Manga|23 min. per ep.|       PG - Children|3710.0|      4369|  13224|       18|     642|     7314|    766|   1108|         3394|   312.0|   529.0|  1242.0|  1713.0|  1068.0|  634.0|  265.0|   83.0|   50.0|   27.0|\n",
      "| 15|        Eyeshield 21| 7.95|Action, Sports, C...|             Unknown|                アイシールド21|   TV|     145|Apr 6, 2005 to Ma...|Spring 2005|TV Tokyo, Nihon A...|VIZ Media, Sentai...|          Gallop|      Manga|23 min. per ep.|PG-13 - Teens 13 ...| 604.0|      1003| 148259|     2066|   13907|    78349|  14228|  11573|        30202|  9226.0| 14904.0| 22811.0| 16734.0|  6206.0| 2621.0|  795.0|  336.0|  140.0|  151.0|\n",
      "| 16|Hachimitsu to Clover| 8.06|Comedy, Drama, Jo...|    Honey and Clover|          ハチミツとクローバー|   TV|      24|Apr 15, 2005 to S...|Spring 2005|Genco, Fuji TV, S...|VIZ Media, Discot...|       J.C.Staff|      Manga|23 min. per ep.|PG-13 - Teens 13 ...| 468.0|       687| 214499|     4101|   11909|    81145|  11901|  11026|        98518| 11829.0| 16309.0| 20008.0| 13062.0|  5574.0| 3148.0| 1339.0|  484.0|  278.0|  321.0|\n",
      "| 17|Hungry Heart: Wil...| 7.59|Slice of Life, Co...|             Unknown|  ハングリーハート Wild Str...|   TV|      52|Sep 11, 2002 to S...|  Fall 2002|             Unknown|             Unknown|Nippon Animation|      Manga|23 min. per ep.|PG-13 - Teens 13 ...|1317.0|      3612|  20470|      231|     817|    13778|    828|   1168|         3879|  1123.0|  1777.0|  3102.0|  3075.0|  1286.0|  602.0|  218.0|   88.0|   31.0|   32.0|\n",
      "| 18|Initial D Fourth ...| 8.15|Action, Cars, Spo...|             Unknown|頭文字〈イニシャル〉D FOURT...|   TV|      24|Apr 17, 2004 to F...|Spring 2004|OB Planning, Stud...|          Funimation|        A.C.G.T.|      Manga|27 min. per ep.|PG-13 - Teens 13 ...| 360.0|      1233| 117929|      979|    6082|    90967|   3053|   1356|        16471| 10948.0| 15820.0| 22379.0| 12912.0|  3874.0| 1236.0|  369.0|   97.0|   48.0|  259.0|\n",
      "| 19|             Monster| 8.76|Drama, Horror, My...|             Monster|                    モンスター|   TV|      74|Apr 7, 2004 to Se...|Spring 2004|VAP, Shogakukan-S...|           VIZ Media|        Madhouse|      Manga|24 min. per ep.|    R+ - Mild Nudity|  30.0|       169| 614100|    29436|   64648|   214491|  47488|  23008|       264465| 77350.0| 60652.0| 43459.0| 22045.0|  8861.0| 4381.0| 2086.0|  882.0|  593.0| 1177.0|\n",
      "| 20|              Naruto| 7.91|Action, Adventure...|              Naruto|                        ナルト|   TV|     220|Oct 3, 2002 to Fe...|  Fall 2002|TV Tokyo, Aniplex...|           VIZ Media|  Studio Pierrot|      Manga|23 min. per ep.|PG-13 - Teens 13 ...| 660.0|         8|1830540|    65586|  137167|  1462223|  61734|  99806|        69610|216866.0|234481.0|345563.0|286175.0|108155.0|46886.0|15477.0| 6098.0| 3582.0| 5310.0|\n",
      "| 21|           One Piece| 8.52|Action, Adventure...|           One Piece|                     ONE PIECE|   TV| Unknown|   Oct 20, 1999 to ?|  Fall 1999|Fuji TV, TAP, Shu...|Funimation, 4Kids...|  Toei Animation|      Manga|        24 min.|PG-13 - Teens 13 ...|  95.0|        31|1352724|   126645|  887333|       33| 187919| 136245|       141194|292445.0|166186.0|141755.0| 85424.0| 35342.0|19019.0| 8201.0| 3675.0| 2616.0| 6340.0|\n",
      "| 22| Tennis no Ouji-sama|  7.9|Action, Comedy, S...|The Prince of Tennis|                テニスの王子様|   TV|     178|Oct 10, 2001 to M...|  Fall 2001|Production I.G, N...|           VIZ Media|      Trans Arts|      Manga|22 min. per ep.|PG-13 - Teens 13 ...| 675.0|      1039| 141832|     3124|   11235|    76881|  12905|  12516|        28295|  9576.0| 12719.0| 19791.0| 16284.0|  6624.0| 3086.0| 1071.0|  443.0|  210.0|  225.0|\n",
      "| 23|    Ring ni Kakero 1| 6.38|Action, Shounen, ...|             Unknown|              リングにかけろ１|   TV|      12|Oct 6, 2004 to De...|  Fall 2004|             Unknown|             Unknown|  Toei Animation|      Manga|25 min. per ep.|       PG - Children|6493.0|      7333|   3648|       16|     170|     1333|    145|    296|         1704|    69.0|    61.0|   152.0|   260.0|   236.0|  143.0|   88.0|   40.0|   32.0|   28.0|\n",
      "| 24|       School Rumble| 7.94|Comedy, Romance, ...|       School Rumble|              スクールランブル|   TV|      26|Oct 5, 2004 to Ma...|  Fall 2004|TV Tokyo, Sotsu, ...|          Funimation|    Studio Comet|      Manga|23 min. per ep.|PG-13 - Teens 13 ...| 625.0|       514| 275464|     5137|   12277|   157789|  12856|  13491|        79051| 17907.0| 27623.0| 38112.0| 27327.0| 11034.0| 5396.0| 1897.0|  780.0|  441.0|  405.0|\n",
      "| 25|           Sunabouzu| 7.42|Action, Adventure...|         Desert Punk|                      砂ぼうず|   TV|      24|Oct 6, 2004 to Ma...|  Fall 2004|GDH, Pony Canyon,...|          Funimation|           Gonzo|      Manga|24 min. per ep.|R - 17+ (violence...|1844.0|      1284| 111734|      790|    6273|    53819|   6255|   7951|        37436|  3589.0|  6664.0| 12349.0| 12702.0|  6033.0| 3079.0| 1521.0|  643.0|  350.0|  297.0|\n",
      "| 26|          Texhnolyze| 7.76|Action, Sci-Fi, P...|          Texhnolyze|                    TEXHNOLYZE|   TV|      22|Apr 17, 2003 to S...|Spring 2003|Group TAC, Rondo ...|Funimation, Geneo...|        Madhouse|   Original|23 min. per ep.|    R+ - Mild Nudity| 896.0|       823| 182599|     3671|   11335|    47532|   9815|   8112|       105805|  6856.0|  8309.0| 10851.0|  8636.0|  4429.0| 2462.0| 1456.0|  684.0|  411.0|  664.0|\n",
      "| 27|       Trinity Blood| 7.32|Action, Supernatu...|       Trinity Blood|          トリニティ・ブラッド|   TV|      24|Apr 29, 2005 to O...|Spring 2005|             Unknown|          Funimation|           Gonzo|Light novel|24 min. per ep.|R - 17+ (violence...|2240.0|       936| 158343|     1479|    7794|    87958|   8940|   9349|        44302|  6091.0|  9759.0| 17761.0| 20152.0| 10273.0| 5392.0| 2250.0|  873.0|  456.0|  298.0|\n",
      "| 28|    Yakitate!! Japan| 7.95|     Comedy, Shounen|    Yakitate!! Japan|           焼きたて!! ジャぱん|   TV|      69|Oct 12, 2004 to M...|  Fall 2004|TV Tokyo, Aniplex...|Nozomi Entertainment|         Sunrise|      Manga|24 min. per ep.|PG-13 - Teens 13 ...| 609.0|      1666|  80183|      887|    5007|    39992|   5764|   4633|        24787|  4347.0|  7425.0| 11074.0|  7965.0|  3038.0| 1248.0|  345.0|  118.0|   56.0|   58.0|\n",
      "| 29|              Zipang| 7.51|Action, Military,...|             Unknown|                      ジパング|   TV|      26|Oct 8, 2004 to Ap...|  Fall 2004|      Marvelous, TBS|Geneon Entertainm...|     Studio Deen|      Manga|24 min. per ep.|PG-13 - Teens 13 ...|1565.0|      3985|  16652|      152|     857|     6807|    721|    599|         7668|   430.0|   874.0|  1801.0|  1696.0|   662.0|  279.0|  114.0|   38.0|   13.0|   28.0|\n",
      "+---+--------------------+-----+--------------------+--------------------+------------------------------+-----+--------+--------------------+-----------+--------------------+--------------------+----------------+-----------+---------------+--------------------+------+----------+-------+---------+--------+---------+-------+-------+-------------+--------+--------+--------+--------+--------+-------+-------+-------+-------+-------+\n",
      "only showing top 20 rows\n",
      "\n"
     ]
    }
   ],
   "source": [
    "# Convertir la columna ID a int\n",
    "df_animes = df_animes.withColumn(\"ID\", df_animes[\"ID\"].cast(\"int\"))\n",
    "df_animes.printSchema()\n",
    "df_animes.orderBy(df_animes['ID'].asc()).show()"
   ]
  },
  {
   "cell_type": "markdown",
   "metadata": {},
   "source": [
    "# VALORACIONES"
   ]
  },
  {
   "cell_type": "markdown",
   "metadata": {},
   "source": [
    "## Lectura del csv rating_complete"
   ]
  },
  {
   "cell_type": "code",
   "execution_count": 33,
   "metadata": {},
   "outputs": [
    {
     "name": "stdout",
     "output_type": "stream",
     "text": [
      "root\n",
      " |-- user_id: integer (nullable = true)\n",
      " |-- anime_id: integer (nullable = true)\n",
      " |-- rating: integer (nullable = true)\n",
      "\n",
      "+-------+--------+------+\n",
      "|user_id|anime_id|rating|\n",
      "+-------+--------+------+\n",
      "|      0|     430|     9|\n",
      "|      0|    1004|     5|\n",
      "|      0|    3010|     7|\n",
      "|      0|     570|     7|\n",
      "|      0|    2762|     9|\n",
      "|      0|     431|     8|\n",
      "|      0|     578|    10|\n",
      "|      0|     433|     6|\n",
      "|      0|    1571|    10|\n",
      "|      0|     121|     9|\n",
      "|      0|     356|     9|\n",
      "|      0|    1250|     7|\n",
      "|      0|    2913|     6|\n",
      "|      0|    1689|     6|\n",
      "|      0|      68|     6|\n",
      "|      0|    1829|     7|\n",
      "|      0|     600|     6|\n",
      "|      0|    3418|     9|\n",
      "|      0|     164|     8|\n",
      "|      0|    1894|     7|\n",
      "+-------+--------+------+\n",
      "only showing top 20 rows\n",
      "\n"
     ]
    },
    {
     "data": {
      "text/plain": [
       "310059"
      ]
     },
     "execution_count": 33,
     "metadata": {},
     "output_type": "execute_result"
    }
   ],
   "source": [
    "df_ratings = spark.read.csv(\"data/rating_complete.csv\", header=True, sep=\",\")\n",
    "df_ratings = df_ratings.withColumn(\"user_id\", df_ratings[\"user_id\"].cast(\"int\"))\n",
    "df_ratings = df_ratings.withColumn(\"anime_id\", df_ratings[\"anime_id\"].cast(\"int\"))\n",
    "df_ratings = df_ratings.withColumn(\"rating\", df_ratings[\"rating\"].cast(\"int\"))\n",
    "ratingsRDD = df_ratings.rdd.map(lambda row: Row(userId=int(row['user_id']), animeId=int(row['anime_id']), rating=int(row['rating'])))\n",
    "df_ratings.printSchema()\n",
    "df_ratings.show()\n",
    "\n",
    "# Cuantos usuarios hay en las valoraciones\n",
    "df_ratings.select('user_id').distinct().count()"
   ]
  },
  {
   "cell_type": "code",
   "execution_count": 10,
   "metadata": {},
   "outputs": [
    {
     "data": {
      "text/plain": [
       "57633278"
      ]
     },
     "execution_count": 10,
     "metadata": {},
     "output_type": "execute_result"
    }
   ],
   "source": [
    "# Numero de filas del csv de rating_complete\n",
    "df_ratings.count()"
   ]
  },
  {
   "cell_type": "markdown",
   "metadata": {},
   "source": [
    "## Lectura del csv valoraciones_EP"
   ]
  },
  {
   "cell_type": "code",
   "execution_count": 34,
   "metadata": {},
   "outputs": [
    {
     "name": "stdout",
     "output_type": "stream",
     "text": [
      "+------+-----+---+\n",
      "|   _c0|  _c1|_c2|\n",
      "+------+-----+---+\n",
      "|666666|10417|  8|\n",
      "|666666| 1358|  7|\n",
      "|666666|13601| 10|\n",
      "|666666| 2001|  9|\n",
      "|666666|21877|  8|\n",
      "|666666|28851|  7|\n",
      "|666666|28999|  9|\n",
      "|666666|30276|  9|\n",
      "|666666|31240|  9|\n",
      "|666666|32281|  9|\n",
      "|666666|34134|  7|\n",
      "|666666|35790|  9|\n",
      "|666666|37349|  8|\n",
      "|666666|37403|  5|\n",
      "|666666|37435|  6|\n",
      "|666666|37450|  9|\n",
      "|666666|37520|  9|\n",
      "|666666|37779|  8|\n",
      "|666666|37779|  9|\n",
      "|666666|37982|  8|\n",
      "+------+-----+---+\n",
      "only showing top 20 rows\n",
      "\n",
      "+-------+--------+------+\n",
      "|user_id|anime_id|rating|\n",
      "+-------+--------+------+\n",
      "| 666666|   10417|     8|\n",
      "| 666666|    1358|     7|\n",
      "| 666666|   13601|    10|\n",
      "| 666666|    2001|     9|\n",
      "| 666666|   21877|     8|\n",
      "| 666666|   28851|     7|\n",
      "| 666666|   28999|     9|\n",
      "| 666666|   30276|     9|\n",
      "| 666666|   31240|     9|\n",
      "| 666666|   32281|     9|\n",
      "| 666666|   34134|     7|\n",
      "| 666666|   35790|     9|\n",
      "| 666666|   37349|     8|\n",
      "| 666666|   37403|     5|\n",
      "| 666666|   37435|     6|\n",
      "| 666666|   37450|     9|\n",
      "| 666666|   37520|     9|\n",
      "| 666666|   37779|     8|\n",
      "| 666666|   37779|     9|\n",
      "| 666666|   37982|     8|\n",
      "+-------+--------+------+\n",
      "only showing top 20 rows\n",
      "\n"
     ]
    }
   ],
   "source": [
    "# No tiene cabecera\n",
    "df_ratings_ep = spark.read.csv(\"data/valoraciones_EP.csv\", header=False, sep=\",\")\n",
    "df_ratings_ep.show()\n",
    "# Renombrando las columnas\n",
    "df_ratings_ep = df_ratings_ep.withColumnRenamed(\"_c0\", \"user_id\")\n",
    "df_ratings_ep = df_ratings_ep.withColumnRenamed(\"_c1\", \"anime_id\")\n",
    "df_ratings_ep = df_ratings_ep.withColumnRenamed(\"_c2\", \"rating\")\n",
    "df_ratings_ep.show()"
   ]
  },
  {
   "cell_type": "code",
   "execution_count": 35,
   "metadata": {},
   "outputs": [
    {
     "name": "stdout",
     "output_type": "stream",
     "text": [
      "root\n",
      " |-- user_id: integer (nullable = true)\n",
      " |-- anime_id: integer (nullable = true)\n",
      " |-- rating: integer (nullable = true)\n",
      "\n",
      "+-------+--------+------+\n",
      "|user_id|anime_id|rating|\n",
      "+-------+--------+------+\n",
      "| 666666|      47|     9|\n",
      "| 666666|      72|     9|\n",
      "| 666666|     523|     9|\n",
      "| 666666|     543|     8|\n",
      "| 666666|    1358|     7|\n",
      "| 666666|    2001|     9|\n",
      "| 666666|   10417|     8|\n",
      "| 666666|   13601|    10|\n",
      "| 666666|   21877|     8|\n",
      "| 666666|   28851|     7|\n",
      "| 666666|   28999|     9|\n",
      "| 666666|   30276|     9|\n",
      "| 666666|   31240|     9|\n",
      "| 666666|   32281|     9|\n",
      "| 666666|   34134|     7|\n",
      "| 666666|   35790|     9|\n",
      "| 666666|   37349|     8|\n",
      "| 666666|   37403|     5|\n",
      "| 666666|   37435|     6|\n",
      "| 666666|   37450|     9|\n",
      "+-------+--------+------+\n",
      "only showing top 20 rows\n",
      "\n"
     ]
    }
   ],
   "source": [
    "# Convertir las columnas a int\n",
    "df_ratings_ep = df_ratings_ep.withColumn(\"user_id\", df_ratings_ep[\"user_id\"].cast(\"int\"))\n",
    "df_ratings_ep = df_ratings_ep.withColumn(\"anime_id\", df_ratings_ep[\"anime_id\"].cast(\"int\"))\n",
    "df_ratings_ep = df_ratings_ep.withColumn(\"rating\", df_ratings_ep[\"rating\"].cast(\"int\"))\n",
    "df_ratings_ep.printSchema()\n",
    "# Ordenar por anime_id\n",
    "df_ratings_ep.orderBy(df_ratings_ep['anime_id'].asc()).show()"
   ]
  },
  {
   "cell_type": "code",
   "execution_count": 41,
   "metadata": {},
   "outputs": [
    {
     "name": "stdout",
     "output_type": "stream",
     "text": [
      "+-------+--------+------+\n",
      "|user_id|anime_id|rating|\n",
      "+-------+--------+------+\n",
      "|      0|     430|     9|\n",
      "|      0|    1004|     5|\n",
      "|      0|    3010|     7|\n",
      "|      0|     570|     7|\n",
      "|      0|    2762|     9|\n",
      "|      0|     431|     8|\n",
      "|      0|     578|    10|\n",
      "|      0|     433|     6|\n",
      "|      0|    1571|    10|\n",
      "|      0|     121|     9|\n",
      "|      0|     356|     9|\n",
      "|      0|    1250|     7|\n",
      "|      0|    2913|     6|\n",
      "|      0|    1689|     6|\n",
      "|      0|      68|     6|\n",
      "|      0|    1829|     7|\n",
      "|      0|     600|     6|\n",
      "|      0|    3418|     9|\n",
      "|      0|     164|     8|\n",
      "|      0|    1894|     7|\n",
      "+-------+--------+------+\n",
      "only showing top 20 rows\n",
      "\n"
     ]
    },
    {
     "data": {
      "text/plain": [
       "310060"
      ]
     },
     "execution_count": 41,
     "metadata": {},
     "output_type": "execute_result"
    }
   ],
   "source": [
    "# Union de los dos dataframes\n",
    "df_ratings_completo = df_ratings.union(df_ratings_ep)\n",
    "df_ratings_completo.show()\n",
    "\n",
    "# Numero de usuarios en el csv completo\n",
    "df_ratings_completo.select('user_id').distinct().count()"
   ]
  },
  {
   "cell_type": "markdown",
   "metadata": {},
   "source": [
    "# Join con el csv de peliculas para saber qué película qué valoración"
   ]
  },
  {
   "cell_type": "code",
   "execution_count": 42,
   "metadata": {},
   "outputs": [],
   "source": [
    "# Pregunta por el id de un usuario\n",
    "id_usuario = input(\"Introduzca el id del usuario, del que quiere conocer sus valoraciones: \")\n",
    "\n",
    "# Busca a ese usuario en el dataframe de valoraciones completo\n",
    "df_ratings_completo = df_ratings_completo.filter(df_ratings_completo['user_id'] == id_usuario)\n"
   ]
  },
  {
   "cell_type": "code",
   "execution_count": 43,
   "metadata": {},
   "outputs": [
    {
     "name": "stdout",
     "output_type": "stream",
     "text": [
      "+-------+--------+------+----+--------------------+-----+--------------------+--------------------+--------------------------------------+-----+--------+--------------------+-----------+--------------------+--------------------+--------------------+------------+---------------+--------------------+-------+----------+-------+---------+--------+---------+-------+-------+-------------+--------+--------+--------+--------+-------+-------+-------+-------+-------+-------+\n",
      "|user_id|anime_id|rating|  ID|                Name|Score|              Genres|        English name|                         Japanese name| Type|Episodes|               Aired|  Premiered|           Producers|           Licensors|             Studios|      Source|       Duration|              Rating| Ranked|Popularity|Members|Favorites|Watching|Completed|On-Hold|Dropped|Plan to Watch|Score-10| Score-9| Score-8| Score-7|Score-6|Score-5|Score-4|Score-3|Score-2|Score-1|\n",
      "+-------+--------+------+----+--------------------+-----+--------------------+--------------------+--------------------------------------+-----+--------+--------------------+-----------+--------------------+--------------------+--------------------+------------+---------------+--------------------+-------+----------+-------+---------+--------+---------+-------+-------+-------------+--------+--------+--------+--------+-------+-------+-------+-------+-------+-------+\n",
      "|      0|      68|     6|  68|      Black Cat (TV)| 7.38|Sci-Fi, Adventure...|           Black Cat|                      ブラックキャット|   TV|      23|Oct 7, 2005 to Ma...|  Fall 2005|GDH, Dentsu, TBS,...|          Funimation|               Gonzo|       Manga|24 min. per ep.|PG-13 - Teens 13 ...| 1965.0|       622| 231668|     1955|   10510|   142921|  11736|  11003|        55498|  8654.0| 15253.0| 29392.0| 34019.0|16081.0| 7534.0| 2521.0|  863.0|  395.0|  234.0|\n",
      "|      0|     121|     9| 121| Fullmetal Alchemist| 8.17|Action, Adventure...| Fullmetal Alchemist|                          鋼の錬金術師|   TV|      51|Oct 4, 2003 to Oc...|  Fall 2003|Aniplex, Dentsu, ...|Funimation, Anipl...|               Bones|       Manga|24 min. per ep.|PG-13 - Teens 13 ...|  337.0|        52|1151621|    26564|   52738|   880215|  41631|  38693|       138344|124399.0|176993.0|211302.0|133850.0|44438.0|16255.0| 5872.0| 1769.0|  970.0| 1150.0|\n",
      "|      0|     164|     8| 164|       Mononoke Hime| 8.72|Action, Adventure...|   Princess Mononoke|                            もののけ姫|Movie|       1|        Jul 12, 1997|    Unknown|Tokuma Shoten, Ni...|               GKIDS|       Studio Ghibli|    Original|  2 hr. 15 min.|PG-13 - Teens 13 ...|   40.0|        91| 876813|    17114|   11422|   735624|   3384|   1386|       124997|184173.0|167754.0|131050.0| 57874.0|17052.0| 5570.0| 1660.0|  545.0|  283.0|  702.0|\n",
      "|      0|     169|     7| 169|Shingetsutan Tsuk...| 6.91|Action, Horror, M...|Lunar Legend Tsuk...|                           真月譚 月姫|   TV|      12|Oct 10, 2003 to D...|  Fall 2003|TBS, Rondo Robe, ...|Sentai Filmworks,...|           J.C.Staff|Visual novel|24 min. per ep.|R - 17+ (violence...| 3970.0|      1086| 135721|      654|    5080|    77659|   3687|   4104|        45191|  3795.0|  6704.0| 13229.0| 16972.0| 9908.0| 5351.0| 2881.0| 1453.0|  933.0|  895.0|\n",
      "|      0|     174|     4| 174|        Tenjou Tenge| 6.93|Action, Ecchi, Ma...|        Tenjho Tenge|                              天上天下|   TV|      24|Apr 2, 2004 to Se...|Spring 2004|            TV Asahi|Discotek Media, G...|            Madhouse|       Manga|23 min. per ep.|R - 17+ (violence...| 3911.0|       934| 158482|      647|    7266|   100783|   6039|   8559|        35835|  4525.0|  7930.0| 16479.0| 23495.0|14073.0| 7564.0| 3713.0| 1556.0|  769.0|  479.0|\n",
      "|      0|     199|     8| 199|Sen to Chihiro no...| 8.83|Adventure, Supern...|       Spirited Away|                      千と千尋の神隠し|Movie|       1|        Jul 20, 2001|    Unknown|                Toho|Walt Disney Studi...|       Studio Ghibli|    Original|   2 hr. 5 min.|       PG - Children|   23.0|        41|1245727|    25610|   14444|  1124666|   3124|   1437|       102056|324768.0|254426.0|182709.0| 76025.0|22207.0| 7695.0| 2393.0|  856.0|  489.0| 1174.0|\n",
      "|      0|     356|     9| 356|     Fate/stay night| 7.34|Action, Supernatu...|     Fate/stay night|                       Fate/stay night|   TV|      24|Jan 7, 2006 to Ju...|Winter 2006|Geneon Universal ...|Sentai Filmworks,...|         Studio Deen|Visual novel|24 min. per ep.|R - 17+ (violence...| 2152.0|       119| 730980|     7011|   29998|   510563|  19938|  23686|       146795| 35378.0| 57284.0|101538.0|107818.0|55337.0|26103.0|13081.0| 5032.0| 2350.0| 1693.0|\n",
      "|      0|     415|    10| 415|Tonari no Yamada-kun| 7.19|Slice of Life, Co...|My Neighbors the ...|         ホーホケキョ となりの山田くん|Movie|       1|        Jul 17, 1999|    Unknown|       Tokuma Shoten|Walt Disney Studi...|       Studio Ghibli|4-koma manga|  1 hr. 44 min.|        G - All Ages| 2811.0|      2796|  33789|       79|     489|    23117|    398|    374|         9411|  1245.0|  2205.0|  4290.0|  5189.0| 2826.0| 1411.0|  523.0|  230.0|  108.0|   85.0|\n",
      "|      0|     419|     8| 419| Samurai Deeper Kyou| 6.92|Adventure, Comedy...|  Samurai Deeper Kyo|                    SAMURAI DEEPER KYO|   TV|      26|Jul 2, 2002 to De...|Summer 2002|   Starchild Records|Media Blasters, N...|         Studio Deen|       Manga|24 min. per ep.|PG-13 - Teens 13 ...| 3924.0|      2275|  49129|      212|    2009|    29111|   2646|   3279|        12084|  1296.0|  2385.0|  5182.0|  7157.0| 4020.0| 2242.0| 1132.0|  540.0|  329.0|  194.0|\n",
      "|      0|     430|     9| 430|Fullmetal Alchemi...| 7.57|Military, Comedy,...|Fullmetal Alchemi...|劇場版 鋼の錬金術師 シャンバラを征く者|Movie|       1|        Jul 23, 2005|    Unknown|Aniplex, Square E...|          Funimation|               Bones|       Manga|  1 hr. 45 min.|PG-13 - Teens 13 ...| 1361.0|       506| 279946|      704|    2361|   245283|   1253|    776|        30273| 19794.0| 31112.0| 47730.0| 44941.0|20077.0| 8777.0| 4298.0| 1555.0|  812.0|  490.0|\n",
      "|      0|     431|     8| 431| Howl no Ugoku Shiro| 8.67|Adventure, Drama,...|Howl's Moving Castle|                        ハウルの動く城|Movie|       1|        Nov 20, 2004|    Unknown|d-rights, Tokuma ...| Walt Disney Studios|       Studio Ghibli|       Novel|  1 hr. 59 min.|        G - All Ages|   51.0|        98| 847414|    17845|    8733|   754791|   2283|    947|        80660|186983.0|167309.0|137336.0| 62317.0|18427.0| 6427.0| 2246.0|  737.0|  351.0|  668.0|\n",
      "|      0|     433|     6| 433|Kumo no Mukou, Ya...| 7.56|Drama, Military, ...|The Place Promise...|                雲のむこう、約束の場所|Movie|       1|        Nov 20, 2004|    Unknown|             Unknown|           ADV Films|    CoMix Wave Films|    Original|  1 hr. 30 min.|PG-13 - Teens 13 ...| 1393.0|       846| 177428|      726|    4337|    98242|   2083|   1145|        71621|  8563.0| 13665.0| 20929.0| 18793.0| 9152.0| 4316.0| 1916.0|  779.0|  322.0|  229.0|\n",
      "|      0|     448|     5| 448|Tenjou Tenge: The...| 7.06|Adventure, Drama,...|Tenjho Tenge:The ...|                天上天下ULTIMATE FIGHT|  OVA|       2|        Mar 16, 2005|    Unknown|             Unknown|Discotek Media, G...|            Madhouse|       Manga|24 min. per ep.|R - 17+ (violence...| 3423.0|      2624|  37848|       41|     606|    29997|    357|    219|         6669|  1342.0|  2339.0|  4659.0|  6530.0| 3608.0| 1685.0|  701.0|  314.0|  138.0|   74.0|\n",
      "|      0|     459|     9| 459|   One Piece Movie 1|  7.1|Action, Adventure...|             Unknown|                             ONE PIECE|Movie|       1|         Mar 4, 2000|    Unknown|             Unknown|             Unknown|      Toei Animation|       Manga|        50 min.|PG-13 - Teens 13 ...| 3182.0|      1629|  82437|      284|    1081|    72673|    408|    357|         7918|  4292.0|  4162.0|  9247.0| 15976.0| 8947.0| 4108.0| 1174.0|  403.0|  172.0|  150.0|\n",
      "|      0|     466|     7| 466|One Piece: Taose!...| 6.76|Action, Adventure...|One Piece:Defeat ...|     ワンピース 倒せ！海賊ギャンザック|  OVA|       1|        Jul 26, 1998|    Unknown|             Unknown|             Unknown|      Production I.G|       Manga|        28 min.|       PG - Children| 4638.0|      3177|  26565|        9|     317|    21178|    266|    208|         4596|  1196.0|   830.0|  1847.0|  4014.0| 3273.0| 1687.0|  589.0|  217.0|   94.0|   61.0|\n",
      "|      0|     570|     7| 570|             Jin-Rou| 7.79|Military, Police,...|Jin-Roh:The Wolf ...|                          人狼 JIN-ROH|Movie|       1|         Jun 3, 2000|    Unknown|             Unknown|Bandai Entertainm...|      Production I.G|       Manga|  1 hr. 42 min.|R - 17+ (violence...|  846.0|      1181| 124856|     1359|    3005|    72439|   1078|    612|        47722|  6381.0| 11407.0| 18187.0| 13046.0| 5051.0| 2131.0|  826.0|  288.0|  131.0|  113.0|\n",
      "|      0|     578|    10| 578|      Hotaru no Haka| 8.51|   Drama, Historical|Grave of the Fire...|                            火垂るの墓|Movie|       1|        Apr 16, 1988|    Unknown|             Unknown|ADV Films, Centra...|       Studio Ghibli|       Novel|  1 hr. 28 min.|PG-13 - Teens 13 ...|   99.0|       293| 438214|     5407|    5927|   328347|   2713|   1249|        99978| 79553.0| 69811.0| 61996.0| 30066.0|11694.0| 4975.0| 2350.0|  953.0|  539.0|  845.0|\n",
      "|      0|     600|     6| 600|       Legend of Duo| 4.93|Supernatural, Dra...|             Unknown|                         LEGEND OF DUO|   TV|      12|Apr 21, 2005 to J...|Spring 2005|             Unknown|             Unknown|Radix, Marine Ent...|    Original| 5 min. per ep.|R - 17+ (violence...|10650.0|      4855|  10199|       11|     306|     5464|    242|    703|         3484|   132.0|   142.0|   296.0|   557.0|  663.0|  732.0|  511.0|  410.0|  414.0|  493.0|\n",
      "|      0|    1004|     5|1004|Kanojo to Kanojo ...| 7.33|Drama, Psychologi...|She and Her Cat:T...|                        彼女と彼女の猫|  OVA|       1|        Apr 19, 2002|    Unknown|             Unknown|ADV Films, Discot...|             Unknown|    Original|         4 min.|        G - All Ages| 2226.0|      1624|  82209|      287|    1162|    62258|    423|    188|        18178|  4811.0|  6014.0| 10739.0| 12709.0| 7064.0| 3611.0|  976.0|  407.0|  191.0|  171.0|\n",
      "|      0|    1047|     6|1047|        On Your Mark| 7.49|Sci-Fi, Music, Drama|        On Your Mark|                  On Your Mark CHAG...|Music|       1|        Jun 29, 1995|    Unknown|             Unknown|             Unknown|       Studio Ghibli|       Music|         6 min.|        G - All Ages| 1587.0|      3316|  24466|       69|     306|    18361|    137|     88|         5574|  1464.0|  1863.0|  3482.0|  3539.0| 1865.0|  764.0|  203.0|   99.0|   45.0|   37.0|\n",
      "+-------+--------+------+----+--------------------+-----+--------------------+--------------------+--------------------------------------+-----+--------+--------------------+-----------+--------------------+--------------------+--------------------+------------+---------------+--------------------+-------+----------+-------+---------+--------+---------+-------+-------+-------------+--------+--------+--------+--------+-------+-------+-------+-------+-------+-------+\n",
      "only showing top 20 rows\n",
      "\n"
     ]
    }
   ],
   "source": [
    "# Hace un join con el dataframe de animes, para obtener la informacion de los animes valorados\n",
    "df_anime_usuario = df_ratings_completo.join(df_animes, df_ratings_completo['anime_id'] == df_animes['ID'], 'inner')\n",
    "\n",
    "df_anime_usuario.orderBy(df_anime_usuario['anime_id'].asc()).show()"
   ]
  },
  {
   "cell_type": "code",
   "execution_count": 44,
   "metadata": {},
   "outputs": [
    {
     "name": "stdout",
     "output_type": "stream",
     "text": [
      "root\n",
      " |-- user_id: integer (nullable = true)\n",
      " |-- anime_id: integer (nullable = true)\n",
      " |-- rating: integer (nullable = true)\n",
      " |-- ID: integer (nullable = true)\n",
      " |-- Name: string (nullable = true)\n",
      " |-- Score: string (nullable = true)\n",
      " |-- Genres: string (nullable = true)\n",
      " |-- English name: string (nullable = true)\n",
      " |-- Japanese name: string (nullable = true)\n",
      " |-- Type: string (nullable = true)\n",
      " |-- Episodes: string (nullable = true)\n",
      " |-- Aired: string (nullable = true)\n",
      " |-- Premiered: string (nullable = true)\n",
      " |-- Producers: string (nullable = true)\n",
      " |-- Licensors: string (nullable = true)\n",
      " |-- Studios: string (nullable = true)\n",
      " |-- Source: string (nullable = true)\n",
      " |-- Duration: string (nullable = true)\n",
      " |-- Rating: string (nullable = true)\n",
      " |-- Ranked: string (nullable = true)\n",
      " |-- Popularity: string (nullable = true)\n",
      " |-- Members: string (nullable = true)\n",
      " |-- Favorites: string (nullable = true)\n",
      " |-- Watching: string (nullable = true)\n",
      " |-- Completed: string (nullable = true)\n",
      " |-- On-Hold: string (nullable = true)\n",
      " |-- Dropped: string (nullable = true)\n",
      " |-- Plan to Watch: string (nullable = true)\n",
      " |-- Score-10: string (nullable = true)\n",
      " |-- Score-9: string (nullable = true)\n",
      " |-- Score-8: string (nullable = true)\n",
      " |-- Score-7: string (nullable = true)\n",
      " |-- Score-6: string (nullable = true)\n",
      " |-- Score-5: string (nullable = true)\n",
      " |-- Score-4: string (nullable = true)\n",
      " |-- Score-3: string (nullable = true)\n",
      " |-- Score-2: string (nullable = true)\n",
      " |-- Score-1: string (nullable = true)\n",
      "\n"
     ]
    }
   ],
   "source": [
    "df_anime_usuario.printSchema()"
   ]
  },
  {
   "cell_type": "code",
   "execution_count": null,
   "metadata": {},
   "outputs": [],
   "source": []
  },
  {
   "cell_type": "code",
   "execution_count": null,
   "metadata": {},
   "outputs": [],
   "source": []
  },
  {
   "cell_type": "code",
   "execution_count": null,
   "metadata": {},
   "outputs": [],
   "source": []
  },
  {
   "cell_type": "code",
   "execution_count": null,
   "metadata": {},
   "outputs": [],
   "source": []
  },
  {
   "cell_type": "code",
   "execution_count": 15,
   "metadata": {},
   "outputs": [],
   "source": [
    "ratings = spark.createDataFrame(ratingsRDD)"
   ]
  },
  {
   "cell_type": "code",
   "execution_count": 16,
   "metadata": {},
   "outputs": [
    {
     "ename": "IllegalArgumentException",
     "evalue": "movieId does not exist. Available: userId, animeId, rating",
     "output_type": "error",
     "traceback": [
      "\u001b[1;31m---------------------------------------------------------------------------\u001b[0m",
      "\u001b[1;31mIllegalArgumentException\u001b[0m                  Traceback (most recent call last)",
      "Cell \u001b[1;32mIn [16], line 5\u001b[0m\n\u001b[0;32m      2\u001b[0m \u001b[38;5;66;03m# Entrenamos el modelo. La estrategia cold start con 'drop' descarata valores NaN en evaluación\u001b[39;00m\n\u001b[0;32m      3\u001b[0m als \u001b[38;5;241m=\u001b[39m ALS(maxIter\u001b[38;5;241m=\u001b[39m\u001b[38;5;241m5\u001b[39m, regParam\u001b[38;5;241m=\u001b[39m\u001b[38;5;241m0.01\u001b[39m, userCol\u001b[38;5;241m=\u001b[39m\u001b[38;5;124m\"\u001b[39m\u001b[38;5;124muserId\u001b[39m\u001b[38;5;124m\"\u001b[39m, itemCol\u001b[38;5;241m=\u001b[39m\u001b[38;5;124m\"\u001b[39m\u001b[38;5;124mmovieId\u001b[39m\u001b[38;5;124m\"\u001b[39m, ratingCol\u001b[38;5;241m=\u001b[39m\u001b[38;5;124m\"\u001b[39m\u001b[38;5;124mrating\u001b[39m\u001b[38;5;124m\"\u001b[39m,\n\u001b[0;32m      4\u001b[0m coldStartStrategy\u001b[38;5;241m=\u001b[39m\u001b[38;5;124m\"\u001b[39m\u001b[38;5;124mdrop\u001b[39m\u001b[38;5;124m\"\u001b[39m)\n\u001b[1;32m----> 5\u001b[0m model \u001b[38;5;241m=\u001b[39m \u001b[43mals\u001b[49m\u001b[38;5;241;43m.\u001b[39;49m\u001b[43mfit\u001b[49m\u001b[43m(\u001b[49m\u001b[43mtraining\u001b[49m\u001b[43m)\u001b[49m\n\u001b[0;32m      6\u001b[0m \u001b[38;5;66;03m# Evaluamos el modelo con RMSE\u001b[39;00m\n\u001b[0;32m      7\u001b[0m predictions \u001b[38;5;241m=\u001b[39m model\u001b[38;5;241m.\u001b[39mtransform(test)\n",
      "File \u001b[1;32mC:\\spark\\spark-3.4.2-bin-hadoop3\\spark-3.4.2-bin-hadoop3\\python\\pyspark\\ml\\base.py:205\u001b[0m, in \u001b[0;36mEstimator.fit\u001b[1;34m(self, dataset, params)\u001b[0m\n\u001b[0;32m    203\u001b[0m         \u001b[38;5;28;01mreturn\u001b[39;00m \u001b[38;5;28mself\u001b[39m\u001b[38;5;241m.\u001b[39mcopy(params)\u001b[38;5;241m.\u001b[39m_fit(dataset)\n\u001b[0;32m    204\u001b[0m     \u001b[38;5;28;01melse\u001b[39;00m:\n\u001b[1;32m--> 205\u001b[0m         \u001b[38;5;28;01mreturn\u001b[39;00m \u001b[38;5;28;43mself\u001b[39;49m\u001b[38;5;241;43m.\u001b[39;49m\u001b[43m_fit\u001b[49m\u001b[43m(\u001b[49m\u001b[43mdataset\u001b[49m\u001b[43m)\u001b[49m\n\u001b[0;32m    206\u001b[0m \u001b[38;5;28;01melse\u001b[39;00m:\n\u001b[0;32m    207\u001b[0m     \u001b[38;5;28;01mraise\u001b[39;00m \u001b[38;5;167;01mTypeError\u001b[39;00m(\n\u001b[0;32m    208\u001b[0m         \u001b[38;5;124m\"\u001b[39m\u001b[38;5;124mParams must be either a param map or a list/tuple of param maps, \u001b[39m\u001b[38;5;124m\"\u001b[39m\n\u001b[0;32m    209\u001b[0m         \u001b[38;5;124m\"\u001b[39m\u001b[38;5;124mbut got \u001b[39m\u001b[38;5;132;01m%s\u001b[39;00m\u001b[38;5;124m.\u001b[39m\u001b[38;5;124m\"\u001b[39m \u001b[38;5;241m%\u001b[39m \u001b[38;5;28mtype\u001b[39m(params)\n\u001b[0;32m    210\u001b[0m     )\n",
      "File \u001b[1;32mC:\\spark\\spark-3.4.2-bin-hadoop3\\spark-3.4.2-bin-hadoop3\\python\\pyspark\\ml\\wrapper.py:381\u001b[0m, in \u001b[0;36mJavaEstimator._fit\u001b[1;34m(self, dataset)\u001b[0m\n\u001b[0;32m    380\u001b[0m \u001b[38;5;28;01mdef\u001b[39;00m \u001b[38;5;21m_fit\u001b[39m(\u001b[38;5;28mself\u001b[39m, dataset: DataFrame) \u001b[38;5;241m-\u001b[39m\u001b[38;5;241m>\u001b[39m JM:\n\u001b[1;32m--> 381\u001b[0m     java_model \u001b[38;5;241m=\u001b[39m \u001b[38;5;28;43mself\u001b[39;49m\u001b[38;5;241;43m.\u001b[39;49m\u001b[43m_fit_java\u001b[49m\u001b[43m(\u001b[49m\u001b[43mdataset\u001b[49m\u001b[43m)\u001b[49m\n\u001b[0;32m    382\u001b[0m     model \u001b[38;5;241m=\u001b[39m \u001b[38;5;28mself\u001b[39m\u001b[38;5;241m.\u001b[39m_create_model(java_model)\n\u001b[0;32m    383\u001b[0m     \u001b[38;5;28;01mreturn\u001b[39;00m \u001b[38;5;28mself\u001b[39m\u001b[38;5;241m.\u001b[39m_copyValues(model)\n",
      "File \u001b[1;32mC:\\spark\\spark-3.4.2-bin-hadoop3\\spark-3.4.2-bin-hadoop3\\python\\pyspark\\ml\\wrapper.py:378\u001b[0m, in \u001b[0;36mJavaEstimator._fit_java\u001b[1;34m(self, dataset)\u001b[0m\n\u001b[0;32m    375\u001b[0m \u001b[38;5;28;01massert\u001b[39;00m \u001b[38;5;28mself\u001b[39m\u001b[38;5;241m.\u001b[39m_java_obj \u001b[38;5;129;01mis\u001b[39;00m \u001b[38;5;129;01mnot\u001b[39;00m \u001b[38;5;28;01mNone\u001b[39;00m\n\u001b[0;32m    377\u001b[0m \u001b[38;5;28mself\u001b[39m\u001b[38;5;241m.\u001b[39m_transfer_params_to_java()\n\u001b[1;32m--> 378\u001b[0m \u001b[38;5;28;01mreturn\u001b[39;00m \u001b[38;5;28;43mself\u001b[39;49m\u001b[38;5;241;43m.\u001b[39;49m\u001b[43m_java_obj\u001b[49m\u001b[38;5;241;43m.\u001b[39;49m\u001b[43mfit\u001b[49m\u001b[43m(\u001b[49m\u001b[43mdataset\u001b[49m\u001b[38;5;241;43m.\u001b[39;49m\u001b[43m_jdf\u001b[49m\u001b[43m)\u001b[49m\n",
      "File \u001b[1;32mC:\\spark\\spark-3.4.2-bin-hadoop3\\spark-3.4.2-bin-hadoop3\\python\\lib\\py4j-0.10.9.7-src.zip\\py4j\\java_gateway.py:1322\u001b[0m, in \u001b[0;36mJavaMember.__call__\u001b[1;34m(self, *args)\u001b[0m\n\u001b[0;32m   1316\u001b[0m command \u001b[38;5;241m=\u001b[39m proto\u001b[38;5;241m.\u001b[39mCALL_COMMAND_NAME \u001b[38;5;241m+\u001b[39m\\\n\u001b[0;32m   1317\u001b[0m     \u001b[38;5;28mself\u001b[39m\u001b[38;5;241m.\u001b[39mcommand_header \u001b[38;5;241m+\u001b[39m\\\n\u001b[0;32m   1318\u001b[0m     args_command \u001b[38;5;241m+\u001b[39m\\\n\u001b[0;32m   1319\u001b[0m     proto\u001b[38;5;241m.\u001b[39mEND_COMMAND_PART\n\u001b[0;32m   1321\u001b[0m answer \u001b[38;5;241m=\u001b[39m \u001b[38;5;28mself\u001b[39m\u001b[38;5;241m.\u001b[39mgateway_client\u001b[38;5;241m.\u001b[39msend_command(command)\n\u001b[1;32m-> 1322\u001b[0m return_value \u001b[38;5;241m=\u001b[39m \u001b[43mget_return_value\u001b[49m\u001b[43m(\u001b[49m\n\u001b[0;32m   1323\u001b[0m \u001b[43m    \u001b[49m\u001b[43manswer\u001b[49m\u001b[43m,\u001b[49m\u001b[43m \u001b[49m\u001b[38;5;28;43mself\u001b[39;49m\u001b[38;5;241;43m.\u001b[39;49m\u001b[43mgateway_client\u001b[49m\u001b[43m,\u001b[49m\u001b[43m \u001b[49m\u001b[38;5;28;43mself\u001b[39;49m\u001b[38;5;241;43m.\u001b[39;49m\u001b[43mtarget_id\u001b[49m\u001b[43m,\u001b[49m\u001b[43m \u001b[49m\u001b[38;5;28;43mself\u001b[39;49m\u001b[38;5;241;43m.\u001b[39;49m\u001b[43mname\u001b[49m\u001b[43m)\u001b[49m\n\u001b[0;32m   1325\u001b[0m \u001b[38;5;28;01mfor\u001b[39;00m temp_arg \u001b[38;5;129;01min\u001b[39;00m temp_args:\n\u001b[0;32m   1326\u001b[0m     \u001b[38;5;28;01mif\u001b[39;00m \u001b[38;5;28mhasattr\u001b[39m(temp_arg, \u001b[38;5;124m\"\u001b[39m\u001b[38;5;124m_detach\u001b[39m\u001b[38;5;124m\"\u001b[39m):\n",
      "File \u001b[1;32mC:\\spark\\spark-3.4.2-bin-hadoop3\\spark-3.4.2-bin-hadoop3\\python\\pyspark\\errors\\exceptions\\captured.py:175\u001b[0m, in \u001b[0;36mcapture_sql_exception.<locals>.deco\u001b[1;34m(*a, **kw)\u001b[0m\n\u001b[0;32m    171\u001b[0m converted \u001b[38;5;241m=\u001b[39m convert_exception(e\u001b[38;5;241m.\u001b[39mjava_exception)\n\u001b[0;32m    172\u001b[0m \u001b[38;5;28;01mif\u001b[39;00m \u001b[38;5;129;01mnot\u001b[39;00m \u001b[38;5;28misinstance\u001b[39m(converted, UnknownException):\n\u001b[0;32m    173\u001b[0m     \u001b[38;5;66;03m# Hide where the exception came from that shows a non-Pythonic\u001b[39;00m\n\u001b[0;32m    174\u001b[0m     \u001b[38;5;66;03m# JVM exception message.\u001b[39;00m\n\u001b[1;32m--> 175\u001b[0m     \u001b[38;5;28;01mraise\u001b[39;00m converted \u001b[38;5;28;01mfrom\u001b[39;00m \u001b[38;5;28mNone\u001b[39m\n\u001b[0;32m    176\u001b[0m \u001b[38;5;28;01melse\u001b[39;00m:\n\u001b[0;32m    177\u001b[0m     \u001b[38;5;28;01mraise\u001b[39;00m\n",
      "\u001b[1;31mIllegalArgumentException\u001b[0m: movieId does not exist. Available: userId, animeId, rating"
     ]
    }
   ],
   "source": [
    "(training, test) = ratings.randomSplit([0.8, 0.2])\n",
    "# Entrenamos el modelo. La estrategia cold start con 'drop' descarata valores NaN en evaluación\n",
    "als = ALS(maxIter=5, regParam=0.01, userCol=\"userId\", itemCol=\"movieId\", ratingCol=\"rating\",\n",
    "coldStartStrategy=\"drop\")\n",
    "model = als.fit(training)\n",
    "# Evaluamos el modelo con RMSE\n",
    "predictions = model.transform(test)\n",
    "evaluator = RegressionEvaluator(metricName=\"rmse\", labelCol=\"rating\", predictionCol=\"prediction\")\n",
    "rmse = evaluator.evaluate(predictions) \n",
    "print(\"Root-mean-square error = \" + str(rmse))"
   ]
  },
  {
   "cell_type": "code",
   "execution_count": null,
   "metadata": {},
   "outputs": [],
   "source": [
    "# Generamos las 10 mejores recomendaciones para cada usuario\n",
    "userRecs = model.recommendForAllUsers(10)\n",
    "# Generamos los top 10 usuarios para cada película\n",
    "movieRecs = model.recommendForAllItems(10)\n",
    "# Generar las 10 mejores recomendaciones para un subconjunto de usuarios\n",
    "users = ratings.select(als.getUserCol()).distinct().limit(3)\n",
    "userSubsetRecs = model.recommendForUserSubset(users, 10)\n",
    "# Geenarar la recomendación con el top 10 usuarios para el subconjunto de películas dado\n",
    "movies = ratings.select(als.getItemCol()).distinct().limit(3)\n",
    "movieSubSetRecs = model.recommendForItemSubset(movies, 10)"
   ]
  },
  {
   "cell_type": "code",
   "execution_count": null,
   "metadata": {},
   "outputs": [],
   "source": []
  },
  {
   "cell_type": "code",
   "execution_count": null,
   "metadata": {},
   "outputs": [],
   "source": []
  },
  {
   "cell_type": "code",
   "execution_count": null,
   "metadata": {},
   "outputs": [],
   "source": []
  },
  {
   "cell_type": "code",
   "execution_count": null,
   "metadata": {},
   "outputs": [],
   "source": []
  },
  {
   "cell_type": "code",
   "execution_count": null,
   "metadata": {},
   "outputs": [],
   "source": []
  },
  {
   "cell_type": "code",
   "execution_count": null,
   "metadata": {},
   "outputs": [],
   "source": [
    "from pyspark.sql import SparkSession\n",
    "from pyspark.sql import Row\n",
    "from pyspark.sql.functions import split\n",
    "\n",
    "# Crear una SparkSession\n",
    "spark = SparkSession.builder.appName(\"EjemploCSV\").getOrCreate()\n",
    "\n",
    "# Leer el CSV con cabecera y separador \";\"\n",
    "df = spark.read.csv(\"ml-latest-small/ratings.csv\", header=True, sep=\";\")\n",
    "\n",
    "# Mostrar el esquema y los primeros registros\n",
    "df.printSchema()\n",
    "df.show()\n",
    "\n",
    "# Dividir la columna en múltiples columnas\n",
    "df_split = df.withColumn(\"split_col\", split(df[\"userId,movieId,rating,timestamp\"], \",\"))\n",
    "\n",
    "# Crear columnas individuales para userId, movieId, rating, timestamp\n",
    "df_split = df_split.withColumn(\"userId\", df_split[\"split_col\"].getItem(0).cast(\"int\"))\n",
    "df_split = df_split.withColumn(\"movieId\", df_split[\"split_col\"].getItem(1).cast(\"int\"))\n",
    "df_split = df_split.withColumn(\"rating\", df_split[\"split_col\"].getItem(2).cast(\"float\"))\n",
    "df_split = df_split.withColumn(\"timestamp\", df_split[\"split_col\"].getItem(3).cast(\"int\"))\n",
    "\n",
    "# Crear el RDD a partir de las columnas individuales\n",
    "ratingsRDD = df_split.rdd.map(lambda row: Row(userId=row['userId'], movieId=row['movieId'], rating=row['rating'], timestamp=row['timestamp']))\n",
    "\n",
    "# Crear el DataFrame a partir del RDD\n",
    "ratings = spark.createDataFrame(ratingsRDD)\n",
    "\n",
    "# Mostrar el esquema y los primeros registros del nuevo DataFrame\n",
    "ratings.printSchema()\n",
    "ratings.show()"
   ]
  }
 ],
 "metadata": {
  "kernelspec": {
   "display_name": "Python 3",
   "language": "python",
   "name": "python3"
  },
  "language_info": {
   "codemirror_mode": {
    "name": "ipython",
    "version": 3
   },
   "file_extension": ".py",
   "mimetype": "text/x-python",
   "name": "python",
   "nbconvert_exporter": "python",
   "pygments_lexer": "ipython3",
   "version": "3.10.2"
  }
 },
 "nbformat": 4,
 "nbformat_minor": 2
}
