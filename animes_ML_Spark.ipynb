{
 "cells": [
  {
   "cell_type": "code",
   "execution_count": 1,
   "metadata": {},
   "outputs": [],
   "source": [
    "import findspark\n",
    "findspark.init()\n",
    "from pyspark.ml.evaluation import RegressionEvaluator\n",
    "from pyspark.ml.recommendation import ALS\n",
    "from pyspark.sql import Row\n",
    "from pyspark import *\n",
    "from pyspark.sql import SparkSession"
   ]
  },
  {
   "cell_type": "code",
   "execution_count": null,
   "metadata": {},
   "outputs": [],
   "source": []
  },
  {
   "cell_type": "code",
   "execution_count": 2,
   "metadata": {},
   "outputs": [],
   "source": [
    "spark = SparkSession.builder.appName(\"SPARK_ML_SistemaRecomendacion\").getOrCreate()"
   ]
  },
  {
   "cell_type": "code",
   "execution_count": 4,
   "metadata": {},
   "outputs": [],
   "source": [
    "# lines = spark.read.text(\"ml-latest-small/ratings.csv\").rdd\n",
    "# parts = lines.map(lambda row: row.value.split(\";\"))\n",
    "# ratingsRDD = parts.map(lambda p: Row(userId=int(p[0]), movieId=int(p[1]), rating=float(p[2]), timestamp=int(p[3])))"
   ]
  },
  {
   "cell_type": "code",
   "execution_count": null,
   "metadata": {},
   "outputs": [],
   "source": [
    "# spark.read.option(\"delimiter\", \",\").option(\"quote\", '\"').option(\"escape\", '\"').csv(\"data/anime.csv\", header=True, inferSchema=True)"
   ]
  },
  {
   "cell_type": "code",
   "execution_count": 86,
   "metadata": {},
   "outputs": [],
   "source": [
    "# CABECERA:\n",
    "# ID,Name,Score,Genres,English name,Japanese name,Type,Episodes,Aired,Premiered,Producers,Licensors,Studios,Source,Duration,Rating,Ranked,Popularity,Members,Favorites,Watching,Completed,On-Hold,Dropped,Plan to Watch,Score-10,Score-9,Score-8,Score-7,Score-6,Score-5,Score-4,Score-3,Score-2,Score-1\n",
    "df_animes = spark.read.csv(\"data/anime.csv\", header=True, sep=\",\", encoding=\"UTF-8\", inferSchema=True)\n",
    "#ratingsRDD = df.rdd.map(lambda row: Row(userId=int(row['ID']), animeId=int(row['anime_id']), rating=int(row['rating'])))\n",
    "#df.printSchema()\n",
    "\n",
    "# La ordenacion por ID no funciona correctamente, ya que el ID es un string\n",
    "#df_animes.orderBy(df_animes['ID'].asc()).show()\n"
   ]
  },
  {
   "cell_type": "code",
   "execution_count": 91,
   "metadata": {},
   "outputs": [
    {
     "name": "stdout",
     "output_type": "stream",
     "text": [
      "+-----+--------------------+-----+--------------------+--------------------+------------------------------------+----+--------+--------------------+---------+---------------+----------+-----------+------+---------------+--------------------+------+----------+-------+---------+--------+---------+-------+-------+-------------+--------+-------+-------+-------+-------+-------+-------+-------+-------+-------+\n",
      "|   ID|                Name|Score|              Genres|        English name|                       Japanese name|Type|Episodes|               Aired|Premiered|      Producers| Licensors|    Studios|Source|       Duration|              Rating|Ranked|Popularity|Members|Favorites|Watching|Completed|On-Hold|Dropped|Plan to Watch|Score-10|Score-9|Score-8|Score-7|Score-6|Score-5|Score-4|Score-3|Score-2|Score-1|\n",
      "+-----+--------------------+-----+--------------------+--------------------+------------------------------------+----+--------+--------------------+---------+---------------+----------+-----------+------+---------------+--------------------+------+----------+-------+---------+--------+---------+-------+-------+-------------+--------+-------+-------+-------+-------+-------+-------+-------+-------+-------+\n",
      "|37490|Gyakuten Saiban: ...| 7.14|Comedy, Drama, My...|Ace Attorney Seas...|逆転裁判 ～その「真実」、異議あり...|  TV|      23|Oct 6, 2018 to Ma...|Fall 2018|Aniplex, Capcom|Funimation|CloverWorks|  Game|24 min. per ep.|PG-13 - Teens 13 ...|3019.0|      3186|26528.0|       94|    2557|    11923|   1221|   1233|         9594|   686.0|  934.0| 2273.0| 3211.0| 1671.0|  740.0|  336.0|  134.0|   45.0|   61.0|\n",
      "+-----+--------------------+-----+--------------------+--------------------+------------------------------------+----+--------+--------------------+---------+---------------+----------+-----------+------+---------------+--------------------+------+----------+-------+---------+--------+---------+-------+-------+-------------+--------+-------+-------+-------+-------+-------+-------+-------+-------+-------+\n",
      "\n"
     ]
    }
   ],
   "source": [
    "df_animes.filter(df_animes['ID'] == 37490).show()"
   ]
  },
  {
   "cell_type": "code",
   "execution_count": null,
   "metadata": {},
   "outputs": [],
   "source": []
  },
  {
   "cell_type": "code",
   "execution_count": null,
   "metadata": {},
   "outputs": [],
   "source": []
  },
  {
   "cell_type": "code",
   "execution_count": null,
   "metadata": {},
   "outputs": [],
   "source": []
  },
  {
   "cell_type": "code",
   "execution_count": null,
   "metadata": {},
   "outputs": [],
   "source": []
  },
  {
   "cell_type": "code",
   "execution_count": null,
   "metadata": {},
   "outputs": [],
   "source": []
  },
  {
   "cell_type": "code",
   "execution_count": null,
   "metadata": {},
   "outputs": [],
   "source": []
  },
  {
   "cell_type": "code",
   "execution_count": 50,
   "metadata": {},
   "outputs": [],
   "source": [
    "from pyspark.sql.functions import regexp_replace"
   ]
  },
  {
   "cell_type": "code",
   "execution_count": 41,
   "metadata": {},
   "outputs": [],
   "source": [
    "df_resultado = df_animes.withColumn(\"Name\", regexp_replace(df_animes[\"Name\"], '^\"|\"$', ''))"
   ]
  },
  {
   "cell_type": "code",
   "execution_count": 40,
   "metadata": {},
   "outputs": [
    {
     "ename": "AnalysisException",
     "evalue": "Resolved attribute(s) Name#2388 missing from ID#2387,Name#2634,Score#2389,Genres#2390,English name#2391,Japanese name#2392,Type#2393,Episodes#2394,Aired#2395,Premiered#2396,Producers#2397,Licensors#2398,Studios#2399,Source#2400,Duration#2401,Rating#2402,Ranked#2403,Popularity#2404,Members#2405,Favorites#2406,Watching#2407,Completed#2408,On-Hold#2409,Dropped#2410,Plan to Watch#2411,Score-10#2412,Score-9#2413,Score-8#2414,Score-7#2415,Score-6#2416,Score-5#2417,Score-4#2418,Score-3#2419,Score-2#2420,Score-1#2421 in operator !Project [ID#2387, regexp_replace(Name#2388, ['\"]+, ', 1) AS Name#2671, Score#2389, Genres#2390, English name#2391, Japanese name#2392, Type#2393, Episodes#2394, Aired#2395, Premiered#2396, Producers#2397, Licensors#2398, Studios#2399, Source#2400, Duration#2401, Rating#2402, Ranked#2403, Popularity#2404, Members#2405, Favorites#2406, Watching#2407, Completed#2408, On-Hold#2409, Dropped#2410, ... 11 more fields]. Attribute(s) with the same name appear in the operation: Name. Please check if the right attribute(s) are used.;\n!Project [ID#2387, regexp_replace(Name#2388, ['\"]+, ', 1) AS Name#2671, Score#2389, Genres#2390, English name#2391, Japanese name#2392, Type#2393, Episodes#2394, Aired#2395, Premiered#2396, Producers#2397, Licensors#2398, Studios#2399, Source#2400, Duration#2401, Rating#2402, Ranked#2403, Popularity#2404, Members#2405, Favorites#2406, Watching#2407, Completed#2408, On-Hold#2409, Dropped#2410, ... 11 more fields]\n+- Project [ID#2387, regexp_replace(Name#2388, ^\"|\"$, , 1) AS Name#2634, Score#2389, Genres#2390, English name#2391, Japanese name#2392, Type#2393, Episodes#2394, Aired#2395, Premiered#2396, Producers#2397, Licensors#2398, Studios#2399, Source#2400, Duration#2401, Rating#2402, Ranked#2403, Popularity#2404, Members#2405, Favorites#2406, Watching#2407, Completed#2408, On-Hold#2409, Dropped#2410, ... 11 more fields]\n   +- Relation [ID#2387,Name#2388,Score#2389,Genres#2390,English name#2391,Japanese name#2392,Type#2393,Episodes#2394,Aired#2395,Premiered#2396,Producers#2397,Licensors#2398,Studios#2399,Source#2400,Duration#2401,Rating#2402,Ranked#2403,Popularity#2404,Members#2405,Favorites#2406,Watching#2407,Completed#2408,On-Hold#2409,Dropped#2410,... 11 more fields] csv\n",
     "output_type": "error",
     "traceback": [
      "\u001b[1;31m---------------------------------------------------------------------------\u001b[0m",
      "\u001b[1;31mAnalysisException\u001b[0m                         Traceback (most recent call last)",
      "Cell \u001b[1;32mIn [40], line 1\u001b[0m\n\u001b[1;32m----> 1\u001b[0m df_resultado \u001b[38;5;241m=\u001b[39m \u001b[43mdf_resultado\u001b[49m\u001b[38;5;241;43m.\u001b[39;49m\u001b[43mwithColumn\u001b[49m\u001b[43m(\u001b[49m\u001b[38;5;124;43m\"\u001b[39;49m\u001b[38;5;124;43mName\u001b[39;49m\u001b[38;5;124;43m\"\u001b[39;49m\u001b[43m,\u001b[49m\u001b[43m \u001b[49m\u001b[43mregexp_replace\u001b[49m\u001b[43m(\u001b[49m\u001b[43mdf_animes\u001b[49m\u001b[43m[\u001b[49m\u001b[38;5;124;43m\"\u001b[39;49m\u001b[38;5;124;43mName\u001b[39;49m\u001b[38;5;124;43m\"\u001b[39;49m\u001b[43m]\u001b[49m\u001b[43m,\u001b[49m\u001b[43m \u001b[49m\u001b[38;5;124;43m\"\u001b[39;49m\u001b[38;5;124;43m[\u001b[39;49m\u001b[38;5;130;43;01m\\'\u001b[39;49;00m\u001b[38;5;130;43;01m\\\"\u001b[39;49;00m\u001b[38;5;124;43m]+\u001b[39;49m\u001b[38;5;124;43m\"\u001b[39;49m\u001b[43m,\u001b[49m\u001b[43m \u001b[49m\u001b[38;5;124;43m\"\u001b[39;49m\u001b[38;5;124;43m'\u001b[39;49m\u001b[38;5;124;43m\"\u001b[39;49m\u001b[43m)\u001b[49m\u001b[43m)\u001b[49m\n",
      "File \u001b[1;32mC:\\spark\\spark-3.4.2-bin-hadoop3\\spark-3.4.2-bin-hadoop3\\python\\pyspark\\sql\\dataframe.py:4789\u001b[0m, in \u001b[0;36mDataFrame.withColumn\u001b[1;34m(self, colName, col)\u001b[0m\n\u001b[0;32m   4784\u001b[0m \u001b[38;5;28;01mif\u001b[39;00m \u001b[38;5;129;01mnot\u001b[39;00m \u001b[38;5;28misinstance\u001b[39m(col, Column):\n\u001b[0;32m   4785\u001b[0m     \u001b[38;5;28;01mraise\u001b[39;00m PySparkTypeError(\n\u001b[0;32m   4786\u001b[0m         error_class\u001b[38;5;241m=\u001b[39m\u001b[38;5;124m\"\u001b[39m\u001b[38;5;124mNOT_COLUMN\u001b[39m\u001b[38;5;124m\"\u001b[39m,\n\u001b[0;32m   4787\u001b[0m         message_parameters\u001b[38;5;241m=\u001b[39m{\u001b[38;5;124m\"\u001b[39m\u001b[38;5;124marg_name\u001b[39m\u001b[38;5;124m\"\u001b[39m: \u001b[38;5;124m\"\u001b[39m\u001b[38;5;124mcol\u001b[39m\u001b[38;5;124m\"\u001b[39m, \u001b[38;5;124m\"\u001b[39m\u001b[38;5;124marg_type\u001b[39m\u001b[38;5;124m\"\u001b[39m: \u001b[38;5;28mtype\u001b[39m(col)\u001b[38;5;241m.\u001b[39m\u001b[38;5;18m__name__\u001b[39m},\n\u001b[0;32m   4788\u001b[0m     )\n\u001b[1;32m-> 4789\u001b[0m \u001b[38;5;28;01mreturn\u001b[39;00m DataFrame(\u001b[38;5;28;43mself\u001b[39;49m\u001b[38;5;241;43m.\u001b[39;49m\u001b[43m_jdf\u001b[49m\u001b[38;5;241;43m.\u001b[39;49m\u001b[43mwithColumn\u001b[49m\u001b[43m(\u001b[49m\u001b[43mcolName\u001b[49m\u001b[43m,\u001b[49m\u001b[43m \u001b[49m\u001b[43mcol\u001b[49m\u001b[38;5;241;43m.\u001b[39;49m\u001b[43m_jc\u001b[49m\u001b[43m)\u001b[49m, \u001b[38;5;28mself\u001b[39m\u001b[38;5;241m.\u001b[39msparkSession)\n",
      "File \u001b[1;32mC:\\spark\\spark-3.4.2-bin-hadoop3\\spark-3.4.2-bin-hadoop3\\python\\lib\\py4j-0.10.9.7-src.zip\\py4j\\java_gateway.py:1322\u001b[0m, in \u001b[0;36mJavaMember.__call__\u001b[1;34m(self, *args)\u001b[0m\n\u001b[0;32m   1316\u001b[0m command \u001b[38;5;241m=\u001b[39m proto\u001b[38;5;241m.\u001b[39mCALL_COMMAND_NAME \u001b[38;5;241m+\u001b[39m\\\n\u001b[0;32m   1317\u001b[0m     \u001b[38;5;28mself\u001b[39m\u001b[38;5;241m.\u001b[39mcommand_header \u001b[38;5;241m+\u001b[39m\\\n\u001b[0;32m   1318\u001b[0m     args_command \u001b[38;5;241m+\u001b[39m\\\n\u001b[0;32m   1319\u001b[0m     proto\u001b[38;5;241m.\u001b[39mEND_COMMAND_PART\n\u001b[0;32m   1321\u001b[0m answer \u001b[38;5;241m=\u001b[39m \u001b[38;5;28mself\u001b[39m\u001b[38;5;241m.\u001b[39mgateway_client\u001b[38;5;241m.\u001b[39msend_command(command)\n\u001b[1;32m-> 1322\u001b[0m return_value \u001b[38;5;241m=\u001b[39m \u001b[43mget_return_value\u001b[49m\u001b[43m(\u001b[49m\n\u001b[0;32m   1323\u001b[0m \u001b[43m    \u001b[49m\u001b[43manswer\u001b[49m\u001b[43m,\u001b[49m\u001b[43m \u001b[49m\u001b[38;5;28;43mself\u001b[39;49m\u001b[38;5;241;43m.\u001b[39;49m\u001b[43mgateway_client\u001b[49m\u001b[43m,\u001b[49m\u001b[43m \u001b[49m\u001b[38;5;28;43mself\u001b[39;49m\u001b[38;5;241;43m.\u001b[39;49m\u001b[43mtarget_id\u001b[49m\u001b[43m,\u001b[49m\u001b[43m \u001b[49m\u001b[38;5;28;43mself\u001b[39;49m\u001b[38;5;241;43m.\u001b[39;49m\u001b[43mname\u001b[49m\u001b[43m)\u001b[49m\n\u001b[0;32m   1325\u001b[0m \u001b[38;5;28;01mfor\u001b[39;00m temp_arg \u001b[38;5;129;01min\u001b[39;00m temp_args:\n\u001b[0;32m   1326\u001b[0m     \u001b[38;5;28;01mif\u001b[39;00m \u001b[38;5;28mhasattr\u001b[39m(temp_arg, \u001b[38;5;124m\"\u001b[39m\u001b[38;5;124m_detach\u001b[39m\u001b[38;5;124m\"\u001b[39m):\n",
      "File \u001b[1;32mC:\\spark\\spark-3.4.2-bin-hadoop3\\spark-3.4.2-bin-hadoop3\\python\\pyspark\\errors\\exceptions\\captured.py:175\u001b[0m, in \u001b[0;36mcapture_sql_exception.<locals>.deco\u001b[1;34m(*a, **kw)\u001b[0m\n\u001b[0;32m    171\u001b[0m converted \u001b[38;5;241m=\u001b[39m convert_exception(e\u001b[38;5;241m.\u001b[39mjava_exception)\n\u001b[0;32m    172\u001b[0m \u001b[38;5;28;01mif\u001b[39;00m \u001b[38;5;129;01mnot\u001b[39;00m \u001b[38;5;28misinstance\u001b[39m(converted, UnknownException):\n\u001b[0;32m    173\u001b[0m     \u001b[38;5;66;03m# Hide where the exception came from that shows a non-Pythonic\u001b[39;00m\n\u001b[0;32m    174\u001b[0m     \u001b[38;5;66;03m# JVM exception message.\u001b[39;00m\n\u001b[1;32m--> 175\u001b[0m     \u001b[38;5;28;01mraise\u001b[39;00m converted \u001b[38;5;28;01mfrom\u001b[39;00m \u001b[38;5;28mNone\u001b[39m\n\u001b[0;32m    176\u001b[0m \u001b[38;5;28;01melse\u001b[39;00m:\n\u001b[0;32m    177\u001b[0m     \u001b[38;5;28;01mraise\u001b[39;00m\n",
      "\u001b[1;31mAnalysisException\u001b[0m: Resolved attribute(s) Name#2388 missing from ID#2387,Name#2634,Score#2389,Genres#2390,English name#2391,Japanese name#2392,Type#2393,Episodes#2394,Aired#2395,Premiered#2396,Producers#2397,Licensors#2398,Studios#2399,Source#2400,Duration#2401,Rating#2402,Ranked#2403,Popularity#2404,Members#2405,Favorites#2406,Watching#2407,Completed#2408,On-Hold#2409,Dropped#2410,Plan to Watch#2411,Score-10#2412,Score-9#2413,Score-8#2414,Score-7#2415,Score-6#2416,Score-5#2417,Score-4#2418,Score-3#2419,Score-2#2420,Score-1#2421 in operator !Project [ID#2387, regexp_replace(Name#2388, ['\"]+, ', 1) AS Name#2671, Score#2389, Genres#2390, English name#2391, Japanese name#2392, Type#2393, Episodes#2394, Aired#2395, Premiered#2396, Producers#2397, Licensors#2398, Studios#2399, Source#2400, Duration#2401, Rating#2402, Ranked#2403, Popularity#2404, Members#2405, Favorites#2406, Watching#2407, Completed#2408, On-Hold#2409, Dropped#2410, ... 11 more fields]. Attribute(s) with the same name appear in the operation: Name. Please check if the right attribute(s) are used.;\n!Project [ID#2387, regexp_replace(Name#2388, ['\"]+, ', 1) AS Name#2671, Score#2389, Genres#2390, English name#2391, Japanese name#2392, Type#2393, Episodes#2394, Aired#2395, Premiered#2396, Producers#2397, Licensors#2398, Studios#2399, Source#2400, Duration#2401, Rating#2402, Ranked#2403, Popularity#2404, Members#2405, Favorites#2406, Watching#2407, Completed#2408, On-Hold#2409, Dropped#2410, ... 11 more fields]\n+- Project [ID#2387, regexp_replace(Name#2388, ^\"|\"$, , 1) AS Name#2634, Score#2389, Genres#2390, English name#2391, Japanese name#2392, Type#2393, Episodes#2394, Aired#2395, Premiered#2396, Producers#2397, Licensors#2398, Studios#2399, Source#2400, Duration#2401, Rating#2402, Ranked#2403, Popularity#2404, Members#2405, Favorites#2406, Watching#2407, Completed#2408, On-Hold#2409, Dropped#2410, ... 11 more fields]\n   +- Relation [ID#2387,Name#2388,Score#2389,Genres#2390,English name#2391,Japanese name#2392,Type#2393,Episodes#2394,Aired#2395,Premiered#2396,Producers#2397,Licensors#2398,Studios#2399,Source#2400,Duration#2401,Rating#2402,Ranked#2403,Popularity#2404,Members#2405,Favorites#2406,Watching#2407,Completed#2408,On-Hold#2409,Dropped#2410,... 11 more fields] csv\n"
     ]
    }
   ],
   "source": [
    "#df_resultado = df_resultado.withColumn(\"Name\", regexp_replace(df_animes[\"Name\"], \"['\"]+\", \"'\"))"
   ]
  },
  {
   "cell_type": "code",
   "execution_count": 42,
   "metadata": {},
   "outputs": [
    {
     "name": "stdout",
     "output_type": "stream",
     "text": [
      "+---+--------------------+-----+--------------------+--------------------+------------------------------+-----+--------+--------------------+-----------+--------------------+--------------------+----------------+-----------+---------------+--------------------+------+----------+---------+---------+--------+---------+-------+-------+-------------+--------+--------+--------+--------+--------+-------+-------+-------+-------+-------+\n",
      "| ID|                Name|Score|              Genres|        English name|                 Japanese name| Type|Episodes|               Aired|  Premiered|           Producers|           Licensors|         Studios|     Source|       Duration|              Rating|Ranked|Popularity|  Members|Favorites|Watching|Completed|On-Hold|Dropped|Plan to Watch|Score-10| Score-9| Score-8| Score-7| Score-6|Score-5|Score-4|Score-3|Score-2|Score-1|\n",
      "+---+--------------------+-----+--------------------+--------------------+------------------------------+-----+--------+--------------------+-----------+--------------------+--------------------+----------------+-----------+---------------+--------------------+------+----------+---------+---------+--------+---------+-------+-------+-------------+--------+--------+--------+--------+--------+-------+-------+-------+-------+-------+\n",
      "|  1|        Cowboy Bebop| 8.78|Action, Adventure...|        Cowboy Bebop|            カウボーイビバップ|   TV|      26|Apr 3, 1998 to Ap...|Spring 1998|       Bandai Visual|Funimation, Banda...|         Sunrise|   Original|24 min. per ep.|R - 17+ (violence...|  28.0|        39|1251960.0|    61971|  105808|   718161|  71513|  26678|       329800|229170.0|182126.0|131625.0| 62330.0| 20688.0| 8904.0| 3184.0| 1357.0|  741.0| 1580.0|\n",
      "|  5|Cowboy Bebop: Ten...| 8.39|Action, Drama, My...|Cowboy Bebop:The ...|   カウボーイビバップ 天国の扉|Movie|       1|         Sep 1, 2001|    Unknown|Sunrise, Bandai V...|Sony Pictures Ent...|           Bones|   Original|  1 hr. 55 min.|R - 17+ (violence...| 159.0|       518| 273145.0|     1174|    4143|   208333|   1935|    770|        57964| 30043.0| 49201.0| 49505.0| 22632.0|  5805.0| 1877.0|  577.0|  221.0|  109.0|  379.0|\n",
      "|  6|              Trigun| 8.24|Action, Sci-Fi, A...|              Trigun|                    トライガン|   TV|      26|Apr 1, 1998 to Se...|Spring 1998|Victor Entertainment|Funimation, Geneo...|        Madhouse|      Manga|24 min. per ep.|PG-13 - Teens 13 ...| 266.0|       201| 558913.0|    12944|   29113|   343492|  25465|  13925|       146918| 50229.0| 75651.0| 86142.0| 49432.0| 15376.0| 5838.0| 1965.0|  664.0|  316.0|  533.0|\n",
      "|  7|  Witch Hunter Robin| 7.27|Action, Mystery, ...|  Witch Hunter Robin|          Witch Hunter ROBI...|   TV|      26|Jul 2, 2002 to De...|Summer 2002|TV Tokyo, Bandai ...|Funimation, Banda...|         Sunrise|   Original|25 min. per ep.|PG-13 - Teens 13 ...|2481.0|      1467|  94683.0|      587|    4300|    46165|   5121|   5378|        33719|  2182.0|  4806.0| 10128.0| 11618.0|  5709.0| 2920.0| 1083.0|  353.0|  164.0|  131.0|\n",
      "|  8|      Bouken Ou Beet| 6.98|Adventure, Fantas...|Beet the Vandel B...|                  冒険王ビィト|   TV|      52|Sep 30, 2004 to S...|  Fall 2004|    TV Tokyo, Dentsu|             Unknown|  Toei Animation|      Manga|23 min. per ep.|       PG - Children|3710.0|      4369|  13224.0|       18|     642|     7314|    766|   1108|         3394|   312.0|   529.0|  1242.0|  1713.0|  1068.0|  634.0|  265.0|   83.0|   50.0|   27.0|\n",
      "| 15|        Eyeshield 21| 7.95|Action, Sports, C...|             Unknown|                アイシールド21|   TV|     145|Apr 6, 2005 to Ma...|Spring 2005|TV Tokyo, Nihon A...|VIZ Media, Sentai...|          Gallop|      Manga|23 min. per ep.|PG-13 - Teens 13 ...| 604.0|      1003| 148259.0|     2066|   13907|    78349|  14228|  11573|        30202|  9226.0| 14904.0| 22811.0| 16734.0|  6206.0| 2621.0|  795.0|  336.0|  140.0|  151.0|\n",
      "| 16|Hachimitsu to Clover| 8.06|Comedy, Drama, Jo...|    Honey and Clover|          ハチミツとクローバー|   TV|      24|Apr 15, 2005 to S...|Spring 2005|Genco, Fuji TV, S...|VIZ Media, Discot...|       J.C.Staff|      Manga|23 min. per ep.|PG-13 - Teens 13 ...| 468.0|       687| 214499.0|     4101|   11909|    81145|  11901|  11026|        98518| 11829.0| 16309.0| 20008.0| 13062.0|  5574.0| 3148.0| 1339.0|  484.0|  278.0|  321.0|\n",
      "| 17|Hungry Heart: Wil...| 7.59|Slice of Life, Co...|             Unknown|  ハングリーハート Wild Str...|   TV|      52|Sep 11, 2002 to S...|  Fall 2002|             Unknown|             Unknown|Nippon Animation|      Manga|23 min. per ep.|PG-13 - Teens 13 ...|1317.0|      3612|  20470.0|      231|     817|    13778|    828|   1168|         3879|  1123.0|  1777.0|  3102.0|  3075.0|  1286.0|  602.0|  218.0|   88.0|   31.0|   32.0|\n",
      "| 18|Initial D Fourth ...| 8.15|Action, Cars, Spo...|             Unknown|頭文字〈イニシャル〉D FOURT...|   TV|      24|Apr 17, 2004 to F...|Spring 2004|OB Planning, Stud...|          Funimation|        A.C.G.T.|      Manga|27 min. per ep.|PG-13 - Teens 13 ...| 360.0|      1233| 117929.0|      979|    6082|    90967|   3053|   1356|        16471| 10948.0| 15820.0| 22379.0| 12912.0|  3874.0| 1236.0|  369.0|   97.0|   48.0|  259.0|\n",
      "| 19|             Monster| 8.76|Drama, Horror, My...|             Monster|                    モンスター|   TV|      74|Apr 7, 2004 to Se...|Spring 2004|VAP, Shogakukan-S...|           VIZ Media|        Madhouse|      Manga|24 min. per ep.|    R+ - Mild Nudity|  30.0|       169| 614100.0|    29436|   64648|   214491|  47488|  23008|       264465| 77350.0| 60652.0| 43459.0| 22045.0|  8861.0| 4381.0| 2086.0|  882.0|  593.0| 1177.0|\n",
      "| 20|              Naruto| 7.91|Action, Adventure...|              Naruto|                        ナルト|   TV|     220|Oct 3, 2002 to Fe...|  Fall 2002|TV Tokyo, Aniplex...|           VIZ Media|  Studio Pierrot|      Manga|23 min. per ep.|PG-13 - Teens 13 ...| 660.0|         8|1830540.0|    65586|  137167|  1462223|  61734|  99806|        69610|216866.0|234481.0|345563.0|286175.0|108155.0|46886.0|15477.0| 6098.0| 3582.0| 5310.0|\n",
      "| 21|           One Piece| 8.52|Action, Adventure...|           One Piece|                     ONE PIECE|   TV| Unknown|   Oct 20, 1999 to ?|  Fall 1999|Fuji TV, TAP, Shu...|Funimation, 4Kids...|  Toei Animation|      Manga|        24 min.|PG-13 - Teens 13 ...|  95.0|        31|1352724.0|   126645|  887333|       33| 187919| 136245|       141194|292445.0|166186.0|141755.0| 85424.0| 35342.0|19019.0| 8201.0| 3675.0| 2616.0| 6340.0|\n",
      "| 22| Tennis no Ouji-sama|  7.9|Action, Comedy, S...|The Prince of Tennis|                テニスの王子様|   TV|     178|Oct 10, 2001 to M...|  Fall 2001|Production I.G, N...|           VIZ Media|      Trans Arts|      Manga|22 min. per ep.|PG-13 - Teens 13 ...| 675.0|      1039| 141832.0|     3124|   11235|    76881|  12905|  12516|        28295|  9576.0| 12719.0| 19791.0| 16284.0|  6624.0| 3086.0| 1071.0|  443.0|  210.0|  225.0|\n",
      "| 23|    Ring ni Kakero 1| 6.38|Action, Shounen, ...|             Unknown|              リングにかけろ１|   TV|      12|Oct 6, 2004 to De...|  Fall 2004|             Unknown|             Unknown|  Toei Animation|      Manga|25 min. per ep.|       PG - Children|6493.0|      7333|   3648.0|       16|     170|     1333|    145|    296|         1704|    69.0|    61.0|   152.0|   260.0|   236.0|  143.0|   88.0|   40.0|   32.0|   28.0|\n",
      "| 24|       School Rumble| 7.94|Comedy, Romance, ...|       School Rumble|              スクールランブル|   TV|      26|Oct 5, 2004 to Ma...|  Fall 2004|TV Tokyo, Sotsu, ...|          Funimation|    Studio Comet|      Manga|23 min. per ep.|PG-13 - Teens 13 ...| 625.0|       514| 275464.0|     5137|   12277|   157789|  12856|  13491|        79051| 17907.0| 27623.0| 38112.0| 27327.0| 11034.0| 5396.0| 1897.0|  780.0|  441.0|  405.0|\n",
      "| 25|           Sunabouzu| 7.42|Action, Adventure...|         Desert Punk|                      砂ぼうず|   TV|      24|Oct 6, 2004 to Ma...|  Fall 2004|GDH, Pony Canyon,...|          Funimation|           Gonzo|      Manga|24 min. per ep.|R - 17+ (violence...|1844.0|      1284| 111734.0|      790|    6273|    53819|   6255|   7951|        37436|  3589.0|  6664.0| 12349.0| 12702.0|  6033.0| 3079.0| 1521.0|  643.0|  350.0|  297.0|\n",
      "| 26|          Texhnolyze| 7.76|Action, Sci-Fi, P...|          Texhnolyze|                    TEXHNOLYZE|   TV|      22|Apr 17, 2003 to S...|Spring 2003|Group TAC, Rondo ...|Funimation, Geneo...|        Madhouse|   Original|23 min. per ep.|    R+ - Mild Nudity| 896.0|       823| 182599.0|     3671|   11335|    47532|   9815|   8112|       105805|  6856.0|  8309.0| 10851.0|  8636.0|  4429.0| 2462.0| 1456.0|  684.0|  411.0|  664.0|\n",
      "| 27|       Trinity Blood| 7.32|Action, Supernatu...|       Trinity Blood|          トリニティ・ブラッド|   TV|      24|Apr 29, 2005 to O...|Spring 2005|             Unknown|          Funimation|           Gonzo|Light novel|24 min. per ep.|R - 17+ (violence...|2240.0|       936| 158343.0|     1479|    7794|    87958|   8940|   9349|        44302|  6091.0|  9759.0| 17761.0| 20152.0| 10273.0| 5392.0| 2250.0|  873.0|  456.0|  298.0|\n",
      "| 28|    Yakitate!! Japan| 7.95|     Comedy, Shounen|    Yakitate!! Japan|           焼きたて!! ジャぱん|   TV|      69|Oct 12, 2004 to M...|  Fall 2004|TV Tokyo, Aniplex...|Nozomi Entertainment|         Sunrise|      Manga|24 min. per ep.|PG-13 - Teens 13 ...| 609.0|      1666|  80183.0|      887|    5007|    39992|   5764|   4633|        24787|  4347.0|  7425.0| 11074.0|  7965.0|  3038.0| 1248.0|  345.0|  118.0|   56.0|   58.0|\n",
      "| 29|              Zipang| 7.51|Action, Military,...|             Unknown|                      ジパング|   TV|      26|Oct 8, 2004 to Ap...|  Fall 2004|      Marvelous, TBS|Geneon Entertainm...|     Studio Deen|      Manga|24 min. per ep.|PG-13 - Teens 13 ...|1565.0|      3985|  16652.0|      152|     857|     6807|    721|    599|         7668|   430.0|   874.0|  1801.0|  1696.0|   662.0|  279.0|  114.0|   38.0|   13.0|   28.0|\n",
      "+---+--------------------+-----+--------------------+--------------------+------------------------------+-----+--------+--------------------+-----------+--------------------+--------------------+----------------+-----------+---------------+--------------------+------+----------+---------+---------+--------+---------+-------+-------+-------------+--------+--------+--------+--------+--------+-------+-------+-------+-------+-------+\n",
      "only showing top 20 rows\n",
      "\n"
     ]
    }
   ],
   "source": [
    "df_resultado.show()"
   ]
  },
  {
   "cell_type": "code",
   "execution_count": 44,
   "metadata": {},
   "outputs": [
    {
     "name": "stdout",
     "output_type": "stream",
     "text": [
      "+-----------------------------+\n",
      "|Name                         |\n",
      "+-----------------------------+\n",
      "|Ai Monogatari: 9 Love Stories|\n",
      "+-----------------------------+\n",
      "\n"
     ]
    }
   ],
   "source": [
    "df_resultado.filter(df_animes['ID'] == '2387').select(\"Name\").show(20, False)"
   ]
  },
  {
   "cell_type": "code",
   "execution_count": 14,
   "metadata": {},
   "outputs": [
    {
     "name": "stdout",
     "output_type": "stream",
     "text": [
      "root\n",
      " |-- ID: integer (nullable = true)\n",
      " |-- Name: string (nullable = true)\n",
      " |-- Score: string (nullable = true)\n",
      " |-- Genres: string (nullable = true)\n",
      " |-- English name: string (nullable = true)\n",
      " |-- Japanese name: string (nullable = true)\n",
      " |-- Type: string (nullable = true)\n",
      " |-- Episodes: string (nullable = true)\n",
      " |-- Aired: string (nullable = true)\n",
      " |-- Premiered: string (nullable = true)\n",
      " |-- Producers: string (nullable = true)\n",
      " |-- Licensors: string (nullable = true)\n",
      " |-- Studios: string (nullable = true)\n",
      " |-- Source: string (nullable = true)\n",
      " |-- Duration: string (nullable = true)\n",
      " |-- Rating: string (nullable = true)\n",
      " |-- Ranked: string (nullable = true)\n",
      " |-- Popularity: string (nullable = true)\n",
      " |-- Members: double (nullable = true)\n",
      " |-- Favorites: integer (nullable = true)\n",
      " |-- Watching: integer (nullable = true)\n",
      " |-- Completed: integer (nullable = true)\n",
      " |-- On-Hold: integer (nullable = true)\n",
      " |-- Dropped: integer (nullable = true)\n",
      " |-- Plan to Watch: integer (nullable = true)\n",
      " |-- Score-10: string (nullable = true)\n",
      " |-- Score-9: string (nullable = true)\n",
      " |-- Score-8: string (nullable = true)\n",
      " |-- Score-7: string (nullable = true)\n",
      " |-- Score-6: string (nullable = true)\n",
      " |-- Score-5: string (nullable = true)\n",
      " |-- Score-4: string (nullable = true)\n",
      " |-- Score-3: string (nullable = true)\n",
      " |-- Score-2: string (nullable = true)\n",
      " |-- Score-1: string (nullable = true)\n",
      "\n"
     ]
    }
   ],
   "source": [
    "\n",
    "df_animes.printSchema()"
   ]
  },
  {
   "cell_type": "code",
   "execution_count": 7,
   "metadata": {},
   "outputs": [
    {
     "data": {
      "text/plain": [
       "17562"
      ]
     },
     "execution_count": 7,
     "metadata": {},
     "output_type": "execute_result"
    }
   ],
   "source": [
    "# Imprime el numero de filas\n",
    "df_animes.count()"
   ]
  },
  {
   "cell_type": "code",
   "execution_count": 8,
   "metadata": {},
   "outputs": [
    {
     "name": "stdout",
     "output_type": "stream",
     "text": [
      "root\n",
      " |-- ID: integer (nullable = true)\n",
      " |-- Name: string (nullable = true)\n",
      " |-- Score: string (nullable = true)\n",
      " |-- Genres: string (nullable = true)\n",
      " |-- English name: string (nullable = true)\n",
      " |-- Japanese name: string (nullable = true)\n",
      " |-- Type: string (nullable = true)\n",
      " |-- Episodes: string (nullable = true)\n",
      " |-- Aired: string (nullable = true)\n",
      " |-- Premiered: string (nullable = true)\n",
      " |-- Producers: string (nullable = true)\n",
      " |-- Licensors: string (nullable = true)\n",
      " |-- Studios: string (nullable = true)\n",
      " |-- Source: string (nullable = true)\n",
      " |-- Duration: string (nullable = true)\n",
      " |-- Rating: string (nullable = true)\n",
      " |-- Ranked: string (nullable = true)\n",
      " |-- Popularity: string (nullable = true)\n",
      " |-- Members: string (nullable = true)\n",
      " |-- Favorites: string (nullable = true)\n",
      " |-- Watching: string (nullable = true)\n",
      " |-- Completed: string (nullable = true)\n",
      " |-- On-Hold: string (nullable = true)\n",
      " |-- Dropped: string (nullable = true)\n",
      " |-- Plan to Watch: string (nullable = true)\n",
      " |-- Score-10: string (nullable = true)\n",
      " |-- Score-9: string (nullable = true)\n",
      " |-- Score-8: string (nullable = true)\n",
      " |-- Score-7: string (nullable = true)\n",
      " |-- Score-6: string (nullable = true)\n",
      " |-- Score-5: string (nullable = true)\n",
      " |-- Score-4: string (nullable = true)\n",
      " |-- Score-3: string (nullable = true)\n",
      " |-- Score-2: string (nullable = true)\n",
      " |-- Score-1: string (nullable = true)\n",
      "\n",
      "+---+--------------------+-----+--------------------+--------------------+------------------------------+-----+--------+--------------------+-----------+--------------------+--------------------+----------------+-----------+---------------+--------------------+------+----------+-------+---------+--------+---------+-------+-------+-------------+--------+--------+--------+--------+--------+-------+-------+-------+-------+-------+\n",
      "| ID|                Name|Score|              Genres|        English name|                 Japanese name| Type|Episodes|               Aired|  Premiered|           Producers|           Licensors|         Studios|     Source|       Duration|              Rating|Ranked|Popularity|Members|Favorites|Watching|Completed|On-Hold|Dropped|Plan to Watch|Score-10| Score-9| Score-8| Score-7| Score-6|Score-5|Score-4|Score-3|Score-2|Score-1|\n",
      "+---+--------------------+-----+--------------------+--------------------+------------------------------+-----+--------+--------------------+-----------+--------------------+--------------------+----------------+-----------+---------------+--------------------+------+----------+-------+---------+--------+---------+-------+-------+-------------+--------+--------+--------+--------+--------+-------+-------+-------+-------+-------+\n",
      "|  1|        Cowboy Bebop| 8.78|Action, Adventure...|        Cowboy Bebop|            カウボーイビバップ|   TV|      26|Apr 3, 1998 to Ap...|Spring 1998|       Bandai Visual|Funimation, Banda...|         Sunrise|   Original|24 min. per ep.|R - 17+ (violence...|  28.0|        39|1251960|    61971|  105808|   718161|  71513|  26678|       329800|229170.0|182126.0|131625.0| 62330.0| 20688.0| 8904.0| 3184.0| 1357.0|  741.0| 1580.0|\n",
      "|  5|Cowboy Bebop: Ten...| 8.39|Action, Drama, My...|Cowboy Bebop:The ...|   カウボーイビバップ 天国の扉|Movie|       1|         Sep 1, 2001|    Unknown|Sunrise, Bandai V...|Sony Pictures Ent...|           Bones|   Original|  1 hr. 55 min.|R - 17+ (violence...| 159.0|       518| 273145|     1174|    4143|   208333|   1935|    770|        57964| 30043.0| 49201.0| 49505.0| 22632.0|  5805.0| 1877.0|  577.0|  221.0|  109.0|  379.0|\n",
      "|  6|              Trigun| 8.24|Action, Sci-Fi, A...|              Trigun|                    トライガン|   TV|      26|Apr 1, 1998 to Se...|Spring 1998|Victor Entertainment|Funimation, Geneo...|        Madhouse|      Manga|24 min. per ep.|PG-13 - Teens 13 ...| 266.0|       201| 558913|    12944|   29113|   343492|  25465|  13925|       146918| 50229.0| 75651.0| 86142.0| 49432.0| 15376.0| 5838.0| 1965.0|  664.0|  316.0|  533.0|\n",
      "|  7|  Witch Hunter Robin| 7.27|Action, Mystery, ...|  Witch Hunter Robin|          Witch Hunter ROBI...|   TV|      26|Jul 2, 2002 to De...|Summer 2002|TV Tokyo, Bandai ...|Funimation, Banda...|         Sunrise|   Original|25 min. per ep.|PG-13 - Teens 13 ...|2481.0|      1467|  94683|      587|    4300|    46165|   5121|   5378|        33719|  2182.0|  4806.0| 10128.0| 11618.0|  5709.0| 2920.0| 1083.0|  353.0|  164.0|  131.0|\n",
      "|  8|      Bouken Ou Beet| 6.98|Adventure, Fantas...|Beet the Vandel B...|                  冒険王ビィト|   TV|      52|Sep 30, 2004 to S...|  Fall 2004|    TV Tokyo, Dentsu|             Unknown|  Toei Animation|      Manga|23 min. per ep.|       PG - Children|3710.0|      4369|  13224|       18|     642|     7314|    766|   1108|         3394|   312.0|   529.0|  1242.0|  1713.0|  1068.0|  634.0|  265.0|   83.0|   50.0|   27.0|\n",
      "| 15|        Eyeshield 21| 7.95|Action, Sports, C...|             Unknown|                アイシールド21|   TV|     145|Apr 6, 2005 to Ma...|Spring 2005|TV Tokyo, Nihon A...|VIZ Media, Sentai...|          Gallop|      Manga|23 min. per ep.|PG-13 - Teens 13 ...| 604.0|      1003| 148259|     2066|   13907|    78349|  14228|  11573|        30202|  9226.0| 14904.0| 22811.0| 16734.0|  6206.0| 2621.0|  795.0|  336.0|  140.0|  151.0|\n",
      "| 16|Hachimitsu to Clover| 8.06|Comedy, Drama, Jo...|    Honey and Clover|          ハチミツとクローバー|   TV|      24|Apr 15, 2005 to S...|Spring 2005|Genco, Fuji TV, S...|VIZ Media, Discot...|       J.C.Staff|      Manga|23 min. per ep.|PG-13 - Teens 13 ...| 468.0|       687| 214499|     4101|   11909|    81145|  11901|  11026|        98518| 11829.0| 16309.0| 20008.0| 13062.0|  5574.0| 3148.0| 1339.0|  484.0|  278.0|  321.0|\n",
      "| 17|Hungry Heart: Wil...| 7.59|Slice of Life, Co...|             Unknown|  ハングリーハート Wild Str...|   TV|      52|Sep 11, 2002 to S...|  Fall 2002|             Unknown|             Unknown|Nippon Animation|      Manga|23 min. per ep.|PG-13 - Teens 13 ...|1317.0|      3612|  20470|      231|     817|    13778|    828|   1168|         3879|  1123.0|  1777.0|  3102.0|  3075.0|  1286.0|  602.0|  218.0|   88.0|   31.0|   32.0|\n",
      "| 18|Initial D Fourth ...| 8.15|Action, Cars, Spo...|             Unknown|頭文字〈イニシャル〉D FOURT...|   TV|      24|Apr 17, 2004 to F...|Spring 2004|OB Planning, Stud...|          Funimation|        A.C.G.T.|      Manga|27 min. per ep.|PG-13 - Teens 13 ...| 360.0|      1233| 117929|      979|    6082|    90967|   3053|   1356|        16471| 10948.0| 15820.0| 22379.0| 12912.0|  3874.0| 1236.0|  369.0|   97.0|   48.0|  259.0|\n",
      "| 19|             Monster| 8.76|Drama, Horror, My...|             Monster|                    モンスター|   TV|      74|Apr 7, 2004 to Se...|Spring 2004|VAP, Shogakukan-S...|           VIZ Media|        Madhouse|      Manga|24 min. per ep.|    R+ - Mild Nudity|  30.0|       169| 614100|    29436|   64648|   214491|  47488|  23008|       264465| 77350.0| 60652.0| 43459.0| 22045.0|  8861.0| 4381.0| 2086.0|  882.0|  593.0| 1177.0|\n",
      "| 20|              Naruto| 7.91|Action, Adventure...|              Naruto|                        ナルト|   TV|     220|Oct 3, 2002 to Fe...|  Fall 2002|TV Tokyo, Aniplex...|           VIZ Media|  Studio Pierrot|      Manga|23 min. per ep.|PG-13 - Teens 13 ...| 660.0|         8|1830540|    65586|  137167|  1462223|  61734|  99806|        69610|216866.0|234481.0|345563.0|286175.0|108155.0|46886.0|15477.0| 6098.0| 3582.0| 5310.0|\n",
      "| 21|           One Piece| 8.52|Action, Adventure...|           One Piece|                     ONE PIECE|   TV| Unknown|   Oct 20, 1999 to ?|  Fall 1999|Fuji TV, TAP, Shu...|Funimation, 4Kids...|  Toei Animation|      Manga|        24 min.|PG-13 - Teens 13 ...|  95.0|        31|1352724|   126645|  887333|       33| 187919| 136245|       141194|292445.0|166186.0|141755.0| 85424.0| 35342.0|19019.0| 8201.0| 3675.0| 2616.0| 6340.0|\n",
      "| 22| Tennis no Ouji-sama|  7.9|Action, Comedy, S...|The Prince of Tennis|                テニスの王子様|   TV|     178|Oct 10, 2001 to M...|  Fall 2001|Production I.G, N...|           VIZ Media|      Trans Arts|      Manga|22 min. per ep.|PG-13 - Teens 13 ...| 675.0|      1039| 141832|     3124|   11235|    76881|  12905|  12516|        28295|  9576.0| 12719.0| 19791.0| 16284.0|  6624.0| 3086.0| 1071.0|  443.0|  210.0|  225.0|\n",
      "| 23|    Ring ni Kakero 1| 6.38|Action, Shounen, ...|             Unknown|              リングにかけろ１|   TV|      12|Oct 6, 2004 to De...|  Fall 2004|             Unknown|             Unknown|  Toei Animation|      Manga|25 min. per ep.|       PG - Children|6493.0|      7333|   3648|       16|     170|     1333|    145|    296|         1704|    69.0|    61.0|   152.0|   260.0|   236.0|  143.0|   88.0|   40.0|   32.0|   28.0|\n",
      "| 24|       School Rumble| 7.94|Comedy, Romance, ...|       School Rumble|              スクールランブル|   TV|      26|Oct 5, 2004 to Ma...|  Fall 2004|TV Tokyo, Sotsu, ...|          Funimation|    Studio Comet|      Manga|23 min. per ep.|PG-13 - Teens 13 ...| 625.0|       514| 275464|     5137|   12277|   157789|  12856|  13491|        79051| 17907.0| 27623.0| 38112.0| 27327.0| 11034.0| 5396.0| 1897.0|  780.0|  441.0|  405.0|\n",
      "| 25|           Sunabouzu| 7.42|Action, Adventure...|         Desert Punk|                      砂ぼうず|   TV|      24|Oct 6, 2004 to Ma...|  Fall 2004|GDH, Pony Canyon,...|          Funimation|           Gonzo|      Manga|24 min. per ep.|R - 17+ (violence...|1844.0|      1284| 111734|      790|    6273|    53819|   6255|   7951|        37436|  3589.0|  6664.0| 12349.0| 12702.0|  6033.0| 3079.0| 1521.0|  643.0|  350.0|  297.0|\n",
      "| 26|          Texhnolyze| 7.76|Action, Sci-Fi, P...|          Texhnolyze|                    TEXHNOLYZE|   TV|      22|Apr 17, 2003 to S...|Spring 2003|Group TAC, Rondo ...|Funimation, Geneo...|        Madhouse|   Original|23 min. per ep.|    R+ - Mild Nudity| 896.0|       823| 182599|     3671|   11335|    47532|   9815|   8112|       105805|  6856.0|  8309.0| 10851.0|  8636.0|  4429.0| 2462.0| 1456.0|  684.0|  411.0|  664.0|\n",
      "| 27|       Trinity Blood| 7.32|Action, Supernatu...|       Trinity Blood|          トリニティ・ブラッド|   TV|      24|Apr 29, 2005 to O...|Spring 2005|             Unknown|          Funimation|           Gonzo|Light novel|24 min. per ep.|R - 17+ (violence...|2240.0|       936| 158343|     1479|    7794|    87958|   8940|   9349|        44302|  6091.0|  9759.0| 17761.0| 20152.0| 10273.0| 5392.0| 2250.0|  873.0|  456.0|  298.0|\n",
      "| 28|    Yakitate!! Japan| 7.95|     Comedy, Shounen|    Yakitate!! Japan|           焼きたて!! ジャぱん|   TV|      69|Oct 12, 2004 to M...|  Fall 2004|TV Tokyo, Aniplex...|Nozomi Entertainment|         Sunrise|      Manga|24 min. per ep.|PG-13 - Teens 13 ...| 609.0|      1666|  80183|      887|    5007|    39992|   5764|   4633|        24787|  4347.0|  7425.0| 11074.0|  7965.0|  3038.0| 1248.0|  345.0|  118.0|   56.0|   58.0|\n",
      "| 29|              Zipang| 7.51|Action, Military,...|             Unknown|                      ジパング|   TV|      26|Oct 8, 2004 to Ap...|  Fall 2004|      Marvelous, TBS|Geneon Entertainm...|     Studio Deen|      Manga|24 min. per ep.|PG-13 - Teens 13 ...|1565.0|      3985|  16652|      152|     857|     6807|    721|    599|         7668|   430.0|   874.0|  1801.0|  1696.0|   662.0|  279.0|  114.0|   38.0|   13.0|   28.0|\n",
      "+---+--------------------+-----+--------------------+--------------------+------------------------------+-----+--------+--------------------+-----------+--------------------+--------------------+----------------+-----------+---------------+--------------------+------+----------+-------+---------+--------+---------+-------+-------+-------------+--------+--------+--------+--------+--------+-------+-------+-------+-------+-------+\n",
      "only showing top 20 rows\n",
      "\n"
     ]
    }
   ],
   "source": [
    "# Convertir la columna ID a int\n",
    "df_animes = df_animes.withColumn(\"ID\", df_animes[\"ID\"].cast(\"int\"))\n",
    "df_animes.printSchema()\n",
    "df_animes.orderBy(df_animes['ID'].asc()).show()"
   ]
  },
  {
   "cell_type": "markdown",
   "metadata": {},
   "source": [
    "# VALORACIONES"
   ]
  },
  {
   "cell_type": "markdown",
   "metadata": {},
   "source": [
    "## Lectura del csv rating_complete"
   ]
  },
  {
   "cell_type": "code",
   "execution_count": 81,
   "metadata": {},
   "outputs": [
    {
     "name": "stdout",
     "output_type": "stream",
     "text": [
      "root\n",
      " |-- user_id: integer (nullable = true)\n",
      " |-- anime_id: integer (nullable = true)\n",
      " |-- rating: integer (nullable = true)\n",
      "\n",
      "+-------+--------+------+\n",
      "|user_id|anime_id|rating|\n",
      "+-------+--------+------+\n",
      "|      0|     430|     9|\n",
      "|      0|    1004|     5|\n",
      "|      0|    3010|     7|\n",
      "|      0|     570|     7|\n",
      "|      0|    2762|     9|\n",
      "|      0|     431|     8|\n",
      "|      0|     578|    10|\n",
      "|      0|     433|     6|\n",
      "|      0|    1571|    10|\n",
      "|      0|     121|     9|\n",
      "|      0|     356|     9|\n",
      "|      0|    1250|     7|\n",
      "|      0|    2913|     6|\n",
      "|      0|    1689|     6|\n",
      "|      0|      68|     6|\n",
      "|      0|    1829|     7|\n",
      "|      0|     600|     6|\n",
      "|      0|    3418|     9|\n",
      "|      0|     164|     8|\n",
      "|      0|    1894|     7|\n",
      "+-------+--------+------+\n",
      "only showing top 20 rows\n",
      "\n"
     ]
    }
   ],
   "source": [
    "df_ratings = spark.read.csv(\"data/rating_complete.csv\", header=True, sep=\",\", encoding=\"UTF-8\", inferSchema=True)\n",
    "df_ratings = df_ratings.withColumn(\"user_id\", df_ratings[\"user_id\"].cast(\"int\"))\n",
    "df_ratings = df_ratings.withColumn(\"anime_id\", df_ratings[\"anime_id\"].cast(\"int\"))\n",
    "df_ratings = df_ratings.withColumn(\"rating\", df_ratings[\"rating\"].cast(\"int\"))\n",
    "ratingsRDD = df_ratings.rdd.map(lambda row: Row(userId=int(row['user_id']), animeId=int(row['anime_id']), rating=int(row['rating'])))\n",
    "df_ratings.printSchema()\n",
    "df_ratings.show()\n",
    "\n",
    "# Cuantos usuarios hay en las valoraciones\n",
    "# df_ratings.select('user_id').distinct().count()"
   ]
  },
  {
   "cell_type": "code",
   "execution_count": 52,
   "metadata": {},
   "outputs": [
    {
     "data": {
      "text/plain": [
       "57633278"
      ]
     },
     "execution_count": 52,
     "metadata": {},
     "output_type": "execute_result"
    }
   ],
   "source": [
    "# Numero de filas del csv de rating_complete\n",
    "df_ratings.count()"
   ]
  },
  {
   "cell_type": "markdown",
   "metadata": {},
   "source": [
    "## Lectura del csv valoraciones_EP"
   ]
  },
  {
   "cell_type": "code",
   "execution_count": 82,
   "metadata": {},
   "outputs": [
    {
     "name": "stdout",
     "output_type": "stream",
     "text": [
      "+------+-----+----+\n",
      "|   _c0|  _c1| _c2|\n",
      "+------+-----+----+\n",
      "|666666|10417| 8.0|\n",
      "|666666| 1358| 7.0|\n",
      "|666666|13601|10.0|\n",
      "|666666| 2001| 9.0|\n",
      "|666666|21877| 8.0|\n",
      "|666666|28851| 7.0|\n",
      "|666666|28999| 9.0|\n",
      "|666666|30276| 9.0|\n",
      "|666666|31240| 9.0|\n",
      "|666666|32281| 9.0|\n",
      "|666666|34134| 7.0|\n",
      "|666666|35790| 9.0|\n",
      "|666666|37349| 8.0|\n",
      "|666666|37403| 5.0|\n",
      "|666666|37435| 6.0|\n",
      "|666666|37450| 9.0|\n",
      "|666666|37520| 9.0|\n",
      "|666666|37779| 8.0|\n",
      "|666666|37779| 9.0|\n",
      "|666666|37982| 8.0|\n",
      "+------+-----+----+\n",
      "only showing top 20 rows\n",
      "\n",
      "+-------+--------+------+\n",
      "|user_id|anime_id|rating|\n",
      "+-------+--------+------+\n",
      "| 666666|   10417|   8.0|\n",
      "| 666666|    1358|   7.0|\n",
      "| 666666|   13601|  10.0|\n",
      "| 666666|    2001|   9.0|\n",
      "| 666666|   21877|   8.0|\n",
      "| 666666|   28851|   7.0|\n",
      "| 666666|   28999|   9.0|\n",
      "| 666666|   30276|   9.0|\n",
      "| 666666|   31240|   9.0|\n",
      "| 666666|   32281|   9.0|\n",
      "| 666666|   34134|   7.0|\n",
      "| 666666|   35790|   9.0|\n",
      "| 666666|   37349|   8.0|\n",
      "| 666666|   37403|   5.0|\n",
      "| 666666|   37435|   6.0|\n",
      "| 666666|   37450|   9.0|\n",
      "| 666666|   37520|   9.0|\n",
      "| 666666|   37779|   8.0|\n",
      "| 666666|   37779|   9.0|\n",
      "| 666666|   37982|   8.0|\n",
      "+-------+--------+------+\n",
      "only showing top 20 rows\n",
      "\n"
     ]
    }
   ],
   "source": [
    "# No tiene cabecera\n",
    "df_ratings_ep = spark.read.csv(\"data/valoraciones_EP.csv\", header=False, sep=\",\", encoding=\"UTF-8\", inferSchema=True)\n",
    "df_ratings_ep.show()\n",
    "# Renombrando las columnas\n",
    "df_ratings_ep = df_ratings_ep.withColumnRenamed(\"_c0\", \"user_id\")\n",
    "df_ratings_ep = df_ratings_ep.withColumnRenamed(\"_c1\", \"anime_id\")\n",
    "df_ratings_ep = df_ratings_ep.withColumnRenamed(\"_c2\", \"rating\")\n",
    "df_ratings_ep.show()"
   ]
  },
  {
   "cell_type": "code",
   "execution_count": 54,
   "metadata": {},
   "outputs": [
    {
     "name": "stdout",
     "output_type": "stream",
     "text": [
      "root\n",
      " |-- user_id: integer (nullable = true)\n",
      " |-- anime_id: integer (nullable = true)\n",
      " |-- rating: integer (nullable = true)\n",
      "\n",
      "+-------+--------+------+\n",
      "|user_id|anime_id|rating|\n",
      "+-------+--------+------+\n",
      "| 666666|      47|     9|\n",
      "| 666666|      72|     9|\n",
      "| 666666|     523|     9|\n",
      "| 666666|     543|     8|\n",
      "| 666666|    1358|     7|\n",
      "| 666666|    2001|     9|\n",
      "| 666666|   10417|     8|\n",
      "| 666666|   13601|    10|\n",
      "| 666666|   21877|     8|\n",
      "| 666666|   28851|     7|\n",
      "| 666666|   28999|     9|\n",
      "| 666666|   30276|     9|\n",
      "| 666666|   31240|     9|\n",
      "| 666666|   32281|     9|\n",
      "| 666666|   34134|     7|\n",
      "| 666666|   35790|     9|\n",
      "| 666666|   37349|     8|\n",
      "| 666666|   37403|     5|\n",
      "| 666666|   37435|     6|\n",
      "| 666666|   37450|     9|\n",
      "+-------+--------+------+\n",
      "only showing top 20 rows\n",
      "\n"
     ]
    }
   ],
   "source": [
    "# Convertir las columnas a int\n",
    "df_ratings_ep = df_ratings_ep.withColumn(\"user_id\", df_ratings_ep[\"user_id\"].cast(\"int\"))\n",
    "df_ratings_ep = df_ratings_ep.withColumn(\"anime_id\", df_ratings_ep[\"anime_id\"].cast(\"int\"))\n",
    "df_ratings_ep = df_ratings_ep.withColumn(\"rating\", df_ratings_ep[\"rating\"].cast(\"int\"))\n",
    "df_ratings_ep.printSchema()\n",
    "# Ordenar por anime_id\n",
    "df_ratings_ep.orderBy(df_ratings_ep['anime_id'].asc()).show()"
   ]
  },
  {
   "cell_type": "code",
   "execution_count": 83,
   "metadata": {},
   "outputs": [
    {
     "name": "stdout",
     "output_type": "stream",
     "text": [
      "+-------+--------+------+\n",
      "|user_id|anime_id|rating|\n",
      "+-------+--------+------+\n",
      "|      0|     430|   9.0|\n",
      "|      0|    1004|   5.0|\n",
      "|      0|    3010|   7.0|\n",
      "|      0|     570|   7.0|\n",
      "|      0|    2762|   9.0|\n",
      "|      0|     431|   8.0|\n",
      "|      0|     578|  10.0|\n",
      "|      0|     433|   6.0|\n",
      "|      0|    1571|  10.0|\n",
      "|      0|     121|   9.0|\n",
      "|      0|     356|   9.0|\n",
      "|      0|    1250|   7.0|\n",
      "|      0|    2913|   6.0|\n",
      "|      0|    1689|   6.0|\n",
      "|      0|      68|   6.0|\n",
      "|      0|    1829|   7.0|\n",
      "|      0|     600|   6.0|\n",
      "|      0|    3418|   9.0|\n",
      "|      0|     164|   8.0|\n",
      "|      0|    1894|   7.0|\n",
      "+-------+--------+------+\n",
      "only showing top 20 rows\n",
      "\n"
     ]
    },
    {
     "data": {
      "text/plain": [
       "310060"
      ]
     },
     "execution_count": 83,
     "metadata": {},
     "output_type": "execute_result"
    }
   ],
   "source": [
    "# Union de los dos dataframes\n",
    "df_ratings_completo = df_ratings.union(df_ratings_ep)\n",
    "df_ratings_completo.show()\n",
    "\n",
    "# Numero de usuarios en el csv completo\n",
    "df_ratings_completo.select('user_id').distinct().count()"
   ]
  },
  {
   "cell_type": "code",
   "execution_count": null,
   "metadata": {},
   "outputs": [],
   "source": []
  },
  {
   "cell_type": "code",
   "execution_count": null,
   "metadata": {},
   "outputs": [],
   "source": []
  },
  {
   "cell_type": "code",
   "execution_count": null,
   "metadata": {},
   "outputs": [],
   "source": []
  },
  {
   "cell_type": "code",
   "execution_count": 3,
   "metadata": {},
   "outputs": [],
   "source": [
    "df_animes = spark.read.csv(\"data/anime.csv\", header=True, sep=\",\", encoding=\"UTF-8\", inferSchema=True)"
   ]
  },
  {
   "cell_type": "code",
   "execution_count": 4,
   "metadata": {},
   "outputs": [
    {
     "name": "stdout",
     "output_type": "stream",
     "text": [
      "root\n",
      " |-- ID: integer (nullable = true)\n",
      " |-- Name: string (nullable = true)\n",
      " |-- Score: string (nullable = true)\n",
      " |-- Genres: string (nullable = true)\n",
      " |-- English name: string (nullable = true)\n",
      " |-- Japanese name: string (nullable = true)\n",
      " |-- Type: string (nullable = true)\n",
      " |-- Episodes: string (nullable = true)\n",
      " |-- Aired: string (nullable = true)\n",
      " |-- Premiered: string (nullable = true)\n",
      " |-- Producers: string (nullable = true)\n",
      " |-- Licensors: string (nullable = true)\n",
      " |-- Studios: string (nullable = true)\n",
      " |-- Source: string (nullable = true)\n",
      " |-- Duration: string (nullable = true)\n",
      " |-- Rating: string (nullable = true)\n",
      " |-- Ranked: string (nullable = true)\n",
      " |-- Popularity: string (nullable = true)\n",
      " |-- Members: double (nullable = true)\n",
      " |-- Favorites: integer (nullable = true)\n",
      " |-- Watching: integer (nullable = true)\n",
      " |-- Completed: integer (nullable = true)\n",
      " |-- On-Hold: integer (nullable = true)\n",
      " |-- Dropped: integer (nullable = true)\n",
      " |-- Plan to Watch: integer (nullable = true)\n",
      " |-- Score-10: string (nullable = true)\n",
      " |-- Score-9: string (nullable = true)\n",
      " |-- Score-8: string (nullable = true)\n",
      " |-- Score-7: string (nullable = true)\n",
      " |-- Score-6: string (nullable = true)\n",
      " |-- Score-5: string (nullable = true)\n",
      " |-- Score-4: string (nullable = true)\n",
      " |-- Score-3: string (nullable = true)\n",
      " |-- Score-2: string (nullable = true)\n",
      " |-- Score-1: string (nullable = true)\n",
      "\n"
     ]
    }
   ],
   "source": [
    "df_animes.printSchema()"
   ]
  },
  {
   "cell_type": "code",
   "execution_count": 5,
   "metadata": {},
   "outputs": [
    {
     "data": {
      "text/plain": [
       "17562"
      ]
     },
     "execution_count": 5,
     "metadata": {},
     "output_type": "execute_result"
    }
   ],
   "source": [
    "df_animes.count()"
   ]
  },
  {
   "cell_type": "code",
   "execution_count": 6,
   "metadata": {},
   "outputs": [],
   "source": [
    "df_ratings = spark.read.csv(\"data/rating_complete.csv\", header=True, sep=\",\", encoding=\"UTF-8\", inferSchema=True)\n",
    "\n",
    "df_ratings_ep = spark.read.csv(\"data/valoraciones_EP.csv\", header=False, sep=\",\", encoding=\"UTF-8\", inferSchema=True)\n",
    "df_ratings_ep = df_ratings_ep.withColumnRenamed(\"_c0\", \"user_id\")\n",
    "df_ratings_ep = df_ratings_ep.withColumnRenamed(\"_c1\", \"anime_id\")\n",
    "df_ratings_ep = df_ratings_ep.withColumnRenamed(\"_c2\", \"rating\")"
   ]
  },
  {
   "cell_type": "code",
   "execution_count": 7,
   "metadata": {},
   "outputs": [],
   "source": [
    "df_ratings_completo = df_ratings.union(df_ratings_ep)"
   ]
  },
  {
   "cell_type": "code",
   "execution_count": 103,
   "metadata": {},
   "outputs": [
    {
     "name": "stdout",
     "output_type": "stream",
     "text": [
      "+-------+--------+------+\n",
      "|user_id|anime_id|rating|\n",
      "+-------+--------+------+\n",
      "|      0|     430|   9.0|\n",
      "|      0|    1004|   5.0|\n",
      "|      0|    3010|   7.0|\n",
      "|      0|     570|   7.0|\n",
      "|      0|    2762|   9.0|\n",
      "|      0|     431|   8.0|\n",
      "|      0|     578|  10.0|\n",
      "|      0|     433|   6.0|\n",
      "|      0|    1571|  10.0|\n",
      "|      0|     121|   9.0|\n",
      "|      0|     356|   9.0|\n",
      "|      0|    1250|   7.0|\n",
      "|      0|    2913|   6.0|\n",
      "|      0|    1689|   6.0|\n",
      "|      0|      68|   6.0|\n",
      "|      0|    1829|   7.0|\n",
      "|      0|     600|   6.0|\n",
      "|      0|    3418|   9.0|\n",
      "|      0|     164|   8.0|\n",
      "|      0|    1894|   7.0|\n",
      "+-------+--------+------+\n",
      "only showing top 20 rows\n",
      "\n"
     ]
    }
   ],
   "source": [
    "df_ratings_completo.show()"
   ]
  },
  {
   "cell_type": "markdown",
   "metadata": {},
   "source": [
    "# Join con el csv de peliculas para saber qué película qué valoración"
   ]
  },
  {
   "cell_type": "code",
   "execution_count": 6,
   "metadata": {},
   "outputs": [],
   "source": [
    "# Pregunta por el id de un usuario\n",
    "id_usuario = input(\"Introduzca el id del usuario, del que quiere conocer sus valoraciones: \")\n",
    "\n",
    "# Busca a ese usuario en el dataframe de valoraciones completo\n",
    "df_ratings_usuario = df_ratings_completo.filter(df_ratings_completo['user_id'] == id_usuario)\n"
   ]
  },
  {
   "cell_type": "code",
   "execution_count": 219,
   "metadata": {},
   "outputs": [
    {
     "name": "stdout",
     "output_type": "stream",
     "text": [
      "+-------+--------+------+\n",
      "|user_id|anime_id|rating|\n",
      "+-------+--------+------+\n",
      "|      0|     430|   9.0|\n",
      "|      0|    1004|   5.0|\n",
      "|      0|    3010|   7.0|\n",
      "|      0|     570|   7.0|\n",
      "|      0|    2762|   9.0|\n",
      "|      0|     431|   8.0|\n",
      "|      0|     578|  10.0|\n",
      "|      0|     433|   6.0|\n",
      "|      0|    1571|  10.0|\n",
      "|      0|     121|   9.0|\n",
      "|      0|     356|   9.0|\n",
      "|      0|    1250|   7.0|\n",
      "|      0|    2913|   6.0|\n",
      "|      0|    1689|   6.0|\n",
      "|      0|      68|   6.0|\n",
      "|      0|    1829|   7.0|\n",
      "|      0|     600|   6.0|\n",
      "|      0|    3418|   9.0|\n",
      "|      0|     164|   8.0|\n",
      "|      0|    1894|   7.0|\n",
      "+-------+--------+------+\n",
      "only showing top 20 rows\n",
      "\n"
     ]
    }
   ],
   "source": [
    "df_ratings_usuario.show()"
   ]
  },
  {
   "cell_type": "code",
   "execution_count": 7,
   "metadata": {},
   "outputs": [
    {
     "name": "stdout",
     "output_type": "stream",
     "text": [
      "+-------+--------+------+----+--------------------+-----+--------------------+--------------------+--------------------------------------+-----+--------+--------------------+-----------+--------------------+--------------------+--------------------+------------+---------------+--------------------+-------+----------+---------+---------+--------+---------+-------+-------+-------------+--------+--------+--------+--------+-------+-------+-------+-------+-------+-------+\n",
      "|user_id|anime_id|rating|  ID|                Name|Score|              Genres|        English name|                         Japanese name| Type|Episodes|               Aired|  Premiered|           Producers|           Licensors|             Studios|      Source|       Duration|              Rating| Ranked|Popularity|  Members|Favorites|Watching|Completed|On-Hold|Dropped|Plan to Watch|Score-10| Score-9| Score-8| Score-7|Score-6|Score-5|Score-4|Score-3|Score-2|Score-1|\n",
      "+-------+--------+------+----+--------------------+-----+--------------------+--------------------+--------------------------------------+-----+--------+--------------------+-----------+--------------------+--------------------+--------------------+------------+---------------+--------------------+-------+----------+---------+---------+--------+---------+-------+-------+-------------+--------+--------+--------+--------+-------+-------+-------+-------+-------+-------+\n",
      "|      0|     430|   9.0| 430|Fullmetal Alchemi...| 7.57|Military, Comedy,...|Fullmetal Alchemi...|劇場版 鋼の錬金術師 シャンバラを征く者|Movie|       1|        Jul 23, 2005|    Unknown|Aniplex, Square E...|          Funimation|               Bones|       Manga|  1 hr. 45 min.|PG-13 - Teens 13 ...| 1361.0|       506| 279946.0|      704|    2361|   245283|   1253|    776|        30273| 19794.0| 31112.0| 47730.0| 44941.0|20077.0| 8777.0| 4298.0| 1555.0|  812.0|  490.0|\n",
      "|      0|    1004|   5.0|1004|Kanojo to Kanojo ...| 7.33|Drama, Psychologi...|She and Her Cat:T...|                        彼女と彼女の猫|  OVA|       1|        Apr 19, 2002|    Unknown|             Unknown|ADV Films, Discot...|             Unknown|    Original|         4 min.|        G - All Ages| 2226.0|      1624|  82209.0|      287|    1162|    62258|    423|    188|        18178|  4811.0|  6014.0| 10739.0| 12709.0| 7064.0| 3611.0|  976.0|  407.0|  191.0|  171.0|\n",
      "|      0|    3010|   7.0|3010|      Kaiketsu Zorro| 7.23|Adventure, Histor...|The Magnificent Z...|                              快傑ゾロ|   TV|      52|Apr 5, 1996 to Ap...|Spring 1996|                Toho|             Unknown|     Ashi Production|       Other|24 min. per ep.|PG-13 - Teens 13 ...| 2655.0|      5104|   9044.0|       55|     300|     6238|    325|    451|         1730|   469.0|   499.0|   947.0|  1389.0|  822.0|  403.0|   89.0|   43.0|   26.0|   14.0|\n",
      "|      0|     570|   7.0| 570|             Jin-Rou| 7.79|Military, Police,...|Jin-Roh:The Wolf ...|                          人狼 JIN-ROH|Movie|       1|         Jun 3, 2000|    Unknown|             Unknown|Bandai Entertainm...|      Production I.G|       Manga|  1 hr. 42 min.|R - 17+ (violence...|  846.0|      1181| 124856.0|     1359|    3005|    72439|   1078|    612|        47722|  6381.0| 11407.0| 18187.0| 13046.0| 5051.0| 2131.0|  826.0|  288.0|  131.0|  113.0|\n",
      "|      0|    2762|   9.0|2762|      Igano Kabamaru| 7.87|Action, Adventure...|             Unknown|                          伊賀野カバ丸|   TV|      24|Oct 20, 1983 to M...|  Fall 1983|                Toho|             Unknown|           Group TAC|       Manga|23 min. per ep.|PG-13 - Teens 13 ...|  715.0|      5153|   8759.0|      121|     360|     4192|    317|    374|         3516|   768.0|   589.0|   839.0|   654.0|  340.0|  157.0|   52.0|   42.0|   23.0|   35.0|\n",
      "|      0|     431|   8.0| 431| Howl no Ugoku Shiro| 8.67|Adventure, Drama,...|Howl's Moving Castle|                        ハウルの動く城|Movie|       1|        Nov 20, 2004|    Unknown|d-rights, Tokuma ...| Walt Disney Studios|       Studio Ghibli|       Novel|  1 hr. 59 min.|        G - All Ages|   51.0|        98| 847414.0|    17845|    8733|   754791|   2283|    947|        80660|186983.0|167309.0|137336.0| 62317.0|18427.0| 6427.0| 2246.0|  737.0|  351.0|  668.0|\n",
      "|      0|     578|  10.0| 578|      Hotaru no Haka| 8.51|   Drama, Historical|Grave of the Fire...|                            火垂るの墓|Movie|       1|        Apr 16, 1988|    Unknown|             Unknown|ADV Films, Centra...|       Studio Ghibli|       Novel|  1 hr. 28 min.|PG-13 - Teens 13 ...|   99.0|       293| 438214.0|     5407|    5927|   328347|   2713|   1249|        99978| 79553.0| 69811.0| 61996.0| 30066.0|11694.0| 4975.0| 2350.0|  953.0|  539.0|  845.0|\n",
      "|      0|     433|   6.0| 433|Kumo no Mukou, Ya...| 7.56|Drama, Military, ...|The Place Promise...|                雲のむこう、約束の場所|Movie|       1|        Nov 20, 2004|    Unknown|             Unknown|           ADV Films|    CoMix Wave Films|    Original|  1 hr. 30 min.|PG-13 - Teens 13 ...| 1393.0|       846| 177428.0|      726|    4337|    98242|   2083|   1145|        71621|  8563.0| 13665.0| 20929.0| 18793.0| 9152.0| 4316.0| 1916.0|  779.0|  322.0|  229.0|\n",
      "|      0|    1571|  10.0|1571|          Ghost Hunt| 7.81|Mystery, Comedy, ...|          Ghost Hunt|                        ゴーストハント|   TV|      25|Oct 4, 2006 to Ma...|  Fall 2006|TV Tokyo, Avex En...|          Funimation|           J.C.Staff| Light novel|25 min. per ep.|PG-13 - Teens 13 ...|  811.0|       766| 194354.0|     3014|    8115|   107324|   7112|   6964|        64839| 11328.0| 16683.0| 24977.0| 20383.0| 8600.0| 4079.0| 1375.0|  509.0|  203.0|  235.0|\n",
      "|      0|     121|   9.0| 121| Fullmetal Alchemist| 8.17|Action, Adventure...| Fullmetal Alchemist|                          鋼の錬金術師|   TV|      51|Oct 4, 2003 to Oc...|  Fall 2003|Aniplex, Dentsu, ...|Funimation, Anipl...|               Bones|       Manga|24 min. per ep.|PG-13 - Teens 13 ...|  337.0|        52|1151621.0|    26564|   52738|   880215|  41631|  38693|       138344|124399.0|176993.0|211302.0|133850.0|44438.0|16255.0| 5872.0| 1769.0|  970.0| 1150.0|\n",
      "|      0|     356|   9.0| 356|     Fate/stay night| 7.34|Action, Supernatu...|     Fate/stay night|                       Fate/stay night|   TV|      24|Jan 7, 2006 to Ju...|Winter 2006|Geneon Universal ...|Sentai Filmworks,...|         Studio Deen|Visual novel|24 min. per ep.|R - 17+ (violence...| 2152.0|       119| 730980.0|     7011|   29998|   510563|  19938|  23686|       146795| 35378.0| 57284.0|101538.0|107818.0|55337.0|26103.0|13081.0| 5032.0| 2350.0| 1693.0|\n",
      "|      0|    1250|   7.0|1250|     Erementar Gerad|  7.3|Adventure, Comedy...|    Elemental Gelade|                エレメンタルジェレイド|   TV|      26|Apr 5, 2005 to Se...|Spring 2005|TV Tokyo, Geneon ...|Funimation, Disco...|               Xebec|       Manga|24 min. per ep.|PG-13 - Teens 13 ...| 2325.0|      1587|  85305.0|      497|    3647|    51887|   4082|   4442|        21247|  3279.0|  4969.0|  9868.0| 11831.0| 6331.0| 3267.0| 1125.0|  386.0|  158.0|  103.0|\n",
      "|      0|    2913|   6.0|2913|Daisougen no Chii...| 7.01|    Adventure, Drama|Bush Baby, Little...|  大草原の小さな天使　ブッシュベイビー|   TV|      40|Jan 12, 1992 to D...|Winter 1992|             Fuji TV|             Unknown|    Nippon Animation|       Novel|24 min. per ep.|        G - All Ages| 3609.0|      8811|   2020.0|        3|      74|      727|     74|    114|         1031|    57.0|    54.0|    91.0|   153.0|   93.0|   40.0|   17.0|    4.0|    5.0|    6.0|\n",
      "|      0|    1689|   6.0|1689|Byousoku 5 Centim...| 7.73|Drama, Romance, S...|5 Centimeters Per...|                  秒速５センチメートル|Movie|       3|         Mar 3, 2007|    Unknown|             Unknown|ADV Films, Bandai...|    CoMix Wave Films|    Original|22 min. per ep.|PG-13 - Teens 13 ...|  949.0|       136| 695375.0|     9719|   12529|   524145|   6261|   4580|       147860| 65007.0| 80388.0|107226.0| 86657.0|43552.0|21319.0|10108.0| 3821.0| 2081.0| 1835.0|\n",
      "|      0|      68|   6.0|  68|      Black Cat (TV)| 7.38|Sci-Fi, Adventure...|           Black Cat|                      ブラックキャット|   TV|      23|Oct 7, 2005 to Ma...|  Fall 2005|GDH, Dentsu, TBS,...|          Funimation|               Gonzo|       Manga|24 min. per ep.|PG-13 - Teens 13 ...| 1965.0|       622| 231668.0|     1955|   10510|   142921|  11736|  11003|        55498|  8654.0| 15253.0| 29392.0| 34019.0|16081.0| 7534.0| 2521.0|  863.0|  395.0|  234.0|\n",
      "|      0|    1829|   7.0|1829|           Ged Senki| 6.95|Adventure, Magic,...| Tales from Earthsea|                              ゲド戦記|Movie|       1|        Jul 29, 2006|    Unknown|                Toho| Walt Disney Studios|       Studio Ghibli|       Novel|  1 hr. 55 min.|PG-13 - Teens 13 ...| 3815.0|      1317| 107556.0|      189|    1082|    83702|    778|    504|        21490|  4527.0|  6868.0| 12931.0| 17433.0|11237.0| 6011.0| 3469.0| 1265.0|  605.0|  336.0|\n",
      "|      0|     600|   6.0| 600|       Legend of Duo| 4.93|Supernatural, Dra...|             Unknown|                         LEGEND OF DUO|   TV|      12|Apr 21, 2005 to J...|Spring 2005|             Unknown|             Unknown|Radix, Marine Ent...|    Original| 5 min. per ep.|R - 17+ (violence...|10650.0|      4855|  10199.0|       11|     306|     5464|    242|    703|         3484|   132.0|   142.0|   296.0|   557.0|  663.0|  732.0|  511.0|  410.0|  414.0|  493.0|\n",
      "|      0|    3418|   9.0|3418|Jungle no Ouja Ta...| 7.01|Action, Comedy, P...|             Unknown|            ジャングルの王者ターちゃん|   TV|      50|Oct 14, 1993 to S...|  Fall 1993|            TV Tokyo|             Unknown|           Group TAC|       Manga|24 min. per ep.|    R+ - Mild Nudity| 3616.0|      9094|   1805.0|       14|     130|      486|     96|    123|          970|    55.0|    58.0|    77.0|    92.0|   62.0|   21.0|   19.0|   10.0|   10.0|    6.0|\n",
      "|      0|     164|   8.0| 164|       Mononoke Hime| 8.72|Action, Adventure...|   Princess Mononoke|                            もののけ姫|Movie|       1|        Jul 12, 1997|    Unknown|Tokuma Shoten, Ni...|               GKIDS|       Studio Ghibli|    Original|  2 hr. 15 min.|PG-13 - Teens 13 ...|   40.0|        91| 876813.0|    17114|   11422|   735624|   3384|   1386|       124997|184173.0|167754.0|131050.0| 57874.0|17052.0| 5570.0| 1660.0|  545.0|  283.0|  702.0|\n",
      "|      0|    1894|   7.0|1894|Yu☆Gi☆Oh!: Hikari...| 6.59|Adventure, Comedy...| Yu-Gi-Oh!:The Movie|   遊☆戯☆王　デュエルモンスターズ　...|Movie|       1|        Aug 13, 2004|    Unknown|    Nihon Ad Systems|4Kids Entertainme...|              Gallop|       Manga|  1 hr. 41 min.|PG-13 - Teens 13 ...| 5423.0|      1973|  61314.0|       67|     389|    56962|    193|    208|         3562|  2473.0|  2953.0|  6056.0| 10910.0| 8736.0| 5227.0| 2337.0| 1059.0|  578.0|  286.0|\n",
      "+-------+--------+------+----+--------------------+-----+--------------------+--------------------+--------------------------------------+-----+--------+--------------------+-----------+--------------------+--------------------+--------------------+------------+---------------+--------------------+-------+----------+---------+---------+--------+---------+-------+-------+-------------+--------+--------+--------+--------+-------+-------+-------+-------+-------+-------+\n",
      "only showing top 20 rows\n",
      "\n"
     ]
    },
    {
     "data": {
      "text/plain": [
       "35"
      ]
     },
     "execution_count": 7,
     "metadata": {},
     "output_type": "execute_result"
    }
   ],
   "source": [
    "df_vistas = df_ratings_usuario.join(df_animes, df_ratings_usuario[\"anime_id\"] == df_animes[\"ID\"], \"inner\")\n",
    "df_vistas.show()\n",
    "df_vistas.count()"
   ]
  },
  {
   "cell_type": "code",
   "execution_count": null,
   "metadata": {},
   "outputs": [],
   "source": []
  },
  {
   "cell_type": "code",
   "execution_count": null,
   "metadata": {},
   "outputs": [],
   "source": [
    "df_noVistas = df_animes.join(df_vistas, df_animes[\"ID\"] == df_vistas[\"anime_id\"], \"left_anti\")\n",
    "df_noVistas.show()\n",
    "df_noVistas.count()"
   ]
  },
  {
   "cell_type": "code",
   "execution_count": null,
   "metadata": {},
   "outputs": [],
   "source": []
  },
  {
   "cell_type": "code",
   "execution_count": null,
   "metadata": {},
   "outputs": [],
   "source": []
  },
  {
   "cell_type": "code",
   "execution_count": null,
   "metadata": {},
   "outputs": [],
   "source": []
  },
  {
   "cell_type": "code",
   "execution_count": null,
   "metadata": {},
   "outputs": [],
   "source": []
  },
  {
   "cell_type": "code",
   "execution_count": null,
   "metadata": {},
   "outputs": [],
   "source": [
    "df_ratings_completo.filter(df_ratings_completo['anime_id'] == df_animes['ID'])"
   ]
  },
  {
   "cell_type": "code",
   "execution_count": 135,
   "metadata": {},
   "outputs": [
    {
     "data": {
      "text/plain": [
       "614635"
      ]
     },
     "execution_count": 135,
     "metadata": {},
     "output_type": "execute_result"
    }
   ],
   "source": [
    "df_novistas.count()"
   ]
  },
  {
   "cell_type": "code",
   "execution_count": 129,
   "metadata": {},
   "outputs": [
    {
     "name": "stdout",
     "output_type": "stream",
     "text": [
      "+-------+--------+------+----+--------------------+-----+--------------------+--------------------+--------------------------------------+-----+--------+--------------------+-----------+--------------------+--------------------+--------------------+------------+---------------+--------------------+-------+----------+---------+---------+--------+---------+-------+-------+-------------+--------+--------+--------+--------+-------+-------+-------+-------+-------+-------+\n",
      "|user_id|anime_id|rating|  ID|                Name|Score|              Genres|        English name|                         Japanese name| Type|Episodes|               Aired|  Premiered|           Producers|           Licensors|             Studios|      Source|       Duration|              Rating| Ranked|Popularity|  Members|Favorites|Watching|Completed|On-Hold|Dropped|Plan to Watch|Score-10| Score-9| Score-8| Score-7|Score-6|Score-5|Score-4|Score-3|Score-2|Score-1|\n",
      "+-------+--------+------+----+--------------------+-----+--------------------+--------------------+--------------------------------------+-----+--------+--------------------+-----------+--------------------+--------------------+--------------------+------------+---------------+--------------------+-------+----------+---------+---------+--------+---------+-------+-------+-------------+--------+--------+--------+--------+-------+-------+-------+-------+-------+-------+\n",
      "|      0|     430|   9.0| 430|Fullmetal Alchemi...| 7.57|Military, Comedy,...|Fullmetal Alchemi...|劇場版 鋼の錬金術師 シャンバラを征く者|Movie|       1|        Jul 23, 2005|    Unknown|Aniplex, Square E...|          Funimation|               Bones|       Manga|  1 hr. 45 min.|PG-13 - Teens 13 ...| 1361.0|       506| 279946.0|      704|    2361|   245283|   1253|    776|        30273| 19794.0| 31112.0| 47730.0| 44941.0|20077.0| 8777.0| 4298.0| 1555.0|  812.0|  490.0|\n",
      "|      0|    1004|   5.0|1004|Kanojo to Kanojo ...| 7.33|Drama, Psychologi...|She and Her Cat:T...|                        彼女と彼女の猫|  OVA|       1|        Apr 19, 2002|    Unknown|             Unknown|ADV Films, Discot...|             Unknown|    Original|         4 min.|        G - All Ages| 2226.0|      1624|  82209.0|      287|    1162|    62258|    423|    188|        18178|  4811.0|  6014.0| 10739.0| 12709.0| 7064.0| 3611.0|  976.0|  407.0|  191.0|  171.0|\n",
      "|      0|    3010|   7.0|3010|      Kaiketsu Zorro| 7.23|Adventure, Histor...|The Magnificent Z...|                              快傑ゾロ|   TV|      52|Apr 5, 1996 to Ap...|Spring 1996|                Toho|             Unknown|     Ashi Production|       Other|24 min. per ep.|PG-13 - Teens 13 ...| 2655.0|      5104|   9044.0|       55|     300|     6238|    325|    451|         1730|   469.0|   499.0|   947.0|  1389.0|  822.0|  403.0|   89.0|   43.0|   26.0|   14.0|\n",
      "|      0|     570|   7.0| 570|             Jin-Rou| 7.79|Military, Police,...|Jin-Roh:The Wolf ...|                          人狼 JIN-ROH|Movie|       1|         Jun 3, 2000|    Unknown|             Unknown|Bandai Entertainm...|      Production I.G|       Manga|  1 hr. 42 min.|R - 17+ (violence...|  846.0|      1181| 124856.0|     1359|    3005|    72439|   1078|    612|        47722|  6381.0| 11407.0| 18187.0| 13046.0| 5051.0| 2131.0|  826.0|  288.0|  131.0|  113.0|\n",
      "|      0|    2762|   9.0|2762|      Igano Kabamaru| 7.87|Action, Adventure...|             Unknown|                          伊賀野カバ丸|   TV|      24|Oct 20, 1983 to M...|  Fall 1983|                Toho|             Unknown|           Group TAC|       Manga|23 min. per ep.|PG-13 - Teens 13 ...|  715.0|      5153|   8759.0|      121|     360|     4192|    317|    374|         3516|   768.0|   589.0|   839.0|   654.0|  340.0|  157.0|   52.0|   42.0|   23.0|   35.0|\n",
      "|      0|     431|   8.0| 431| Howl no Ugoku Shiro| 8.67|Adventure, Drama,...|Howl's Moving Castle|                        ハウルの動く城|Movie|       1|        Nov 20, 2004|    Unknown|d-rights, Tokuma ...| Walt Disney Studios|       Studio Ghibli|       Novel|  1 hr. 59 min.|        G - All Ages|   51.0|        98| 847414.0|    17845|    8733|   754791|   2283|    947|        80660|186983.0|167309.0|137336.0| 62317.0|18427.0| 6427.0| 2246.0|  737.0|  351.0|  668.0|\n",
      "|      0|     578|  10.0| 578|      Hotaru no Haka| 8.51|   Drama, Historical|Grave of the Fire...|                            火垂るの墓|Movie|       1|        Apr 16, 1988|    Unknown|             Unknown|ADV Films, Centra...|       Studio Ghibli|       Novel|  1 hr. 28 min.|PG-13 - Teens 13 ...|   99.0|       293| 438214.0|     5407|    5927|   328347|   2713|   1249|        99978| 79553.0| 69811.0| 61996.0| 30066.0|11694.0| 4975.0| 2350.0|  953.0|  539.0|  845.0|\n",
      "|      0|     433|   6.0| 433|Kumo no Mukou, Ya...| 7.56|Drama, Military, ...|The Place Promise...|                雲のむこう、約束の場所|Movie|       1|        Nov 20, 2004|    Unknown|             Unknown|           ADV Films|    CoMix Wave Films|    Original|  1 hr. 30 min.|PG-13 - Teens 13 ...| 1393.0|       846| 177428.0|      726|    4337|    98242|   2083|   1145|        71621|  8563.0| 13665.0| 20929.0| 18793.0| 9152.0| 4316.0| 1916.0|  779.0|  322.0|  229.0|\n",
      "|      0|    1571|  10.0|1571|          Ghost Hunt| 7.81|Mystery, Comedy, ...|          Ghost Hunt|                        ゴーストハント|   TV|      25|Oct 4, 2006 to Ma...|  Fall 2006|TV Tokyo, Avex En...|          Funimation|           J.C.Staff| Light novel|25 min. per ep.|PG-13 - Teens 13 ...|  811.0|       766| 194354.0|     3014|    8115|   107324|   7112|   6964|        64839| 11328.0| 16683.0| 24977.0| 20383.0| 8600.0| 4079.0| 1375.0|  509.0|  203.0|  235.0|\n",
      "|      0|     121|   9.0| 121| Fullmetal Alchemist| 8.17|Action, Adventure...| Fullmetal Alchemist|                          鋼の錬金術師|   TV|      51|Oct 4, 2003 to Oc...|  Fall 2003|Aniplex, Dentsu, ...|Funimation, Anipl...|               Bones|       Manga|24 min. per ep.|PG-13 - Teens 13 ...|  337.0|        52|1151621.0|    26564|   52738|   880215|  41631|  38693|       138344|124399.0|176993.0|211302.0|133850.0|44438.0|16255.0| 5872.0| 1769.0|  970.0| 1150.0|\n",
      "|      0|     356|   9.0| 356|     Fate/stay night| 7.34|Action, Supernatu...|     Fate/stay night|                       Fate/stay night|   TV|      24|Jan 7, 2006 to Ju...|Winter 2006|Geneon Universal ...|Sentai Filmworks,...|         Studio Deen|Visual novel|24 min. per ep.|R - 17+ (violence...| 2152.0|       119| 730980.0|     7011|   29998|   510563|  19938|  23686|       146795| 35378.0| 57284.0|101538.0|107818.0|55337.0|26103.0|13081.0| 5032.0| 2350.0| 1693.0|\n",
      "|      0|    1250|   7.0|1250|     Erementar Gerad|  7.3|Adventure, Comedy...|    Elemental Gelade|                エレメンタルジェレイド|   TV|      26|Apr 5, 2005 to Se...|Spring 2005|TV Tokyo, Geneon ...|Funimation, Disco...|               Xebec|       Manga|24 min. per ep.|PG-13 - Teens 13 ...| 2325.0|      1587|  85305.0|      497|    3647|    51887|   4082|   4442|        21247|  3279.0|  4969.0|  9868.0| 11831.0| 6331.0| 3267.0| 1125.0|  386.0|  158.0|  103.0|\n",
      "|      0|    2913|   6.0|2913|Daisougen no Chii...| 7.01|    Adventure, Drama|Bush Baby, Little...|  大草原の小さな天使　ブッシュベイビー|   TV|      40|Jan 12, 1992 to D...|Winter 1992|             Fuji TV|             Unknown|    Nippon Animation|       Novel|24 min. per ep.|        G - All Ages| 3609.0|      8811|   2020.0|        3|      74|      727|     74|    114|         1031|    57.0|    54.0|    91.0|   153.0|   93.0|   40.0|   17.0|    4.0|    5.0|    6.0|\n",
      "|      0|    1689|   6.0|1689|Byousoku 5 Centim...| 7.73|Drama, Romance, S...|5 Centimeters Per...|                  秒速５センチメートル|Movie|       3|         Mar 3, 2007|    Unknown|             Unknown|ADV Films, Bandai...|    CoMix Wave Films|    Original|22 min. per ep.|PG-13 - Teens 13 ...|  949.0|       136| 695375.0|     9719|   12529|   524145|   6261|   4580|       147860| 65007.0| 80388.0|107226.0| 86657.0|43552.0|21319.0|10108.0| 3821.0| 2081.0| 1835.0|\n",
      "|      0|      68|   6.0|  68|      Black Cat (TV)| 7.38|Sci-Fi, Adventure...|           Black Cat|                      ブラックキャット|   TV|      23|Oct 7, 2005 to Ma...|  Fall 2005|GDH, Dentsu, TBS,...|          Funimation|               Gonzo|       Manga|24 min. per ep.|PG-13 - Teens 13 ...| 1965.0|       622| 231668.0|     1955|   10510|   142921|  11736|  11003|        55498|  8654.0| 15253.0| 29392.0| 34019.0|16081.0| 7534.0| 2521.0|  863.0|  395.0|  234.0|\n",
      "|      0|    1829|   7.0|1829|           Ged Senki| 6.95|Adventure, Magic,...| Tales from Earthsea|                              ゲド戦記|Movie|       1|        Jul 29, 2006|    Unknown|                Toho| Walt Disney Studios|       Studio Ghibli|       Novel|  1 hr. 55 min.|PG-13 - Teens 13 ...| 3815.0|      1317| 107556.0|      189|    1082|    83702|    778|    504|        21490|  4527.0|  6868.0| 12931.0| 17433.0|11237.0| 6011.0| 3469.0| 1265.0|  605.0|  336.0|\n",
      "|      0|     600|   6.0| 600|       Legend of Duo| 4.93|Supernatural, Dra...|             Unknown|                         LEGEND OF DUO|   TV|      12|Apr 21, 2005 to J...|Spring 2005|             Unknown|             Unknown|Radix, Marine Ent...|    Original| 5 min. per ep.|R - 17+ (violence...|10650.0|      4855|  10199.0|       11|     306|     5464|    242|    703|         3484|   132.0|   142.0|   296.0|   557.0|  663.0|  732.0|  511.0|  410.0|  414.0|  493.0|\n",
      "|      0|    3418|   9.0|3418|Jungle no Ouja Ta...| 7.01|Action, Comedy, P...|             Unknown|            ジャングルの王者ターちゃん|   TV|      50|Oct 14, 1993 to S...|  Fall 1993|            TV Tokyo|             Unknown|           Group TAC|       Manga|24 min. per ep.|    R+ - Mild Nudity| 3616.0|      9094|   1805.0|       14|     130|      486|     96|    123|          970|    55.0|    58.0|    77.0|    92.0|   62.0|   21.0|   19.0|   10.0|   10.0|    6.0|\n",
      "|      0|     164|   8.0| 164|       Mononoke Hime| 8.72|Action, Adventure...|   Princess Mononoke|                            もののけ姫|Movie|       1|        Jul 12, 1997|    Unknown|Tokuma Shoten, Ni...|               GKIDS|       Studio Ghibli|    Original|  2 hr. 15 min.|PG-13 - Teens 13 ...|   40.0|        91| 876813.0|    17114|   11422|   735624|   3384|   1386|       124997|184173.0|167754.0|131050.0| 57874.0|17052.0| 5570.0| 1660.0|  545.0|  283.0|  702.0|\n",
      "|      0|    1894|   7.0|1894|Yu☆Gi☆Oh!: Hikari...| 6.59|Adventure, Comedy...| Yu-Gi-Oh!:The Movie|   遊☆戯☆王　デュエルモンスターズ　...|Movie|       1|        Aug 13, 2004|    Unknown|    Nihon Ad Systems|4Kids Entertainme...|              Gallop|       Manga|  1 hr. 41 min.|PG-13 - Teens 13 ...| 5423.0|      1973|  61314.0|       67|     389|    56962|    193|    208|         3562|  2473.0|  2953.0|  6056.0| 10910.0| 8736.0| 5227.0| 2337.0| 1059.0|  578.0|  286.0|\n",
      "+-------+--------+------+----+--------------------+-----+--------------------+--------------------+--------------------------------------+-----+--------+--------------------+-----------+--------------------+--------------------+--------------------+------------+---------------+--------------------+-------+----------+---------+---------+--------+---------+-------+-------+-------------+--------+--------+--------+--------+-------+-------+-------+-------+-------+-------+\n",
      "only showing top 20 rows\n",
      "\n"
     ]
    }
   ],
   "source": [
    "df_vistas = df_ratings_usuario.join(df_animes, df_ratings_usuario[\"anime_id\"] == df_animes[\"ID\"])\n",
    "df_vistas.show()"
   ]
  },
  {
   "cell_type": "code",
   "execution_count": 130,
   "metadata": {},
   "outputs": [
    {
     "data": {
      "text/plain": [
       "35"
      ]
     },
     "execution_count": 130,
     "metadata": {},
     "output_type": "execute_result"
    }
   ],
   "source": [
    "df_vistas.count()"
   ]
  },
  {
   "cell_type": "code",
   "execution_count": null,
   "metadata": {},
   "outputs": [],
   "source": []
  },
  {
   "cell_type": "code",
   "execution_count": 234,
   "metadata": {},
   "outputs": [
    {
     "name": "stdout",
     "output_type": "stream",
     "text": [
      "+-------+--------+------+\n",
      "|user_id|anime_id|rating|\n",
      "+-------+--------+------+\n",
      "|      0|     430|   9.0|\n",
      "|      0|    1004|   5.0|\n",
      "|      0|    3010|   7.0|\n",
      "|      0|     570|   7.0|\n",
      "|      0|    2762|   9.0|\n",
      "|      0|     431|   8.0|\n",
      "|      0|     578|  10.0|\n",
      "|      0|     433|   6.0|\n",
      "|      0|    1571|  10.0|\n",
      "|      0|     121|   9.0|\n",
      "|      0|     356|   9.0|\n",
      "|      0|    1250|   7.0|\n",
      "|      0|    2913|   6.0|\n",
      "|      0|    1689|   6.0|\n",
      "|      0|      68|   6.0|\n",
      "|      0|    1829|   7.0|\n",
      "|      0|     600|   6.0|\n",
      "|      0|    3418|   9.0|\n",
      "|      0|     164|   8.0|\n",
      "|      0|    1894|   7.0|\n",
      "+-------+--------+------+\n",
      "only showing top 20 rows\n",
      "\n"
     ]
    }
   ],
   "source": [
    "df_ratings_completo.show()"
   ]
  },
  {
   "cell_type": "code",
   "execution_count": 7,
   "metadata": {},
   "outputs": [],
   "source": [
    "splits = df_ratings_completo.randomSplit([1.0, 2.0])"
   ]
  },
  {
   "cell_type": "code",
   "execution_count": 8,
   "metadata": {},
   "outputs": [],
   "source": [
    "(training, test) = df_ratings_completo.randomSplit([0.8, 0.2])\n",
    "als = ALS(maxIter=5, regParam=0.01, userCol=\"user_id\", itemCol=\"anime_id\", ratingCol=\"rating\")\n",
    "\n"
   ]
  },
  {
   "cell_type": "code",
   "execution_count": null,
   "metadata": {},
   "outputs": [],
   "source": [
    "model = als.fit(training)"
   ]
  },
  {
   "cell_type": "code",
   "execution_count": null,
   "metadata": {},
   "outputs": [],
   "source": [
    "\n",
    "predictions = model.transform(test)\n",
    "evaluator = RegressionEvaluator(metricName=\"rmse\", labelCol=\"rating\", predictionCol=\"prediction\")\n",
    "rmse = evaluator.evaluate(predictions) \n",
    "print(\"Error numero = \" + str(rmse))"
   ]
  },
  {
   "cell_type": "code",
   "execution_count": null,
   "metadata": {},
   "outputs": [],
   "source": []
  },
  {
   "cell_type": "code",
   "execution_count": null,
   "metadata": {},
   "outputs": [],
   "source": []
  },
  {
   "cell_type": "code",
   "execution_count": 15,
   "metadata": {},
   "outputs": [],
   "source": [
    "ratings = spark.createDataFrame(ratingsRDD)"
   ]
  },
  {
   "cell_type": "code",
   "execution_count": null,
   "metadata": {},
   "outputs": [],
   "source": [
    "(training, test) = ratings.randomSplit([0.8, 0.2])\n",
    "# Entrenamos el modelo. La estrategia cold start con 'drop' descarata valores NaN en evaluación\n",
    "als = ALS(maxIter=5, regParam=0.01, userCol=\"userId\", itemCol=\"movieId\", ratingCol=\"rating\", coldStartStrategy=\"drop\")\n",
    "model = als.fit(training)\n",
    "# Evaluamos el modelo con RMSE\n",
    "predictions = model.transform(test)\n",
    "evaluator = RegressionEvaluator(metricName=\"rmse\", labelCol=\"rating\", predictionCol=\"prediction\")\n",
    "rmse = evaluator.evaluate(predictions) \n",
    "print(\"Root-mean-square error = \" + str(rmse))"
   ]
  },
  {
   "cell_type": "code",
   "execution_count": null,
   "metadata": {},
   "outputs": [],
   "source": [
    "# Generamos las 10 mejores recomendaciones para cada usuario\n",
    "userRecs = model.recommendForAllUsers(10)\n",
    "# Generamos los top 10 usuarios para cada película\n",
    "movieRecs = model.recommendForAllItems(10)\n",
    "# Generar las 10 mejores recomendaciones para un subconjunto de usuarios\n",
    "users = ratings.select(als.getUserCol()).distinct().limit(3)\n",
    "userSubsetRecs = model.recommendForUserSubset(users, 10)\n",
    "# Geenarar la recomendación con el top 10 usuarios para el subconjunto de películas dado\n",
    "movies = ratings.select(als.getItemCol()).distinct().limit(3)\n",
    "movieSubSetRecs = model.recommendForItemSubset(movies, 10)"
   ]
  },
  {
   "cell_type": "code",
   "execution_count": null,
   "metadata": {},
   "outputs": [],
   "source": []
  },
  {
   "cell_type": "code",
   "execution_count": null,
   "metadata": {},
   "outputs": [],
   "source": []
  },
  {
   "cell_type": "code",
   "execution_count": null,
   "metadata": {},
   "outputs": [],
   "source": []
  },
  {
   "cell_type": "code",
   "execution_count": null,
   "metadata": {},
   "outputs": [],
   "source": []
  },
  {
   "cell_type": "code",
   "execution_count": null,
   "metadata": {},
   "outputs": [],
   "source": []
  },
  {
   "cell_type": "code",
   "execution_count": null,
   "metadata": {},
   "outputs": [],
   "source": [
    "from pyspark.sql import SparkSession\n",
    "from pyspark.sql import Row\n",
    "from pyspark.sql.functions import split\n",
    "\n",
    "# Crear una SparkSession\n",
    "spark = SparkSession.builder.appName(\"EjemploCSV\").getOrCreate()\n",
    "\n",
    "# Leer el CSV con cabecera y separador \";\"\n",
    "df = spark.read.csv(\"ml-latest-small/ratings.csv\", header=True, sep=\";\")\n",
    "\n",
    "# Mostrar el esquema y los primeros registros\n",
    "df.printSchema()\n",
    "df.show()\n",
    "\n",
    "# Dividir la columna en múltiples columnas\n",
    "df_split = df.withColumn(\"split_col\", split(df[\"userId,movieId,rating,timestamp\"], \",\"))\n",
    "\n",
    "# Crear columnas individuales para userId, movieId, rating, timestamp\n",
    "df_split = df_split.withColumn(\"userId\", df_split[\"split_col\"].getItem(0).cast(\"int\"))\n",
    "df_split = df_split.withColumn(\"movieId\", df_split[\"split_col\"].getItem(1).cast(\"int\"))\n",
    "df_split = df_split.withColumn(\"rating\", df_split[\"split_col\"].getItem(2).cast(\"float\"))\n",
    "df_split = df_split.withColumn(\"timestamp\", df_split[\"split_col\"].getItem(3).cast(\"int\"))\n",
    "\n",
    "# Crear el RDD a partir de las columnas individuales\n",
    "ratingsRDD = df_split.rdd.map(lambda row: Row(userId=row['userId'], movieId=row['movieId'], rating=row['rating'], timestamp=row['timestamp']))\n",
    "\n",
    "# Crear el DataFrame a partir del RDD\n",
    "ratings = spark.createDataFrame(ratingsRDD)\n",
    "\n",
    "# Mostrar el esquema y los primeros registros del nuevo DataFrame\n",
    "ratings.printSchema()\n",
    "ratings.show()"
   ]
  },
  {
   "cell_type": "code",
   "execution_count": null,
   "metadata": {},
   "outputs": [],
   "source": []
  }
 ],
 "metadata": {
  "kernelspec": {
   "display_name": "Python 3",
   "language": "python",
   "name": "python3"
  },
  "language_info": {
   "codemirror_mode": {
    "name": "ipython",
    "version": 3
   },
   "file_extension": ".py",
   "mimetype": "text/x-python",
   "name": "python",
   "nbconvert_exporter": "python",
   "pygments_lexer": "ipython3",
   "version": "3.10.2"
  }
 },
 "nbformat": 4,
 "nbformat_minor": 2
}
