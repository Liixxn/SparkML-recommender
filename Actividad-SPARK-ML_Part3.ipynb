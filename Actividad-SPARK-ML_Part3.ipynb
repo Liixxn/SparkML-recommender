{
 "cells": [
  {
   "cell_type": "code",
   "execution_count": 1,
   "id": "2f5cc90c",
   "metadata": {},
   "outputs": [],
   "source": [
    "# Importamos las bibliotecas necesarias\n",
    "import requests\n",
    "import json\n",
    "from IPython.display import Image, display\n",
    "from rich import print\n",
    "import time"
   ]
  },
  {
   "cell_type": "code",
   "execution_count": 2,
   "id": "bd60cb62",
   "metadata": {},
   "outputs": [],
   "source": [
    "# Función para obtener la información del anime a través de la API de Jikan\n",
    "def obtener_info_anime(id):\n",
    "    # Construimos la URL de la API\n",
    "    url = f\"https://api.jikan.moe/v4/anime/{id}/full\"\n",
    "    # Hacemos una solicitud GET a la API\n",
    "    response = requests.get(url)\n",
    "    # Convertimos la respuesta en formato JSON a un diccionario de Python\n",
    "    data = json.loads(response.text)\n",
    "    # Devolvemos los datos \n",
    "    return data"
   ]
  },
  {
   "cell_type": "code",
   "execution_count": 3,
   "id": "430aa8ec",
   "metadata": {},
   "outputs": [],
   "source": [
    "def mostrar_info_anime(data):\n",
    "    # Accedemos a los datos del anime\n",
    "    data = data['data']\n",
    "    # Imprimimos el título, la sinopsis y el trailer del anime\n",
    "    print(f\"Titulo: {data['title']}\")\n",
    "    print(f\"Sinopsis: {data['synopsis']}\")\n",
    "\n",
    "    # Buscamos cualquier URL de imagen disponible en 'images'\n",
    "    image_url = None\n",
    "    for key, value in data['images'].items():\n",
    "        if isinstance(value, dict) and 'image_url' in value:\n",
    "            image_url = value['image_url']\n",
    "    if image_url:\n",
    "        display(Image(url=image_url))\n",
    "    else:\n",
    "        print(\"No se encontró la imagen del anime.\")\n",
    "\n",
    "    print(f\"Trailer: {data['trailer']['url']}\")\n",
    "    print(\"-----------------------------------------------------------------\")\n"
   ]
  },
  {
   "cell_type": "code",
   "execution_count": 5,
   "metadata": {},
   "outputs": [
    {
     "data": {
      "text/html": [
       "<pre style=\"white-space:pre;overflow-x:auto;line-height:normal;font-family:Menlo,'DejaVu Sans Mono',consolas,'Courier New',monospace\">Titulo: Uchuu Kaizoku Captain Herlock\n",
       "</pre>\n"
      ],
      "text/plain": [
       "Titulo: Uchuu Kaizoku Captain Herlock\n"
      ]
     },
     "metadata": {},
     "output_type": "display_data"
    },
    {
     "data": {
      "text/html": [
       "<pre style=\"white-space:pre;overflow-x:auto;line-height:normal;font-family:Menlo,'DejaVu Sans Mono',consolas,'Courier New',monospace\">Sinopsis: It is <span style=\"color: #008080; text-decoration-color: #008080; font-weight: bold\">2977</span> AD and mankind has become stagnant. Robots do all the work, the masses are kept tranquil by \n",
       "subliminal messages, and government officials are lazy, caring only about recreational activities like golf and \n",
       "horse racing. Captain Herlock has defied this insipid mentality, leading a group of like-minded rebels to a more \n",
       "adventurous life aboard the spaceship Arcadia.\n",
       " \n",
       "A mysterious force known as the Mazone has invaded the Earth, taking the form of mysterious cloaked women that kill\n",
       "anyone who suspect their nefarious doings, such as Tadashi Daiba who is now on their hit-list. After his scientist \n",
       "father is ignored by the government and killed by the Mazone, he joins Captain Herlock and his ragtag group of \n",
       "pirates to assist them as they try to save humanity from the impending alien threat.\n",
       "\n",
       "<span style=\"font-weight: bold\">[</span>Written by MAL Rewrite<span style=\"font-weight: bold\">]</span>\n",
       "</pre>\n"
      ],
      "text/plain": [
       "Sinopsis: It is \u001b[1;36m2977\u001b[0m AD and mankind has become stagnant. Robots do all the work, the masses are kept tranquil by \n",
       "subliminal messages, and government officials are lazy, caring only about recreational activities like golf and \n",
       "horse racing. Captain Herlock has defied this insipid mentality, leading a group of like-minded rebels to a more \n",
       "adventurous life aboard the spaceship Arcadia.\n",
       " \n",
       "A mysterious force known as the Mazone has invaded the Earth, taking the form of mysterious cloaked women that kill\n",
       "anyone who suspect their nefarious doings, such as Tadashi Daiba who is now on their hit-list. After his scientist \n",
       "father is ignored by the government and killed by the Mazone, he joins Captain Herlock and his ragtag group of \n",
       "pirates to assist them as they try to save humanity from the impending alien threat.\n",
       "\n",
       "\u001b[1m[\u001b[0mWritten by MAL Rewrite\u001b[1m]\u001b[0m\n"
      ]
     },
     "metadata": {},
     "output_type": "display_data"
    },
    {
     "data": {
      "text/html": [
       "<img src=\"https://cdn.myanimelist.net/images/anime/1362/90305.webp\"/>"
      ],
      "text/plain": [
       "<IPython.core.display.Image object>"
      ]
     },
     "metadata": {},
     "output_type": "display_data"
    },
    {
     "data": {
      "text/html": [
       "<pre style=\"white-space:pre;overflow-x:auto;line-height:normal;font-family:Menlo,'DejaVu Sans Mono',consolas,'Courier New',monospace\">Trailer: <span style=\"color: #800080; text-decoration-color: #800080; font-style: italic\">None</span>\n",
       "</pre>\n"
      ],
      "text/plain": [
       "Trailer: \u001b[3;35mNone\u001b[0m\n"
      ]
     },
     "metadata": {},
     "output_type": "display_data"
    },
    {
     "data": {
      "text/html": [
       "<pre style=\"white-space:pre;overflow-x:auto;line-height:normal;font-family:Menlo,'DejaVu Sans Mono',consolas,'Courier New',monospace\">-----------------------------------------------------------------\n",
       "</pre>\n"
      ],
      "text/plain": [
       "-----------------------------------------------------------------\n"
      ]
     },
     "metadata": {},
     "output_type": "display_data"
    },
    {
     "data": {
      "text/html": [
       "<pre style=\"white-space:pre;overflow-x:auto;line-height:normal;font-family:Menlo,'DejaVu Sans Mono',consolas,'Courier New',monospace\">Titulo: Tennis no Oujisama\n",
       "</pre>\n"
      ],
      "text/plain": [
       "Titulo: Tennis no Oujisama\n"
      ]
     },
     "metadata": {},
     "output_type": "display_data"
    },
    {
     "data": {
      "text/html": [
       "<pre style=\"white-space:pre;overflow-x:auto;line-height:normal;font-family:Menlo,'DejaVu Sans Mono',consolas,'Courier New',monospace\">Sinopsis: At the request of his father, tennis prodigy Ryouma Echizen has returned from America and is ready to \n",
       "take the Japanese tennis scene by storm. Aiming to become the best tennis player in the country, he enrolls in \n",
       "Seishun Academy—home to one of the best middle school tennis teams in Japan. \n",
       "\n",
       "After Ryouma catches the captain's eye, he finds himself playing for a spot on the starting lineup in the \n",
       "intra-school ranking matches despite only being a freshman. Due to his age, the rest of the Seishun Boys' Tennis \n",
       "Team are initially reluctant to accept him, but his skill and determination convinces them to let him in.\n",
       "\n",
       "Armed with their new <span style=\"color: #008000; text-decoration-color: #008000\">\"super rookie,\"</span> Seishun sets out to claim a spot in the National Tournament, hoping to take \n",
       "the coveted title for themselves. In order to do so, the team must qualify by playing through the Tokyo Prefectural\n",
       "and Kanto Regionals. Yet, the road ahead of them is shared by a plethora of strong schools, each playing tennis in \n",
       "unique ways for their own reasons. Ryouma and his teammates must learn to cooperate if they want to become the \n",
       "champions they aspire to be.\n",
       "\n",
       "<span style=\"font-weight: bold\">[</span>Written by MAL Rewrite<span style=\"font-weight: bold\">]</span>\n",
       "</pre>\n"
      ],
      "text/plain": [
       "Sinopsis: At the request of his father, tennis prodigy Ryouma Echizen has returned from America and is ready to \n",
       "take the Japanese tennis scene by storm. Aiming to become the best tennis player in the country, he enrolls in \n",
       "Seishun Academy—home to one of the best middle school tennis teams in Japan. \n",
       "\n",
       "After Ryouma catches the captain's eye, he finds himself playing for a spot on the starting lineup in the \n",
       "intra-school ranking matches despite only being a freshman. Due to his age, the rest of the Seishun Boys' Tennis \n",
       "Team are initially reluctant to accept him, but his skill and determination convinces them to let him in.\n",
       "\n",
       "Armed with their new \u001b[32m\"super rookie,\"\u001b[0m Seishun sets out to claim a spot in the National Tournament, hoping to take \n",
       "the coveted title for themselves. In order to do so, the team must qualify by playing through the Tokyo Prefectural\n",
       "and Kanto Regionals. Yet, the road ahead of them is shared by a plethora of strong schools, each playing tennis in \n",
       "unique ways for their own reasons. Ryouma and his teammates must learn to cooperate if they want to become the \n",
       "champions they aspire to be.\n",
       "\n",
       "\u001b[1m[\u001b[0mWritten by MAL Rewrite\u001b[1m]\u001b[0m\n"
      ]
     },
     "metadata": {},
     "output_type": "display_data"
    },
    {
     "data": {
      "text/html": [
       "<img src=\"https://cdn.myanimelist.net/images/anime/6/21624.webp\"/>"
      ],
      "text/plain": [
       "<IPython.core.display.Image object>"
      ]
     },
     "metadata": {},
     "output_type": "display_data"
    },
    {
     "data": {
      "text/html": [
       "<pre style=\"white-space:pre;overflow-x:auto;line-height:normal;font-family:Menlo,'DejaVu Sans Mono',consolas,'Courier New',monospace\">Trailer: <span style=\"color: #800080; text-decoration-color: #800080; font-style: italic\">None</span>\n",
       "</pre>\n"
      ],
      "text/plain": [
       "Trailer: \u001b[3;35mNone\u001b[0m\n"
      ]
     },
     "metadata": {},
     "output_type": "display_data"
    },
    {
     "data": {
      "text/html": [
       "<pre style=\"white-space:pre;overflow-x:auto;line-height:normal;font-family:Menlo,'DejaVu Sans Mono',consolas,'Courier New',monospace\">-----------------------------------------------------------------\n",
       "</pre>\n"
      ],
      "text/plain": [
       "-----------------------------------------------------------------\n"
      ]
     },
     "metadata": {},
     "output_type": "display_data"
    },
    {
     "data": {
      "text/html": [
       "<pre style=\"white-space:pre;overflow-x:auto;line-height:normal;font-family:Menlo,'DejaVu Sans Mono',consolas,'Courier New',monospace\">Titulo: Kenpuu Denki Berserk\n",
       "</pre>\n"
      ],
      "text/plain": [
       "Titulo: Kenpuu Denki Berserk\n"
      ]
     },
     "metadata": {},
     "output_type": "display_data"
    },
    {
     "data": {
      "text/html": [
       "<pre style=\"white-space:pre;overflow-x:auto;line-height:normal;font-family:Menlo,'DejaVu Sans Mono',consolas,'Courier New',monospace\">Sinopsis: Guts, a man who will one day be known as the Black Swordsman, is a young traveling mercenary \n",
       "characterized by the large greatsword he carries. He accepts jobs that offer the most money, but he never stays \n",
       "with one group for long—until he encounters the Band of the Falcon. Ambushed after completing a job, Guts crushes \n",
       "many of its members in combat. Griffith, The Band of the Falcon's leader and founder, takes an interest in Guts and\n",
       "duels him. While the others are no match for Guts, Griffith defeats him in one blow.\n",
       "\n",
       "Incapacitated and taken into the Band of the Falcon's camp to recover, Guts wakes up two days later. He confronts \n",
       "Griffith, and the two duel yet again, only this time with a condition: Guts will join the Band of the Falcon if he \n",
       "loses. Due to his fresh injuries, Guts loses the fight and is inducted by Griffith.\n",
       "\n",
       "In three years' time, Guts has become one of the Band of the Falcon's commanders. On the battlefield, his combat \n",
       "prowess is second only to Griffith as he takes on large groups of enemies all on his own. With Guts' immense \n",
       "strength and Griffith's leadership, the Band of the Falcon dominate every battle they partake in. But something \n",
       "menacing lurks in the shadows, threatening to change Guts' life forever.\n",
       "\n",
       "<span style=\"font-weight: bold\">[</span>Written by MAL Rewrite<span style=\"font-weight: bold\">]</span>\n",
       "</pre>\n"
      ],
      "text/plain": [
       "Sinopsis: Guts, a man who will one day be known as the Black Swordsman, is a young traveling mercenary \n",
       "characterized by the large greatsword he carries. He accepts jobs that offer the most money, but he never stays \n",
       "with one group for long—until he encounters the Band of the Falcon. Ambushed after completing a job, Guts crushes \n",
       "many of its members in combat. Griffith, The Band of the Falcon's leader and founder, takes an interest in Guts and\n",
       "duels him. While the others are no match for Guts, Griffith defeats him in one blow.\n",
       "\n",
       "Incapacitated and taken into the Band of the Falcon's camp to recover, Guts wakes up two days later. He confronts \n",
       "Griffith, and the two duel yet again, only this time with a condition: Guts will join the Band of the Falcon if he \n",
       "loses. Due to his fresh injuries, Guts loses the fight and is inducted by Griffith.\n",
       "\n",
       "In three years' time, Guts has become one of the Band of the Falcon's commanders. On the battlefield, his combat \n",
       "prowess is second only to Griffith as he takes on large groups of enemies all on his own. With Guts' immense \n",
       "strength and Griffith's leadership, the Band of the Falcon dominate every battle they partake in. But something \n",
       "menacing lurks in the shadows, threatening to change Guts' life forever.\n",
       "\n",
       "\u001b[1m[\u001b[0mWritten by MAL Rewrite\u001b[1m]\u001b[0m\n"
      ]
     },
     "metadata": {},
     "output_type": "display_data"
    },
    {
     "data": {
      "text/html": [
       "<img src=\"https://cdn.myanimelist.net/images/anime/1384/119988.webp\"/>"
      ],
      "text/plain": [
       "<IPython.core.display.Image object>"
      ]
     },
     "metadata": {},
     "output_type": "display_data"
    },
    {
     "data": {
      "text/html": [
       "<pre style=\"white-space:pre;overflow-x:auto;line-height:normal;font-family:Menlo,'DejaVu Sans Mono',consolas,'Courier New',monospace\">Trailer: <span style=\"color: #0000ff; text-decoration-color: #0000ff; text-decoration: underline\">https://www.youtube.com/watch?v=5g5uPsKDGYg</span>\n",
       "</pre>\n"
      ],
      "text/plain": [
       "Trailer: \u001b[4;94mhttps://www.youtube.com/watch?\u001b[0m\u001b[4;94mv\u001b[0m\u001b[4;94m=\u001b[0m\u001b[4;94m5g5uPsKDGYg\u001b[0m\n"
      ]
     },
     "metadata": {},
     "output_type": "display_data"
    },
    {
     "data": {
      "text/html": [
       "<pre style=\"white-space:pre;overflow-x:auto;line-height:normal;font-family:Menlo,'DejaVu Sans Mono',consolas,'Courier New',monospace\">-----------------------------------------------------------------\n",
       "</pre>\n"
      ],
      "text/plain": [
       "-----------------------------------------------------------------\n"
      ]
     },
     "metadata": {},
     "output_type": "display_data"
    }
   ],
   "source": [
    "# Lista de IDs de animes\n",
    "lista_de_recomendaciones = [1000, 22, 33]\n",
    "\n",
    "# Iteramos sobre la lista de IDs y obtenemos y mostramos la información de cada anime\n",
    "for anime_id in lista_de_recomendaciones:\n",
    "    data = obtener_info_anime(anime_id)\n",
    "    if 'data' not in data:\n",
    "        print(f\"El ID {anime_id} no existe.\")\n",
    "    else:\n",
    "        mostrar_info_anime(data)\n",
    "    time.sleep(1)"
   ]
  }
 ],
 "metadata": {
  "kernelspec": {
   "display_name": "Python 3 (ipykernel)",
   "language": "python",
   "name": "python3"
  },
  "language_info": {
   "codemirror_mode": {
    "name": "ipython",
    "version": 3
   },
   "file_extension": ".py",
   "mimetype": "text/x-python",
   "name": "python",
   "nbconvert_exporter": "python",
   "pygments_lexer": "ipython3",
   "version": "3.11.1"
  }
 },
 "nbformat": 4,
 "nbformat_minor": 5
}
