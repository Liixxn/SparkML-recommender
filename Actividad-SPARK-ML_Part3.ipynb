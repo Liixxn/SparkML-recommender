{
 "cells": [
  {
   "cell_type": "code",
   "execution_count": 13,
   "id": "7d22488c",
   "metadata": {},
   "outputs": [],
   "source": [
    "# Importamos las bibliotecas necesarias\n",
    "import requests\n",
    "import json\n",
    "from IPython.display import Image, display\n",
    "from rich import print"
   ]
  },
  {
   "cell_type": "code",
   "execution_count": 31,
   "id": "8a126e2d",
   "metadata": {},
   "outputs": [],
   "source": [
    "import requests\n",
    "import json\n",
    "\n",
    "# Función para obtener la información del anime a través de la API de Jikan\n",
    "def obtener_info_anime(lista_anime):\n",
    "    for anime_id in lista_anime:\n",
    "        # Construimos la URL de la API\n",
    "        url = f\"https://api.jikan.moe/v4/anime/{anime_id}/full\"\n",
    "        \n",
    "        # Hacemos una solicitud GET a la API\n",
    "        response = requests.get(url)\n",
    "        \n",
    "        # Verificamos si la solicitud fue exitosa (código de estado 200)\n",
    "        if response.status_code == 200:\n",
    "            # Convertimos la respuesta en formato JSON a un diccionario de Python\n",
    "            data = json.loads(response.text)\n",
    "            \n",
    "            # Accedemos a los datos del anime\n",
    "            anime_data = data.get('data', {})\n",
    "            \n",
    "            # Imprimimos el título y la sinopsis del anime\n",
    "            print(f\"Titulo: {anime_data.get('title', 'No disponible')}\")\n",
    "            print(f\"Sinopsis: {anime_data.get('synopsis', 'No disponible')}\")\n",
    "            \n",
    "            # Accedemos a los datos de la imagen\n",
    "            images_data = anime_data.get(\"images\", {})\n",
    "            \n",
    "            # Lista de claves a verificar para la imagen\n",
    "            keys_to_check = ['large', 'small']\n",
    "\n",
    "            # Iteramos sobre las claves y buscamos la URL de la imagen\n",
    "            for key in keys_to_check:\n",
    "                image_url=\" \"\n",
    "                if key in images_data:\n",
    "                    image_url = images_data[key]\n",
    "                    break  # Salimos del bucle si encontramos una URL\n",
    "            \n",
    "            # Imprimimos la URL de la imagen si se encontró, de lo contrario, un mensaje\n",
    "            if image_url:\n",
    "                print(f\"Imagen: {image_url}\")\n",
    "            else:\n",
    "                print(\"No se encontró la imagen del anime.\")\n",
    "            \n",
    "            # Imprimimos el trailer del anime\n",
    "            print(f\"Trailer: {anime_data.get('trailer', {}).get('url', 'No disponible')}\")\n",
    "            \n",
    "        else:\n",
    "            print(f\"Error al obtener datos para el anime con ID {anime_id}. Código de estado: {response.status_code}\")\n"
   ]
  },
  {
   "cell_type": "code",
   "execution_count": 32,
   "id": "2f5cc90c",
   "metadata": {},
   "outputs": [
    {
     "data": {
      "text/html": [
       "<pre style=\"white-space:pre;overflow-x:auto;line-height:normal;font-family:Menlo,'DejaVu Sans Mono',consolas,'Courier New',monospace\">Titulo: Beck\n",
       "</pre>\n"
      ],
      "text/plain": [
       "Titulo: Beck\n"
      ]
     },
     "metadata": {},
     "output_type": "display_data"
    },
    {
     "data": {
      "text/html": [
       "<pre style=\"white-space:pre;overflow-x:auto;line-height:normal;font-family:Menlo,'DejaVu Sans Mono',consolas,'Courier New',monospace\">Sinopsis: Fourteen-year-old Yukio <span style=\"color: #008000; text-decoration-color: #008000\">\"Koyuki\"</span> Tanaka is a dispirited young boy with no goals in life. However, this \n",
       "all changes when Koyuki saves a strange-looking dog named Beck from being harassed by a group of local kids. The \n",
       "dog's owner, <span style=\"color: #008080; text-decoration-color: #008080; font-weight: bold\">16</span>-year-old Ryuusuke <span style=\"color: #008000; text-decoration-color: #008000\">\"Ray\"</span> Minami, is an emerging guitarist and the former member of a popular rock \n",
       "band. \n",
       "\n",
       "After Koyuki meets Ray again in a diner, the older boy leads him to his former band's meeting place and dazzles \n",
       "Koyuki with his amazing guitar skills. Slowly becoming interested in the glamour of western rock culture, Koyuki \n",
       "decides to start playing the guitar while helping Ray achieve his dream of leading the ultimate rock band. Together\n",
       "with Ray's younger sister Maho and a few other members, the two boys launch their career into the world of rock by \n",
       "forming a band called BECK. Beck follows the group's struggles and successes as they spread their fame across \n",
       "Japan.\n",
       "\n",
       "<span style=\"font-weight: bold\">[</span>Written by MAL Rewrite<span style=\"font-weight: bold\">]</span>\n",
       "</pre>\n"
      ],
      "text/plain": [
       "Sinopsis: Fourteen-year-old Yukio \u001b[32m\"Koyuki\"\u001b[0m Tanaka is a dispirited young boy with no goals in life. However, this \n",
       "all changes when Koyuki saves a strange-looking dog named Beck from being harassed by a group of local kids. The \n",
       "dog's owner, \u001b[1;36m16\u001b[0m-year-old Ryuusuke \u001b[32m\"Ray\"\u001b[0m Minami, is an emerging guitarist and the former member of a popular rock \n",
       "band. \n",
       "\n",
       "After Koyuki meets Ray again in a diner, the older boy leads him to his former band's meeting place and dazzles \n",
       "Koyuki with his amazing guitar skills. Slowly becoming interested in the glamour of western rock culture, Koyuki \n",
       "decides to start playing the guitar while helping Ray achieve his dream of leading the ultimate rock band. Together\n",
       "with Ray's younger sister Maho and a few other members, the two boys launch their career into the world of rock by \n",
       "forming a band called BECK. Beck follows the group's struggles and successes as they spread their fame across \n",
       "Japan.\n",
       "\n",
       "\u001b[1m[\u001b[0mWritten by MAL Rewrite\u001b[1m]\u001b[0m\n"
      ]
     },
     "metadata": {},
     "output_type": "display_data"
    },
    {
     "data": {
      "text/html": [
       "<pre style=\"white-space:pre;overflow-x:auto;line-height:normal;font-family:Menlo,'DejaVu Sans Mono',consolas,'Courier New',monospace\">Imagen:  \n",
       "</pre>\n"
      ],
      "text/plain": [
       "Imagen:  \n"
      ]
     },
     "metadata": {},
     "output_type": "display_data"
    },
    {
     "data": {
      "text/html": [
       "<pre style=\"white-space:pre;overflow-x:auto;line-height:normal;font-family:Menlo,'DejaVu Sans Mono',consolas,'Courier New',monospace\">Trailer: <span style=\"color: #0000ff; text-decoration-color: #0000ff; text-decoration: underline\">https://www.youtube.com/watch?v=GNgReTHy1EA</span>\n",
       "</pre>\n"
      ],
      "text/plain": [
       "Trailer: \u001b[4;94mhttps://www.youtube.com/watch?\u001b[0m\u001b[4;94mv\u001b[0m\u001b[4;94m=\u001b[0m\u001b[4;94mGNgReTHy1EA\u001b[0m\n"
      ]
     },
     "metadata": {},
     "output_type": "display_data"
    },
    {
     "data": {
      "text/html": [
       "<pre style=\"white-space:pre;overflow-x:auto;line-height:normal;font-family:Menlo,'DejaVu Sans Mono',consolas,'Courier New',monospace\">Titulo: InuYasha\n",
       "</pre>\n"
      ],
      "text/plain": [
       "Titulo: InuYasha\n"
      ]
     },
     "metadata": {},
     "output_type": "display_data"
    },
    {
     "data": {
      "text/html": [
       "<pre style=\"white-space:pre;overflow-x:auto;line-height:normal;font-family:Menlo,'DejaVu Sans Mono',consolas,'Courier New',monospace\">Sinopsis: Kagome Higurashi's 15th birthday takes a sudden turn when she is forcefully pulled by a demon into the \n",
       "old well of her family's shrine. Brought to the past, when demons were a common sight in feudal Japan, Kagome finds\n",
       "herself persistently hunted by these vile creatures, all yearning for an item she unknowingly carries: the Shikon \n",
       "Jewel, a small sphere holding extraordinary power. \n",
       "\n",
       "Amid such a predicament, Kagome encounters a half-demon boy named Inuyasha who mistakes her for Kikyou, a shrine \n",
       "maiden he seems to resent. Because of her resemblance to Kikyou, Inuyasha takes a violent dislike to Kagome. \n",
       "However, after realizing the dire circumstances they are both in, he sets aside his hostility and lends her a hand.\n",
       "\n",
       "Unfortunately, during a fight for the Shikon Jewel, the miraculous object ends up shattered into pieces and \n",
       "scattered across the land. Fearing the disastrous consequences of this accident, Kagome and Inuyasha set out on a \n",
       "challenging quest to recover the shards before they fall into the wrong hands.\n",
       "\n",
       "<span style=\"font-weight: bold\">[</span>Written by MAL Rewrite<span style=\"font-weight: bold\">]</span>\n",
       "</pre>\n"
      ],
      "text/plain": [
       "Sinopsis: Kagome Higurashi's 15th birthday takes a sudden turn when she is forcefully pulled by a demon into the \n",
       "old well of her family's shrine. Brought to the past, when demons were a common sight in feudal Japan, Kagome finds\n",
       "herself persistently hunted by these vile creatures, all yearning for an item she unknowingly carries: the Shikon \n",
       "Jewel, a small sphere holding extraordinary power. \n",
       "\n",
       "Amid such a predicament, Kagome encounters a half-demon boy named Inuyasha who mistakes her for Kikyou, a shrine \n",
       "maiden he seems to resent. Because of her resemblance to Kikyou, Inuyasha takes a violent dislike to Kagome. \n",
       "However, after realizing the dire circumstances they are both in, he sets aside his hostility and lends her a hand.\n",
       "\n",
       "Unfortunately, during a fight for the Shikon Jewel, the miraculous object ends up shattered into pieces and \n",
       "scattered across the land. Fearing the disastrous consequences of this accident, Kagome and Inuyasha set out on a \n",
       "challenging quest to recover the shards before they fall into the wrong hands.\n",
       "\n",
       "\u001b[1m[\u001b[0mWritten by MAL Rewrite\u001b[1m]\u001b[0m\n"
      ]
     },
     "metadata": {},
     "output_type": "display_data"
    },
    {
     "data": {
      "text/html": [
       "<pre style=\"white-space:pre;overflow-x:auto;line-height:normal;font-family:Menlo,'DejaVu Sans Mono',consolas,'Courier New',monospace\">Imagen:  \n",
       "</pre>\n"
      ],
      "text/plain": [
       "Imagen:  \n"
      ]
     },
     "metadata": {},
     "output_type": "display_data"
    },
    {
     "data": {
      "text/html": [
       "<pre style=\"white-space:pre;overflow-x:auto;line-height:normal;font-family:Menlo,'DejaVu Sans Mono',consolas,'Courier New',monospace\">Trailer: <span style=\"color: #0000ff; text-decoration-color: #0000ff; text-decoration: underline\">https://www.youtube.com/watch?v=n5f47FVUlrs</span>\n",
       "</pre>\n"
      ],
      "text/plain": [
       "Trailer: \u001b[4;94mhttps://www.youtube.com/watch?\u001b[0m\u001b[4;94mv\u001b[0m\u001b[4;94m=\u001b[0m\u001b[4;94mn5f47FVUlrs\u001b[0m\n"
      ]
     },
     "metadata": {},
     "output_type": "display_data"
    },
    {
     "data": {
      "text/html": [
       "<pre style=\"white-space:pre;overflow-x:auto;line-height:normal;font-family:Menlo,'DejaVu Sans Mono',consolas,'Courier New',monospace\">Titulo: Psycho-Pass\n",
       "</pre>\n"
      ],
      "text/plain": [
       "Titulo: Psycho-Pass\n"
      ]
     },
     "metadata": {},
     "output_type": "display_data"
    },
    {
     "data": {
      "text/html": [
       "<pre style=\"white-space:pre;overflow-x:auto;line-height:normal;font-family:Menlo,'DejaVu Sans Mono',consolas,'Courier New',monospace\">Sinopsis: Justice, and the enforcement of it, has changed. In the 22nd century, Japan enforces the Sibyl System, an\n",
       "objective means of determining the threat level of each citizen by examining their mental state for signs of \n",
       "criminal intent, known as their Psycho-Pass. Inspectors uphold the law by subjugating, often with lethal force, \n",
       "anyone harboring the slightest ill-will; alongside them are Enforcers, jaded Inspectors that have become latent \n",
       "criminals, granted relative freedom in exchange for carrying out the Inspectors' dirty work.\n",
       "\n",
       "Into this world steps Akane Tsunemori, a young woman with an honest desire to uphold justice. However, as she works\n",
       "alongside veteran Enforcer Shinya Kougami, she soon learns that the Sibyl System's judgments are not as perfect as \n",
       "her fellow Inspectors assume. With everything she has known turned on its head, Akane wrestles with the question of\n",
       "what justice truly is, and whether it can be upheld through the use of a system that may already be corrupt.\n",
       "\n",
       "<span style=\"font-weight: bold\">[</span>Written by MAL Rewrite<span style=\"font-weight: bold\">]</span>\n",
       "</pre>\n"
      ],
      "text/plain": [
       "Sinopsis: Justice, and the enforcement of it, has changed. In the 22nd century, Japan enforces the Sibyl System, an\n",
       "objective means of determining the threat level of each citizen by examining their mental state for signs of \n",
       "criminal intent, known as their Psycho-Pass. Inspectors uphold the law by subjugating, often with lethal force, \n",
       "anyone harboring the slightest ill-will; alongside them are Enforcers, jaded Inspectors that have become latent \n",
       "criminals, granted relative freedom in exchange for carrying out the Inspectors' dirty work.\n",
       "\n",
       "Into this world steps Akane Tsunemori, a young woman with an honest desire to uphold justice. However, as she works\n",
       "alongside veteran Enforcer Shinya Kougami, she soon learns that the Sibyl System's judgments are not as perfect as \n",
       "her fellow Inspectors assume. With everything she has known turned on its head, Akane wrestles with the question of\n",
       "what justice truly is, and whether it can be upheld through the use of a system that may already be corrupt.\n",
       "\n",
       "\u001b[1m[\u001b[0mWritten by MAL Rewrite\u001b[1m]\u001b[0m\n"
      ]
     },
     "metadata": {},
     "output_type": "display_data"
    },
    {
     "data": {
      "text/html": [
       "<pre style=\"white-space:pre;overflow-x:auto;line-height:normal;font-family:Menlo,'DejaVu Sans Mono',consolas,'Courier New',monospace\">Imagen:  \n",
       "</pre>\n"
      ],
      "text/plain": [
       "Imagen:  \n"
      ]
     },
     "metadata": {},
     "output_type": "display_data"
    },
    {
     "data": {
      "text/html": [
       "<pre style=\"white-space:pre;overflow-x:auto;line-height:normal;font-family:Menlo,'DejaVu Sans Mono',consolas,'Courier New',monospace\">Trailer: <span style=\"color: #0000ff; text-decoration-color: #0000ff; text-decoration: underline\">https://www.youtube.com/watch?v=DgDBzAHg4wU</span>\n",
       "</pre>\n"
      ],
      "text/plain": [
       "Trailer: \u001b[4;94mhttps://www.youtube.com/watch?\u001b[0m\u001b[4;94mv\u001b[0m\u001b[4;94m=\u001b[0m\u001b[4;94mDgDBzAHg4wU\u001b[0m\n"
      ]
     },
     "metadata": {},
     "output_type": "display_data"
    }
   ],
   "source": [
    "# Obtenemos la información del anime con ID 13601 y la mostramos en el cuaderno de Jupyter\n",
    "lista_anime = [57, 249, 13601]\n",
    "obtener_info_anime(lista_anime)"
   ]
  },
  {
   "cell_type": "code",
   "execution_count": 44,
   "id": "430aa8ec",
   "metadata": {},
   "outputs": [
    {
     "data": {
      "text/html": [
       "<pre style=\"white-space:pre;overflow-x:auto;line-height:normal;font-family:Menlo,'DejaVu Sans Mono',consolas,'Courier New',monospace\">Titulo: Beck\n",
       "</pre>\n"
      ],
      "text/plain": [
       "Titulo: Beck\n"
      ]
     },
     "metadata": {},
     "output_type": "display_data"
    },
    {
     "data": {
      "text/html": [
       "<pre style=\"white-space:pre;overflow-x:auto;line-height:normal;font-family:Menlo,'DejaVu Sans Mono',consolas,'Courier New',monospace\">Sinopsis: Fourteen-year-old Yukio <span style=\"color: #008000; text-decoration-color: #008000\">\"Koyuki\"</span> Tanaka is a dispirited young boy with no goals in life. However, this \n",
       "all changes when Koyuki saves a strange-looking dog named Beck from being harassed by a group of local kids. The \n",
       "dog's owner, <span style=\"color: #008080; text-decoration-color: #008080; font-weight: bold\">16</span>-year-old Ryuusuke <span style=\"color: #008000; text-decoration-color: #008000\">\"Ray\"</span> Minami, is an emerging guitarist and the former member of a popular rock \n",
       "band. \n",
       "\n",
       "After Koyuki meets Ray again in a diner, the older boy leads him to his former band's meeting place and dazzles \n",
       "Koyuki with his amazing guitar skills. Slowly becoming interested in the glamour of western rock culture, Koyuki \n",
       "decides to start playing the guitar while helping Ray achieve his dream of leading the ultimate rock band. Together\n",
       "with Ray's younger sister Maho and a few other members, the two boys launch their career into the world of rock by \n",
       "forming a band called BECK. Beck follows the group's struggles and successes as they spread their fame across \n",
       "Japan.\n",
       "\n",
       "<span style=\"font-weight: bold\">[</span>Written by MAL Rewrite<span style=\"font-weight: bold\">]</span>\n",
       "</pre>\n"
      ],
      "text/plain": [
       "Sinopsis: Fourteen-year-old Yukio \u001b[32m\"Koyuki\"\u001b[0m Tanaka is a dispirited young boy with no goals in life. However, this \n",
       "all changes when Koyuki saves a strange-looking dog named Beck from being harassed by a group of local kids. The \n",
       "dog's owner, \u001b[1;36m16\u001b[0m-year-old Ryuusuke \u001b[32m\"Ray\"\u001b[0m Minami, is an emerging guitarist and the former member of a popular rock \n",
       "band. \n",
       "\n",
       "After Koyuki meets Ray again in a diner, the older boy leads him to his former band's meeting place and dazzles \n",
       "Koyuki with his amazing guitar skills. Slowly becoming interested in the glamour of western rock culture, Koyuki \n",
       "decides to start playing the guitar while helping Ray achieve his dream of leading the ultimate rock band. Together\n",
       "with Ray's younger sister Maho and a few other members, the two boys launch their career into the world of rock by \n",
       "forming a band called BECK. Beck follows the group's struggles and successes as they spread their fame across \n",
       "Japan.\n",
       "\n",
       "\u001b[1m[\u001b[0mWritten by MAL Rewrite\u001b[1m]\u001b[0m\n"
      ]
     },
     "metadata": {},
     "output_type": "display_data"
    },
    {
     "data": {
      "text/html": [
       "<pre style=\"white-space:pre;overflow-x:auto;line-height:normal;font-family:Menlo,'DejaVu Sans Mono',consolas,'Courier New',monospace\">No se encontró la imagen del anime.\n",
       "</pre>\n"
      ],
      "text/plain": [
       "No se encontró la imagen del anime.\n"
      ]
     },
     "metadata": {},
     "output_type": "display_data"
    },
    {
     "data": {
      "text/html": [
       "<pre style=\"white-space:pre;overflow-x:auto;line-height:normal;font-family:Menlo,'DejaVu Sans Mono',consolas,'Courier New',monospace\">Trailer: <span style=\"color: #0000ff; text-decoration-color: #0000ff; text-decoration: underline\">https://www.youtube.com/watch?v=GNgReTHy1EA</span>\n",
       "</pre>\n"
      ],
      "text/plain": [
       "Trailer: \u001b[4;94mhttps://www.youtube.com/watch?\u001b[0m\u001b[4;94mv\u001b[0m\u001b[4;94m=\u001b[0m\u001b[4;94mGNgReTHy1EA\u001b[0m\n"
      ]
     },
     "metadata": {},
     "output_type": "display_data"
    },
    {
     "data": {
      "text/html": [
       "<pre style=\"white-space:pre;overflow-x:auto;line-height:normal;font-family:Menlo,'DejaVu Sans Mono',consolas,'Courier New',monospace\">-----------------------------------------------------------------\n",
       "</pre>\n"
      ],
      "text/plain": [
       "-----------------------------------------------------------------\n"
      ]
     },
     "metadata": {},
     "output_type": "display_data"
    },
    {
     "data": {
      "text/html": [
       "<pre style=\"white-space:pre;overflow-x:auto;line-height:normal;font-family:Menlo,'DejaVu Sans Mono',consolas,'Courier New',monospace\">Titulo: InuYasha\n",
       "</pre>\n"
      ],
      "text/plain": [
       "Titulo: InuYasha\n"
      ]
     },
     "metadata": {},
     "output_type": "display_data"
    },
    {
     "data": {
      "text/html": [
       "<pre style=\"white-space:pre;overflow-x:auto;line-height:normal;font-family:Menlo,'DejaVu Sans Mono',consolas,'Courier New',monospace\">Sinopsis: Kagome Higurashi's 15th birthday takes a sudden turn when she is forcefully pulled by a demon into the \n",
       "old well of her family's shrine. Brought to the past, when demons were a common sight in feudal Japan, Kagome finds\n",
       "herself persistently hunted by these vile creatures, all yearning for an item she unknowingly carries: the Shikon \n",
       "Jewel, a small sphere holding extraordinary power. \n",
       "\n",
       "Amid such a predicament, Kagome encounters a half-demon boy named Inuyasha who mistakes her for Kikyou, a shrine \n",
       "maiden he seems to resent. Because of her resemblance to Kikyou, Inuyasha takes a violent dislike to Kagome. \n",
       "However, after realizing the dire circumstances they are both in, he sets aside his hostility and lends her a hand.\n",
       "\n",
       "Unfortunately, during a fight for the Shikon Jewel, the miraculous object ends up shattered into pieces and \n",
       "scattered across the land. Fearing the disastrous consequences of this accident, Kagome and Inuyasha set out on a \n",
       "challenging quest to recover the shards before they fall into the wrong hands.\n",
       "\n",
       "<span style=\"font-weight: bold\">[</span>Written by MAL Rewrite<span style=\"font-weight: bold\">]</span>\n",
       "</pre>\n"
      ],
      "text/plain": [
       "Sinopsis: Kagome Higurashi's 15th birthday takes a sudden turn when she is forcefully pulled by a demon into the \n",
       "old well of her family's shrine. Brought to the past, when demons were a common sight in feudal Japan, Kagome finds\n",
       "herself persistently hunted by these vile creatures, all yearning for an item she unknowingly carries: the Shikon \n",
       "Jewel, a small sphere holding extraordinary power. \n",
       "\n",
       "Amid such a predicament, Kagome encounters a half-demon boy named Inuyasha who mistakes her for Kikyou, a shrine \n",
       "maiden he seems to resent. Because of her resemblance to Kikyou, Inuyasha takes a violent dislike to Kagome. \n",
       "However, after realizing the dire circumstances they are both in, he sets aside his hostility and lends her a hand.\n",
       "\n",
       "Unfortunately, during a fight for the Shikon Jewel, the miraculous object ends up shattered into pieces and \n",
       "scattered across the land. Fearing the disastrous consequences of this accident, Kagome and Inuyasha set out on a \n",
       "challenging quest to recover the shards before they fall into the wrong hands.\n",
       "\n",
       "\u001b[1m[\u001b[0mWritten by MAL Rewrite\u001b[1m]\u001b[0m\n"
      ]
     },
     "metadata": {},
     "output_type": "display_data"
    },
    {
     "data": {
      "text/html": [
       "<pre style=\"white-space:pre;overflow-x:auto;line-height:normal;font-family:Menlo,'DejaVu Sans Mono',consolas,'Courier New',monospace\">No se encontró la imagen del anime.\n",
       "</pre>\n"
      ],
      "text/plain": [
       "No se encontró la imagen del anime.\n"
      ]
     },
     "metadata": {},
     "output_type": "display_data"
    },
    {
     "data": {
      "text/html": [
       "<pre style=\"white-space:pre;overflow-x:auto;line-height:normal;font-family:Menlo,'DejaVu Sans Mono',consolas,'Courier New',monospace\">Trailer: <span style=\"color: #0000ff; text-decoration-color: #0000ff; text-decoration: underline\">https://www.youtube.com/watch?v=n5f47FVUlrs</span>\n",
       "</pre>\n"
      ],
      "text/plain": [
       "Trailer: \u001b[4;94mhttps://www.youtube.com/watch?\u001b[0m\u001b[4;94mv\u001b[0m\u001b[4;94m=\u001b[0m\u001b[4;94mn5f47FVUlrs\u001b[0m\n"
      ]
     },
     "metadata": {},
     "output_type": "display_data"
    },
    {
     "data": {
      "text/html": [
       "<pre style=\"white-space:pre;overflow-x:auto;line-height:normal;font-family:Menlo,'DejaVu Sans Mono',consolas,'Courier New',monospace\">-----------------------------------------------------------------\n",
       "</pre>\n"
      ],
      "text/plain": [
       "-----------------------------------------------------------------\n"
      ]
     },
     "metadata": {},
     "output_type": "display_data"
    },
    {
     "data": {
      "text/html": [
       "<pre style=\"white-space:pre;overflow-x:auto;line-height:normal;font-family:Menlo,'DejaVu Sans Mono',consolas,'Courier New',monospace\">Titulo: Psycho-Pass\n",
       "</pre>\n"
      ],
      "text/plain": [
       "Titulo: Psycho-Pass\n"
      ]
     },
     "metadata": {},
     "output_type": "display_data"
    },
    {
     "data": {
      "text/html": [
       "<pre style=\"white-space:pre;overflow-x:auto;line-height:normal;font-family:Menlo,'DejaVu Sans Mono',consolas,'Courier New',monospace\">Sinopsis: Justice, and the enforcement of it, has changed. In the 22nd century, Japan enforces the Sibyl System, an\n",
       "objective means of determining the threat level of each citizen by examining their mental state for signs of \n",
       "criminal intent, known as their Psycho-Pass. Inspectors uphold the law by subjugating, often with lethal force, \n",
       "anyone harboring the slightest ill-will; alongside them are Enforcers, jaded Inspectors that have become latent \n",
       "criminals, granted relative freedom in exchange for carrying out the Inspectors' dirty work.\n",
       "\n",
       "Into this world steps Akane Tsunemori, a young woman with an honest desire to uphold justice. However, as she works\n",
       "alongside veteran Enforcer Shinya Kougami, she soon learns that the Sibyl System's judgments are not as perfect as \n",
       "her fellow Inspectors assume. With everything she has known turned on its head, Akane wrestles with the question of\n",
       "what justice truly is, and whether it can be upheld through the use of a system that may already be corrupt.\n",
       "\n",
       "<span style=\"font-weight: bold\">[</span>Written by MAL Rewrite<span style=\"font-weight: bold\">]</span>\n",
       "</pre>\n"
      ],
      "text/plain": [
       "Sinopsis: Justice, and the enforcement of it, has changed. In the 22nd century, Japan enforces the Sibyl System, an\n",
       "objective means of determining the threat level of each citizen by examining their mental state for signs of \n",
       "criminal intent, known as their Psycho-Pass. Inspectors uphold the law by subjugating, often with lethal force, \n",
       "anyone harboring the slightest ill-will; alongside them are Enforcers, jaded Inspectors that have become latent \n",
       "criminals, granted relative freedom in exchange for carrying out the Inspectors' dirty work.\n",
       "\n",
       "Into this world steps Akane Tsunemori, a young woman with an honest desire to uphold justice. However, as she works\n",
       "alongside veteran Enforcer Shinya Kougami, she soon learns that the Sibyl System's judgments are not as perfect as \n",
       "her fellow Inspectors assume. With everything she has known turned on its head, Akane wrestles with the question of\n",
       "what justice truly is, and whether it can be upheld through the use of a system that may already be corrupt.\n",
       "\n",
       "\u001b[1m[\u001b[0mWritten by MAL Rewrite\u001b[1m]\u001b[0m\n"
      ]
     },
     "metadata": {},
     "output_type": "display_data"
    },
    {
     "data": {
      "text/html": [
       "<pre style=\"white-space:pre;overflow-x:auto;line-height:normal;font-family:Menlo,'DejaVu Sans Mono',consolas,'Courier New',monospace\">No se encontró la imagen del anime.\n",
       "</pre>\n"
      ],
      "text/plain": [
       "No se encontró la imagen del anime.\n"
      ]
     },
     "metadata": {},
     "output_type": "display_data"
    },
    {
     "data": {
      "text/html": [
       "<pre style=\"white-space:pre;overflow-x:auto;line-height:normal;font-family:Menlo,'DejaVu Sans Mono',consolas,'Courier New',monospace\">Trailer: <span style=\"color: #0000ff; text-decoration-color: #0000ff; text-decoration: underline\">https://www.youtube.com/watch?v=DgDBzAHg4wU</span>\n",
       "</pre>\n"
      ],
      "text/plain": [
       "Trailer: \u001b[4;94mhttps://www.youtube.com/watch?\u001b[0m\u001b[4;94mv\u001b[0m\u001b[4;94m=\u001b[0m\u001b[4;94mDgDBzAHg4wU\u001b[0m\n"
      ]
     },
     "metadata": {},
     "output_type": "display_data"
    },
    {
     "data": {
      "text/html": [
       "<pre style=\"white-space:pre;overflow-x:auto;line-height:normal;font-family:Menlo,'DejaVu Sans Mono',consolas,'Courier New',monospace\">-----------------------------------------------------------------\n",
       "</pre>\n"
      ],
      "text/plain": [
       "-----------------------------------------------------------------\n"
      ]
     },
     "metadata": {},
     "output_type": "display_data"
    }
   ],
   "source": [
    "# Importamos las bibliotecas necesarias\n",
    "import requests\n",
    "import json\n",
    "from IPython.display import Image, display\n",
    "from rich import print\n",
    "\n",
    "# Lista de IDs de animes\n",
    "lista_de_recomendaciones = [57, 249, 13601]\n",
    "\n",
    "# Función para obtener la información del anime a través de la API de Jikan\n",
    "def obtener_info_anime(id):\n",
    "    # Construimos la URL de la API para el anime con el ID proporcionado\n",
    "    url = f\"https://api.jikan.moe/v4/anime/{id}/full\"\n",
    "    # Hacemos una solicitud GET a la API\n",
    "    response = requests.get(url)\n",
    "    # Convertimos la respuesta en formato JSON a un diccionario de Python\n",
    "    data = json.loads(response.text)\n",
    "    \n",
    "    # Devolvemos los datos \n",
    "    return data\n",
    "\n",
    "def mostrar_info_anime(data):\n",
    "    # Accedemos a los datos del anime\n",
    "    data = data['data']\n",
    "    # Imprimimos el título y la sinopsis del anime\n",
    "    print(f\"Titulo: {data['title']}\")\n",
    "    print(f\"Sinopsis: {data['synopsis']}\")\n",
    "    \n",
    "    # Lista de claves a verificar para la imagen\n",
    "    keys_to_check = ['large', 'small']\n",
    "    \n",
    "    # Variable para almacenar la URL de la imagen\n",
    "    image_url = None\n",
    "    index = 0\n",
    "\n",
    "    # Verificamos si alguna clave está presente en los datos de la imagen\n",
    "    while index < len(keys_to_check):\n",
    "        current_key = keys_to_check[index]\n",
    "        if current_key in data[\"images\"]:\n",
    "            image_url = data[\"images\"][current_key]\n",
    "        index += 1\n",
    "    \n",
    "    # Imprimimos la URL de la imagen si se encontró, de lo contrario, un mensaje\n",
    "    if image_url:\n",
    "        print(f\"Imagen: {image_url}\")\n",
    "    else:\n",
    "        print(\"No se encontró la imagen del anime.\")\n",
    "    \n",
    "    # Imprimimos el trailer del anime\n",
    "    print(f\"Trailer: {data['trailer']['url']}\")\n",
    "    print(\"-----------------------------------------------------------------\")\n",
    "    \n",
    "\n",
    "# Iteramos sobre la lista de IDs y obtenemos y mostramos la información de cada anime\n",
    "for anime_id in lista_de_recomendaciones:\n",
    "    data = obtener_info_anime(anime_id)\n",
    "    mostrar_info_anime(data)"
   ]
  },
  {
   "cell_type": "code",
   "execution_count": null,
   "id": "b3d973b3",
   "metadata": {},
   "outputs": [],
   "source": []
  }
 ],
 "metadata": {
  "kernelspec": {
   "display_name": "Python 3 (ipykernel)",
   "language": "python",
   "name": "python3"
  },
  "language_info": {
   "codemirror_mode": {
    "name": "ipython",
    "version": 3
   },
   "file_extension": ".py",
   "mimetype": "text/x-python",
   "name": "python",
   "nbconvert_exporter": "python",
   "pygments_lexer": "ipython3",
   "version": "3.9.6"
  }
 },
 "nbformat": 4,
 "nbformat_minor": 5
}
