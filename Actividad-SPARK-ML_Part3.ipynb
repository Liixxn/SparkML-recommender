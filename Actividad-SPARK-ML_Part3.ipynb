{
 "cells": [
  {
   "cell_type": "code",
   "execution_count": null,
   "id": "2f5cc90c",
   "metadata": {},
   "outputs": [],
   "source": [
    "# Importamos las bibliotecas necesarias\n",
    "import requests\n",
    "import json\n",
    "from IPython.display import Image, display\n",
    "from rich import print\n",
    "import time\n",
    "\n",
    "# Lista de IDs de animes\n",
    "lista_de_recomendaciones = []\n",
    "\n",
    "# Función para obtener la información del anime a través de la API de Jikan\n",
    "def obtener_info_anime(id):\n",
    "    # Construimos la URL de la API\n",
    "    url = f\"https://api.jikan.moe/v4/anime/{id}/full\"\n",
    "    # Hacemos una solicitud GET a la API\n",
    "    response = requests.get(url)\n",
    "    # Convertimos la respuesta en formato JSON a un diccionario de Python\n",
    "    data = json.loads(response.text)\n",
    "    # Devolvemos los datos \n",
    "    return data\n",
    "\n",
    "\n",
    "def mostrar_info_anime(data):\n",
    "    # Accedemos a los datos del anime\n",
    "    data = data['data']\n",
    "    # Imprimimos el título, la sinopsis y el trailer del anime\n",
    "    print(f\"Titulo: {data['title']}\")\n",
    "    print(f\"Sinopsis: {data['synopsis']}\")\n",
    "\n",
    "    # Buscamos cualquier URL de imagen disponible en 'images'\n",
    "    image_url = None\n",
    "    for key, value in data['images'].items():\n",
    "        if isinstance(value, dict) and 'image_url' in value:\n",
    "            image_url = value['image_url']\n",
    "    if image_url:\n",
    "        display(Image(url=image_url))\n",
    "    else:\n",
    "        print(\"No se encontró la imagen del anime.\")\n",
    "\n",
    "    print(f\"Trailer: {data['trailer']['url']}\")\n",
    "    print(\"-----------------------------------------------------------------\")\n",
    "    \n",
    "\n",
    "# Iteramos sobre la lista de IDs y obtenemos y mostramos la información de cada anime\n",
    "for anime_id in lista_de_recomendaciones:\n",
    "    data = obtener_info_anime(anime_id)\n",
    "    if 'data' not in data:\n",
    "        print(f\"El ID {anime_id} no existe.\")\n",
    "    else:\n",
    "        mostrar_info_anime(data)\n",
    "    time.sleep(1)"
   ]
  },
  {
   "cell_type": "code",
   "execution_count": null,
   "id": "430aa8ec",
   "metadata": {},
   "outputs": [],
   "source": []
  },
  {
   "cell_type": "code",
   "execution_count": null,
   "metadata": {},
   "outputs": [],
   "source": []
  }
 ],
 "metadata": {
  "kernelspec": {
   "display_name": "Python 3 (ipykernel)",
   "language": "python",
   "name": "python3"
  },
  "language_info": {
   "codemirror_mode": {
    "name": "ipython",
    "version": 3
   },
   "file_extension": ".py",
   "mimetype": "text/x-python",
   "name": "python",
   "nbconvert_exporter": "python",
   "pygments_lexer": "ipython3",
   "version": "3.9.6"
  }
 },
 "nbformat": 4,
 "nbformat_minor": 5
}
