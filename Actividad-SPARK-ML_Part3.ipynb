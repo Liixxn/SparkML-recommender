{
 "cells": [
  {
   "cell_type": "code",
   "execution_count": 1,
   "id": "7d22488c",
   "metadata": {},
   "outputs": [],
   "source": [
    "# Importamos las bibliotecas necesarias\n",
    "import requests\n",
    "import json\n",
    "from IPython.display import Image, display\n",
    "from rich import print"
   ]
  },
  {
   "cell_type": "code",
   "execution_count": 2,
   "id": "8a126e2d",
   "metadata": {},
   "outputs": [],
   "source": [
    "# Función para obtener la información del anime a través de la API de Jikan\n",
    "def obtener_info_anime(id):\n",
    "    # Construimos la URL de la API\n",
    "    url = f\"https://api.jikan.moe/v4/anime/{id}/full\"\n",
    "    # Hacemos una solicitud GET a la API\n",
    "    response = requests.get(url)\n",
    "    # Convertimos la respuesta en formato JSON a un diccionario de Python\n",
    "    data = json.loads(response.text)\n",
    "    \n",
    "    # Devolvemos los datos \n",
    "    return data"
   ]
  },
  {
   "cell_type": "code",
   "execution_count": 3,
   "id": "e6cfd739",
   "metadata": {},
   "outputs": [],
   "source": [
    "# Función para mostrar la información del anime en un cuaderno de Jupyter\n",
    "def mostrar_info_anime(data):\n",
    "    # Accedemos a los datos del anime\n",
    "    data = data['data']\n",
    "    # Imprimimos el título, la sinopsis y el trailer del anime\n",
    "    print(f\"Titulo: {data['title']}\")\n",
    "    print(f\"Sinopsis: {data['synopsis']}\")\n",
    "\n",
    "    # Buscamos cualquier URL de imagen disponible en 'images'\n",
    "    image_url = None\n",
    "    for key, value in data['images'].items():\n",
    "        if isinstance(value, dict) and 'image_url' in value:\n",
    "            image_url = value['image_url']\n",
    "            break\n",
    "\n",
    "    if image_url:\n",
    "        display(Image(url=image_url))\n",
    "    else:\n",
    "        print(\"No se encontró la imagen del anime.\")\n",
    "\n",
    "    print(f\"Trailer: {data['trailer']['url']}\")\n",
    "        "
   ]
  },
  {
   "cell_type": "code",
   "execution_count": 4,
   "id": "2f5cc90c",
   "metadata": {},
   "outputs": [
    {
     "data": {
      "text/html": [
       "<pre style=\"white-space:pre;overflow-x:auto;line-height:normal;font-family:Menlo,'DejaVu Sans Mono',consolas,'Courier New',monospace\">Titulo: Psycho-Pass\n",
       "</pre>\n"
      ],
      "text/plain": [
       "Titulo: Psycho-Pass\n"
      ]
     },
     "metadata": {},
     "output_type": "display_data"
    },
    {
     "data": {
      "text/html": [
       "<pre style=\"white-space:pre;overflow-x:auto;line-height:normal;font-family:Menlo,'DejaVu Sans Mono',consolas,'Courier New',monospace\">Sinopsis: Justice, and the enforcement of it, has changed. In the 22nd century, Japan enforces the Sibyl System, an\n",
       "objective means of determining the threat level of each citizen by examining their mental state for signs of \n",
       "criminal intent, known as their Psycho-Pass. Inspectors uphold the law by subjugating, often with lethal force, \n",
       "anyone harboring the slightest ill-will; alongside them are Enforcers, jaded Inspectors that have become latent \n",
       "criminals, granted relative freedom in exchange for carrying out the Inspectors' dirty work.\n",
       "\n",
       "Into this world steps Akane Tsunemori, a young woman with an honest desire to uphold justice. However, as she works\n",
       "alongside veteran Enforcer Shinya Kougami, she soon learns that the Sibyl System's judgments are not as perfect as \n",
       "her fellow Inspectors assume. With everything she has known turned on its head, Akane wrestles with the question of\n",
       "what justice truly is, and whether it can be upheld through the use of a system that may already be corrupt.\n",
       "\n",
       "<span style=\"font-weight: bold\">[</span>Written by MAL Rewrite<span style=\"font-weight: bold\">]</span>\n",
       "</pre>\n"
      ],
      "text/plain": [
       "Sinopsis: Justice, and the enforcement of it, has changed. In the 22nd century, Japan enforces the Sibyl System, an\n",
       "objective means of determining the threat level of each citizen by examining their mental state for signs of \n",
       "criminal intent, known as their Psycho-Pass. Inspectors uphold the law by subjugating, often with lethal force, \n",
       "anyone harboring the slightest ill-will; alongside them are Enforcers, jaded Inspectors that have become latent \n",
       "criminals, granted relative freedom in exchange for carrying out the Inspectors' dirty work.\n",
       "\n",
       "Into this world steps Akane Tsunemori, a young woman with an honest desire to uphold justice. However, as she works\n",
       "alongside veteran Enforcer Shinya Kougami, she soon learns that the Sibyl System's judgments are not as perfect as \n",
       "her fellow Inspectors assume. With everything she has known turned on its head, Akane wrestles with the question of\n",
       "what justice truly is, and whether it can be upheld through the use of a system that may already be corrupt.\n",
       "\n",
       "\u001b[1m[\u001b[0mWritten by MAL Rewrite\u001b[1m]\u001b[0m\n"
      ]
     },
     "metadata": {},
     "output_type": "display_data"
    },
    {
     "data": {
      "text/html": [
       "<img src=\"https://cdn.myanimelist.net/images/anime/5/43399.jpg\"/>"
      ],
      "text/plain": [
       "<IPython.core.display.Image object>"
      ]
     },
     "metadata": {},
     "output_type": "display_data"
    },
    {
     "data": {
      "text/html": [
       "<pre style=\"white-space:pre;overflow-x:auto;line-height:normal;font-family:Menlo,'DejaVu Sans Mono',consolas,'Courier New',monospace\">Trailer: <span style=\"color: #0000ff; text-decoration-color: #0000ff; text-decoration: underline\">https://www.youtube.com/watch?v=DgDBzAHg4wU</span>\n",
       "</pre>\n"
      ],
      "text/plain": [
       "Trailer: \u001b[4;94mhttps://www.youtube.com/watch?\u001b[0m\u001b[4;94mv\u001b[0m\u001b[4;94m=\u001b[0m\u001b[4;94mDgDBzAHg4wU\u001b[0m\n"
      ]
     },
     "metadata": {},
     "output_type": "display_data"
    }
   ],
   "source": [
    "# Obtenemos la información del anime con ID 13601 y la mostramos en el cuaderno de Jupyter\n",
    "data = obtener_info_anime(13601)\n",
    "mostrar_info_anime(data)"
   ]
  },
  {
   "cell_type": "code",
   "execution_count": null,
   "id": "430aa8ec",
   "metadata": {},
   "outputs": [],
   "source": []
  }
 ],
 "metadata": {
  "kernelspec": {
   "display_name": "Python 3 (ipykernel)",
   "language": "python",
   "name": "python3"
  },
  "language_info": {
   "codemirror_mode": {
    "name": "ipython",
    "version": 3
   },
   "file_extension": ".py",
   "mimetype": "text/x-python",
   "name": "python",
   "nbconvert_exporter": "python",
   "pygments_lexer": "ipython3",
   "version": "3.11.5"
  }
 },
 "nbformat": 4,
 "nbformat_minor": 5
}
