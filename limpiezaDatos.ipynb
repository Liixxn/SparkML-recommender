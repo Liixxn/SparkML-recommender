{
 "cells": [
  {
   "cell_type": "code",
   "execution_count": 1,
   "metadata": {},
   "outputs": [],
   "source": [
    "from pyspark.sql import SparkSession\n",
    "from pyspark.sql.functions import when, round\n",
    "# Inicializamos la sesion de Spark\n",
    "spark = SparkSession.builder.appName(\"SistemaRecomendacion_ALS\").config(\"spark.executor.memory\", \"8g\").config(\"spark.executor.cores\", \"6\").config(\"spark.driver.memory\",\"8g\").getOrCreate()\n",
    "\n",
    "# Cargamos el dataset\n",
    "df = spark.read.option(\"delimiter\", \",\").option(\"quote\", '\"').option(\"escape\", '\"').csv(\"data/anime.csv\", header=True, inferSchema=True)\n"
   ]
  },
  {
   "cell_type": "markdown",
   "metadata": {},
   "source": [
    "# Limpieza de los datos"
   ]
  },
  {
   "cell_type": "code",
   "execution_count": 2,
   "metadata": {},
   "outputs": [
    {
     "name": "stdout",
     "output_type": "stream",
     "text": [
      "+---+--------------------+-----+--------------------+--------------------+------------------------------+-----+--------+--------------------+-----------+--------------------+--------------------+----------------+-----------+---------------+--------------------+------+----------+-------+---------+--------+---------+-------+-------+-------------+--------+--------+--------+--------+--------+-------+-------+-------+-------+-------+\n",
      "| ID|                Name|Score|              Genres|        English name|                 Japanese name| Type|Episodes|               Aired|  Premiered|           Producers|           Licensors|         Studios|     Source|       Duration|              Rating|Ranked|Popularity|Members|Favorites|Watching|Completed|On-Hold|Dropped|Plan to Watch|Score-10| Score-9| Score-8| Score-7| Score-6|Score-5|Score-4|Score-3|Score-2|Score-1|\n",
      "+---+--------------------+-----+--------------------+--------------------+------------------------------+-----+--------+--------------------+-----------+--------------------+--------------------+----------------+-----------+---------------+--------------------+------+----------+-------+---------+--------+---------+-------+-------+-------------+--------+--------+--------+--------+--------+-------+-------+-------+-------+-------+\n",
      "|  1|        Cowboy Bebop| 8.78|Action, Adventure...|        Cowboy Bebop|            カウボーイビバップ|   TV|      26|Apr 3, 1998 to Ap...|Spring 1998|       Bandai Visual|Funimation, Banda...|         Sunrise|   Original|24 min. per ep.|R - 17+ (violence...|  28.0|        39|1251960|    61971|  105808|   718161|  71513|  26678|       329800|229170.0|182126.0|131625.0| 62330.0| 20688.0| 8904.0| 3184.0| 1357.0|  741.0| 1580.0|\n",
      "|  5|Cowboy Bebop: Ten...| 8.39|Action, Drama, My...|Cowboy Bebop:The ...|   カウボーイビバップ 天国の扉|Movie|       1|         Sep 1, 2001|    Unknown|Sunrise, Bandai V...|Sony Pictures Ent...|           Bones|   Original|  1 hr. 55 min.|R - 17+ (violence...| 159.0|       518| 273145|     1174|    4143|   208333|   1935|    770|        57964| 30043.0| 49201.0| 49505.0| 22632.0|  5805.0| 1877.0|  577.0|  221.0|  109.0|  379.0|\n",
      "|  6|              Trigun| 8.24|Action, Sci-Fi, A...|              Trigun|                    トライガン|   TV|      26|Apr 1, 1998 to Se...|Spring 1998|Victor Entertainment|Funimation, Geneo...|        Madhouse|      Manga|24 min. per ep.|PG-13 - Teens 13 ...| 266.0|       201| 558913|    12944|   29113|   343492|  25465|  13925|       146918| 50229.0| 75651.0| 86142.0| 49432.0| 15376.0| 5838.0| 1965.0|  664.0|  316.0|  533.0|\n",
      "|  7|  Witch Hunter Robin| 7.27|Action, Mystery, ...|  Witch Hunter Robin|          Witch Hunter ROBI...|   TV|      26|Jul 2, 2002 to De...|Summer 2002|TV Tokyo, Bandai ...|Funimation, Banda...|         Sunrise|   Original|25 min. per ep.|PG-13 - Teens 13 ...|2481.0|      1467|  94683|      587|    4300|    46165|   5121|   5378|        33719|  2182.0|  4806.0| 10128.0| 11618.0|  5709.0| 2920.0| 1083.0|  353.0|  164.0|  131.0|\n",
      "|  8|      Bouken Ou Beet| 6.98|Adventure, Fantas...|Beet the Vandel B...|                  冒険王ビィト|   TV|      52|Sep 30, 2004 to S...|  Fall 2004|    TV Tokyo, Dentsu|             Unknown|  Toei Animation|      Manga|23 min. per ep.|       PG - Children|3710.0|      4369|  13224|       18|     642|     7314|    766|   1108|         3394|   312.0|   529.0|  1242.0|  1713.0|  1068.0|  634.0|  265.0|   83.0|   50.0|   27.0|\n",
      "| 15|        Eyeshield 21| 7.95|Action, Sports, C...|             Unknown|                アイシールド21|   TV|     145|Apr 6, 2005 to Ma...|Spring 2005|TV Tokyo, Nihon A...|VIZ Media, Sentai...|          Gallop|      Manga|23 min. per ep.|PG-13 - Teens 13 ...| 604.0|      1003| 148259|     2066|   13907|    78349|  14228|  11573|        30202|  9226.0| 14904.0| 22811.0| 16734.0|  6206.0| 2621.0|  795.0|  336.0|  140.0|  151.0|\n",
      "| 16|Hachimitsu to Clover| 8.06|Comedy, Drama, Jo...|    Honey and Clover|          ハチミツとクローバー|   TV|      24|Apr 15, 2005 to S...|Spring 2005|Genco, Fuji TV, S...|VIZ Media, Discot...|       J.C.Staff|      Manga|23 min. per ep.|PG-13 - Teens 13 ...| 468.0|       687| 214499|     4101|   11909|    81145|  11901|  11026|        98518| 11829.0| 16309.0| 20008.0| 13062.0|  5574.0| 3148.0| 1339.0|  484.0|  278.0|  321.0|\n",
      "| 17|Hungry Heart: Wil...| 7.59|Slice of Life, Co...|             Unknown|  ハングリーハート Wild Str...|   TV|      52|Sep 11, 2002 to S...|  Fall 2002|             Unknown|             Unknown|Nippon Animation|      Manga|23 min. per ep.|PG-13 - Teens 13 ...|1317.0|      3612|  20470|      231|     817|    13778|    828|   1168|         3879|  1123.0|  1777.0|  3102.0|  3075.0|  1286.0|  602.0|  218.0|   88.0|   31.0|   32.0|\n",
      "| 18|Initial D Fourth ...| 8.15|Action, Cars, Spo...|             Unknown|頭文字〈イニシャル〉D FOURT...|   TV|      24|Apr 17, 2004 to F...|Spring 2004|OB Planning, Stud...|          Funimation|        A.C.G.T.|      Manga|27 min. per ep.|PG-13 - Teens 13 ...| 360.0|      1233| 117929|      979|    6082|    90967|   3053|   1356|        16471| 10948.0| 15820.0| 22379.0| 12912.0|  3874.0| 1236.0|  369.0|   97.0|   48.0|  259.0|\n",
      "| 19|             Monster| 8.76|Drama, Horror, My...|             Monster|                    モンスター|   TV|      74|Apr 7, 2004 to Se...|Spring 2004|VAP, Shogakukan-S...|           VIZ Media|        Madhouse|      Manga|24 min. per ep.|    R+ - Mild Nudity|  30.0|       169| 614100|    29436|   64648|   214491|  47488|  23008|       264465| 77350.0| 60652.0| 43459.0| 22045.0|  8861.0| 4381.0| 2086.0|  882.0|  593.0| 1177.0|\n",
      "| 20|              Naruto| 7.91|Action, Adventure...|              Naruto|                        ナルト|   TV|     220|Oct 3, 2002 to Fe...|  Fall 2002|TV Tokyo, Aniplex...|           VIZ Media|  Studio Pierrot|      Manga|23 min. per ep.|PG-13 - Teens 13 ...| 660.0|         8|1830540|    65586|  137167|  1462223|  61734|  99806|        69610|216866.0|234481.0|345563.0|286175.0|108155.0|46886.0|15477.0| 6098.0| 3582.0| 5310.0|\n",
      "| 21|           One Piece| 8.52|Action, Adventure...|           One Piece|                     ONE PIECE|   TV| Unknown|   Oct 20, 1999 to ?|  Fall 1999|Fuji TV, TAP, Shu...|Funimation, 4Kids...|  Toei Animation|      Manga|        24 min.|PG-13 - Teens 13 ...|  95.0|        31|1352724|   126645|  887333|       33| 187919| 136245|       141194|292445.0|166186.0|141755.0| 85424.0| 35342.0|19019.0| 8201.0| 3675.0| 2616.0| 6340.0|\n",
      "| 22| Tennis no Ouji-sama|  7.9|Action, Comedy, S...|The Prince of Tennis|                テニスの王子様|   TV|     178|Oct 10, 2001 to M...|  Fall 2001|Production I.G, N...|           VIZ Media|      Trans Arts|      Manga|22 min. per ep.|PG-13 - Teens 13 ...| 675.0|      1039| 141832|     3124|   11235|    76881|  12905|  12516|        28295|  9576.0| 12719.0| 19791.0| 16284.0|  6624.0| 3086.0| 1071.0|  443.0|  210.0|  225.0|\n",
      "| 23|    Ring ni Kakero 1| 6.38|Action, Shounen, ...|             Unknown|              リングにかけろ１|   TV|      12|Oct 6, 2004 to De...|  Fall 2004|             Unknown|             Unknown|  Toei Animation|      Manga|25 min. per ep.|       PG - Children|6493.0|      7333|   3648|       16|     170|     1333|    145|    296|         1704|    69.0|    61.0|   152.0|   260.0|   236.0|  143.0|   88.0|   40.0|   32.0|   28.0|\n",
      "| 24|       School Rumble| 7.94|Comedy, Romance, ...|       School Rumble|              スクールランブル|   TV|      26|Oct 5, 2004 to Ma...|  Fall 2004|TV Tokyo, Sotsu, ...|          Funimation|    Studio Comet|      Manga|23 min. per ep.|PG-13 - Teens 13 ...| 625.0|       514| 275464|     5137|   12277|   157789|  12856|  13491|        79051| 17907.0| 27623.0| 38112.0| 27327.0| 11034.0| 5396.0| 1897.0|  780.0|  441.0|  405.0|\n",
      "| 25|           Sunabouzu| 7.42|Action, Adventure...|         Desert Punk|                      砂ぼうず|   TV|      24|Oct 6, 2004 to Ma...|  Fall 2004|GDH, Pony Canyon,...|          Funimation|           Gonzo|      Manga|24 min. per ep.|R - 17+ (violence...|1844.0|      1284| 111734|      790|    6273|    53819|   6255|   7951|        37436|  3589.0|  6664.0| 12349.0| 12702.0|  6033.0| 3079.0| 1521.0|  643.0|  350.0|  297.0|\n",
      "| 26|          Texhnolyze| 7.76|Action, Sci-Fi, P...|          Texhnolyze|                    TEXHNOLYZE|   TV|      22|Apr 17, 2003 to S...|Spring 2003|Group TAC, Rondo ...|Funimation, Geneo...|        Madhouse|   Original|23 min. per ep.|    R+ - Mild Nudity| 896.0|       823| 182599|     3671|   11335|    47532|   9815|   8112|       105805|  6856.0|  8309.0| 10851.0|  8636.0|  4429.0| 2462.0| 1456.0|  684.0|  411.0|  664.0|\n",
      "| 27|       Trinity Blood| 7.32|Action, Supernatu...|       Trinity Blood|          トリニティ・ブラッド|   TV|      24|Apr 29, 2005 to O...|Spring 2005|             Unknown|          Funimation|           Gonzo|Light novel|24 min. per ep.|R - 17+ (violence...|2240.0|       936| 158343|     1479|    7794|    87958|   8940|   9349|        44302|  6091.0|  9759.0| 17761.0| 20152.0| 10273.0| 5392.0| 2250.0|  873.0|  456.0|  298.0|\n",
      "| 28|    Yakitate!! Japan| 7.95|     Comedy, Shounen|    Yakitate!! Japan|           焼きたて!! ジャぱん|   TV|      69|Oct 12, 2004 to M...|  Fall 2004|TV Tokyo, Aniplex...|Nozomi Entertainment|         Sunrise|      Manga|24 min. per ep.|PG-13 - Teens 13 ...| 609.0|      1666|  80183|      887|    5007|    39992|   5764|   4633|        24787|  4347.0|  7425.0| 11074.0|  7965.0|  3038.0| 1248.0|  345.0|  118.0|   56.0|   58.0|\n",
      "| 29|              Zipang| 7.51|Action, Military,...|             Unknown|                      ジパング|   TV|      26|Oct 8, 2004 to Ap...|  Fall 2004|      Marvelous, TBS|Geneon Entertainm...|     Studio Deen|      Manga|24 min. per ep.|PG-13 - Teens 13 ...|1565.0|      3985|  16652|      152|     857|     6807|    721|    599|         7668|   430.0|   874.0|  1801.0|  1696.0|   662.0|  279.0|  114.0|   38.0|   13.0|   28.0|\n",
      "+---+--------------------+-----+--------------------+--------------------+------------------------------+-----+--------+--------------------+-----------+--------------------+--------------------+----------------+-----------+---------------+--------------------+------+----------+-------+---------+--------+---------+-------+-------+-------------+--------+--------+--------+--------+--------+-------+-------+-------+-------+-------+\n",
      "only showing top 20 rows\n",
      "\n"
     ]
    }
   ],
   "source": [
    "# Visualizamos todo el dataset de animes\n",
    "df.show()"
   ]
  },
  {
   "cell_type": "code",
   "execution_count": 3,
   "metadata": {},
   "outputs": [
    {
     "data": {
      "text/plain": [
       "37"
      ]
     },
     "execution_count": 3,
     "metadata": {},
     "output_type": "execute_result"
    }
   ],
   "source": [
    "# Visualizamos las filas con valores nulos\n",
    "df.where(df[\"Type\"] == \"Unknown\").count()"
   ]
  },
  {
   "cell_type": "code",
   "execution_count": 4,
   "metadata": {},
   "outputs": [
    {
     "name": "stdout",
     "output_type": "stream",
     "text": [
      "+-------+\n",
      "|Type   |\n",
      "+-------+\n",
      "|TV     |\n",
      "|Special|\n",
      "|Unknown|\n",
      "|OVA    |\n",
      "|Music  |\n",
      "|Movie  |\n",
      "|ONA    |\n",
      "+-------+\n",
      "\n"
     ]
    }
   ],
   "source": [
    "# Visualizamos los tipos de animes que existen (Movie, TV, OVA, etc)\n",
    "df.select(\"Type\").distinct().show(20, False)"
   ]
  },
  {
   "cell_type": "code",
   "execution_count": 5,
   "metadata": {},
   "outputs": [],
   "source": [
    "# Se filtra el dataset para que solo contenga los animes de tipo Movie y TV\n",
    "df_filtered = df.filter((df[\"Type\"] == \"Movie\") | (df[\"Type\"] == \"TV\"))"
   ]
  },
  {
   "cell_type": "code",
   "execution_count": 6,
   "metadata": {},
   "outputs": [],
   "source": [
    "\n",
    "# Convertimos los valores de las columnas de Score-1 a Score-10 a valores numericos cambiando los Unknown por 0\n",
    "df_filtered = df_filtered.withColumn(\"Score-1\", when(df_filtered[\"Score-1\"] == \"Unknown\", 0).otherwise(df_filtered[\"Score-1\"])) \\\n",
    "    .withColumn(\"Score-2\", when(df_filtered[\"Score-2\"] == \"Unknown\", 0).otherwise(df_filtered[\"Score-2\"])) \\\n",
    "    .withColumn(\"Score-3\", when(df_filtered[\"Score-3\"] == \"Unknown\", 0).otherwise(df_filtered[\"Score-3\"])) \\\n",
    "    .withColumn(\"Score-4\", when(df_filtered[\"Score-4\"] == \"Unknown\", 0).otherwise(df_filtered[\"Score-4\"])) \\\n",
    "    .withColumn(\"Score-5\", when(df_filtered[\"Score-5\"] == \"Unknown\", 0).otherwise(df_filtered[\"Score-5\"])) \\\n",
    "    .withColumn(\"Score-6\", when(df_filtered[\"Score-6\"] == \"Unknown\", 0).otherwise(df_filtered[\"Score-6\"])) \\\n",
    "    .withColumn(\"Score-7\", when(df_filtered[\"Score-7\"] == \"Unknown\", 0).otherwise(df_filtered[\"Score-7\"])) \\\n",
    "    .withColumn(\"Score-8\", when(df_filtered[\"Score-8\"] == \"Unknown\", 0).otherwise(df_filtered[\"Score-8\"])) \\\n",
    "    .withColumn(\"Score-9\", when(df_filtered[\"Score-9\"] == \"Unknown\", 0).otherwise(df_filtered[\"Score-9\"])) \\\n",
    "    .withColumn(\"Score-10\", when(df_filtered[\"Score-10\"] == \"Unknown\", 0).otherwise(df_filtered[\"Score-10\"]))\n",
    "    "
   ]
  },
  {
   "cell_type": "code",
   "execution_count": 7,
   "metadata": {},
   "outputs": [
    {
     "name": "stdout",
     "output_type": "stream",
     "text": [
      "+----+--------------------+-------+--------------------+--------------------+-------------------------------------+-----+--------+--------------------+-----------+--------------------+---------+--------------------+---------+---------------+--------------------+-------+----------+-------+---------+--------+---------+-------+-------+-------------+--------+-------+-------+-------+-------+-------+-------+-------+-------+-------+\n",
      "|  ID|                Name|  Score|              Genres|        English name|                        Japanese name| Type|Episodes|               Aired|  Premiered|           Producers|Licensors|             Studios|   Source|       Duration|              Rating| Ranked|Popularity|Members|Favorites|Watching|Completed|On-Hold|Dropped|Plan to Watch|Score-10|Score-9|Score-8|Score-7|Score-6|Score-5|Score-4|Score-3|Score-2|Score-1|\n",
      "+----+--------------------+-------+--------------------+--------------------+-------------------------------------+-----+--------+--------------------+-----------+--------------------+---------+--------------------+---------+---------------+--------------------+-------+----------+-------+---------+--------+---------+-------+-------+-------------+--------+-------+-------+-------+-------+-------+-------+-------+-------+-------+\n",
      "|1547|    Obake no Q-tarou|Unknown|Comedy, School, S...|             Unknown|                       オバケのＱ太郎|   TV|      96|Aug 29, 1965 to J...|Summer 1965|             Unknown|  Unknown|   Shin-Ei Animation|    Manga|25 min. per ep.|        G - All Ages|11270.0|     11870|    557|        0|      25|      175|     26|    107|          224|     8.0|    5.0|    6.0|   20.0|   28.0|   31.0|    6.0|    6.0|    2.0|   10.0|\n",
      "|1656|     PostPet Momobin|Unknown|        Comedy, Kids|             Unknown|                   ポストペットモモ便|   TV|      24|Jul 4, 2004 to Ja...|Summer 2004|             Unknown|  Unknown|             Unknown|  Unknown| 3 min. per ep.|        G - All Ages|11598.0|     12929|    359|        0|      18|      140|     12|     71|          118|     7.0|    2.0|    6.0|   13.0|   17.0|   22.0|   15.0|   12.0|    7.0|   10.0|\n",
      "|1739|Shibawanko no Wa ...|Unknown|                Kids|             Unknown|               しばわんこの和のこころ|   TV|      80|Apr 5, 2006 to Ma...|Spring 2006|             Unknown|  Unknown|             Three-d|  Unknown| 2 min. per ep.|        G - All Ages|11947.0|     11799|    574|        0|      52|      104|     61|    100|          257|     6.0|    4.0|   23.0|   28.0|   18.0|   17.0|    1.0|    3.0|      0|    8.0|\n",
      "|1863|Silk Road Shounen...|Unknown|Adventure, Fantas...|             Unknown|              シルクロード少年 ユート|   TV|      26|Sep 16, 2006 to M...|  Fall 2006|             NHK-BS2|  Unknown|                 OLM|  Unknown|20 min. per ep.|             Unknown|12096.0|     12286|    473|        0|      31|       71|      8|     57|          306|     3.0|    1.0|    2.0|    9.0|    5.0|    9.0|    3.0|    1.0|    2.0|    3.0|\n",
      "|2173|Kouchuu Ouja Mush...|Unknown|  Adventure, Fantasy|Mushiking:The Kin...|甲虫王者ムシキング　スーパーバトル...|Movie|       1|        Mar 21, 2007|    Unknown|                Sega|  Unknown|             Unknown|Card game|        50 min.|        G - All Ages|15166.0|     12530|    424|        1|      20|      159|     16|     41|          188|     9.0|    5.0|    4.0|   20.0|   22.0|   18.0|    9.0|    3.0|    7.0|    4.0|\n",
      "|2366| Touma Kishinden Oni|Unknown|        Supernatural|             Unknown|                        闘魔鬼神伝ONI|   TV|      25|Oct 5, 1995 to Ma...|  Fall 1995|Sotsu, Youmex, Ji...|  Unknown|           J.C.Staff|     Game| 8 min. per ep.|PG-13 - Teens 13 ...|12591.0|     11179|    736|        0|      56|      133|     26|     66|          455|     5.0|    7.0|   16.0|   10.0|   19.0|   18.0|    6.0|    4.0|    2.0|    6.0|\n",
      "|2636|Dorami-chan: Wow,...|Unknown|             Fantasy|             Unknown|    ドラミちゃん アララ・少年山賊団！|Movie|       1|         Mar 9, 1991|    Unknown|             Unknown|  Unknown|             Unknown|  Unknown|        40 min.|        G - All Ages|13835.0|     13232|    324|        0|      14|      157|     11|     34|          108|     8.0|    1.0|    7.0|   22.0|   24.0|   21.0|    7.0|    2.0|    1.0|    4.0|\n",
      "|2639|Dorami-chan: Hell...|Unknown|             Fantasy|             Unknown|      ドラミちゃん ハロー恐竜キッズ!!|Movie|       1|         Mar 6, 1993|    Unknown|             Unknown|  Unknown|             Unknown|  Unknown|        40 min.|        G - All Ages|13844.0|     13242|    321|        0|      13|      165|      9|     32|          102|     6.0|    3.0|    3.0|   23.0|   30.0|   27.0|    8.0|    2.0|      0|    3.0|\n",
      "|2642|Dorami-chan: A Bl...|Unknown|       Kids, Fantasy|             Unknown|      ドラミちゃん 青いストローハット|Movie|       1|        Mar 12, 1994|    Unknown|             Unknown|  Unknown|             Unknown|  Unknown|        15 min.|        G - All Ages|13845.0|     13790|    274|        0|      10|      137|      9|     29|           89|     7.0|    2.0|    4.0|   13.0|   22.0|   26.0|    4.0|    3.0|    2.0|    2.0|\n",
      "|2691|Gensei Shugoshin ...|Unknown|  Adventure, Fantasy|             Unknown|           現世守護神　ぴーひょろ一家|Movie|       1|         Jul 9, 1988|    Unknown|       Bandai Visual|  Unknown|             Unknown|    Manga|        30 min.|PG-13 - Teens 13 ...|14116.0|     13295|    320|        0|      17|       64|     11|     43|          185|     5.0|      0|    2.0|    3.0|    6.0|   14.0|    2.0|    4.0|    1.0|    5.0|\n",
      "|2701| Susie-chan to Marvy|Unknown|        Comedy, Kids|Little Susie and ...|             スージーちゃんとマービー|   TV|     104|Apr 5, 1999 to Fe...|Spring 1999|             Unknown|  Unknown|               Xebec|  Unknown|15 min. per ep.|             Unknown|12301.0|     14538|    221|        0|      13|       68|     10|     56|           74|     4.0|    4.0|      0|    8.0|    6.0|    8.0|    6.0|    2.0|    3.0|    3.0|\n",
      "|2708|          Wankorobee|Unknown|Comedy, Fantasy, ...|             Unknown|                         わんころべえ|   TV|      26|Oct 6, 1996 to Ma...|  Fall 1996|             Unknown|  Unknown|Ajia-Do, TMS Ente...| Original|15 min. per ep.|        G - All Ages|12782.0|     14602|    216|        0|      11|       59|      7|     66|           73|     2.0|      0|    3.0|    7.0|    1.0|    9.0|    6.0|    2.0|      0|    4.0|\n",
      "|2735|Mugen Senki Portriss|Unknown|Action, Mecha, Sc...|             Unknown|                     無限戦記ポトリス|   TV|      52|Apr 5, 2003 to Ma...|Spring 2003|TV Tokyo, Bandai ...|  Unknown|Sunrise, Dongwoo A&E|  Unknown|25 min. per ep.|       PG - Children|15698.0|     12851|    372|        0|      32|       95|     13|     62|          170|     3.0|      0|    7.0|   11.0|   10.0|   17.0|    1.0|    6.0|    1.0|    4.0|\n",
      "|2738|  Kasumin 3rd Season|Unknown|       Kids, Fantasy|             Unknown|               カスミン (第3シリーズ)|   TV|      26|Apr 9, 2003 to Oc...|Spring 2003|                 NHK|  Unknown|                 OLM|  Unknown|25 min. per ep.|       PG - Children|14908.0|     12369|    455|        3|      32|      125|     31|     68|          199|     5.0|    5.0|   11.0|   28.0|   18.0|   18.0|   10.0|    3.0|      0|    3.0|\n",
      "|2741|       Monkey Turn V|Unknown|Action, Sports, D...|             Unknown|                    モンキー ターン V|   TV|      25|Jul 4, 2004 to De...|Summer 2004|                 AIC|  Unknown|                 OLM|    Manga|24 min. per ep.|PG-13 - Teens 13 ...|15646.0|     11845|    562|        0|      37|      168|     20|     63|          274|    12.0|    2.0|   24.0|   28.0|   19.0|   11.0|    5.0|    4.0|    3.0|    4.0|\n",
      "|2742|Omoikkiri Kagaku ...|Unknown|Comedy, Kids, Sci-Fi|Full-Blast Scienc...| おもいっきり科学アドベンチャー そ...|   TV|      26|Oct 5, 2003 to Ma...|  Fall 2003|TV Tokyo, Geneon ...|  Unknown|                 OLM|  Unknown|20 min. per ep.|             Unknown|11329.0|     12746|    387|        0|      33|       87|     14|     70|          183|     5.0|    2.0|    3.0|   12.0|    5.0|   16.0|    7.0|    4.0|    2.0|    5.0|\n",
      "|2750|Heisei Inu Monoga...|Unknown|   Adventure, Comedy|Heisei Dog Storie...|                     平成イヌ物語バウ|Movie|       1|        Aug 20, 1994|    Unknown|             Unknown|  Unknown|    Nippon Animation|  Unknown|        22 min.|             Unknown|14333.0|     13734|    278|        0|      13|      104|      6|     44|          111|     5.0|    3.0|   12.0|   16.0|   10.0|   11.0|    2.0|      0|    3.0|    5.0|\n",
      "|2930|   Tensai? Dr. Hamax|Unknown|              Comedy|             Unknown|                  天才？Dr.ハマックス|   TV|      12|Oct 6, 2007 to De...|  Fall 2007|Trans Arts, Tohok...|  Unknown|      Production I.G| Original|23 min. per ep.|        G - All Ages|12443.0|     14501|    223|        0|      15|       50|     10|     57|           91|     3.0|    2.0|    2.0|    2.0|    1.0|    8.0|    3.0|      0|    2.0|    3.0|\n",
      "|3073|    Robby to Kerobby|Unknown|        Kids, Comedy|     Robby & Kerobby|                     ロビーとケロビー|   TV|      52|Apr 1, 2007 to Ma...|Spring 2007|Aniplex, Yomiko A...|  Unknown|        A-1 Pictures| Original|10 min. per ep.|        G - All Ages|11725.0|     14482|    224|        0|      20|       50|      6|     56|           92|     4.0|      0|    3.0|    5.0|    8.0|    5.0|    1.0|    2.0|    3.0|    1.0|\n",
      "|3164|Ichigo Ichie: Koi...|Unknown|Slice of Life, Co...|             Unknown|                一期一会 恋バナ友バナ|   TV|      13|Oct 20, 2007 to J...|  Fall 2007|           Four Some|  Unknown|             Unknown|  Unknown| 5 min. per ep.|        G - All Ages|14573.0|     12626|    412|        0|      29|      121|     16|     49|          197|     7.0|    8.0|    6.0|   18.0|   14.0|   15.0|    3.0|      0|    1.0|    7.0|\n",
      "+----+--------------------+-------+--------------------+--------------------+-------------------------------------+-----+--------+--------------------+-----------+--------------------+---------+--------------------+---------+---------------+--------------------+-------+----------+-------+---------+--------+---------+-------+-------+-------------+--------+-------+-------+-------+-------+-------+-------+-------+-------+-------+\n",
      "only showing top 20 rows\n",
      "\n"
     ]
    }
   ],
   "source": [
    "# Visualizamos el dataset con Scores en Unknown y verificamos que los valores de Scores-1 al Scores-10 sean numericos\n",
    "df_filtered.where(df_filtered[\"Score\"] == \"Unknown\").show()\n"
   ]
  },
  {
   "cell_type": "code",
   "execution_count": 8,
   "metadata": {},
   "outputs": [
    {
     "name": "stdout",
     "output_type": "stream",
     "text": [
      "+----+----------------+-------+--------------------+------------+--------------+----+--------+--------------------+-----------+---------+---------+-----------------+------+---------------+------------+-------+----------+-------+---------+--------+---------+-------+-------+-------------+--------+-------+-------+-------+-------+-------+-------+-------+-------+-------+\n",
      "|  ID|            Name|  Score|              Genres|English name| Japanese name|Type|Episodes|               Aired|  Premiered|Producers|Licensors|          Studios|Source|       Duration|      Rating| Ranked|Popularity|Members|Favorites|Watching|Completed|On-Hold|Dropped|Plan to Watch|Score-10|Score-9|Score-8|Score-7|Score-6|Score-5|Score-4|Score-3|Score-2|Score-1|\n",
      "+----+----------------+-------+--------------------+------------+--------------+----+--------+--------------------+-----------+---------+---------+-----------------+------+---------------+------------+-------+----------+-------+---------+--------+---------+-------+-------+-------------+--------+-------+-------+-------+-------+-------+-------+-------+-------+-------+\n",
      "|1547|Obake no Q-tarou|Unknown|Comedy, School, S...|     Unknown|オバケのＱ太郎|  TV|      96|Aug 29, 1965 to J...|Summer 1965|  Unknown|  Unknown|Shin-Ei Animation| Manga|25 min. per ep.|G - All Ages|11270.0|     11870|    557|        0|      25|      175|     26|    107|          224|     8.0|    5.0|    6.0|   20.0|   28.0|   31.0|    6.0|    6.0|    2.0|   10.0|\n",
      "+----+----------------+-------+--------------------+------------+--------------+----+--------+--------------------+-----------+---------+---------+-----------------+------+---------------+------------+-------+----------+-------+---------+--------+---------+-------+-------+-------------+--------+-------+-------+-------+-------+-------+-------+-------+-------+-------+\n",
      "\n"
     ]
    }
   ],
   "source": [
    "## Se muestra uno de los animes para verificar un cambio en la siguinete ejeciución\n",
    "df_filtered.where(df_filtered[\"ID\"] == \"1547\").show()"
   ]
  },
  {
   "cell_type": "code",
   "execution_count": 9,
   "metadata": {},
   "outputs": [],
   "source": [
    "# Se calcula el Score promedio de cada anime si no tiene, y se guarda en la columna Score en otro caso mantiene el Score que tiene\n",
    "df_filtered = df_filtered.withColumn(\"Score\", when(df_filtered[\"Score\"] == \"Unknown\", (df_filtered[\"Score-1\"] *1 + df_filtered[\"Score-2\"] *2 + df_filtered[\"Score-3\"] *3 + df_filtered[\"Score-4\"] *4 + df_filtered[\"Score-5\"] *5 + df_filtered[\"Score-6\"] *6 + df_filtered[\"Score-7\"] *7 + df_filtered[\"Score-8\"] *8 + df_filtered[\"Score-9\"] *9 + df_filtered[\"Score-10\"] *10) / (df_filtered[\"Score-1\"] + df_filtered[\"Score-2\"] + df_filtered[\"Score-3\"] + df_filtered[\"Score-4\"] + df_filtered[\"Score-5\"] + df_filtered[\"Score-6\"] + df_filtered[\"Score-7\"] + df_filtered[\"Score-8\"] + df_filtered[\"Score-9\"] + df_filtered[\"Score-10\"])).otherwise(df_filtered[\"Score\"]))"
   ]
  },
  {
   "cell_type": "code",
   "execution_count": 10,
   "metadata": {},
   "outputs": [],
   "source": [
    "# Redondeamos el Score a 2 decimales\n",
    "df_filtered = df_filtered.withColumn(\"Score\", round(df_filtered.Score, 2))"
   ]
  },
  {
   "cell_type": "code",
   "execution_count": 11,
   "metadata": {},
   "outputs": [
    {
     "name": "stdout",
     "output_type": "stream",
     "text": [
      "+----+----------------+-----+--------------------+------------+--------------+----+--------+--------------------+-----------+---------+---------+-----------------+------+---------------+------------+-------+----------+-------+---------+--------+---------+-------+-------+-------------+--------+-------+-------+-------+-------+-------+-------+-------+-------+-------+\n",
      "|  ID|            Name|Score|              Genres|English name| Japanese name|Type|Episodes|               Aired|  Premiered|Producers|Licensors|          Studios|Source|       Duration|      Rating| Ranked|Popularity|Members|Favorites|Watching|Completed|On-Hold|Dropped|Plan to Watch|Score-10|Score-9|Score-8|Score-7|Score-6|Score-5|Score-4|Score-3|Score-2|Score-1|\n",
      "+----+----------------+-----+--------------------+------------+--------------+----+--------+--------------------+-----------+---------+---------+-----------------+------+---------------+------------+-------+----------+-------+---------+--------+---------+-------+-------+-------------+--------+-------+-------+-------+-------+-------+-------+-------+-------+-------+\n",
      "|1547|Obake no Q-tarou| 5.67|Comedy, School, S...|     Unknown|オバケのＱ太郎|  TV|      96|Aug 29, 1965 to J...|Summer 1965|  Unknown|  Unknown|Shin-Ei Animation| Manga|25 min. per ep.|G - All Ages|11270.0|     11870|    557|        0|      25|      175|     26|    107|          224|     8.0|    5.0|    6.0|   20.0|   28.0|   31.0|    6.0|    6.0|    2.0|   10.0|\n",
      "+----+----------------+-----+--------------------+------------+--------------+----+--------+--------------------+-----------+---------+---------+-----------------+------+---------------+------------+-------+----------+-------+---------+--------+---------+-------+-------+-------------+--------+-------+-------+-------+-------+-------+-------+-------+-------+-------+\n",
      "\n"
     ]
    }
   ],
   "source": [
    "# Se muestra uno de los animes para verificar que el Score se haya calculado correctamente\n",
    "df_filtered.where(df_filtered[\"ID\"] == \"1547\").show()"
   ]
  },
  {
   "cell_type": "code",
   "execution_count": 12,
   "metadata": {},
   "outputs": [],
   "source": [
    "# Comprobación de la media de los scores\n",
    "# num = (8*10+5*9+6*8+20*7+28*6+31*5+6*4+6*3+2*2+10*1)/(8+5+6+20.0+28+31+6+6+2+10.0)\n",
    "# num"
   ]
  },
  {
   "cell_type": "code",
   "execution_count": 13,
   "metadata": {},
   "outputs": [
    {
     "name": "stdout",
     "output_type": "stream",
     "text": [
      "+---+--------------------+-----+--------------------+--------------------+------------------------------+-----+--------+--------------------+-----------+--------------------+--------------------+----------------+-----------+---------------+--------------------+------+----------+-------+---------+--------+---------+-------+-------+-------------+--------+--------+--------+--------+--------+-------+-------+-------+-------+-------+\n",
      "| ID|                Name|Score|              Genres|        English name|                 Japanese name| Type|Episodes|               Aired|  Premiered|           Producers|           Licensors|         Studios|     Source|       Duration|              Rating|Ranked|Popularity|Members|Favorites|Watching|Completed|On-Hold|Dropped|Plan to Watch|Score-10| Score-9| Score-8| Score-7| Score-6|Score-5|Score-4|Score-3|Score-2|Score-1|\n",
      "+---+--------------------+-----+--------------------+--------------------+------------------------------+-----+--------+--------------------+-----------+--------------------+--------------------+----------------+-----------+---------------+--------------------+------+----------+-------+---------+--------+---------+-------+-------+-------------+--------+--------+--------+--------+--------+-------+-------+-------+-------+-------+\n",
      "|  1|        Cowboy Bebop| 8.78|Action, Adventure...|        Cowboy Bebop|            カウボーイビバップ|   TV|      26|Apr 3, 1998 to Ap...|Spring 1998|       Bandai Visual|Funimation, Banda...|         Sunrise|   Original|24 min. per ep.|R - 17+ (violence...|  28.0|        39|1251960|    61971|  105808|   718161|  71513|  26678|       329800|229170.0|182126.0|131625.0| 62330.0| 20688.0| 8904.0| 3184.0| 1357.0|  741.0| 1580.0|\n",
      "|  5|Cowboy Bebop: Ten...| 8.39|Action, Drama, My...|Cowboy Bebop:The ...|   カウボーイビバップ 天国の扉|Movie|       1|         Sep 1, 2001|    Unknown|Sunrise, Bandai V...|Sony Pictures Ent...|           Bones|   Original|  1 hr. 55 min.|R - 17+ (violence...| 159.0|       518| 273145|     1174|    4143|   208333|   1935|    770|        57964| 30043.0| 49201.0| 49505.0| 22632.0|  5805.0| 1877.0|  577.0|  221.0|  109.0|  379.0|\n",
      "|  6|              Trigun| 8.24|Action, Sci-Fi, A...|              Trigun|                    トライガン|   TV|      26|Apr 1, 1998 to Se...|Spring 1998|Victor Entertainment|Funimation, Geneo...|        Madhouse|      Manga|24 min. per ep.|PG-13 - Teens 13 ...| 266.0|       201| 558913|    12944|   29113|   343492|  25465|  13925|       146918| 50229.0| 75651.0| 86142.0| 49432.0| 15376.0| 5838.0| 1965.0|  664.0|  316.0|  533.0|\n",
      "|  7|  Witch Hunter Robin| 7.27|Action, Mystery, ...|  Witch Hunter Robin|          Witch Hunter ROBI...|   TV|      26|Jul 2, 2002 to De...|Summer 2002|TV Tokyo, Bandai ...|Funimation, Banda...|         Sunrise|   Original|25 min. per ep.|PG-13 - Teens 13 ...|2481.0|      1467|  94683|      587|    4300|    46165|   5121|   5378|        33719|  2182.0|  4806.0| 10128.0| 11618.0|  5709.0| 2920.0| 1083.0|  353.0|  164.0|  131.0|\n",
      "|  8|      Bouken Ou Beet| 6.98|Adventure, Fantas...|Beet the Vandel B...|                  冒険王ビィト|   TV|      52|Sep 30, 2004 to S...|  Fall 2004|    TV Tokyo, Dentsu|             Unknown|  Toei Animation|      Manga|23 min. per ep.|       PG - Children|3710.0|      4369|  13224|       18|     642|     7314|    766|   1108|         3394|   312.0|   529.0|  1242.0|  1713.0|  1068.0|  634.0|  265.0|   83.0|   50.0|   27.0|\n",
      "| 15|        Eyeshield 21| 7.95|Action, Sports, C...|             Unknown|                アイシールド21|   TV|     145|Apr 6, 2005 to Ma...|Spring 2005|TV Tokyo, Nihon A...|VIZ Media, Sentai...|          Gallop|      Manga|23 min. per ep.|PG-13 - Teens 13 ...| 604.0|      1003| 148259|     2066|   13907|    78349|  14228|  11573|        30202|  9226.0| 14904.0| 22811.0| 16734.0|  6206.0| 2621.0|  795.0|  336.0|  140.0|  151.0|\n",
      "| 16|Hachimitsu to Clover| 8.06|Comedy, Drama, Jo...|    Honey and Clover|          ハチミツとクローバー|   TV|      24|Apr 15, 2005 to S...|Spring 2005|Genco, Fuji TV, S...|VIZ Media, Discot...|       J.C.Staff|      Manga|23 min. per ep.|PG-13 - Teens 13 ...| 468.0|       687| 214499|     4101|   11909|    81145|  11901|  11026|        98518| 11829.0| 16309.0| 20008.0| 13062.0|  5574.0| 3148.0| 1339.0|  484.0|  278.0|  321.0|\n",
      "| 17|Hungry Heart: Wil...| 7.59|Slice of Life, Co...|             Unknown|  ハングリーハート Wild Str...|   TV|      52|Sep 11, 2002 to S...|  Fall 2002|             Unknown|             Unknown|Nippon Animation|      Manga|23 min. per ep.|PG-13 - Teens 13 ...|1317.0|      3612|  20470|      231|     817|    13778|    828|   1168|         3879|  1123.0|  1777.0|  3102.0|  3075.0|  1286.0|  602.0|  218.0|   88.0|   31.0|   32.0|\n",
      "| 18|Initial D Fourth ...| 8.15|Action, Cars, Spo...|             Unknown|頭文字〈イニシャル〉D FOURT...|   TV|      24|Apr 17, 2004 to F...|Spring 2004|OB Planning, Stud...|          Funimation|        A.C.G.T.|      Manga|27 min. per ep.|PG-13 - Teens 13 ...| 360.0|      1233| 117929|      979|    6082|    90967|   3053|   1356|        16471| 10948.0| 15820.0| 22379.0| 12912.0|  3874.0| 1236.0|  369.0|   97.0|   48.0|  259.0|\n",
      "| 19|             Monster| 8.76|Drama, Horror, My...|             Monster|                    モンスター|   TV|      74|Apr 7, 2004 to Se...|Spring 2004|VAP, Shogakukan-S...|           VIZ Media|        Madhouse|      Manga|24 min. per ep.|    R+ - Mild Nudity|  30.0|       169| 614100|    29436|   64648|   214491|  47488|  23008|       264465| 77350.0| 60652.0| 43459.0| 22045.0|  8861.0| 4381.0| 2086.0|  882.0|  593.0| 1177.0|\n",
      "| 20|              Naruto| 7.91|Action, Adventure...|              Naruto|                        ナルト|   TV|     220|Oct 3, 2002 to Fe...|  Fall 2002|TV Tokyo, Aniplex...|           VIZ Media|  Studio Pierrot|      Manga|23 min. per ep.|PG-13 - Teens 13 ...| 660.0|         8|1830540|    65586|  137167|  1462223|  61734|  99806|        69610|216866.0|234481.0|345563.0|286175.0|108155.0|46886.0|15477.0| 6098.0| 3582.0| 5310.0|\n",
      "| 21|           One Piece| 8.52|Action, Adventure...|           One Piece|                     ONE PIECE|   TV| Unknown|   Oct 20, 1999 to ?|  Fall 1999|Fuji TV, TAP, Shu...|Funimation, 4Kids...|  Toei Animation|      Manga|        24 min.|PG-13 - Teens 13 ...|  95.0|        31|1352724|   126645|  887333|       33| 187919| 136245|       141194|292445.0|166186.0|141755.0| 85424.0| 35342.0|19019.0| 8201.0| 3675.0| 2616.0| 6340.0|\n",
      "| 22| Tennis no Ouji-sama|  7.9|Action, Comedy, S...|The Prince of Tennis|                テニスの王子様|   TV|     178|Oct 10, 2001 to M...|  Fall 2001|Production I.G, N...|           VIZ Media|      Trans Arts|      Manga|22 min. per ep.|PG-13 - Teens 13 ...| 675.0|      1039| 141832|     3124|   11235|    76881|  12905|  12516|        28295|  9576.0| 12719.0| 19791.0| 16284.0|  6624.0| 3086.0| 1071.0|  443.0|  210.0|  225.0|\n",
      "| 23|    Ring ni Kakero 1| 6.38|Action, Shounen, ...|             Unknown|              リングにかけろ１|   TV|      12|Oct 6, 2004 to De...|  Fall 2004|             Unknown|             Unknown|  Toei Animation|      Manga|25 min. per ep.|       PG - Children|6493.0|      7333|   3648|       16|     170|     1333|    145|    296|         1704|    69.0|    61.0|   152.0|   260.0|   236.0|  143.0|   88.0|   40.0|   32.0|   28.0|\n",
      "| 24|       School Rumble| 7.94|Comedy, Romance, ...|       School Rumble|              スクールランブル|   TV|      26|Oct 5, 2004 to Ma...|  Fall 2004|TV Tokyo, Sotsu, ...|          Funimation|    Studio Comet|      Manga|23 min. per ep.|PG-13 - Teens 13 ...| 625.0|       514| 275464|     5137|   12277|   157789|  12856|  13491|        79051| 17907.0| 27623.0| 38112.0| 27327.0| 11034.0| 5396.0| 1897.0|  780.0|  441.0|  405.0|\n",
      "| 25|           Sunabouzu| 7.42|Action, Adventure...|         Desert Punk|                      砂ぼうず|   TV|      24|Oct 6, 2004 to Ma...|  Fall 2004|GDH, Pony Canyon,...|          Funimation|           Gonzo|      Manga|24 min. per ep.|R - 17+ (violence...|1844.0|      1284| 111734|      790|    6273|    53819|   6255|   7951|        37436|  3589.0|  6664.0| 12349.0| 12702.0|  6033.0| 3079.0| 1521.0|  643.0|  350.0|  297.0|\n",
      "| 26|          Texhnolyze| 7.76|Action, Sci-Fi, P...|          Texhnolyze|                    TEXHNOLYZE|   TV|      22|Apr 17, 2003 to S...|Spring 2003|Group TAC, Rondo ...|Funimation, Geneo...|        Madhouse|   Original|23 min. per ep.|    R+ - Mild Nudity| 896.0|       823| 182599|     3671|   11335|    47532|   9815|   8112|       105805|  6856.0|  8309.0| 10851.0|  8636.0|  4429.0| 2462.0| 1456.0|  684.0|  411.0|  664.0|\n",
      "| 27|       Trinity Blood| 7.32|Action, Supernatu...|       Trinity Blood|          トリニティ・ブラッド|   TV|      24|Apr 29, 2005 to O...|Spring 2005|             Unknown|          Funimation|           Gonzo|Light novel|24 min. per ep.|R - 17+ (violence...|2240.0|       936| 158343|     1479|    7794|    87958|   8940|   9349|        44302|  6091.0|  9759.0| 17761.0| 20152.0| 10273.0| 5392.0| 2250.0|  873.0|  456.0|  298.0|\n",
      "| 28|    Yakitate!! Japan| 7.95|     Comedy, Shounen|    Yakitate!! Japan|           焼きたて!! ジャぱん|   TV|      69|Oct 12, 2004 to M...|  Fall 2004|TV Tokyo, Aniplex...|Nozomi Entertainment|         Sunrise|      Manga|24 min. per ep.|PG-13 - Teens 13 ...| 609.0|      1666|  80183|      887|    5007|    39992|   5764|   4633|        24787|  4347.0|  7425.0| 11074.0|  7965.0|  3038.0| 1248.0|  345.0|  118.0|   56.0|   58.0|\n",
      "| 29|              Zipang| 7.51|Action, Military,...|             Unknown|                      ジパング|   TV|      26|Oct 8, 2004 to Ap...|  Fall 2004|      Marvelous, TBS|Geneon Entertainm...|     Studio Deen|      Manga|24 min. per ep.|PG-13 - Teens 13 ...|1565.0|      3985|  16652|      152|     857|     6807|    721|    599|         7668|   430.0|   874.0|  1801.0|  1696.0|   662.0|  279.0|  114.0|   38.0|   13.0|   28.0|\n",
      "+---+--------------------+-----+--------------------+--------------------+------------------------------+-----+--------+--------------------+-----------+--------------------+--------------------+----------------+-----------+---------------+--------------------+------+----------+-------+---------+--------+---------+-------+-------+-------------+--------+--------+--------+--------+--------+-------+-------+-------+-------+-------+\n",
      "only showing top 20 rows\n",
      "\n"
     ]
    }
   ],
   "source": [
    "# Se visualiza el dataset filtrado nuevamente\n",
    "df_filtered.show()"
   ]
  },
  {
   "cell_type": "code",
   "execution_count": 14,
   "metadata": {},
   "outputs": [
    {
     "data": {
      "text/plain": [
       "8037"
      ]
     },
     "execution_count": 14,
     "metadata": {},
     "output_type": "execute_result"
    }
   ],
   "source": [
    "# se visualiza el numero de filas del dataset filtrado\n",
    "df_filtered.count()"
   ]
  },
  {
   "cell_type": "code",
   "execution_count": 15,
   "metadata": {},
   "outputs": [
    {
     "data": {
      "text/plain": [
       "188"
      ]
     },
     "execution_count": 15,
     "metadata": {},
     "output_type": "execute_result"
    }
   ],
   "source": [
    "# Visualizamos el numero de filas sin valoraciones\n",
    "df_filtered.where((df_filtered[\"Score-1\"] == 0) & (df_filtered[\"Score-2\"] == 0) & (df_filtered[\"Score-3\"] == 0) & (df_filtered[\"Score-4\"] == 0) & (df_filtered[\"Score-5\"] == 0) & (df_filtered[\"Score-6\"] == 0) & (df_filtered[\"Score-7\"] == 0) & (df_filtered[\"Score-8\"] == 0) & (df_filtered[\"Score-9\"] == 0) & (df_filtered[\"Score-10\"] == 0)).count()"
   ]
  },
  {
   "cell_type": "code",
   "execution_count": 16,
   "metadata": {},
   "outputs": [
    {
     "name": "stdout",
     "output_type": "stream",
     "text": [
      "+-----+--------------------+-----+--------------------+--------------------+----------------------------------+-----+--------+--------------+-----------+--------------------+----------+------------+------------+--------+--------------------+-------+----------+-------+---------+--------+---------+-------+-------+-------------+--------+-------+-------+-------+-------+-------+-------+-------+-------+-------+\n",
      "|   ID|                Name|Score|              Genres|        English name|                     Japanese name| Type|Episodes|         Aired|  Premiered|           Producers| Licensors|     Studios|      Source|Duration|              Rating| Ranked|Popularity|Members|Favorites|Watching|Completed|On-Hold|Dropped|Plan to Watch|Score-10|Score-9|Score-8|Score-7|Score-6|Score-5|Score-4|Score-3|Score-2|Score-1|\n",
      "+-----+--------------------+-----+--------------------+--------------------+----------------------------------+-----+--------+--------------+-----------+--------------------+----------+------------+------------+--------+--------------------+-------+----------+-------+---------+--------+---------+-------+-------+-------------+--------+-------+-------+-------+-------+-------+-------+-------+-------+-------+\n",
      "|20471|            Aoki Uru| null|    Military, Sci-Fi|         Uru in Blue|                          蒼きウル|Movie|       1|       Unknown|    Unknown|             Unknown|   Unknown|       Gaina|    Original| Unknown|             Unknown|Unknown|      6340|   5334|        1|       0|        0|      0|      0|         5334|       0|      0|      0|      0|      0|      0|      0|      0|      0|      0|\n",
      "|20715|                Mint| null|      Drama, Fantasy|             Unknown|                              MINT|Movie|       1|       Unknown|    Unknown|             Unknown|   Unknown|     Unknown|    Original| Unknown|             Unknown|Unknown|      8138|   2651|        1|       0|        0|      0|      0|         2651|       0|      0|      0|      0|      0|      0|      0|      0|      0|      0|\n",
      "|30223|      Shishou Series| null|Horror, Supernatu...|             Unknown|                      師匠シリーズ|   TV| Unknown|       Unknown|    Unknown|             Unknown|   Unknown|Pierrot Plus|       Novel| Unknown|             Unknown|Unknown|      5969|   6184|        4|       0|        0|      0|      0|         6184|       0|      0|      0|      0|      0|      0|      0|      0|      0|      0|\n",
      "|31445|Minna Atsumare! F...| null|Comedy, Parody, S...|             Unknown|みんな集まれ! ファルコム学園　３期|   TV| Unknown|       Unknown|    Unknown|             Unknown|   Unknown|     Unknown|4-koma manga| Unknown|PG-13 - Teens 13 ...|Unknown|     11309|    711|        0|       0|        0|      0|      0|          711|       0|      0|      0|      0|      0|      0|      0|      0|      0|      0|\n",
      "|33737|Megaton-kyuu Musashi| null|       Mecha, School|             Unknown|                  メガトン級ムサシ|   TV| Unknown|Jul, 2021 to ?|Summer 2021|             Unknown|   Unknown|         OLM|    Original| Unknown|             Unknown|Unknown|     10328|   1084|        1|       0|        0|      0|      0|         1084|       0|      0|      0|      0|      0|      0|      0|      0|      0|      0|\n",
      "|34264|Ninja Bear the An...| null|      Comedy, School|             Unknown|          忍者ベアーthe Animation★|   TV| Unknown|       Unknown|    Unknown|TV Tokyo, TriF St...|   Unknown|      KOO-KI|    Original| Unknown|        G - All Ages|Unknown|     13029|    355|        0|       0|        0|      0|      0|          355|       0|      0|      0|      0|      0|      0|      0|      0|      0|      0|\n",
      "|34348|     Rescue Academia| null|   Sci-Fi, Adventure|             Unknown|              レスキューアカデミア|   TV| Unknown|     2021 to ?|    Unknown|             Unknown|   Unknown|       Gaina|    Original| Unknown|        G - All Ages|Unknown|      9825|   1359|        2|       0|        0|      0|      0|         1359|       0|      0|      0|      0|      0|      0|      0|      0|      0|      0|\n",
      "|34832|Macross (Shin Ser...| null|Action, Military,...|             Unknown|             マクロス (新シリーズ)|   TV| Unknown|       Unknown|    Unknown|             Unknown|   Unknown|     Unknown|    Original| 23 min.|PG-13 - Teens 13 ...|Unknown|      7501|   3456|        6|       0|        0|      0|      0|         3456|       0|      0|      0|      0|      0|      0|      0|      0|      0|      0|\n",
      "|34900|Biblia Koshodou n...| null|      Mystery, Drama|             Unknown|          ビブリア古書堂の事件手帖|Movie|       1|       Unknown|    Unknown|             Unknown|   Unknown|     Unknown| Light novel| Unknown|             Unknown|Unknown|      7219|   3842|        5|       0|        0|      0|      0|         3842|       0|      0|      0|      0|      0|      0|      0|      0|      0|      0|\n",
      "|35136|Koukyoushihen Eur...| null|Sci-Fi, Adventure...|Eureka Seven Hi-E...|   EUREKA／交響詩篇エウレカセブ...|Movie|       1|          2021|    Unknown|Mainichi Broadcas...|Funimation|       Bones|    Original| Unknown|PG-13 - Teens 13 ...|Unknown|      5391|   7940|        9|       0|        0|      0|      0|         7940|       0|      0|      0|      0|      0|      0|      0|      0|      0|      0|\n",
      "|35210|        Kuroi Hitomi| null|Demons, Supernatu...|             Unknown|                            黒い瞳|Movie|       1|       Unknown|    Unknown|             Unknown|   Unknown|     Unknown|   Web manga|   2 hr.|             Unknown|Unknown|     11886|    557|        0|       0|        0|      0|      0|          557|       0|      0|      0|      0|      0|      0|      0|      0|      0|      0|\n",
      "|35213|Kai Feng Kidan Movie| null|Action, Comedy, S...|             Unknown|                          開封奇談|Movie|       1|       Unknown|    Unknown|             Unknown|   Unknown|     Unknown|   Web manga|   2 hr.|             Unknown|Unknown|     13676|    286|        0|       0|        0|      0|      0|          286|       0|      0|      0|      0|      0|      0|      0|      0|      0|      0|\n",
      "|35335|          Musashino!| null|Comedy, School, S...|             Unknown|                        むさしの！|   TV| Unknown|       Unknown|    Unknown|             Harappa|   Unknown|      A-Real|    Original|  3 min.|       PG - Children|Unknown|      7465|   3504|        2|       0|        0|      0|      0|         3504|       0|      0|      0|      0|      0|      0|      0|      0|      0|      0|\n",
      "|35362|Mori no Yousei: K...| null|Music, Comedy, Fa...|             Unknown|               森の妖精 キノコの娘|   TV| Unknown|       Unknown|    Unknown|             Unknown|   Unknown|     Unknown|Picture book| Unknown|             Unknown|Unknown|      9967|   1261|        1|       0|        0|      0|      0|         1261|       0|      0|      0|      0|      0|      0|      0|      0|      0|      0|\n",
      "|35500|Yuri!!! on Ice Th...| null|      Comedy, Sports|Yuri on Ice the M...|        ユーリ!!! on ICE 劇場版...|Movie|       1|       Unknown|    Unknown|             Unknown|   Unknown|       MAPPA|    Original| Unknown|             Unknown|Unknown|      2132|  55311|      214|       1|        0|      1|      0|        55309|       0|      0|      0|      0|      0|      0|      0|      0|      0|      0|\n",
      "|35853|Zero Seiki Movie ...| null|Action, Sci-Fi, A...|             Unknown|               零世紀 エメラルダス|Movie|       1|       Unknown|    Unknown|             Unknown|   Unknown|     Unknown|       Manga| Unknown|             Unknown|Unknown|      8808|   2037|        0|       0|        0|      0|      0|         2037|       0|      0|      0|      0|      0|      0|      0|      0|      0|      0|\n",
      "|35854|Zero Seiki Movie ...| null|Action, Sci-Fi, A...|             Unknown|                 零世紀 ハーロック|Movie|       1|       Unknown|    Unknown|             Unknown|   Unknown|     Unknown|       Manga| Unknown|             Unknown|Unknown|      9863|   1330|        0|       0|        0|      0|      0|         1330|       0|      0|      0|      0|      0|      0|      0|      0|      0|      0|\n",
      "|35855|Zero Seiki Movie ...| null|Action, Sci-Fi, A...|             Unknown|                   零世紀 メーテル|Movie|       1|       Unknown|    Unknown|             Unknown|   Unknown|     Unknown|       Manga| Unknown|             Unknown|Unknown|     10359|   1061|        0|       0|        0|      0|      0|         1061|       0|      0|      0|      0|      0|      0|      0|      0|      0|      0|\n",
      "|36252|Library Cross Inf...| null|Mystery, Supernat...|             Unknown|                     LibraryCross∞|   TV| Unknown|       Unknown|    Unknown|             Unknown|   Unknown|     Unknown|        Game| Unknown|             Unknown|Unknown|      9633|   1476|        0|       0|        0|      0|      0|         1476|       0|      0|      0|      0|      0|      0|      0|      0|      0|      0|\n",
      "|36699|Kimitachi wa Dou ...| null|               Drama|             Unknown|              君たちはどう生きるか|Movie|       1|       Unknown|    Unknown|             Unknown|   Unknown|     Unknown|    Original| Unknown|             Unknown|Unknown|      8601|   2226|        0|       0|        0|      0|      0|         2226|       0|      0|      0|      0|      0|      0|      0|      0|      0|      0|\n",
      "+-----+--------------------+-----+--------------------+--------------------+----------------------------------+-----+--------+--------------+-----------+--------------------+----------+------------+------------+--------+--------------------+-------+----------+-------+---------+--------+---------+-------+-------+-------------+--------+-------+-------+-------+-------+-------+-------+-------+-------+-------+\n",
      "only showing top 20 rows\n",
      "\n"
     ]
    }
   ],
   "source": [
    "# Visualizamos las filas sin valoraciones\n",
    "df_filtered.where((df_filtered[\"Score-1\"] == 0) & (df_filtered[\"Score-2\"] == 0) & (df_filtered[\"Score-3\"] == 0) & (df_filtered[\"Score-4\"] == 0) & (df_filtered[\"Score-5\"] == 0) & (df_filtered[\"Score-6\"] == 0) & (df_filtered[\"Score-7\"] == 0) & (df_filtered[\"Score-8\"] == 0) & (df_filtered[\"Score-9\"] == 0) & (df_filtered[\"Score-10\"] == 0)).show()"
   ]
  },
  {
   "cell_type": "code",
   "execution_count": 17,
   "metadata": {},
   "outputs": [
    {
     "name": "stdout",
     "output_type": "stream",
     "text": [
      "+-----+--------------------+-----+--------------------+--------------------+----------------------------------+-----+--------+--------------+-----------+--------------------+----------+------------+------------+--------+--------------------+-------+----------+-------+---------+--------+---------+-------+-------+-------------+--------+-------+-------+-------+-------+-------+-------+-------+-------+-------+\n",
      "|   ID|                Name|Score|              Genres|        English name|                     Japanese name| Type|Episodes|         Aired|  Premiered|           Producers| Licensors|     Studios|      Source|Duration|              Rating| Ranked|Popularity|Members|Favorites|Watching|Completed|On-Hold|Dropped|Plan to Watch|Score-10|Score-9|Score-8|Score-7|Score-6|Score-5|Score-4|Score-3|Score-2|Score-1|\n",
      "+-----+--------------------+-----+--------------------+--------------------+----------------------------------+-----+--------+--------------+-----------+--------------------+----------+------------+------------+--------+--------------------+-------+----------+-------+---------+--------+---------+-------+-------+-------------+--------+-------+-------+-------+-------+-------+-------+-------+-------+-------+\n",
      "|20471|            Aoki Uru| null|    Military, Sci-Fi|         Uru in Blue|                          蒼きウル|Movie|       1|       Unknown|    Unknown|             Unknown|   Unknown|       Gaina|    Original| Unknown|             Unknown|Unknown|      6340|   5334|        1|       0|        0|      0|      0|         5334|       0|      0|      0|      0|      0|      0|      0|      0|      0|      0|\n",
      "|20715|                Mint| null|      Drama, Fantasy|             Unknown|                              MINT|Movie|       1|       Unknown|    Unknown|             Unknown|   Unknown|     Unknown|    Original| Unknown|             Unknown|Unknown|      8138|   2651|        1|       0|        0|      0|      0|         2651|       0|      0|      0|      0|      0|      0|      0|      0|      0|      0|\n",
      "|30223|      Shishou Series| null|Horror, Supernatu...|             Unknown|                      師匠シリーズ|   TV| Unknown|       Unknown|    Unknown|             Unknown|   Unknown|Pierrot Plus|       Novel| Unknown|             Unknown|Unknown|      5969|   6184|        4|       0|        0|      0|      0|         6184|       0|      0|      0|      0|      0|      0|      0|      0|      0|      0|\n",
      "|31445|Minna Atsumare! F...| null|Comedy, Parody, S...|             Unknown|みんな集まれ! ファルコム学園　３期|   TV| Unknown|       Unknown|    Unknown|             Unknown|   Unknown|     Unknown|4-koma manga| Unknown|PG-13 - Teens 13 ...|Unknown|     11309|    711|        0|       0|        0|      0|      0|          711|       0|      0|      0|      0|      0|      0|      0|      0|      0|      0|\n",
      "|33737|Megaton-kyuu Musashi| null|       Mecha, School|             Unknown|                  メガトン級ムサシ|   TV| Unknown|Jul, 2021 to ?|Summer 2021|             Unknown|   Unknown|         OLM|    Original| Unknown|             Unknown|Unknown|     10328|   1084|        1|       0|        0|      0|      0|         1084|       0|      0|      0|      0|      0|      0|      0|      0|      0|      0|\n",
      "|34264|Ninja Bear the An...| null|      Comedy, School|             Unknown|          忍者ベアーthe Animation★|   TV| Unknown|       Unknown|    Unknown|TV Tokyo, TriF St...|   Unknown|      KOO-KI|    Original| Unknown|        G - All Ages|Unknown|     13029|    355|        0|       0|        0|      0|      0|          355|       0|      0|      0|      0|      0|      0|      0|      0|      0|      0|\n",
      "|34348|     Rescue Academia| null|   Sci-Fi, Adventure|             Unknown|              レスキューアカデミア|   TV| Unknown|     2021 to ?|    Unknown|             Unknown|   Unknown|       Gaina|    Original| Unknown|        G - All Ages|Unknown|      9825|   1359|        2|       0|        0|      0|      0|         1359|       0|      0|      0|      0|      0|      0|      0|      0|      0|      0|\n",
      "|34832|Macross (Shin Ser...| null|Action, Military,...|             Unknown|             マクロス (新シリーズ)|   TV| Unknown|       Unknown|    Unknown|             Unknown|   Unknown|     Unknown|    Original| 23 min.|PG-13 - Teens 13 ...|Unknown|      7501|   3456|        6|       0|        0|      0|      0|         3456|       0|      0|      0|      0|      0|      0|      0|      0|      0|      0|\n",
      "|34900|Biblia Koshodou n...| null|      Mystery, Drama|             Unknown|          ビブリア古書堂の事件手帖|Movie|       1|       Unknown|    Unknown|             Unknown|   Unknown|     Unknown| Light novel| Unknown|             Unknown|Unknown|      7219|   3842|        5|       0|        0|      0|      0|         3842|       0|      0|      0|      0|      0|      0|      0|      0|      0|      0|\n",
      "|35136|Koukyoushihen Eur...| null|Sci-Fi, Adventure...|Eureka Seven Hi-E...|   EUREKA／交響詩篇エウレカセブ...|Movie|       1|          2021|    Unknown|Mainichi Broadcas...|Funimation|       Bones|    Original| Unknown|PG-13 - Teens 13 ...|Unknown|      5391|   7940|        9|       0|        0|      0|      0|         7940|       0|      0|      0|      0|      0|      0|      0|      0|      0|      0|\n",
      "|35210|        Kuroi Hitomi| null|Demons, Supernatu...|             Unknown|                            黒い瞳|Movie|       1|       Unknown|    Unknown|             Unknown|   Unknown|     Unknown|   Web manga|   2 hr.|             Unknown|Unknown|     11886|    557|        0|       0|        0|      0|      0|          557|       0|      0|      0|      0|      0|      0|      0|      0|      0|      0|\n",
      "|35213|Kai Feng Kidan Movie| null|Action, Comedy, S...|             Unknown|                          開封奇談|Movie|       1|       Unknown|    Unknown|             Unknown|   Unknown|     Unknown|   Web manga|   2 hr.|             Unknown|Unknown|     13676|    286|        0|       0|        0|      0|      0|          286|       0|      0|      0|      0|      0|      0|      0|      0|      0|      0|\n",
      "|35335|          Musashino!| null|Comedy, School, S...|             Unknown|                        むさしの！|   TV| Unknown|       Unknown|    Unknown|             Harappa|   Unknown|      A-Real|    Original|  3 min.|       PG - Children|Unknown|      7465|   3504|        2|       0|        0|      0|      0|         3504|       0|      0|      0|      0|      0|      0|      0|      0|      0|      0|\n",
      "|35362|Mori no Yousei: K...| null|Music, Comedy, Fa...|             Unknown|               森の妖精 キノコの娘|   TV| Unknown|       Unknown|    Unknown|             Unknown|   Unknown|     Unknown|Picture book| Unknown|             Unknown|Unknown|      9967|   1261|        1|       0|        0|      0|      0|         1261|       0|      0|      0|      0|      0|      0|      0|      0|      0|      0|\n",
      "|35500|Yuri!!! on Ice Th...| null|      Comedy, Sports|Yuri on Ice the M...|        ユーリ!!! on ICE 劇場版...|Movie|       1|       Unknown|    Unknown|             Unknown|   Unknown|       MAPPA|    Original| Unknown|             Unknown|Unknown|      2132|  55311|      214|       1|        0|      1|      0|        55309|       0|      0|      0|      0|      0|      0|      0|      0|      0|      0|\n",
      "|35853|Zero Seiki Movie ...| null|Action, Sci-Fi, A...|             Unknown|               零世紀 エメラルダス|Movie|       1|       Unknown|    Unknown|             Unknown|   Unknown|     Unknown|       Manga| Unknown|             Unknown|Unknown|      8808|   2037|        0|       0|        0|      0|      0|         2037|       0|      0|      0|      0|      0|      0|      0|      0|      0|      0|\n",
      "|35854|Zero Seiki Movie ...| null|Action, Sci-Fi, A...|             Unknown|                 零世紀 ハーロック|Movie|       1|       Unknown|    Unknown|             Unknown|   Unknown|     Unknown|       Manga| Unknown|             Unknown|Unknown|      9863|   1330|        0|       0|        0|      0|      0|         1330|       0|      0|      0|      0|      0|      0|      0|      0|      0|      0|\n",
      "|35855|Zero Seiki Movie ...| null|Action, Sci-Fi, A...|             Unknown|                   零世紀 メーテル|Movie|       1|       Unknown|    Unknown|             Unknown|   Unknown|     Unknown|       Manga| Unknown|             Unknown|Unknown|     10359|   1061|        0|       0|        0|      0|      0|         1061|       0|      0|      0|      0|      0|      0|      0|      0|      0|      0|\n",
      "|36252|Library Cross Inf...| null|Mystery, Supernat...|             Unknown|                     LibraryCross∞|   TV| Unknown|       Unknown|    Unknown|             Unknown|   Unknown|     Unknown|        Game| Unknown|             Unknown|Unknown|      9633|   1476|        0|       0|        0|      0|      0|         1476|       0|      0|      0|      0|      0|      0|      0|      0|      0|      0|\n",
      "|36699|Kimitachi wa Dou ...| null|               Drama|             Unknown|              君たちはどう生きるか|Movie|       1|       Unknown|    Unknown|             Unknown|   Unknown|     Unknown|    Original| Unknown|             Unknown|Unknown|      8601|   2226|        0|       0|        0|      0|      0|         2226|       0|      0|      0|      0|      0|      0|      0|      0|      0|      0|\n",
      "+-----+--------------------+-----+--------------------+--------------------+----------------------------------+-----+--------+--------------+-----------+--------------------+----------+------------+------------+--------+--------------------+-------+----------+-------+---------+--------+---------+-------+-------+-------------+--------+-------+-------+-------+-------+-------+-------+-------+-------+-------+\n",
      "only showing top 20 rows\n",
      "\n"
     ]
    }
   ],
   "source": [
    "# Visualizamos las filas sin valoraciones de otra manera\n",
    "df_filtered.filter(df_filtered.Score.isNull()).show()"
   ]
  },
  {
   "cell_type": "code",
   "execution_count": 18,
   "metadata": {},
   "outputs": [],
   "source": [
    "# Se filtra por los animes que tienen valoraciones\n",
    "df_filtered = df_filtered.filter(df_filtered.Score.isNotNull())"
   ]
  },
  {
   "cell_type": "markdown",
   "metadata": {},
   "source": [
    "## Entrenamiento del Algoritmo ALS"
   ]
  },
  {
   "cell_type": "code",
   "execution_count": 41,
   "metadata": {},
   "outputs": [],
   "source": [
    "# Se cargan los valores del csv de ratings\n",
    "df_ratings = spark.read.csv(\"data/rating_complete.csv\", header=True, sep=\",\", encoding=\"UTF-8\", inferSchema=True)\n",
    "\n",
    "# Se cargan los valores de ratings del usuario 66666\n",
    "df_ratings_ep = spark.read.csv(\"data/valoraciones_EP.csv\", header=False, sep=\",\", encoding=\"UTF-8\", inferSchema=True)\n",
    "# Como el csv de datos no tiene header, se reemplaza el nombre por defecto por los que se quieren\n",
    "df_ratings_ep = df_ratings_ep.withColumnRenamed(\"_c0\", \"user_id\")\n",
    "df_ratings_ep = df_ratings_ep.withColumnRenamed(\"_c1\", \"anime_id\")\n",
    "df_ratings_ep = df_ratings_ep.withColumnRenamed(\"_c2\", \"rating\")"
   ]
  },
  {
   "cell_type": "code",
   "execution_count": 20,
   "metadata": {},
   "outputs": [
    {
     "name": "stdout",
     "output_type": "stream",
     "text": [
      "El numero de valoraciones: 57633278\n",
      "El numero de valoraciones: 65\n"
     ]
    }
   ],
   "source": [
    "print(\"El numero de valoraciones: \" + str(df_ratings.count()))\n",
    "print(\"El numero de valoraciones: \" + str(df_ratings_ep.count()))"
   ]
  },
  {
   "cell_type": "code",
   "execution_count": 44,
   "metadata": {},
   "outputs": [],
   "source": [
    "df_filtered = df_filtered.withColumnRenamed(\"Rating\",\"Category_rating\")"
   ]
  },
  {
   "cell_type": "code",
   "execution_count": 47,
   "metadata": {},
   "outputs": [],
   "source": [
    "# Se realiza un union de los dos dataframes de valoraciones\n",
    "df_ratings_completo = df_ratings.union(df_ratings_ep)"
   ]
  },
  {
   "cell_type": "code",
   "execution_count": 48,
   "metadata": {},
   "outputs": [
    {
     "name": "stdout",
     "output_type": "stream",
     "text": [
      "+-------+--------+------+\n",
      "|user_id|anime_id|rating|\n",
      "+-------+--------+------+\n",
      "|      0|     430|   9.0|\n",
      "|      0|    1004|   5.0|\n",
      "|      0|    3010|   7.0|\n",
      "|      0|     570|   7.0|\n",
      "|      0|    2762|   9.0|\n",
      "|      0|     431|   8.0|\n",
      "|      0|     578|  10.0|\n",
      "|      0|     433|   6.0|\n",
      "|      0|    1571|  10.0|\n",
      "|      0|     121|   9.0|\n",
      "|      0|     356|   9.0|\n",
      "|      0|    1250|   7.0|\n",
      "|      0|    2913|   6.0|\n",
      "|      0|    1689|   6.0|\n",
      "|      0|      68|   6.0|\n",
      "|      0|    1829|   7.0|\n",
      "|      0|     600|   6.0|\n",
      "|      0|    3418|   9.0|\n",
      "|      0|     164|   8.0|\n",
      "|      0|    1894|   7.0|\n",
      "+-------+--------+------+\n",
      "only showing top 20 rows\n",
      "\n"
     ]
    }
   ],
   "source": [
    "df_ratings_completo.show()"
   ]
  },
  {
   "cell_type": "code",
   "execution_count": 23,
   "metadata": {},
   "outputs": [
    {
     "data": {
      "text/plain": [
       "57633343"
      ]
     },
     "execution_count": 23,
     "metadata": {},
     "output_type": "execute_result"
    }
   ],
   "source": [
    "df_ratings_completo.count()"
   ]
  },
  {
   "cell_type": "code",
   "execution_count": 49,
   "metadata": {},
   "outputs": [],
   "source": [
    "# Se realiza un join con el dataframe de animes, para conocer cuales son peliculas y cuales son series\n",
    "df_ratings_completo_movies = df_ratings_completo.join(df_filtered, df_ratings_completo[\"anime_id\"] == df_filtered[\"ID\"], \"inner\")"
   ]
  },
  {
   "cell_type": "code",
   "execution_count": 50,
   "metadata": {},
   "outputs": [
    {
     "name": "stdout",
     "output_type": "stream",
     "text": [
      "+-------+--------+------+----+--------------------+-----+--------------------+--------------------+--------------------------------------+-----+--------+--------------------+-----------+--------------------+--------------------+--------------------+------------+---------------+--------------------+-------+----------+-------+---------+--------+---------+-------+-------+-------------+--------+--------+--------+--------+-------+-------+-------+-------+-------+-------+\n",
      "|user_id|anime_id|rating|  ID|                Name|Score|              Genres|        English name|                         Japanese name| Type|Episodes|               Aired|  Premiered|           Producers|           Licensors|             Studios|      Source|       Duration|     Category_rating| Ranked|Popularity|Members|Favorites|Watching|Completed|On-Hold|Dropped|Plan to Watch|Score-10| Score-9| Score-8| Score-7|Score-6|Score-5|Score-4|Score-3|Score-2|Score-1|\n",
      "+-------+--------+------+----+--------------------+-----+--------------------+--------------------+--------------------------------------+-----+--------+--------------------+-----------+--------------------+--------------------+--------------------+------------+---------------+--------------------+-------+----------+-------+---------+--------+---------+-------+-------+-------------+--------+--------+--------+--------+-------+-------+-------+-------+-------+-------+\n",
      "|      0|     430|   9.0| 430|Fullmetal Alchemi...| 7.57|Military, Comedy,...|Fullmetal Alchemi...|劇場版 鋼の錬金術師 シャンバラを征く者|Movie|       1|        Jul 23, 2005|    Unknown|Aniplex, Square E...|          Funimation|               Bones|       Manga|  1 hr. 45 min.|PG-13 - Teens 13 ...| 1361.0|       506| 279946|      704|    2361|   245283|   1253|    776|        30273| 19794.0| 31112.0| 47730.0| 44941.0|20077.0| 8777.0| 4298.0| 1555.0|  812.0|  490.0|\n",
      "|      0|    3010|   7.0|3010|      Kaiketsu Zorro| 7.23|Adventure, Histor...|The Magnificent Z...|                              快傑ゾロ|   TV|      52|Apr 5, 1996 to Ap...|Spring 1996|                Toho|             Unknown|     Ashi Production|       Other|24 min. per ep.|PG-13 - Teens 13 ...| 2655.0|      5104|   9044|       55|     300|     6238|    325|    451|         1730|   469.0|   499.0|   947.0|  1389.0|  822.0|  403.0|   89.0|   43.0|   26.0|   14.0|\n",
      "|      0|     570|   7.0| 570|             Jin-Rou| 7.79|Military, Police,...|Jin-Roh:The Wolf ...|                          人狼 JIN-ROH|Movie|       1|         Jun 3, 2000|    Unknown|             Unknown|Bandai Entertainm...|      Production I.G|       Manga|  1 hr. 42 min.|R - 17+ (violence...|  846.0|      1181| 124856|     1359|    3005|    72439|   1078|    612|        47722|  6381.0| 11407.0| 18187.0| 13046.0| 5051.0| 2131.0|  826.0|  288.0|  131.0|  113.0|\n",
      "|      0|    2762|   9.0|2762|      Igano Kabamaru| 7.87|Action, Adventure...|             Unknown|                          伊賀野カバ丸|   TV|      24|Oct 20, 1983 to M...|  Fall 1983|                Toho|             Unknown|           Group TAC|       Manga|23 min. per ep.|PG-13 - Teens 13 ...|  715.0|      5153|   8759|      121|     360|     4192|    317|    374|         3516|   768.0|   589.0|   839.0|   654.0|  340.0|  157.0|   52.0|   42.0|   23.0|   35.0|\n",
      "|      0|     431|   8.0| 431| Howl no Ugoku Shiro| 8.67|Adventure, Drama,...|Howl's Moving Castle|                        ハウルの動く城|Movie|       1|        Nov 20, 2004|    Unknown|d-rights, Tokuma ...| Walt Disney Studios|       Studio Ghibli|       Novel|  1 hr. 59 min.|        G - All Ages|   51.0|        98| 847414|    17845|    8733|   754791|   2283|    947|        80660|186983.0|167309.0|137336.0| 62317.0|18427.0| 6427.0| 2246.0|  737.0|  351.0|  668.0|\n",
      "|      0|     578|  10.0| 578|      Hotaru no Haka| 8.51|   Drama, Historical|Grave of the Fire...|                            火垂るの墓|Movie|       1|        Apr 16, 1988|    Unknown|             Unknown|ADV Films, Centra...|       Studio Ghibli|       Novel|  1 hr. 28 min.|PG-13 - Teens 13 ...|   99.0|       293| 438214|     5407|    5927|   328347|   2713|   1249|        99978| 79553.0| 69811.0| 61996.0| 30066.0|11694.0| 4975.0| 2350.0|  953.0|  539.0|  845.0|\n",
      "|      0|     433|   6.0| 433|Kumo no Mukou, Ya...| 7.56|Drama, Military, ...|The Place Promise...|                雲のむこう、約束の場所|Movie|       1|        Nov 20, 2004|    Unknown|             Unknown|           ADV Films|    CoMix Wave Films|    Original|  1 hr. 30 min.|PG-13 - Teens 13 ...| 1393.0|       846| 177428|      726|    4337|    98242|   2083|   1145|        71621|  8563.0| 13665.0| 20929.0| 18793.0| 9152.0| 4316.0| 1916.0|  779.0|  322.0|  229.0|\n",
      "|      0|    1571|  10.0|1571|          Ghost Hunt| 7.81|Mystery, Comedy, ...|          Ghost Hunt|                        ゴーストハント|   TV|      25|Oct 4, 2006 to Ma...|  Fall 2006|TV Tokyo, Avex En...|          Funimation|           J.C.Staff| Light novel|25 min. per ep.|PG-13 - Teens 13 ...|  811.0|       766| 194354|     3014|    8115|   107324|   7112|   6964|        64839| 11328.0| 16683.0| 24977.0| 20383.0| 8600.0| 4079.0| 1375.0|  509.0|  203.0|  235.0|\n",
      "|      0|     121|   9.0| 121| Fullmetal Alchemist| 8.17|Action, Adventure...| Fullmetal Alchemist|                          鋼の錬金術師|   TV|      51|Oct 4, 2003 to Oc...|  Fall 2003|Aniplex, Dentsu, ...|Funimation, Anipl...|               Bones|       Manga|24 min. per ep.|PG-13 - Teens 13 ...|  337.0|        52|1151621|    26564|   52738|   880215|  41631|  38693|       138344|124399.0|176993.0|211302.0|133850.0|44438.0|16255.0| 5872.0| 1769.0|  970.0| 1150.0|\n",
      "|      0|     356|   9.0| 356|     Fate/stay night| 7.34|Action, Supernatu...|     Fate/stay night|                       Fate/stay night|   TV|      24|Jan 7, 2006 to Ju...|Winter 2006|Geneon Universal ...|Sentai Filmworks,...|         Studio Deen|Visual novel|24 min. per ep.|R - 17+ (violence...| 2152.0|       119| 730980|     7011|   29998|   510563|  19938|  23686|       146795| 35378.0| 57284.0|101538.0|107818.0|55337.0|26103.0|13081.0| 5032.0| 2350.0| 1693.0|\n",
      "|      0|    1250|   7.0|1250|     Erementar Gerad|  7.3|Adventure, Comedy...|    Elemental Gelade|                エレメンタルジェレイド|   TV|      26|Apr 5, 2005 to Se...|Spring 2005|TV Tokyo, Geneon ...|Funimation, Disco...|               Xebec|       Manga|24 min. per ep.|PG-13 - Teens 13 ...| 2325.0|      1587|  85305|      497|    3647|    51887|   4082|   4442|        21247|  3279.0|  4969.0|  9868.0| 11831.0| 6331.0| 3267.0| 1125.0|  386.0|  158.0|  103.0|\n",
      "|      0|    2913|   6.0|2913|Daisougen no Chii...| 7.01|    Adventure, Drama|Bush Baby, Little...|  大草原の小さな天使　ブッシュベイビー|   TV|      40|Jan 12, 1992 to D...|Winter 1992|             Fuji TV|             Unknown|    Nippon Animation|       Novel|24 min. per ep.|        G - All Ages| 3609.0|      8811|   2020|        3|      74|      727|     74|    114|         1031|    57.0|    54.0|    91.0|   153.0|   93.0|   40.0|   17.0|    4.0|    5.0|    6.0|\n",
      "|      0|    1689|   6.0|1689|Byousoku 5 Centim...| 7.73|Drama, Romance, S...|5 Centimeters Per...|                  秒速５センチメートル|Movie|       3|         Mar 3, 2007|    Unknown|             Unknown|ADV Films, Bandai...|    CoMix Wave Films|    Original|22 min. per ep.|PG-13 - Teens 13 ...|  949.0|       136| 695375|     9719|   12529|   524145|   6261|   4580|       147860| 65007.0| 80388.0|107226.0| 86657.0|43552.0|21319.0|10108.0| 3821.0| 2081.0| 1835.0|\n",
      "|      0|      68|   6.0|  68|      Black Cat (TV)| 7.38|Sci-Fi, Adventure...|           Black Cat|                      ブラックキャット|   TV|      23|Oct 7, 2005 to Ma...|  Fall 2005|GDH, Dentsu, TBS,...|          Funimation|               Gonzo|       Manga|24 min. per ep.|PG-13 - Teens 13 ...| 1965.0|       622| 231668|     1955|   10510|   142921|  11736|  11003|        55498|  8654.0| 15253.0| 29392.0| 34019.0|16081.0| 7534.0| 2521.0|  863.0|  395.0|  234.0|\n",
      "|      0|    1829|   7.0|1829|           Ged Senki| 6.95|Adventure, Magic,...| Tales from Earthsea|                              ゲド戦記|Movie|       1|        Jul 29, 2006|    Unknown|                Toho| Walt Disney Studios|       Studio Ghibli|       Novel|  1 hr. 55 min.|PG-13 - Teens 13 ...| 3815.0|      1317| 107556|      189|    1082|    83702|    778|    504|        21490|  4527.0|  6868.0| 12931.0| 17433.0|11237.0| 6011.0| 3469.0| 1265.0|  605.0|  336.0|\n",
      "|      0|     600|   6.0| 600|       Legend of Duo| 4.93|Supernatural, Dra...|             Unknown|                         LEGEND OF DUO|   TV|      12|Apr 21, 2005 to J...|Spring 2005|             Unknown|             Unknown|Radix, Marine Ent...|    Original| 5 min. per ep.|R - 17+ (violence...|10650.0|      4855|  10199|       11|     306|     5464|    242|    703|         3484|   132.0|   142.0|   296.0|   557.0|  663.0|  732.0|  511.0|  410.0|  414.0|  493.0|\n",
      "|      0|    3418|   9.0|3418|Jungle no Ouja Ta...| 7.01|Action, Comedy, P...|             Unknown|            ジャングルの王者ターちゃん|   TV|      50|Oct 14, 1993 to S...|  Fall 1993|            TV Tokyo|             Unknown|           Group TAC|       Manga|24 min. per ep.|    R+ - Mild Nudity| 3616.0|      9094|   1805|       14|     130|      486|     96|    123|          970|    55.0|    58.0|    77.0|    92.0|   62.0|   21.0|   19.0|   10.0|   10.0|    6.0|\n",
      "|      0|     164|   8.0| 164|       Mononoke Hime| 8.72|Action, Adventure...|   Princess Mononoke|                            もののけ姫|Movie|       1|        Jul 12, 1997|    Unknown|Tokuma Shoten, Ni...|               GKIDS|       Studio Ghibli|    Original|  2 hr. 15 min.|PG-13 - Teens 13 ...|   40.0|        91| 876813|    17114|   11422|   735624|   3384|   1386|       124997|184173.0|167754.0|131050.0| 57874.0|17052.0| 5570.0| 1660.0|  545.0|  283.0|  702.0|\n",
      "|      0|    1894|   7.0|1894|Yu☆Gi☆Oh!: Hikari...| 6.59|Adventure, Comedy...| Yu-Gi-Oh!:The Movie|   遊☆戯☆王　デュエルモンスターズ　...|Movie|       1|        Aug 13, 2004|    Unknown|    Nihon Ad Systems|4Kids Entertainme...|              Gallop|       Manga|  1 hr. 41 min.|PG-13 - Teens 13 ...| 5423.0|      1973|  61314|       67|     389|    56962|    193|    208|         3562|  2473.0|  2953.0|  6056.0| 10910.0| 8736.0| 5227.0| 2337.0| 1059.0|  578.0|  286.0|\n",
      "|      0|     415|  10.0| 415|Tonari no Yamada-kun| 7.19|Slice of Life, Co...|My Neighbors the ...|         ホーホケキョ となりの山田くん|Movie|       1|        Jul 17, 1999|    Unknown|       Tokuma Shoten|Walt Disney Studi...|       Studio Ghibli|4-koma manga|  1 hr. 44 min.|        G - All Ages| 2811.0|      2796|  33789|       79|     489|    23117|    398|    374|         9411|  1245.0|  2205.0|  4290.0|  5189.0| 2826.0| 1411.0|  523.0|  230.0|  108.0|   85.0|\n",
      "+-------+--------+------+----+--------------------+-----+--------------------+--------------------+--------------------------------------+-----+--------+--------------------+-----------+--------------------+--------------------+--------------------+------------+---------------+--------------------+-------+----------+-------+---------+--------+---------+-------+-------+-------------+--------+--------+--------+--------+-------+-------+-------+-------+-------+-------+\n",
      "only showing top 20 rows\n",
      "\n"
     ]
    }
   ],
   "source": [
    "df_ratings_completo_movies.show()"
   ]
  },
  {
   "cell_type": "code",
   "execution_count": 51,
   "metadata": {},
   "outputs": [],
   "source": [
    "df_ratings_movies = df_ratings_completo_movies.filter(df_ratings_completo_movies[\"Type\"] == \"Movie\").select(\"user_id\", \"anime_id\", \"rating\")"
   ]
  },
  {
   "cell_type": "code",
   "execution_count": 52,
   "metadata": {},
   "outputs": [
    {
     "name": "stdout",
     "output_type": "stream",
     "text": [
      "+-------+--------+------+\n",
      "|user_id|anime_id|rating|\n",
      "+-------+--------+------+\n",
      "|      0|     430|   9.0|\n",
      "|      0|     570|   7.0|\n",
      "|      0|     431|   8.0|\n",
      "|      0|     578|  10.0|\n",
      "|      0|     433|   6.0|\n",
      "|      0|    1689|   6.0|\n",
      "|      0|    1829|   7.0|\n",
      "|      0|     164|   8.0|\n",
      "|      0|    1894|   7.0|\n",
      "|      0|     415|  10.0|\n",
      "|      0|    2236|  10.0|\n",
      "|      0|     199|   8.0|\n",
      "|      0|     459|   9.0|\n",
      "|      1|   32281|  10.0|\n",
      "|      1|   28851|   9.0|\n",
      "|      1|   38826|   8.0|\n",
      "|      1|     442|   7.0|\n",
      "|      1|     936|   6.0|\n",
      "|      1|    2144|   6.0|\n",
      "|      1|   28755|   8.0|\n",
      "+-------+--------+------+\n",
      "only showing top 20 rows\n",
      "\n"
     ]
    }
   ],
   "source": [
    "df_ratings_movies.show()"
   ]
  },
  {
   "cell_type": "code",
   "execution_count": 53,
   "metadata": {},
   "outputs": [],
   "source": [
    "df_ratings_series = df_ratings_completo_movies.filter(df_ratings_completo_movies[\"Type\"] == \"TV\").select(\"user_id\", \"anime_id\", \"rating\")"
   ]
  },
  {
   "cell_type": "code",
   "execution_count": 54,
   "metadata": {},
   "outputs": [
    {
     "name": "stdout",
     "output_type": "stream",
     "text": [
      "+-------+--------+------+\n",
      "|user_id|anime_id|rating|\n",
      "+-------+--------+------+\n",
      "|      0|    3010|   7.0|\n",
      "|      0|    2762|   9.0|\n",
      "|      0|    1571|  10.0|\n",
      "|      0|     121|   9.0|\n",
      "|      0|     356|   9.0|\n",
      "|      0|    1250|   7.0|\n",
      "|      0|    2913|   6.0|\n",
      "|      0|      68|   6.0|\n",
      "|      0|     600|   6.0|\n",
      "|      0|    3418|   9.0|\n",
      "|      0|    2034|   8.0|\n",
      "|      0|    2547|   7.0|\n",
      "|      0|     169|   7.0|\n",
      "|      0|     174|   4.0|\n",
      "|      0|    2543|   7.0|\n",
      "|      0|    4086|   6.0|\n",
      "|      0|     419|   8.0|\n",
      "|      1|   22535|   9.0|\n",
      "|      1|   38000|   9.0|\n",
      "|      1|   18679|   6.0|\n",
      "+-------+--------+------+\n",
      "only showing top 20 rows\n",
      "\n"
     ]
    }
   ],
   "source": [
    "df_ratings_series.show()"
   ]
  },
  {
   "cell_type": "code",
   "execution_count": null,
   "metadata": {},
   "outputs": [],
   "source": []
  },
  {
   "cell_type": "code",
   "execution_count": null,
   "metadata": {},
   "outputs": [],
   "source": []
  }
 ],
 "metadata": {
  "kernelspec": {
   "display_name": "Python 3",
   "language": "python",
   "name": "python3"
  },
  "language_info": {
   "codemirror_mode": {
    "name": "ipython",
    "version": 3
   },
   "file_extension": ".py",
   "mimetype": "text/x-python",
   "name": "python",
   "nbconvert_exporter": "python",
   "pygments_lexer": "ipython3",
   "version": "3.10.2"
  }
 },
 "nbformat": 4,
 "nbformat_minor": 2
}
