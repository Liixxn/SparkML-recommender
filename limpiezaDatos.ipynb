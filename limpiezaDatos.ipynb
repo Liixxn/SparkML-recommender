{
 "cells": [
  {
   "cell_type": "code",
   "execution_count": 1,
   "metadata": {},
   "outputs": [],
   "source": [
    "from pyspark.sql import SparkSession\n",
    "from pyspark.sql.functions import col, when, round\n",
    "from pyspark.ml.evaluation import RegressionEvaluator\n",
    "from pyspark.ml.recommendation import ALS\n",
    "from pyspark.sql.functions import explode\n",
    "# Inicializamos la sesion de Spark\n",
    "spark = SparkSession.builder.appName(\"SistemaRecomendacion_ALS\").config(\"spark.executor.memory\", \"8g\").config(\"spark.executor.cores\", \"6\").config(\"spark.driver.memory\",\"8g\").getOrCreate()\n",
    "\n",
    "# Cargamos el dataset\n",
    "df = spark.read.option(\"delimiter\", \",\").option(\"quote\", '\"').option(\"escape\", '\"').csv(\"data/anime.csv\", header=True, inferSchema=True)\n"
   ]
  },
  {
   "cell_type": "markdown",
   "metadata": {},
   "source": [
    "## Funciones API JIKAN"
   ]
  },
  {
   "cell_type": "code",
   "execution_count": null,
   "metadata": {},
   "outputs": [],
   "source": [
    "# Importe de librerías para la api\n",
    "import requests\n",
    "import json\n",
    "from IPython.display import Image, display\n",
    "from rich import print\n",
    "import time"
   ]
  },
  {
   "cell_type": "code",
   "execution_count": 3,
   "metadata": {},
   "outputs": [],
   "source": [
    "# Función para obtener la información del anime a través de la API de Jikan\n",
    "def obtener_info_anime(id):\n",
    "    # Construimos la URL de la API\n",
    "    url = f\"https://api.jikan.moe/v4/anime/{id}/full\"\n",
    "    # Hacemos una solicitud GET a la API\n",
    "    response = requests.get(url)\n",
    "    # Convertimos la respuesta en formato JSON a un diccionario de Python\n",
    "    data = json.loads(response.text)\n",
    "    # Devolvemos los datos \n",
    "    return data"
   ]
  },
  {
   "cell_type": "code",
   "execution_count": 4,
   "metadata": {},
   "outputs": [],
   "source": [
    "def mostrar_info_anime(data):\n",
    "    # Accedemos a los datos del anime\n",
    "    data = data['data']\n",
    "    # Imprimimos el título, la sinopsis y el trailer del anime\n",
    "    print(f\"Titulo: {data['title']}\")\n",
    "    print(f\"Sinopsis: {data['synopsis']}\")\n",
    "\n",
    "    # Buscamos cualquier URL de imagen disponible en 'images'\n",
    "    image_url = None\n",
    "    for key, value in data['images'].items():\n",
    "        if isinstance(value, dict) and 'image_url' in value:\n",
    "            image_url = value['image_url']\n",
    "    if image_url:\n",
    "        display(Image(url=image_url))\n",
    "    else:\n",
    "        print(\"No se encontró la imagen del anime.\")\n",
    "\n",
    "    print(f\"Trailer: {data['trailer']['url']}\")\n",
    "    print(\"-----------------------------------------------------------------\")"
   ]
  },
  {
   "cell_type": "code",
   "execution_count": 5,
   "metadata": {},
   "outputs": [],
   "source": [
    "def mostrar_animes_series(lista_de_recomendaciones):\n",
    "    # Iteramos sobre la lista de IDs y obtenemos y mostramos la información de cada anime\n",
    "    for anime_id in lista_de_recomendaciones:\n",
    "        data = obtener_info_anime(anime_id)\n",
    "        if 'data' not in data:\n",
    "            print(f\"El ID {anime_id} no existe.\")\n",
    "        else:\n",
    "            mostrar_info_anime(data)\n",
    "        time.sleep(1)"
   ]
  },
  {
   "cell_type": "markdown",
   "metadata": {},
   "source": [
    "# Limpieza de los datos"
   ]
  },
  {
   "cell_type": "code",
   "execution_count": 6,
   "metadata": {},
   "outputs": [
    {
     "name": "stdout",
     "output_type": "stream",
     "text": [
      "+---+--------------------+-----+--------------------+--------------------+------------------------------+-----+--------+--------------------+-----------+--------------------+--------------------+----------------+-----------+---------------+--------------------+------+----------+-------+---------+--------+---------+-------+-------+-------------+--------+--------+--------+--------+--------+-------+-------+-------+-------+-------+\n",
      "| ID|                Name|Score|              Genres|        English name|                 Japanese name| Type|Episodes|               Aired|  Premiered|           Producers|           Licensors|         Studios|     Source|       Duration|              Rating|Ranked|Popularity|Members|Favorites|Watching|Completed|On-Hold|Dropped|Plan to Watch|Score-10| Score-9| Score-8| Score-7| Score-6|Score-5|Score-4|Score-3|Score-2|Score-1|\n",
      "+---+--------------------+-----+--------------------+--------------------+------------------------------+-----+--------+--------------------+-----------+--------------------+--------------------+----------------+-----------+---------------+--------------------+------+----------+-------+---------+--------+---------+-------+-------+-------------+--------+--------+--------+--------+--------+-------+-------+-------+-------+-------+\n",
      "|  1|        Cowboy Bebop| 8.78|Action, Adventure...|        Cowboy Bebop|            カウボーイビバップ|   TV|      26|Apr 3, 1998 to Ap...|Spring 1998|       Bandai Visual|Funimation, Banda...|         Sunrise|   Original|24 min. per ep.|R - 17+ (violence...|  28.0|        39|1251960|    61971|  105808|   718161|  71513|  26678|       329800|229170.0|182126.0|131625.0| 62330.0| 20688.0| 8904.0| 3184.0| 1357.0|  741.0| 1580.0|\n",
      "|  5|Cowboy Bebop: Ten...| 8.39|Action, Drama, My...|Cowboy Bebop:The ...|   カウボーイビバップ 天国の扉|Movie|       1|         Sep 1, 2001|    Unknown|Sunrise, Bandai V...|Sony Pictures Ent...|           Bones|   Original|  1 hr. 55 min.|R - 17+ (violence...| 159.0|       518| 273145|     1174|    4143|   208333|   1935|    770|        57964| 30043.0| 49201.0| 49505.0| 22632.0|  5805.0| 1877.0|  577.0|  221.0|  109.0|  379.0|\n",
      "|  6|              Trigun| 8.24|Action, Sci-Fi, A...|              Trigun|                    トライガン|   TV|      26|Apr 1, 1998 to Se...|Spring 1998|Victor Entertainment|Funimation, Geneo...|        Madhouse|      Manga|24 min. per ep.|PG-13 - Teens 13 ...| 266.0|       201| 558913|    12944|   29113|   343492|  25465|  13925|       146918| 50229.0| 75651.0| 86142.0| 49432.0| 15376.0| 5838.0| 1965.0|  664.0|  316.0|  533.0|\n",
      "|  7|  Witch Hunter Robin| 7.27|Action, Mystery, ...|  Witch Hunter Robin|          Witch Hunter ROBI...|   TV|      26|Jul 2, 2002 to De...|Summer 2002|TV Tokyo, Bandai ...|Funimation, Banda...|         Sunrise|   Original|25 min. per ep.|PG-13 - Teens 13 ...|2481.0|      1467|  94683|      587|    4300|    46165|   5121|   5378|        33719|  2182.0|  4806.0| 10128.0| 11618.0|  5709.0| 2920.0| 1083.0|  353.0|  164.0|  131.0|\n",
      "|  8|      Bouken Ou Beet| 6.98|Adventure, Fantas...|Beet the Vandel B...|                  冒険王ビィト|   TV|      52|Sep 30, 2004 to S...|  Fall 2004|    TV Tokyo, Dentsu|             Unknown|  Toei Animation|      Manga|23 min. per ep.|       PG - Children|3710.0|      4369|  13224|       18|     642|     7314|    766|   1108|         3394|   312.0|   529.0|  1242.0|  1713.0|  1068.0|  634.0|  265.0|   83.0|   50.0|   27.0|\n",
      "| 15|        Eyeshield 21| 7.95|Action, Sports, C...|             Unknown|                アイシールド21|   TV|     145|Apr 6, 2005 to Ma...|Spring 2005|TV Tokyo, Nihon A...|VIZ Media, Sentai...|          Gallop|      Manga|23 min. per ep.|PG-13 - Teens 13 ...| 604.0|      1003| 148259|     2066|   13907|    78349|  14228|  11573|        30202|  9226.0| 14904.0| 22811.0| 16734.0|  6206.0| 2621.0|  795.0|  336.0|  140.0|  151.0|\n",
      "| 16|Hachimitsu to Clover| 8.06|Comedy, Drama, Jo...|    Honey and Clover|          ハチミツとクローバー|   TV|      24|Apr 15, 2005 to S...|Spring 2005|Genco, Fuji TV, S...|VIZ Media, Discot...|       J.C.Staff|      Manga|23 min. per ep.|PG-13 - Teens 13 ...| 468.0|       687| 214499|     4101|   11909|    81145|  11901|  11026|        98518| 11829.0| 16309.0| 20008.0| 13062.0|  5574.0| 3148.0| 1339.0|  484.0|  278.0|  321.0|\n",
      "| 17|Hungry Heart: Wil...| 7.59|Slice of Life, Co...|             Unknown|  ハングリーハート Wild Str...|   TV|      52|Sep 11, 2002 to S...|  Fall 2002|             Unknown|             Unknown|Nippon Animation|      Manga|23 min. per ep.|PG-13 - Teens 13 ...|1317.0|      3612|  20470|      231|     817|    13778|    828|   1168|         3879|  1123.0|  1777.0|  3102.0|  3075.0|  1286.0|  602.0|  218.0|   88.0|   31.0|   32.0|\n",
      "| 18|Initial D Fourth ...| 8.15|Action, Cars, Spo...|             Unknown|頭文字〈イニシャル〉D FOURT...|   TV|      24|Apr 17, 2004 to F...|Spring 2004|OB Planning, Stud...|          Funimation|        A.C.G.T.|      Manga|27 min. per ep.|PG-13 - Teens 13 ...| 360.0|      1233| 117929|      979|    6082|    90967|   3053|   1356|        16471| 10948.0| 15820.0| 22379.0| 12912.0|  3874.0| 1236.0|  369.0|   97.0|   48.0|  259.0|\n",
      "| 19|             Monster| 8.76|Drama, Horror, My...|             Monster|                    モンスター|   TV|      74|Apr 7, 2004 to Se...|Spring 2004|VAP, Shogakukan-S...|           VIZ Media|        Madhouse|      Manga|24 min. per ep.|    R+ - Mild Nudity|  30.0|       169| 614100|    29436|   64648|   214491|  47488|  23008|       264465| 77350.0| 60652.0| 43459.0| 22045.0|  8861.0| 4381.0| 2086.0|  882.0|  593.0| 1177.0|\n",
      "| 20|              Naruto| 7.91|Action, Adventure...|              Naruto|                        ナルト|   TV|     220|Oct 3, 2002 to Fe...|  Fall 2002|TV Tokyo, Aniplex...|           VIZ Media|  Studio Pierrot|      Manga|23 min. per ep.|PG-13 - Teens 13 ...| 660.0|         8|1830540|    65586|  137167|  1462223|  61734|  99806|        69610|216866.0|234481.0|345563.0|286175.0|108155.0|46886.0|15477.0| 6098.0| 3582.0| 5310.0|\n",
      "| 21|           One Piece| 8.52|Action, Adventure...|           One Piece|                     ONE PIECE|   TV| Unknown|   Oct 20, 1999 to ?|  Fall 1999|Fuji TV, TAP, Shu...|Funimation, 4Kids...|  Toei Animation|      Manga|        24 min.|PG-13 - Teens 13 ...|  95.0|        31|1352724|   126645|  887333|       33| 187919| 136245|       141194|292445.0|166186.0|141755.0| 85424.0| 35342.0|19019.0| 8201.0| 3675.0| 2616.0| 6340.0|\n",
      "| 22| Tennis no Ouji-sama|  7.9|Action, Comedy, S...|The Prince of Tennis|                テニスの王子様|   TV|     178|Oct 10, 2001 to M...|  Fall 2001|Production I.G, N...|           VIZ Media|      Trans Arts|      Manga|22 min. per ep.|PG-13 - Teens 13 ...| 675.0|      1039| 141832|     3124|   11235|    76881|  12905|  12516|        28295|  9576.0| 12719.0| 19791.0| 16284.0|  6624.0| 3086.0| 1071.0|  443.0|  210.0|  225.0|\n",
      "| 23|    Ring ni Kakero 1| 6.38|Action, Shounen, ...|             Unknown|              リングにかけろ１|   TV|      12|Oct 6, 2004 to De...|  Fall 2004|             Unknown|             Unknown|  Toei Animation|      Manga|25 min. per ep.|       PG - Children|6493.0|      7333|   3648|       16|     170|     1333|    145|    296|         1704|    69.0|    61.0|   152.0|   260.0|   236.0|  143.0|   88.0|   40.0|   32.0|   28.0|\n",
      "| 24|       School Rumble| 7.94|Comedy, Romance, ...|       School Rumble|              スクールランブル|   TV|      26|Oct 5, 2004 to Ma...|  Fall 2004|TV Tokyo, Sotsu, ...|          Funimation|    Studio Comet|      Manga|23 min. per ep.|PG-13 - Teens 13 ...| 625.0|       514| 275464|     5137|   12277|   157789|  12856|  13491|        79051| 17907.0| 27623.0| 38112.0| 27327.0| 11034.0| 5396.0| 1897.0|  780.0|  441.0|  405.0|\n",
      "| 25|           Sunabouzu| 7.42|Action, Adventure...|         Desert Punk|                      砂ぼうず|   TV|      24|Oct 6, 2004 to Ma...|  Fall 2004|GDH, Pony Canyon,...|          Funimation|           Gonzo|      Manga|24 min. per ep.|R - 17+ (violence...|1844.0|      1284| 111734|      790|    6273|    53819|   6255|   7951|        37436|  3589.0|  6664.0| 12349.0| 12702.0|  6033.0| 3079.0| 1521.0|  643.0|  350.0|  297.0|\n",
      "| 26|          Texhnolyze| 7.76|Action, Sci-Fi, P...|          Texhnolyze|                    TEXHNOLYZE|   TV|      22|Apr 17, 2003 to S...|Spring 2003|Group TAC, Rondo ...|Funimation, Geneo...|        Madhouse|   Original|23 min. per ep.|    R+ - Mild Nudity| 896.0|       823| 182599|     3671|   11335|    47532|   9815|   8112|       105805|  6856.0|  8309.0| 10851.0|  8636.0|  4429.0| 2462.0| 1456.0|  684.0|  411.0|  664.0|\n",
      "| 27|       Trinity Blood| 7.32|Action, Supernatu...|       Trinity Blood|          トリニティ・ブラッド|   TV|      24|Apr 29, 2005 to O...|Spring 2005|             Unknown|          Funimation|           Gonzo|Light novel|24 min. per ep.|R - 17+ (violence...|2240.0|       936| 158343|     1479|    7794|    87958|   8940|   9349|        44302|  6091.0|  9759.0| 17761.0| 20152.0| 10273.0| 5392.0| 2250.0|  873.0|  456.0|  298.0|\n",
      "| 28|    Yakitate!! Japan| 7.95|     Comedy, Shounen|    Yakitate!! Japan|           焼きたて!! ジャぱん|   TV|      69|Oct 12, 2004 to M...|  Fall 2004|TV Tokyo, Aniplex...|Nozomi Entertainment|         Sunrise|      Manga|24 min. per ep.|PG-13 - Teens 13 ...| 609.0|      1666|  80183|      887|    5007|    39992|   5764|   4633|        24787|  4347.0|  7425.0| 11074.0|  7965.0|  3038.0| 1248.0|  345.0|  118.0|   56.0|   58.0|\n",
      "| 29|              Zipang| 7.51|Action, Military,...|             Unknown|                      ジパング|   TV|      26|Oct 8, 2004 to Ap...|  Fall 2004|      Marvelous, TBS|Geneon Entertainm...|     Studio Deen|      Manga|24 min. per ep.|PG-13 - Teens 13 ...|1565.0|      3985|  16652|      152|     857|     6807|    721|    599|         7668|   430.0|   874.0|  1801.0|  1696.0|   662.0|  279.0|  114.0|   38.0|   13.0|   28.0|\n",
      "+---+--------------------+-----+--------------------+--------------------+------------------------------+-----+--------+--------------------+-----------+--------------------+--------------------+----------------+-----------+---------------+--------------------+------+----------+-------+---------+--------+---------+-------+-------+-------------+--------+--------+--------+--------+--------+-------+-------+-------+-------+-------+\n",
      "only showing top 20 rows\n",
      "\n"
     ]
    }
   ],
   "source": [
    "# Visualizamos todo el dataset de animes\n",
    "df.show()"
   ]
  },
  {
   "cell_type": "code",
   "execution_count": 7,
   "metadata": {},
   "outputs": [
    {
     "data": {
      "text/plain": [
       "37"
      ]
     },
     "execution_count": 7,
     "metadata": {},
     "output_type": "execute_result"
    }
   ],
   "source": [
    "# Visualizamos las filas con valores nulos\n",
    "df.where(df[\"Type\"] == \"Unknown\").count()"
   ]
  },
  {
   "cell_type": "code",
   "execution_count": 8,
   "metadata": {},
   "outputs": [
    {
     "name": "stdout",
     "output_type": "stream",
     "text": [
      "+-------+\n",
      "|Type   |\n",
      "+-------+\n",
      "|TV     |\n",
      "|Special|\n",
      "|Unknown|\n",
      "|OVA    |\n",
      "|Music  |\n",
      "|Movie  |\n",
      "|ONA    |\n",
      "+-------+\n",
      "\n"
     ]
    }
   ],
   "source": [
    "# Visualizamos los tipos de animes que existen (Movie, TV, OVA, etc)\n",
    "df.select(\"Type\").distinct().show(20, False)"
   ]
  },
  {
   "cell_type": "code",
   "execution_count": 9,
   "metadata": {},
   "outputs": [],
   "source": [
    "df = df.drop(df[\"Premiered\"])"
   ]
  },
  {
   "cell_type": "code",
   "execution_count": 11,
   "metadata": {},
   "outputs": [],
   "source": [
    "# Se filtra el dataset para que solo contenga los animes de tipo Movie y TV\n",
    "df_filtered = df.filter((df[\"Type\"] == \"Movie\") | (df[\"Type\"] == \"TV\"))"
   ]
  },
  {
   "cell_type": "code",
   "execution_count": 12,
   "metadata": {},
   "outputs": [],
   "source": [
    "\n",
    "# Convertimos los valores de las columnas de Score-1 a Score-10 a valores numericos cambiando los Unknown por 0\n",
    "df_filtered = df_filtered.withColumn(\"Score-1\", when(df_filtered[\"Score-1\"] == \"Unknown\", 0).otherwise(df_filtered[\"Score-1\"])) \\\n",
    "    .withColumn(\"Score-2\", when(df_filtered[\"Score-2\"] == \"Unknown\", 0).otherwise(df_filtered[\"Score-2\"])) \\\n",
    "    .withColumn(\"Score-3\", when(df_filtered[\"Score-3\"] == \"Unknown\", 0).otherwise(df_filtered[\"Score-3\"])) \\\n",
    "    .withColumn(\"Score-4\", when(df_filtered[\"Score-4\"] == \"Unknown\", 0).otherwise(df_filtered[\"Score-4\"])) \\\n",
    "    .withColumn(\"Score-5\", when(df_filtered[\"Score-5\"] == \"Unknown\", 0).otherwise(df_filtered[\"Score-5\"])) \\\n",
    "    .withColumn(\"Score-6\", when(df_filtered[\"Score-6\"] == \"Unknown\", 0).otherwise(df_filtered[\"Score-6\"])) \\\n",
    "    .withColumn(\"Score-7\", when(df_filtered[\"Score-7\"] == \"Unknown\", 0).otherwise(df_filtered[\"Score-7\"])) \\\n",
    "    .withColumn(\"Score-8\", when(df_filtered[\"Score-8\"] == \"Unknown\", 0).otherwise(df_filtered[\"Score-8\"])) \\\n",
    "    .withColumn(\"Score-9\", when(df_filtered[\"Score-9\"] == \"Unknown\", 0).otherwise(df_filtered[\"Score-9\"])) \\\n",
    "    .withColumn(\"Score-10\", when(df_filtered[\"Score-10\"] == \"Unknown\", 0).otherwise(df_filtered[\"Score-10\"]))\n",
    "    "
   ]
  },
  {
   "cell_type": "code",
   "execution_count": 13,
   "metadata": {},
   "outputs": [
    {
     "name": "stdout",
     "output_type": "stream",
     "text": [
      "+----+--------------------+-------+--------------------+--------------------+-------------------------------------+-----+--------+--------------------+--------------------+---------+--------------------+---------+---------------+--------------------+-------+----------+-------+---------+--------+---------+-------+-------+-------------+--------+-------+-------+-------+-------+-------+-------+-------+-------+-------+\n",
      "|  ID|                Name|  Score|              Genres|        English name|                        Japanese name| Type|Episodes|               Aired|           Producers|Licensors|             Studios|   Source|       Duration|              Rating| Ranked|Popularity|Members|Favorites|Watching|Completed|On-Hold|Dropped|Plan to Watch|Score-10|Score-9|Score-8|Score-7|Score-6|Score-5|Score-4|Score-3|Score-2|Score-1|\n",
      "+----+--------------------+-------+--------------------+--------------------+-------------------------------------+-----+--------+--------------------+--------------------+---------+--------------------+---------+---------------+--------------------+-------+----------+-------+---------+--------+---------+-------+-------+-------------+--------+-------+-------+-------+-------+-------+-------+-------+-------+-------+\n",
      "|1547|    Obake no Q-tarou|Unknown|Comedy, School, S...|             Unknown|                       オバケのＱ太郎|   TV|      96|Aug 29, 1965 to J...|             Unknown|  Unknown|   Shin-Ei Animation|    Manga|25 min. per ep.|        G - All Ages|11270.0|     11870|    557|        0|      25|      175|     26|    107|          224|     8.0|    5.0|    6.0|   20.0|   28.0|   31.0|    6.0|    6.0|    2.0|   10.0|\n",
      "|1656|     PostPet Momobin|Unknown|        Comedy, Kids|             Unknown|                   ポストペットモモ便|   TV|      24|Jul 4, 2004 to Ja...|             Unknown|  Unknown|             Unknown|  Unknown| 3 min. per ep.|        G - All Ages|11598.0|     12929|    359|        0|      18|      140|     12|     71|          118|     7.0|    2.0|    6.0|   13.0|   17.0|   22.0|   15.0|   12.0|    7.0|   10.0|\n",
      "|1739|Shibawanko no Wa ...|Unknown|                Kids|             Unknown|               しばわんこの和のこころ|   TV|      80|Apr 5, 2006 to Ma...|             Unknown|  Unknown|             Three-d|  Unknown| 2 min. per ep.|        G - All Ages|11947.0|     11799|    574|        0|      52|      104|     61|    100|          257|     6.0|    4.0|   23.0|   28.0|   18.0|   17.0|    1.0|    3.0|      0|    8.0|\n",
      "|1863|Silk Road Shounen...|Unknown|Adventure, Fantas...|             Unknown|              シルクロード少年 ユート|   TV|      26|Sep 16, 2006 to M...|             NHK-BS2|  Unknown|                 OLM|  Unknown|20 min. per ep.|             Unknown|12096.0|     12286|    473|        0|      31|       71|      8|     57|          306|     3.0|    1.0|    2.0|    9.0|    5.0|    9.0|    3.0|    1.0|    2.0|    3.0|\n",
      "|2173|Kouchuu Ouja Mush...|Unknown|  Adventure, Fantasy|Mushiking:The Kin...|甲虫王者ムシキング　スーパーバトル...|Movie|       1|        Mar 21, 2007|                Sega|  Unknown|             Unknown|Card game|        50 min.|        G - All Ages|15166.0|     12530|    424|        1|      20|      159|     16|     41|          188|     9.0|    5.0|    4.0|   20.0|   22.0|   18.0|    9.0|    3.0|    7.0|    4.0|\n",
      "|2366| Touma Kishinden Oni|Unknown|        Supernatural|             Unknown|                        闘魔鬼神伝ONI|   TV|      25|Oct 5, 1995 to Ma...|Sotsu, Youmex, Ji...|  Unknown|           J.C.Staff|     Game| 8 min. per ep.|PG-13 - Teens 13 ...|12591.0|     11179|    736|        0|      56|      133|     26|     66|          455|     5.0|    7.0|   16.0|   10.0|   19.0|   18.0|    6.0|    4.0|    2.0|    6.0|\n",
      "|2636|Dorami-chan: Wow,...|Unknown|             Fantasy|             Unknown|    ドラミちゃん アララ・少年山賊団！|Movie|       1|         Mar 9, 1991|             Unknown|  Unknown|             Unknown|  Unknown|        40 min.|        G - All Ages|13835.0|     13232|    324|        0|      14|      157|     11|     34|          108|     8.0|    1.0|    7.0|   22.0|   24.0|   21.0|    7.0|    2.0|    1.0|    4.0|\n",
      "|2639|Dorami-chan: Hell...|Unknown|             Fantasy|             Unknown|      ドラミちゃん ハロー恐竜キッズ!!|Movie|       1|         Mar 6, 1993|             Unknown|  Unknown|             Unknown|  Unknown|        40 min.|        G - All Ages|13844.0|     13242|    321|        0|      13|      165|      9|     32|          102|     6.0|    3.0|    3.0|   23.0|   30.0|   27.0|    8.0|    2.0|      0|    3.0|\n",
      "|2642|Dorami-chan: A Bl...|Unknown|       Kids, Fantasy|             Unknown|      ドラミちゃん 青いストローハット|Movie|       1|        Mar 12, 1994|             Unknown|  Unknown|             Unknown|  Unknown|        15 min.|        G - All Ages|13845.0|     13790|    274|        0|      10|      137|      9|     29|           89|     7.0|    2.0|    4.0|   13.0|   22.0|   26.0|    4.0|    3.0|    2.0|    2.0|\n",
      "|2691|Gensei Shugoshin ...|Unknown|  Adventure, Fantasy|             Unknown|           現世守護神　ぴーひょろ一家|Movie|       1|         Jul 9, 1988|       Bandai Visual|  Unknown|             Unknown|    Manga|        30 min.|PG-13 - Teens 13 ...|14116.0|     13295|    320|        0|      17|       64|     11|     43|          185|     5.0|      0|    2.0|    3.0|    6.0|   14.0|    2.0|    4.0|    1.0|    5.0|\n",
      "|2701| Susie-chan to Marvy|Unknown|        Comedy, Kids|Little Susie and ...|             スージーちゃんとマービー|   TV|     104|Apr 5, 1999 to Fe...|             Unknown|  Unknown|               Xebec|  Unknown|15 min. per ep.|             Unknown|12301.0|     14538|    221|        0|      13|       68|     10|     56|           74|     4.0|    4.0|      0|    8.0|    6.0|    8.0|    6.0|    2.0|    3.0|    3.0|\n",
      "|2708|          Wankorobee|Unknown|Comedy, Fantasy, ...|             Unknown|                         わんころべえ|   TV|      26|Oct 6, 1996 to Ma...|             Unknown|  Unknown|Ajia-Do, TMS Ente...| Original|15 min. per ep.|        G - All Ages|12782.0|     14602|    216|        0|      11|       59|      7|     66|           73|     2.0|      0|    3.0|    7.0|    1.0|    9.0|    6.0|    2.0|      0|    4.0|\n",
      "|2735|Mugen Senki Portriss|Unknown|Action, Mecha, Sc...|             Unknown|                     無限戦記ポトリス|   TV|      52|Apr 5, 2003 to Ma...|TV Tokyo, Bandai ...|  Unknown|Sunrise, Dongwoo A&E|  Unknown|25 min. per ep.|       PG - Children|15698.0|     12851|    372|        0|      32|       95|     13|     62|          170|     3.0|      0|    7.0|   11.0|   10.0|   17.0|    1.0|    6.0|    1.0|    4.0|\n",
      "|2738|  Kasumin 3rd Season|Unknown|       Kids, Fantasy|             Unknown|               カスミン (第3シリーズ)|   TV|      26|Apr 9, 2003 to Oc...|                 NHK|  Unknown|                 OLM|  Unknown|25 min. per ep.|       PG - Children|14908.0|     12369|    455|        3|      32|      125|     31|     68|          199|     5.0|    5.0|   11.0|   28.0|   18.0|   18.0|   10.0|    3.0|      0|    3.0|\n",
      "|2741|       Monkey Turn V|Unknown|Action, Sports, D...|             Unknown|                    モンキー ターン V|   TV|      25|Jul 4, 2004 to De...|                 AIC|  Unknown|                 OLM|    Manga|24 min. per ep.|PG-13 - Teens 13 ...|15646.0|     11845|    562|        0|      37|      168|     20|     63|          274|    12.0|    2.0|   24.0|   28.0|   19.0|   11.0|    5.0|    4.0|    3.0|    4.0|\n",
      "|2742|Omoikkiri Kagaku ...|Unknown|Comedy, Kids, Sci-Fi|Full-Blast Scienc...| おもいっきり科学アドベンチャー そ...|   TV|      26|Oct 5, 2003 to Ma...|TV Tokyo, Geneon ...|  Unknown|                 OLM|  Unknown|20 min. per ep.|             Unknown|11329.0|     12746|    387|        0|      33|       87|     14|     70|          183|     5.0|    2.0|    3.0|   12.0|    5.0|   16.0|    7.0|    4.0|    2.0|    5.0|\n",
      "|2750|Heisei Inu Monoga...|Unknown|   Adventure, Comedy|Heisei Dog Storie...|                     平成イヌ物語バウ|Movie|       1|        Aug 20, 1994|             Unknown|  Unknown|    Nippon Animation|  Unknown|        22 min.|             Unknown|14333.0|     13734|    278|        0|      13|      104|      6|     44|          111|     5.0|    3.0|   12.0|   16.0|   10.0|   11.0|    2.0|      0|    3.0|    5.0|\n",
      "|2930|   Tensai? Dr. Hamax|Unknown|              Comedy|             Unknown|                  天才？Dr.ハマックス|   TV|      12|Oct 6, 2007 to De...|Trans Arts, Tohok...|  Unknown|      Production I.G| Original|23 min. per ep.|        G - All Ages|12443.0|     14501|    223|        0|      15|       50|     10|     57|           91|     3.0|    2.0|    2.0|    2.0|    1.0|    8.0|    3.0|      0|    2.0|    3.0|\n",
      "|3073|    Robby to Kerobby|Unknown|        Kids, Comedy|     Robby & Kerobby|                     ロビーとケロビー|   TV|      52|Apr 1, 2007 to Ma...|Aniplex, Yomiko A...|  Unknown|        A-1 Pictures| Original|10 min. per ep.|        G - All Ages|11725.0|     14482|    224|        0|      20|       50|      6|     56|           92|     4.0|      0|    3.0|    5.0|    8.0|    5.0|    1.0|    2.0|    3.0|    1.0|\n",
      "|3164|Ichigo Ichie: Koi...|Unknown|Slice of Life, Co...|             Unknown|                一期一会 恋バナ友バナ|   TV|      13|Oct 20, 2007 to J...|           Four Some|  Unknown|             Unknown|  Unknown| 5 min. per ep.|        G - All Ages|14573.0|     12626|    412|        0|      29|      121|     16|     49|          197|     7.0|    8.0|    6.0|   18.0|   14.0|   15.0|    3.0|      0|    1.0|    7.0|\n",
      "+----+--------------------+-------+--------------------+--------------------+-------------------------------------+-----+--------+--------------------+--------------------+---------+--------------------+---------+---------------+--------------------+-------+----------+-------+---------+--------+---------+-------+-------+-------------+--------+-------+-------+-------+-------+-------+-------+-------+-------+-------+\n",
      "only showing top 20 rows\n",
      "\n"
     ]
    }
   ],
   "source": [
    "# Visualizamos el dataset con Scores en Unknown y verificamos que los valores de Scores-1 al Scores-10 sean numericos\n",
    "df_filtered.where(df_filtered[\"Score\"] == \"Unknown\").show()\n"
   ]
  },
  {
   "cell_type": "code",
   "execution_count": 14,
   "metadata": {},
   "outputs": [
    {
     "name": "stdout",
     "output_type": "stream",
     "text": [
      "+----+----------------+-------+--------------------+------------+--------------+----+--------+--------------------+---------+---------+-----------------+------+---------------+------------+-------+----------+-------+---------+--------+---------+-------+-------+-------------+--------+-------+-------+-------+-------+-------+-------+-------+-------+-------+\n",
      "|  ID|            Name|  Score|              Genres|English name| Japanese name|Type|Episodes|               Aired|Producers|Licensors|          Studios|Source|       Duration|      Rating| Ranked|Popularity|Members|Favorites|Watching|Completed|On-Hold|Dropped|Plan to Watch|Score-10|Score-9|Score-8|Score-7|Score-6|Score-5|Score-4|Score-3|Score-2|Score-1|\n",
      "+----+----------------+-------+--------------------+------------+--------------+----+--------+--------------------+---------+---------+-----------------+------+---------------+------------+-------+----------+-------+---------+--------+---------+-------+-------+-------------+--------+-------+-------+-------+-------+-------+-------+-------+-------+-------+\n",
      "|1547|Obake no Q-tarou|Unknown|Comedy, School, S...|     Unknown|オバケのＱ太郎|  TV|      96|Aug 29, 1965 to J...|  Unknown|  Unknown|Shin-Ei Animation| Manga|25 min. per ep.|G - All Ages|11270.0|     11870|    557|        0|      25|      175|     26|    107|          224|     8.0|    5.0|    6.0|   20.0|   28.0|   31.0|    6.0|    6.0|    2.0|   10.0|\n",
      "+----+----------------+-------+--------------------+------------+--------------+----+--------+--------------------+---------+---------+-----------------+------+---------------+------------+-------+----------+-------+---------+--------+---------+-------+-------+-------------+--------+-------+-------+-------+-------+-------+-------+-------+-------+-------+\n",
      "\n"
     ]
    }
   ],
   "source": [
    "## Se muestra uno de los animes para verificar un cambio en la siguinete ejecución\n",
    "df_filtered.where(df_filtered[\"ID\"] == \"1547\").show()"
   ]
  },
  {
   "cell_type": "code",
   "execution_count": 15,
   "metadata": {},
   "outputs": [],
   "source": [
    "# Se calcula el Score promedio de cada anime si no tiene, y se guarda en la columna Score en otro caso mantiene el Score que tiene\n",
    "df_filtered = df_filtered.withColumn(\"Score\", when(df_filtered[\"Score\"] == \"Unknown\", (df_filtered[\"Score-1\"] *1 + df_filtered[\"Score-2\"] *2 + df_filtered[\"Score-3\"] *3 + df_filtered[\"Score-4\"] *4 + df_filtered[\"Score-5\"] *5 + df_filtered[\"Score-6\"] *6 + df_filtered[\"Score-7\"] *7 + df_filtered[\"Score-8\"] *8 + df_filtered[\"Score-9\"] *9 + df_filtered[\"Score-10\"] *10) / (df_filtered[\"Score-1\"] + df_filtered[\"Score-2\"] + df_filtered[\"Score-3\"] + df_filtered[\"Score-4\"] + df_filtered[\"Score-5\"] + df_filtered[\"Score-6\"] + df_filtered[\"Score-7\"] + df_filtered[\"Score-8\"] + df_filtered[\"Score-9\"] + df_filtered[\"Score-10\"])).otherwise(df_filtered[\"Score\"]))"
   ]
  },
  {
   "cell_type": "code",
   "execution_count": 16,
   "metadata": {},
   "outputs": [],
   "source": [
    "# Redondeamos el Score a 2 decimales\n",
    "df_filtered = df_filtered.withColumn(\"Score\", round(df_filtered.Score, 2))"
   ]
  },
  {
   "cell_type": "code",
   "execution_count": 17,
   "metadata": {},
   "outputs": [
    {
     "name": "stdout",
     "output_type": "stream",
     "text": [
      "+----+----------------+-----+--------------------+------------+--------------+----+--------+--------------------+---------+---------+-----------------+------+---------------+------------+-------+----------+-------+---------+--------+---------+-------+-------+-------------+--------+-------+-------+-------+-------+-------+-------+-------+-------+-------+\n",
      "|  ID|            Name|Score|              Genres|English name| Japanese name|Type|Episodes|               Aired|Producers|Licensors|          Studios|Source|       Duration|      Rating| Ranked|Popularity|Members|Favorites|Watching|Completed|On-Hold|Dropped|Plan to Watch|Score-10|Score-9|Score-8|Score-7|Score-6|Score-5|Score-4|Score-3|Score-2|Score-1|\n",
      "+----+----------------+-----+--------------------+------------+--------------+----+--------+--------------------+---------+---------+-----------------+------+---------------+------------+-------+----------+-------+---------+--------+---------+-------+-------+-------------+--------+-------+-------+-------+-------+-------+-------+-------+-------+-------+\n",
      "|1547|Obake no Q-tarou| 5.67|Comedy, School, S...|     Unknown|オバケのＱ太郎|  TV|      96|Aug 29, 1965 to J...|  Unknown|  Unknown|Shin-Ei Animation| Manga|25 min. per ep.|G - All Ages|11270.0|     11870|    557|        0|      25|      175|     26|    107|          224|     8.0|    5.0|    6.0|   20.0|   28.0|   31.0|    6.0|    6.0|    2.0|   10.0|\n",
      "+----+----------------+-----+--------------------+------------+--------------+----+--------+--------------------+---------+---------+-----------------+------+---------------+------------+-------+----------+-------+---------+--------+---------+-------+-------+-------------+--------+-------+-------+-------+-------+-------+-------+-------+-------+-------+\n",
      "\n"
     ]
    }
   ],
   "source": [
    "# Se muestra uno de los animes para verificar que el Score se haya calculado correctamente\n",
    "df_filtered.where(df_filtered[\"ID\"] == \"1547\").show()"
   ]
  },
  {
   "cell_type": "code",
   "execution_count": 18,
   "metadata": {},
   "outputs": [],
   "source": [
    "# Comprobación de la media de los scores\n",
    "# num = (8*10+5*9+6*8+20*7+28*6+31*5+6*4+6*3+2*2+10*1)/(8+5+6+20.0+28+31+6+6+2+10.0)\n",
    "# num"
   ]
  },
  {
   "cell_type": "code",
   "execution_count": 19,
   "metadata": {},
   "outputs": [
    {
     "name": "stdout",
     "output_type": "stream",
     "text": [
      "+---+--------------------+-----+--------------------+--------------------+------------------------------+-----+--------+--------------------+--------------------+--------------------+----------------+-----------+---------------+--------------------+------+----------+-------+---------+--------+---------+-------+-------+-------------+--------+--------+--------+--------+--------+-------+-------+-------+-------+-------+\n",
      "| ID|                Name|Score|              Genres|        English name|                 Japanese name| Type|Episodes|               Aired|           Producers|           Licensors|         Studios|     Source|       Duration|              Rating|Ranked|Popularity|Members|Favorites|Watching|Completed|On-Hold|Dropped|Plan to Watch|Score-10| Score-9| Score-8| Score-7| Score-6|Score-5|Score-4|Score-3|Score-2|Score-1|\n",
      "+---+--------------------+-----+--------------------+--------------------+------------------------------+-----+--------+--------------------+--------------------+--------------------+----------------+-----------+---------------+--------------------+------+----------+-------+---------+--------+---------+-------+-------+-------------+--------+--------+--------+--------+--------+-------+-------+-------+-------+-------+\n",
      "|  1|        Cowboy Bebop| 8.78|Action, Adventure...|        Cowboy Bebop|            カウボーイビバップ|   TV|      26|Apr 3, 1998 to Ap...|       Bandai Visual|Funimation, Banda...|         Sunrise|   Original|24 min. per ep.|R - 17+ (violence...|  28.0|        39|1251960|    61971|  105808|   718161|  71513|  26678|       329800|229170.0|182126.0|131625.0| 62330.0| 20688.0| 8904.0| 3184.0| 1357.0|  741.0| 1580.0|\n",
      "|  5|Cowboy Bebop: Ten...| 8.39|Action, Drama, My...|Cowboy Bebop:The ...|   カウボーイビバップ 天国の扉|Movie|       1|         Sep 1, 2001|Sunrise, Bandai V...|Sony Pictures Ent...|           Bones|   Original|  1 hr. 55 min.|R - 17+ (violence...| 159.0|       518| 273145|     1174|    4143|   208333|   1935|    770|        57964| 30043.0| 49201.0| 49505.0| 22632.0|  5805.0| 1877.0|  577.0|  221.0|  109.0|  379.0|\n",
      "|  6|              Trigun| 8.24|Action, Sci-Fi, A...|              Trigun|                    トライガン|   TV|      26|Apr 1, 1998 to Se...|Victor Entertainment|Funimation, Geneo...|        Madhouse|      Manga|24 min. per ep.|PG-13 - Teens 13 ...| 266.0|       201| 558913|    12944|   29113|   343492|  25465|  13925|       146918| 50229.0| 75651.0| 86142.0| 49432.0| 15376.0| 5838.0| 1965.0|  664.0|  316.0|  533.0|\n",
      "|  7|  Witch Hunter Robin| 7.27|Action, Mystery, ...|  Witch Hunter Robin|          Witch Hunter ROBI...|   TV|      26|Jul 2, 2002 to De...|TV Tokyo, Bandai ...|Funimation, Banda...|         Sunrise|   Original|25 min. per ep.|PG-13 - Teens 13 ...|2481.0|      1467|  94683|      587|    4300|    46165|   5121|   5378|        33719|  2182.0|  4806.0| 10128.0| 11618.0|  5709.0| 2920.0| 1083.0|  353.0|  164.0|  131.0|\n",
      "|  8|      Bouken Ou Beet| 6.98|Adventure, Fantas...|Beet the Vandel B...|                  冒険王ビィト|   TV|      52|Sep 30, 2004 to S...|    TV Tokyo, Dentsu|             Unknown|  Toei Animation|      Manga|23 min. per ep.|       PG - Children|3710.0|      4369|  13224|       18|     642|     7314|    766|   1108|         3394|   312.0|   529.0|  1242.0|  1713.0|  1068.0|  634.0|  265.0|   83.0|   50.0|   27.0|\n",
      "| 15|        Eyeshield 21| 7.95|Action, Sports, C...|             Unknown|                アイシールド21|   TV|     145|Apr 6, 2005 to Ma...|TV Tokyo, Nihon A...|VIZ Media, Sentai...|          Gallop|      Manga|23 min. per ep.|PG-13 - Teens 13 ...| 604.0|      1003| 148259|     2066|   13907|    78349|  14228|  11573|        30202|  9226.0| 14904.0| 22811.0| 16734.0|  6206.0| 2621.0|  795.0|  336.0|  140.0|  151.0|\n",
      "| 16|Hachimitsu to Clover| 8.06|Comedy, Drama, Jo...|    Honey and Clover|          ハチミツとクローバー|   TV|      24|Apr 15, 2005 to S...|Genco, Fuji TV, S...|VIZ Media, Discot...|       J.C.Staff|      Manga|23 min. per ep.|PG-13 - Teens 13 ...| 468.0|       687| 214499|     4101|   11909|    81145|  11901|  11026|        98518| 11829.0| 16309.0| 20008.0| 13062.0|  5574.0| 3148.0| 1339.0|  484.0|  278.0|  321.0|\n",
      "| 17|Hungry Heart: Wil...| 7.59|Slice of Life, Co...|             Unknown|  ハングリーハート Wild Str...|   TV|      52|Sep 11, 2002 to S...|             Unknown|             Unknown|Nippon Animation|      Manga|23 min. per ep.|PG-13 - Teens 13 ...|1317.0|      3612|  20470|      231|     817|    13778|    828|   1168|         3879|  1123.0|  1777.0|  3102.0|  3075.0|  1286.0|  602.0|  218.0|   88.0|   31.0|   32.0|\n",
      "| 18|Initial D Fourth ...| 8.15|Action, Cars, Spo...|             Unknown|頭文字〈イニシャル〉D FOURT...|   TV|      24|Apr 17, 2004 to F...|OB Planning, Stud...|          Funimation|        A.C.G.T.|      Manga|27 min. per ep.|PG-13 - Teens 13 ...| 360.0|      1233| 117929|      979|    6082|    90967|   3053|   1356|        16471| 10948.0| 15820.0| 22379.0| 12912.0|  3874.0| 1236.0|  369.0|   97.0|   48.0|  259.0|\n",
      "| 19|             Monster| 8.76|Drama, Horror, My...|             Monster|                    モンスター|   TV|      74|Apr 7, 2004 to Se...|VAP, Shogakukan-S...|           VIZ Media|        Madhouse|      Manga|24 min. per ep.|    R+ - Mild Nudity|  30.0|       169| 614100|    29436|   64648|   214491|  47488|  23008|       264465| 77350.0| 60652.0| 43459.0| 22045.0|  8861.0| 4381.0| 2086.0|  882.0|  593.0| 1177.0|\n",
      "| 20|              Naruto| 7.91|Action, Adventure...|              Naruto|                        ナルト|   TV|     220|Oct 3, 2002 to Fe...|TV Tokyo, Aniplex...|           VIZ Media|  Studio Pierrot|      Manga|23 min. per ep.|PG-13 - Teens 13 ...| 660.0|         8|1830540|    65586|  137167|  1462223|  61734|  99806|        69610|216866.0|234481.0|345563.0|286175.0|108155.0|46886.0|15477.0| 6098.0| 3582.0| 5310.0|\n",
      "| 21|           One Piece| 8.52|Action, Adventure...|           One Piece|                     ONE PIECE|   TV| Unknown|   Oct 20, 1999 to ?|Fuji TV, TAP, Shu...|Funimation, 4Kids...|  Toei Animation|      Manga|        24 min.|PG-13 - Teens 13 ...|  95.0|        31|1352724|   126645|  887333|       33| 187919| 136245|       141194|292445.0|166186.0|141755.0| 85424.0| 35342.0|19019.0| 8201.0| 3675.0| 2616.0| 6340.0|\n",
      "| 22| Tennis no Ouji-sama|  7.9|Action, Comedy, S...|The Prince of Tennis|                テニスの王子様|   TV|     178|Oct 10, 2001 to M...|Production I.G, N...|           VIZ Media|      Trans Arts|      Manga|22 min. per ep.|PG-13 - Teens 13 ...| 675.0|      1039| 141832|     3124|   11235|    76881|  12905|  12516|        28295|  9576.0| 12719.0| 19791.0| 16284.0|  6624.0| 3086.0| 1071.0|  443.0|  210.0|  225.0|\n",
      "| 23|    Ring ni Kakero 1| 6.38|Action, Shounen, ...|             Unknown|              リングにかけろ１|   TV|      12|Oct 6, 2004 to De...|             Unknown|             Unknown|  Toei Animation|      Manga|25 min. per ep.|       PG - Children|6493.0|      7333|   3648|       16|     170|     1333|    145|    296|         1704|    69.0|    61.0|   152.0|   260.0|   236.0|  143.0|   88.0|   40.0|   32.0|   28.0|\n",
      "| 24|       School Rumble| 7.94|Comedy, Romance, ...|       School Rumble|              スクールランブル|   TV|      26|Oct 5, 2004 to Ma...|TV Tokyo, Sotsu, ...|          Funimation|    Studio Comet|      Manga|23 min. per ep.|PG-13 - Teens 13 ...| 625.0|       514| 275464|     5137|   12277|   157789|  12856|  13491|        79051| 17907.0| 27623.0| 38112.0| 27327.0| 11034.0| 5396.0| 1897.0|  780.0|  441.0|  405.0|\n",
      "| 25|           Sunabouzu| 7.42|Action, Adventure...|         Desert Punk|                      砂ぼうず|   TV|      24|Oct 6, 2004 to Ma...|GDH, Pony Canyon,...|          Funimation|           Gonzo|      Manga|24 min. per ep.|R - 17+ (violence...|1844.0|      1284| 111734|      790|    6273|    53819|   6255|   7951|        37436|  3589.0|  6664.0| 12349.0| 12702.0|  6033.0| 3079.0| 1521.0|  643.0|  350.0|  297.0|\n",
      "| 26|          Texhnolyze| 7.76|Action, Sci-Fi, P...|          Texhnolyze|                    TEXHNOLYZE|   TV|      22|Apr 17, 2003 to S...|Group TAC, Rondo ...|Funimation, Geneo...|        Madhouse|   Original|23 min. per ep.|    R+ - Mild Nudity| 896.0|       823| 182599|     3671|   11335|    47532|   9815|   8112|       105805|  6856.0|  8309.0| 10851.0|  8636.0|  4429.0| 2462.0| 1456.0|  684.0|  411.0|  664.0|\n",
      "| 27|       Trinity Blood| 7.32|Action, Supernatu...|       Trinity Blood|          トリニティ・ブラッド|   TV|      24|Apr 29, 2005 to O...|             Unknown|          Funimation|           Gonzo|Light novel|24 min. per ep.|R - 17+ (violence...|2240.0|       936| 158343|     1479|    7794|    87958|   8940|   9349|        44302|  6091.0|  9759.0| 17761.0| 20152.0| 10273.0| 5392.0| 2250.0|  873.0|  456.0|  298.0|\n",
      "| 28|    Yakitate!! Japan| 7.95|     Comedy, Shounen|    Yakitate!! Japan|           焼きたて!! ジャぱん|   TV|      69|Oct 12, 2004 to M...|TV Tokyo, Aniplex...|Nozomi Entertainment|         Sunrise|      Manga|24 min. per ep.|PG-13 - Teens 13 ...| 609.0|      1666|  80183|      887|    5007|    39992|   5764|   4633|        24787|  4347.0|  7425.0| 11074.0|  7965.0|  3038.0| 1248.0|  345.0|  118.0|   56.0|   58.0|\n",
      "| 29|              Zipang| 7.51|Action, Military,...|             Unknown|                      ジパング|   TV|      26|Oct 8, 2004 to Ap...|      Marvelous, TBS|Geneon Entertainm...|     Studio Deen|      Manga|24 min. per ep.|PG-13 - Teens 13 ...|1565.0|      3985|  16652|      152|     857|     6807|    721|    599|         7668|   430.0|   874.0|  1801.0|  1696.0|   662.0|  279.0|  114.0|   38.0|   13.0|   28.0|\n",
      "+---+--------------------+-----+--------------------+--------------------+------------------------------+-----+--------+--------------------+--------------------+--------------------+----------------+-----------+---------------+--------------------+------+----------+-------+---------+--------+---------+-------+-------+-------------+--------+--------+--------+--------+--------+-------+-------+-------+-------+-------+\n",
      "only showing top 20 rows\n",
      "\n"
     ]
    }
   ],
   "source": [
    "# Se visualiza el dataset filtrado nuevamente\n",
    "df_filtered.show()"
   ]
  },
  {
   "cell_type": "code",
   "execution_count": 20,
   "metadata": {},
   "outputs": [
    {
     "data": {
      "text/plain": [
       "8037"
      ]
     },
     "execution_count": 20,
     "metadata": {},
     "output_type": "execute_result"
    }
   ],
   "source": [
    "# se visualiza el numero de filas del dataset filtrado\n",
    "df_filtered.count()"
   ]
  },
  {
   "cell_type": "code",
   "execution_count": 21,
   "metadata": {},
   "outputs": [
    {
     "data": {
      "text/plain": [
       "188"
      ]
     },
     "execution_count": 21,
     "metadata": {},
     "output_type": "execute_result"
    }
   ],
   "source": [
    "# Visualizamos el numero de filas sin valoraciones\n",
    "df_filtered.where((df_filtered[\"Score-1\"] == 0) & (df_filtered[\"Score-2\"] == 0) & (df_filtered[\"Score-3\"] == 0) & (df_filtered[\"Score-4\"] == 0) & (df_filtered[\"Score-5\"] == 0) & (df_filtered[\"Score-6\"] == 0) & (df_filtered[\"Score-7\"] == 0) & (df_filtered[\"Score-8\"] == 0) & (df_filtered[\"Score-9\"] == 0) & (df_filtered[\"Score-10\"] == 0)).count()"
   ]
  },
  {
   "cell_type": "code",
   "execution_count": 22,
   "metadata": {},
   "outputs": [
    {
     "name": "stdout",
     "output_type": "stream",
     "text": [
      "+-----+--------------------+-----+--------------------+--------------------+----------------------------------+-----+--------+--------------+--------------------+----------+------------+------------+--------+--------------------+-------+----------+-------+---------+--------+---------+-------+-------+-------------+--------+-------+-------+-------+-------+-------+-------+-------+-------+-------+\n",
      "|   ID|                Name|Score|              Genres|        English name|                     Japanese name| Type|Episodes|         Aired|           Producers| Licensors|     Studios|      Source|Duration|              Rating| Ranked|Popularity|Members|Favorites|Watching|Completed|On-Hold|Dropped|Plan to Watch|Score-10|Score-9|Score-8|Score-7|Score-6|Score-5|Score-4|Score-3|Score-2|Score-1|\n",
      "+-----+--------------------+-----+--------------------+--------------------+----------------------------------+-----+--------+--------------+--------------------+----------+------------+------------+--------+--------------------+-------+----------+-------+---------+--------+---------+-------+-------+-------------+--------+-------+-------+-------+-------+-------+-------+-------+-------+-------+\n",
      "|20471|            Aoki Uru| null|    Military, Sci-Fi|         Uru in Blue|                          蒼きウル|Movie|       1|       Unknown|             Unknown|   Unknown|       Gaina|    Original| Unknown|             Unknown|Unknown|      6340|   5334|        1|       0|        0|      0|      0|         5334|       0|      0|      0|      0|      0|      0|      0|      0|      0|      0|\n",
      "|20715|                Mint| null|      Drama, Fantasy|             Unknown|                              MINT|Movie|       1|       Unknown|             Unknown|   Unknown|     Unknown|    Original| Unknown|             Unknown|Unknown|      8138|   2651|        1|       0|        0|      0|      0|         2651|       0|      0|      0|      0|      0|      0|      0|      0|      0|      0|\n",
      "|30223|      Shishou Series| null|Horror, Supernatu...|             Unknown|                      師匠シリーズ|   TV| Unknown|       Unknown|             Unknown|   Unknown|Pierrot Plus|       Novel| Unknown|             Unknown|Unknown|      5969|   6184|        4|       0|        0|      0|      0|         6184|       0|      0|      0|      0|      0|      0|      0|      0|      0|      0|\n",
      "|31445|Minna Atsumare! F...| null|Comedy, Parody, S...|             Unknown|みんな集まれ! ファルコム学園　３期|   TV| Unknown|       Unknown|             Unknown|   Unknown|     Unknown|4-koma manga| Unknown|PG-13 - Teens 13 ...|Unknown|     11309|    711|        0|       0|        0|      0|      0|          711|       0|      0|      0|      0|      0|      0|      0|      0|      0|      0|\n",
      "|33737|Megaton-kyuu Musashi| null|       Mecha, School|             Unknown|                  メガトン級ムサシ|   TV| Unknown|Jul, 2021 to ?|             Unknown|   Unknown|         OLM|    Original| Unknown|             Unknown|Unknown|     10328|   1084|        1|       0|        0|      0|      0|         1084|       0|      0|      0|      0|      0|      0|      0|      0|      0|      0|\n",
      "|34264|Ninja Bear the An...| null|      Comedy, School|             Unknown|          忍者ベアーthe Animation★|   TV| Unknown|       Unknown|TV Tokyo, TriF St...|   Unknown|      KOO-KI|    Original| Unknown|        G - All Ages|Unknown|     13029|    355|        0|       0|        0|      0|      0|          355|       0|      0|      0|      0|      0|      0|      0|      0|      0|      0|\n",
      "|34348|     Rescue Academia| null|   Sci-Fi, Adventure|             Unknown|              レスキューアカデミア|   TV| Unknown|     2021 to ?|             Unknown|   Unknown|       Gaina|    Original| Unknown|        G - All Ages|Unknown|      9825|   1359|        2|       0|        0|      0|      0|         1359|       0|      0|      0|      0|      0|      0|      0|      0|      0|      0|\n",
      "|34832|Macross (Shin Ser...| null|Action, Military,...|             Unknown|             マクロス (新シリーズ)|   TV| Unknown|       Unknown|             Unknown|   Unknown|     Unknown|    Original| 23 min.|PG-13 - Teens 13 ...|Unknown|      7501|   3456|        6|       0|        0|      0|      0|         3456|       0|      0|      0|      0|      0|      0|      0|      0|      0|      0|\n",
      "|34900|Biblia Koshodou n...| null|      Mystery, Drama|             Unknown|          ビブリア古書堂の事件手帖|Movie|       1|       Unknown|             Unknown|   Unknown|     Unknown| Light novel| Unknown|             Unknown|Unknown|      7219|   3842|        5|       0|        0|      0|      0|         3842|       0|      0|      0|      0|      0|      0|      0|      0|      0|      0|\n",
      "|35136|Koukyoushihen Eur...| null|Sci-Fi, Adventure...|Eureka Seven Hi-E...|   EUREKA／交響詩篇エウレカセブ...|Movie|       1|          2021|Mainichi Broadcas...|Funimation|       Bones|    Original| Unknown|PG-13 - Teens 13 ...|Unknown|      5391|   7940|        9|       0|        0|      0|      0|         7940|       0|      0|      0|      0|      0|      0|      0|      0|      0|      0|\n",
      "|35210|        Kuroi Hitomi| null|Demons, Supernatu...|             Unknown|                            黒い瞳|Movie|       1|       Unknown|             Unknown|   Unknown|     Unknown|   Web manga|   2 hr.|             Unknown|Unknown|     11886|    557|        0|       0|        0|      0|      0|          557|       0|      0|      0|      0|      0|      0|      0|      0|      0|      0|\n",
      "|35213|Kai Feng Kidan Movie| null|Action, Comedy, S...|             Unknown|                          開封奇談|Movie|       1|       Unknown|             Unknown|   Unknown|     Unknown|   Web manga|   2 hr.|             Unknown|Unknown|     13676|    286|        0|       0|        0|      0|      0|          286|       0|      0|      0|      0|      0|      0|      0|      0|      0|      0|\n",
      "|35335|          Musashino!| null|Comedy, School, S...|             Unknown|                        むさしの！|   TV| Unknown|       Unknown|             Harappa|   Unknown|      A-Real|    Original|  3 min.|       PG - Children|Unknown|      7465|   3504|        2|       0|        0|      0|      0|         3504|       0|      0|      0|      0|      0|      0|      0|      0|      0|      0|\n",
      "|35362|Mori no Yousei: K...| null|Music, Comedy, Fa...|             Unknown|               森の妖精 キノコの娘|   TV| Unknown|       Unknown|             Unknown|   Unknown|     Unknown|Picture book| Unknown|             Unknown|Unknown|      9967|   1261|        1|       0|        0|      0|      0|         1261|       0|      0|      0|      0|      0|      0|      0|      0|      0|      0|\n",
      "|35500|Yuri!!! on Ice Th...| null|      Comedy, Sports|Yuri on Ice the M...|        ユーリ!!! on ICE 劇場版...|Movie|       1|       Unknown|             Unknown|   Unknown|       MAPPA|    Original| Unknown|             Unknown|Unknown|      2132|  55311|      214|       1|        0|      1|      0|        55309|       0|      0|      0|      0|      0|      0|      0|      0|      0|      0|\n",
      "|35853|Zero Seiki Movie ...| null|Action, Sci-Fi, A...|             Unknown|               零世紀 エメラルダス|Movie|       1|       Unknown|             Unknown|   Unknown|     Unknown|       Manga| Unknown|             Unknown|Unknown|      8808|   2037|        0|       0|        0|      0|      0|         2037|       0|      0|      0|      0|      0|      0|      0|      0|      0|      0|\n",
      "|35854|Zero Seiki Movie ...| null|Action, Sci-Fi, A...|             Unknown|                 零世紀 ハーロック|Movie|       1|       Unknown|             Unknown|   Unknown|     Unknown|       Manga| Unknown|             Unknown|Unknown|      9863|   1330|        0|       0|        0|      0|      0|         1330|       0|      0|      0|      0|      0|      0|      0|      0|      0|      0|\n",
      "|35855|Zero Seiki Movie ...| null|Action, Sci-Fi, A...|             Unknown|                   零世紀 メーテル|Movie|       1|       Unknown|             Unknown|   Unknown|     Unknown|       Manga| Unknown|             Unknown|Unknown|     10359|   1061|        0|       0|        0|      0|      0|         1061|       0|      0|      0|      0|      0|      0|      0|      0|      0|      0|\n",
      "|36252|Library Cross Inf...| null|Mystery, Supernat...|             Unknown|                     LibraryCross∞|   TV| Unknown|       Unknown|             Unknown|   Unknown|     Unknown|        Game| Unknown|             Unknown|Unknown|      9633|   1476|        0|       0|        0|      0|      0|         1476|       0|      0|      0|      0|      0|      0|      0|      0|      0|      0|\n",
      "|36699|Kimitachi wa Dou ...| null|               Drama|             Unknown|              君たちはどう生きるか|Movie|       1|       Unknown|             Unknown|   Unknown|     Unknown|    Original| Unknown|             Unknown|Unknown|      8601|   2226|        0|       0|        0|      0|      0|         2226|       0|      0|      0|      0|      0|      0|      0|      0|      0|      0|\n",
      "+-----+--------------------+-----+--------------------+--------------------+----------------------------------+-----+--------+--------------+--------------------+----------+------------+------------+--------+--------------------+-------+----------+-------+---------+--------+---------+-------+-------+-------------+--------+-------+-------+-------+-------+-------+-------+-------+-------+-------+\n",
      "only showing top 20 rows\n",
      "\n"
     ]
    }
   ],
   "source": [
    "# Visualizamos las filas sin valoraciones\n",
    "df_filtered.where((df_filtered[\"Score-1\"] == 0) & (df_filtered[\"Score-2\"] == 0) & (df_filtered[\"Score-3\"] == 0) & (df_filtered[\"Score-4\"] == 0) & (df_filtered[\"Score-5\"] == 0) & (df_filtered[\"Score-6\"] == 0) & (df_filtered[\"Score-7\"] == 0) & (df_filtered[\"Score-8\"] == 0) & (df_filtered[\"Score-9\"] == 0) & (df_filtered[\"Score-10\"] == 0)).show()"
   ]
  },
  {
   "cell_type": "code",
   "execution_count": 23,
   "metadata": {},
   "outputs": [
    {
     "name": "stdout",
     "output_type": "stream",
     "text": [
      "+-----+--------------------+-----+--------------------+--------------------+----------------------------------+-----+--------+--------------+--------------------+----------+------------+------------+--------+--------------------+-------+----------+-------+---------+--------+---------+-------+-------+-------------+--------+-------+-------+-------+-------+-------+-------+-------+-------+-------+\n",
      "|   ID|                Name|Score|              Genres|        English name|                     Japanese name| Type|Episodes|         Aired|           Producers| Licensors|     Studios|      Source|Duration|              Rating| Ranked|Popularity|Members|Favorites|Watching|Completed|On-Hold|Dropped|Plan to Watch|Score-10|Score-9|Score-8|Score-7|Score-6|Score-5|Score-4|Score-3|Score-2|Score-1|\n",
      "+-----+--------------------+-----+--------------------+--------------------+----------------------------------+-----+--------+--------------+--------------------+----------+------------+------------+--------+--------------------+-------+----------+-------+---------+--------+---------+-------+-------+-------------+--------+-------+-------+-------+-------+-------+-------+-------+-------+-------+\n",
      "|20471|            Aoki Uru| null|    Military, Sci-Fi|         Uru in Blue|                          蒼きウル|Movie|       1|       Unknown|             Unknown|   Unknown|       Gaina|    Original| Unknown|             Unknown|Unknown|      6340|   5334|        1|       0|        0|      0|      0|         5334|       0|      0|      0|      0|      0|      0|      0|      0|      0|      0|\n",
      "|20715|                Mint| null|      Drama, Fantasy|             Unknown|                              MINT|Movie|       1|       Unknown|             Unknown|   Unknown|     Unknown|    Original| Unknown|             Unknown|Unknown|      8138|   2651|        1|       0|        0|      0|      0|         2651|       0|      0|      0|      0|      0|      0|      0|      0|      0|      0|\n",
      "|30223|      Shishou Series| null|Horror, Supernatu...|             Unknown|                      師匠シリーズ|   TV| Unknown|       Unknown|             Unknown|   Unknown|Pierrot Plus|       Novel| Unknown|             Unknown|Unknown|      5969|   6184|        4|       0|        0|      0|      0|         6184|       0|      0|      0|      0|      0|      0|      0|      0|      0|      0|\n",
      "|31445|Minna Atsumare! F...| null|Comedy, Parody, S...|             Unknown|みんな集まれ! ファルコム学園　３期|   TV| Unknown|       Unknown|             Unknown|   Unknown|     Unknown|4-koma manga| Unknown|PG-13 - Teens 13 ...|Unknown|     11309|    711|        0|       0|        0|      0|      0|          711|       0|      0|      0|      0|      0|      0|      0|      0|      0|      0|\n",
      "|33737|Megaton-kyuu Musashi| null|       Mecha, School|             Unknown|                  メガトン級ムサシ|   TV| Unknown|Jul, 2021 to ?|             Unknown|   Unknown|         OLM|    Original| Unknown|             Unknown|Unknown|     10328|   1084|        1|       0|        0|      0|      0|         1084|       0|      0|      0|      0|      0|      0|      0|      0|      0|      0|\n",
      "|34264|Ninja Bear the An...| null|      Comedy, School|             Unknown|          忍者ベアーthe Animation★|   TV| Unknown|       Unknown|TV Tokyo, TriF St...|   Unknown|      KOO-KI|    Original| Unknown|        G - All Ages|Unknown|     13029|    355|        0|       0|        0|      0|      0|          355|       0|      0|      0|      0|      0|      0|      0|      0|      0|      0|\n",
      "|34348|     Rescue Academia| null|   Sci-Fi, Adventure|             Unknown|              レスキューアカデミア|   TV| Unknown|     2021 to ?|             Unknown|   Unknown|       Gaina|    Original| Unknown|        G - All Ages|Unknown|      9825|   1359|        2|       0|        0|      0|      0|         1359|       0|      0|      0|      0|      0|      0|      0|      0|      0|      0|\n",
      "|34832|Macross (Shin Ser...| null|Action, Military,...|             Unknown|             マクロス (新シリーズ)|   TV| Unknown|       Unknown|             Unknown|   Unknown|     Unknown|    Original| 23 min.|PG-13 - Teens 13 ...|Unknown|      7501|   3456|        6|       0|        0|      0|      0|         3456|       0|      0|      0|      0|      0|      0|      0|      0|      0|      0|\n",
      "|34900|Biblia Koshodou n...| null|      Mystery, Drama|             Unknown|          ビブリア古書堂の事件手帖|Movie|       1|       Unknown|             Unknown|   Unknown|     Unknown| Light novel| Unknown|             Unknown|Unknown|      7219|   3842|        5|       0|        0|      0|      0|         3842|       0|      0|      0|      0|      0|      0|      0|      0|      0|      0|\n",
      "|35136|Koukyoushihen Eur...| null|Sci-Fi, Adventure...|Eureka Seven Hi-E...|   EUREKA／交響詩篇エウレカセブ...|Movie|       1|          2021|Mainichi Broadcas...|Funimation|       Bones|    Original| Unknown|PG-13 - Teens 13 ...|Unknown|      5391|   7940|        9|       0|        0|      0|      0|         7940|       0|      0|      0|      0|      0|      0|      0|      0|      0|      0|\n",
      "|35210|        Kuroi Hitomi| null|Demons, Supernatu...|             Unknown|                            黒い瞳|Movie|       1|       Unknown|             Unknown|   Unknown|     Unknown|   Web manga|   2 hr.|             Unknown|Unknown|     11886|    557|        0|       0|        0|      0|      0|          557|       0|      0|      0|      0|      0|      0|      0|      0|      0|      0|\n",
      "|35213|Kai Feng Kidan Movie| null|Action, Comedy, S...|             Unknown|                          開封奇談|Movie|       1|       Unknown|             Unknown|   Unknown|     Unknown|   Web manga|   2 hr.|             Unknown|Unknown|     13676|    286|        0|       0|        0|      0|      0|          286|       0|      0|      0|      0|      0|      0|      0|      0|      0|      0|\n",
      "|35335|          Musashino!| null|Comedy, School, S...|             Unknown|                        むさしの！|   TV| Unknown|       Unknown|             Harappa|   Unknown|      A-Real|    Original|  3 min.|       PG - Children|Unknown|      7465|   3504|        2|       0|        0|      0|      0|         3504|       0|      0|      0|      0|      0|      0|      0|      0|      0|      0|\n",
      "|35362|Mori no Yousei: K...| null|Music, Comedy, Fa...|             Unknown|               森の妖精 キノコの娘|   TV| Unknown|       Unknown|             Unknown|   Unknown|     Unknown|Picture book| Unknown|             Unknown|Unknown|      9967|   1261|        1|       0|        0|      0|      0|         1261|       0|      0|      0|      0|      0|      0|      0|      0|      0|      0|\n",
      "|35500|Yuri!!! on Ice Th...| null|      Comedy, Sports|Yuri on Ice the M...|        ユーリ!!! on ICE 劇場版...|Movie|       1|       Unknown|             Unknown|   Unknown|       MAPPA|    Original| Unknown|             Unknown|Unknown|      2132|  55311|      214|       1|        0|      1|      0|        55309|       0|      0|      0|      0|      0|      0|      0|      0|      0|      0|\n",
      "|35853|Zero Seiki Movie ...| null|Action, Sci-Fi, A...|             Unknown|               零世紀 エメラルダス|Movie|       1|       Unknown|             Unknown|   Unknown|     Unknown|       Manga| Unknown|             Unknown|Unknown|      8808|   2037|        0|       0|        0|      0|      0|         2037|       0|      0|      0|      0|      0|      0|      0|      0|      0|      0|\n",
      "|35854|Zero Seiki Movie ...| null|Action, Sci-Fi, A...|             Unknown|                 零世紀 ハーロック|Movie|       1|       Unknown|             Unknown|   Unknown|     Unknown|       Manga| Unknown|             Unknown|Unknown|      9863|   1330|        0|       0|        0|      0|      0|         1330|       0|      0|      0|      0|      0|      0|      0|      0|      0|      0|\n",
      "|35855|Zero Seiki Movie ...| null|Action, Sci-Fi, A...|             Unknown|                   零世紀 メーテル|Movie|       1|       Unknown|             Unknown|   Unknown|     Unknown|       Manga| Unknown|             Unknown|Unknown|     10359|   1061|        0|       0|        0|      0|      0|         1061|       0|      0|      0|      0|      0|      0|      0|      0|      0|      0|\n",
      "|36252|Library Cross Inf...| null|Mystery, Supernat...|             Unknown|                     LibraryCross∞|   TV| Unknown|       Unknown|             Unknown|   Unknown|     Unknown|        Game| Unknown|             Unknown|Unknown|      9633|   1476|        0|       0|        0|      0|      0|         1476|       0|      0|      0|      0|      0|      0|      0|      0|      0|      0|\n",
      "|36699|Kimitachi wa Dou ...| null|               Drama|             Unknown|              君たちはどう生きるか|Movie|       1|       Unknown|             Unknown|   Unknown|     Unknown|    Original| Unknown|             Unknown|Unknown|      8601|   2226|        0|       0|        0|      0|      0|         2226|       0|      0|      0|      0|      0|      0|      0|      0|      0|      0|\n",
      "+-----+--------------------+-----+--------------------+--------------------+----------------------------------+-----+--------+--------------+--------------------+----------+------------+------------+--------+--------------------+-------+----------+-------+---------+--------+---------+-------+-------+-------------+--------+-------+-------+-------+-------+-------+-------+-------+-------+-------+\n",
      "only showing top 20 rows\n",
      "\n"
     ]
    }
   ],
   "source": [
    "# Visualizamos las filas sin valoraciones de otra manera\n",
    "df_filtered.filter(df_filtered.Score.isNull()).show()"
   ]
  },
  {
   "cell_type": "code",
   "execution_count": 24,
   "metadata": {},
   "outputs": [],
   "source": [
    "# Se filtra por los animes que tienen valoraciones\n",
    "df_filtered = df_filtered.filter(df_filtered.Score.isNotNull())"
   ]
  },
  {
   "cell_type": "markdown",
   "metadata": {},
   "source": [
    "## Entrenamiento del Algoritmo ALS"
   ]
  },
  {
   "cell_type": "code",
   "execution_count": 25,
   "metadata": {},
   "outputs": [],
   "source": [
    "# Se cargan los valores del csv de ratings\n",
    "df_ratings = spark.read.csv(\"data/rating_complete.csv\", header=True, sep=\",\", encoding=\"UTF-8\", inferSchema=True)\n",
    "\n",
    "# Se cargan los valores de ratings del usuario 66666\n",
    "df_ratings_ep = spark.read.csv(\"data/valoraciones_EP.csv\", header=False, sep=\",\", encoding=\"UTF-8\", inferSchema=True)\n",
    "# Como el csv de datos no tiene header, se reemplaza el nombre por defecto por los que se quieren\n",
    "df_ratings_ep = df_ratings_ep.withColumnRenamed(\"_c0\", \"user_id\")\n",
    "df_ratings_ep = df_ratings_ep.withColumnRenamed(\"_c1\", \"anime_id\")\n",
    "df_ratings_ep = df_ratings_ep.withColumnRenamed(\"_c2\", \"rating\")"
   ]
  },
  {
   "cell_type": "code",
   "execution_count": 26,
   "metadata": {},
   "outputs": [
    {
     "data": {
      "text/html": [
       "<pre style=\"white-space:pre;overflow-x:auto;line-height:normal;font-family:Menlo,'DejaVu Sans Mono',consolas,'Courier New',monospace\">El numero de valoraciones: <span style=\"color: #008080; text-decoration-color: #008080; font-weight: bold\">57633278</span>\n",
       "</pre>\n"
      ],
      "text/plain": [
       "El numero de valoraciones: \u001b[1;36m57633278\u001b[0m\n"
      ]
     },
     "metadata": {},
     "output_type": "display_data"
    },
    {
     "data": {
      "text/html": [
       "<pre style=\"white-space:pre;overflow-x:auto;line-height:normal;font-family:Menlo,'DejaVu Sans Mono',consolas,'Courier New',monospace\">El numero de valoraciones del usuario EP: <span style=\"color: #008080; text-decoration-color: #008080; font-weight: bold\">65</span>\n",
       "</pre>\n"
      ],
      "text/plain": [
       "El numero de valoraciones del usuario EP: \u001b[1;36m65\u001b[0m\n"
      ]
     },
     "metadata": {},
     "output_type": "display_data"
    }
   ],
   "source": [
    "print(\"El numero de valoraciones: \" + str(df_ratings.count()))\n",
    "print(\"El numero de valoraciones del usuario EP: \" + str(df_ratings_ep.count()))"
   ]
  },
  {
   "cell_type": "code",
   "execution_count": 27,
   "metadata": {},
   "outputs": [],
   "source": [
    "# Se renombra la columna de rating por Category_rating para evitar confusiones\n",
    "df_filtered = df_filtered.withColumnRenamed(\"Rating\",\"Category_rating\")"
   ]
  },
  {
   "cell_type": "code",
   "execution_count": 28,
   "metadata": {},
   "outputs": [],
   "source": [
    "# Se realiza un union de los dos dataframes de valoraciones\n",
    "df_ratings_completo = df_ratings.union(df_ratings_ep)"
   ]
  },
  {
   "cell_type": "code",
   "execution_count": 29,
   "metadata": {},
   "outputs": [
    {
     "name": "stdout",
     "output_type": "stream",
     "text": [
      "+-------+--------+------+\n",
      "|user_id|anime_id|rating|\n",
      "+-------+--------+------+\n",
      "|      0|     430|   9.0|\n",
      "|      0|    1004|   5.0|\n",
      "|      0|    3010|   7.0|\n",
      "|      0|     570|   7.0|\n",
      "|      0|    2762|   9.0|\n",
      "|      0|     431|   8.0|\n",
      "|      0|     578|  10.0|\n",
      "|      0|     433|   6.0|\n",
      "|      0|    1571|  10.0|\n",
      "|      0|     121|   9.0|\n",
      "|      0|     356|   9.0|\n",
      "|      0|    1250|   7.0|\n",
      "|      0|    2913|   6.0|\n",
      "|      0|    1689|   6.0|\n",
      "|      0|      68|   6.0|\n",
      "|      0|    1829|   7.0|\n",
      "|      0|     600|   6.0|\n",
      "|      0|    3418|   9.0|\n",
      "|      0|     164|   8.0|\n",
      "|      0|    1894|   7.0|\n",
      "+-------+--------+------+\n",
      "only showing top 20 rows\n",
      "\n"
     ]
    }
   ],
   "source": [
    "df_ratings_completo.show()"
   ]
  },
  {
   "cell_type": "code",
   "execution_count": 30,
   "metadata": {},
   "outputs": [],
   "source": [
    "# Se realiza un join con el dataframe de animes, para conocer cuales son peliculas y cuales son series\n",
    "df_ratings_completo_movies = df_ratings_completo.join(df_filtered, df_ratings_completo[\"anime_id\"] == df_filtered[\"ID\"], \"inner\")"
   ]
  },
  {
   "cell_type": "code",
   "execution_count": 31,
   "metadata": {},
   "outputs": [],
   "source": [
    "# Se obtienen las peliculas valoradas por los usuarios\n",
    "df_ratings_movies = df_ratings_completo_movies.filter(df_ratings_completo_movies[\"Type\"] == \"Movie\").select(\"user_id\", \"anime_id\", \"rating\")"
   ]
  },
  {
   "cell_type": "code",
   "execution_count": 32,
   "metadata": {},
   "outputs": [],
   "source": [
    "# Se obtienen las series valoradas por los usuarios\n",
    "df_ratings_series = df_ratings_completo_movies.filter(df_ratings_completo_movies[\"Type\"] == \"TV\").select(\"user_id\", \"anime_id\", \"rating\")"
   ]
  },
  {
   "cell_type": "code",
   "execution_count": 33,
   "metadata": {},
   "outputs": [
    {
     "name": "stdout",
     "output_type": "stream",
     "text": [
      "+-------+--------+------+\n",
      "|user_id|anime_id|rating|\n",
      "+-------+--------+------+\n",
      "|      0|    3010|   7.0|\n",
      "|      0|    2762|   9.0|\n",
      "|      0|    1571|  10.0|\n",
      "|      0|     121|   9.0|\n",
      "|      0|     356|   9.0|\n",
      "|      0|    1250|   7.0|\n",
      "|      0|    2913|   6.0|\n",
      "|      0|      68|   6.0|\n",
      "|      0|     600|   6.0|\n",
      "|      0|    3418|   9.0|\n",
      "|      0|    2034|   8.0|\n",
      "|      0|    2547|   7.0|\n",
      "|      0|     169|   7.0|\n",
      "|      0|     174|   4.0|\n",
      "|      0|    2543|   7.0|\n",
      "|      0|    4086|   6.0|\n",
      "|      0|     419|   8.0|\n",
      "|      1|   22535|   9.0|\n",
      "|      1|   38000|   9.0|\n",
      "|      1|   18679|   6.0|\n",
      "+-------+--------+------+\n",
      "only showing top 20 rows\n",
      "\n"
     ]
    }
   ],
   "source": [
    "df_ratings_series.show()"
   ]
  },
  {
   "cell_type": "markdown",
   "metadata": {},
   "source": [
    "## Dividir los sets de datos"
   ]
  },
  {
   "cell_type": "code",
   "execution_count": 72,
   "metadata": {},
   "outputs": [],
   "source": [
    "# Se divide el set de datos en training y test\n",
    "(training_movies, test_movies) = df_ratings_movies.randomSplit([0.8, 0.2])\n",
    "(training_series, test_series) = df_ratings_series.randomSplit([0.8, 0.2])"
   ]
  },
  {
   "cell_type": "code",
   "execution_count": 73,
   "metadata": {},
   "outputs": [],
   "source": [
    "# Se crea el modelo ALS para las peliculas\n",
    "als_movie = ALS(maxIter=5, regParam=0.1, userCol=\"user_id\", itemCol=\"anime_id\", ratingCol=\"rating\", coldStartStrategy=\"drop\")\n",
    "model_movie = als_movie.fit(training_movies)"
   ]
  },
  {
   "cell_type": "code",
   "execution_count": 74,
   "metadata": {},
   "outputs": [],
   "source": [
    "# Se crea el modelo ALS para las series\n",
    "als_series = ALS(maxIter=5, regParam=0.1, userCol=\"user_id\", itemCol=\"anime_id\", ratingCol=\"rating\", coldStartStrategy=\"drop\")\n",
    "model_series = als_series.fit(training_series)"
   ]
  },
  {
   "cell_type": "code",
   "execution_count": 75,
   "metadata": {},
   "outputs": [],
   "source": [
    "# Se realizan las predicciones para las peliculas y las series\n",
    "predictions_movies = model_movie.transform(test_movies)\n",
    "predictions_series = model_series.transform(test_series)"
   ]
  },
  {
   "cell_type": "code",
   "execution_count": 76,
   "metadata": {},
   "outputs": [
    {
     "name": "stdout",
     "output_type": "stream",
     "text": [
      "+-------+--------+------+----------+\n",
      "|user_id|anime_id|rating|prediction|\n",
      "+-------+--------+------+----------+\n",
      "|     27|    2890|   6.0|  5.283653|\n",
      "|     27|   10408|  10.0|   6.62606|\n",
      "|     27|   10589|   9.0|   6.71727|\n",
      "|     27|   16782|   6.0| 6.8473086|\n",
      "|     27|   21647|   6.0| 6.8202934|\n",
      "|     27|   25015|   8.0| 6.8204904|\n",
      "|     27|   28851|  10.0|  8.480697|\n",
      "|     28|     431|  10.0|  7.639615|\n",
      "|     28|     460|   8.0|  7.831153|\n",
      "|     28|     461|   7.0| 7.7650275|\n",
      "|     28|     462|   7.0|  8.024772|\n",
      "|     28|     465|  10.0|  7.923398|\n",
      "|     28|     900|   8.0|  7.687245|\n",
      "|     28|    1119|   8.0|  7.703452|\n",
      "|     28|    1122|   7.0|  7.743541|\n",
      "|     28|    2385|  10.0|  7.423892|\n",
      "|     28|    2490|   9.0| 7.4940243|\n",
      "|     28|    2847|   7.0| 7.9944606|\n",
      "|     28|    4793|   8.0| 7.1318827|\n",
      "|     28|    5526|   8.0|  7.202059|\n",
      "+-------+--------+------+----------+\n",
      "only showing top 20 rows\n",
      "\n"
     ]
    }
   ],
   "source": [
    "predictions_movies.show()"
   ]
  },
  {
   "cell_type": "code",
   "execution_count": 77,
   "metadata": {},
   "outputs": [
    {
     "name": "stdout",
     "output_type": "stream",
     "text": [
      "+-------+--------+------+----------+\n",
      "|user_id|anime_id|rating|prediction|\n",
      "+-------+--------+------+----------+\n",
      "|     27|     121|   8.0| 7.9687066|\n",
      "|     27|     934|   7.0| 7.7952833|\n",
      "|     27|   13601|   8.0|  8.316835|\n",
      "|     27|   18153|  10.0|  7.588115|\n",
      "|     27|   22319|  10.0| 7.7941055|\n",
      "|     27|   23283|   8.0|   8.18337|\n",
      "|     27|   30015|   8.0|   7.97096|\n",
      "|     27|   30276|   8.0|  8.434945|\n",
      "|     27|   32901|   8.0|  6.603804|\n",
      "|     27|   33836|   5.0|  6.229514|\n",
      "|     27|   34542|   9.0|  7.736362|\n",
      "|     27|   35062|  10.0| 7.9684467|\n",
      "|     27|   35434|   7.0| 6.1621623|\n",
      "|     27|   36511|  10.0| 6.7174935|\n",
      "|     28|      20|   9.0|  9.446367|\n",
      "|     28|     226|  10.0|  9.348526|\n",
      "|     28|     419|   8.0|  8.542862|\n",
      "|     28|    1535|  10.0|  9.198162|\n",
      "|     28|    1564|  10.0| 8.3417425|\n",
      "|     28|    3588|  10.0|  8.428232|\n",
      "+-------+--------+------+----------+\n",
      "only showing top 20 rows\n",
      "\n"
     ]
    }
   ],
   "source": [
    "predictions_series.show()"
   ]
  },
  {
   "cell_type": "code",
   "execution_count": 78,
   "metadata": {},
   "outputs": [
    {
     "data": {
      "text/html": [
       "<pre style=\"white-space:pre;overflow-x:auto;line-height:normal;font-family:Menlo,'DejaVu Sans Mono',consolas,'Courier New',monospace\">Root-mean-square error movies = <span style=\"color: #008080; text-decoration-color: #008080; font-weight: bold\">1.2318652270110328</span>\n",
       "</pre>\n"
      ],
      "text/plain": [
       "Root-mean-square error movies = \u001b[1;36m1.2318652270110328\u001b[0m\n"
      ]
     },
     "metadata": {},
     "output_type": "display_data"
    },
    {
     "data": {
      "text/html": [
       "<pre style=\"white-space:pre;overflow-x:auto;line-height:normal;font-family:Menlo,'DejaVu Sans Mono',consolas,'Courier New',monospace\">Root-mean-square error series = <span style=\"color: #008080; text-decoration-color: #008080; font-weight: bold\">1.1728501032938283</span>\n",
       "</pre>\n"
      ],
      "text/plain": [
       "Root-mean-square error series = \u001b[1;36m1.1728501032938283\u001b[0m\n"
      ]
     },
     "metadata": {},
     "output_type": "display_data"
    }
   ],
   "source": [
    "# Se calcula el error para las peliculas y las series\n",
    "evaluator = RegressionEvaluator(metricName=\"rmse\", labelCol=\"rating\", predictionCol=\"prediction\")\n",
    "rmse_movies = evaluator.evaluate(predictions_movies)\n",
    "rmse_series = evaluator.evaluate(predictions_series)\n",
    "print(\"Root-mean-square error movies = \" + str(rmse_movies))\n",
    "print(\"Root-mean-square error series = \" + str(rmse_series))"
   ]
  },
  {
   "cell_type": "code",
   "execution_count": 79,
   "metadata": {},
   "outputs": [],
   "source": [
    "# Se obtiene el usuario EP\n",
    "user_ep = df_ratings_movies.select(als_movie.getUserCol()).where(df_ratings_movies[\"user_id\"] == 66666).distinct()"
   ]
  },
  {
   "cell_type": "code",
   "execution_count": 80,
   "metadata": {},
   "outputs": [],
   "source": [
    "# Se obtienen las recomendaciones para el usuario EP\n",
    "recomendation_userEp_movies = model_movie.recommendForUserSubset(user_ep, 5)\n",
    "recomendation_userEp_series = model_series.recommendForUserSubset(user_ep, 5)"
   ]
  },
  {
   "cell_type": "code",
   "execution_count": 81,
   "metadata": {},
   "outputs": [
    {
     "name": "stdout",
     "output_type": "stream",
     "text": [
      "+-------+-------------------------------------------------------------------------------------------+\n",
      "|user_id|recommendations                                                                            |\n",
      "+-------+-------------------------------------------------------------------------------------------+\n",
      "|66666  |[{33132, 9.622806}, {12355, 9.478018}, {40211, 9.433542}, {28957, 9.3591}, {164, 9.230429}]|\n",
      "+-------+-------------------------------------------------------------------------------------------+\n",
      "\n",
      "+-------+----------------------------------------------------------------------------------------------+\n",
      "|user_id|recommendations                                                                               |\n",
      "+-------+----------------------------------------------------------------------------------------------+\n",
      "|66666  |[{5114, 9.065641}, {28977, 9.008711}, {35180, 8.998851}, {11061, 8.985007}, {42923, 8.975994}]|\n",
      "+-------+----------------------------------------------------------------------------------------------+\n",
      "\n"
     ]
    }
   ],
   "source": [
    "# Se obtienen las recomendaciones de peliculas y series para el usuario ep\n",
    "recomendation_userEp_movies.show(20, False)\n",
    "recomendation_userEp_series.show(20, False)"
   ]
  },
  {
   "cell_type": "code",
   "execution_count": 82,
   "metadata": {},
   "outputs": [
    {
     "name": "stdout",
     "output_type": "stream",
     "text": [
      "root\n",
      " |-- user_id: integer (nullable = false)\n",
      " |-- recommendations: array (nullable = true)\n",
      " |    |-- element: struct (containsNull = true)\n",
      " |    |    |-- anime_id: integer (nullable = true)\n",
      " |    |    |-- rating: float (nullable = true)\n",
      "\n",
      "root\n",
      " |-- user_id: integer (nullable = false)\n",
      " |-- recommendations: array (nullable = true)\n",
      " |    |-- element: struct (containsNull = true)\n",
      " |    |    |-- anime_id: integer (nullable = true)\n",
      " |    |    |-- rating: float (nullable = true)\n",
      "\n"
     ]
    }
   ],
   "source": [
    "recomendation_userEp_movies.printSchema()\n",
    "recomendation_userEp_series.printSchema()"
   ]
  },
  {
   "cell_type": "code",
   "execution_count": 83,
   "metadata": {},
   "outputs": [],
   "source": [
    "# Separamos las recomendaciones de peliculas en columnas\n",
    "df_recomendations_movies_userEp = recomendation_userEp_movies.select(\"user_id\", explode(\"recommendations\").alias(\"recommendations\"))\n",
    "# Separamos las recomendaciones de series en columnas\n",
    "df_recomendations_series_userEp = recomendation_userEp_series.select(\"user_id\", explode(\"recommendations\").alias(\"recommendations\"))"
   ]
  },
  {
   "cell_type": "code",
   "execution_count": 84,
   "metadata": {},
   "outputs": [],
   "source": [
    "# Se obtiene el user_id, anime_id y rating de las recomendaciones de peliculas y series para el usuario EP\n",
    "df_recomendations_movies_userEp = df_recomendations_movies_userEp.select(\"user_id\", \"recommendations.anime_id\", \"recommendations.rating\")\n",
    "df_recomendations_series_userEp = df_recomendations_series_userEp.select(\"user_id\", \"recommendations.anime_id\", \"recommendations.rating\")"
   ]
  },
  {
   "cell_type": "code",
   "execution_count": 85,
   "metadata": {},
   "outputs": [
    {
     "name": "stdout",
     "output_type": "stream",
     "text": [
      "+-------+--------+--------+\n",
      "|user_id|anime_id|rating  |\n",
      "+-------+--------+--------+\n",
      "|66666  |33132   |9.622806|\n",
      "|66666  |12355   |9.478018|\n",
      "|66666  |40211   |9.433542|\n",
      "|66666  |28957   |9.3591  |\n",
      "|66666  |164     |9.230429|\n",
      "+-------+--------+--------+\n",
      "\n",
      "+-------+--------+--------+\n",
      "|user_id|anime_id|rating  |\n",
      "+-------+--------+--------+\n",
      "|66666  |5114    |9.065641|\n",
      "|66666  |28977   |9.008711|\n",
      "|66666  |35180   |8.998851|\n",
      "|66666  |11061   |8.985007|\n",
      "|66666  |42923   |8.975994|\n",
      "+-------+--------+--------+\n",
      "\n"
     ]
    }
   ],
   "source": [
    "df_recomendations_movies_userEp.show(truncate=False)\n",
    "df_recomendations_series_userEp.show(truncate=False)"
   ]
  },
  {
   "cell_type": "code",
   "execution_count": 86,
   "metadata": {},
   "outputs": [],
   "source": [
    "# Se realiza un join con el dataframe de animes, para conocer cuales son las peliculas\n",
    "df_movies_recomended = df_recomendations_movies_userEp.join(df_filtered, df_recomendations_movies_userEp[\"anime_id\"] == df_filtered[\"ID\"], \"inner\")"
   ]
  },
  {
   "cell_type": "code",
   "execution_count": 87,
   "metadata": {},
   "outputs": [],
   "source": [
    "df_movies_recomended = df_movies_recomended.orderBy(\"Score\", ascending=False).select(\"anime_id\", \"Name\", \"English name\")"
   ]
  },
  {
   "cell_type": "code",
   "execution_count": 88,
   "metadata": {},
   "outputs": [
    {
     "name": "stdout",
     "output_type": "stream",
     "text": [
      "+--------+-----------------------------------+-----------------+\n",
      "|anime_id|Name                               |English name     |\n",
      "+--------+-----------------------------------+-----------------+\n",
      "|164     |Mononoke Hime                      |Princess Mononoke|\n",
      "|12355   |Ookami Kodomo no Ame to Yuki       |Wolf Children    |\n",
      "|28957   |Mushishi Zoku Shou: Suzu no Shizuku|Unknown          |\n",
      "|40211   |Luo Xiao Hei Zhan Ji (Movie)       |The Legend of Hei|\n",
      "|33132   |Shin Kachikachi Yama               |Unknown          |\n",
      "+--------+-----------------------------------+-----------------+\n",
      "\n"
     ]
    }
   ],
   "source": [
    "df_movies_recomended.show(truncate=False)"
   ]
  },
  {
   "cell_type": "code",
   "execution_count": 89,
   "metadata": {},
   "outputs": [],
   "source": [
    "# Se realiza un join con el dataframe de animes, para conocer cuales son las series\n",
    "df_series_recomended = df_recomendations_series_userEp.join(df_filtered, df_recomendations_series_userEp[\"anime_id\"] == df_filtered[\"ID\"], \"inner\")"
   ]
  },
  {
   "cell_type": "code",
   "execution_count": 90,
   "metadata": {},
   "outputs": [],
   "source": [
    "df_series_recomended = df_series_recomended.orderBy(\"Score\", ascending=False).select(\"anime_id\", \"Name\", \"English name\")"
   ]
  },
  {
   "cell_type": "code",
   "execution_count": 91,
   "metadata": {},
   "outputs": [
    {
     "name": "stdout",
     "output_type": "stream",
     "text": [
      "+--------+--------------------------------+-------------------------------------+\n",
      "|anime_id|Name                            |English name                         |\n",
      "+--------+--------------------------------+-------------------------------------+\n",
      "|5114    |Fullmetal Alchemist: Brotherhood|Fullmetal Alchemist:Brotherhood      |\n",
      "|28977   |Gintama°                        |Gintama Season 4                     |\n",
      "|11061   |Hunter x Hunter (2011)          |Hunter x Hunter                      |\n",
      "|35180   |3-gatsu no Lion 2nd Season      |March Comes In Like A Lion 2nd Season|\n",
      "|42923   |SK∞                             |SK8 the Infinity                     |\n",
      "+--------+--------------------------------+-------------------------------------+\n",
      "\n"
     ]
    }
   ],
   "source": [
    "df_series_recomended.show(truncate=False)"
   ]
  },
  {
   "cell_type": "code",
   "execution_count": 92,
   "metadata": {},
   "outputs": [],
   "source": [
    "# Se obtiene una lista de los anime_id de las peliculas y series recomendadas\n",
    "lista_anime_id_movies = df_recomendations_movies_userEp.select(\"anime_id\").collect()\n",
    "lista_anime_id_series = df_recomendations_series_userEp.select(\"anime_id\").collect()"
   ]
  },
  {
   "cell_type": "code",
   "execution_count": 93,
   "metadata": {},
   "outputs": [],
   "source": [
    "array_lista_anime_id_movies = [row[0] for row in lista_anime_id_movies]\n",
    "array_lista_anime_id_series = [row[0] for row in lista_anime_id_series]"
   ]
  },
  {
   "cell_type": "markdown",
   "metadata": {},
   "source": [
    "## Información extra de las películas y series"
   ]
  },
  {
   "cell_type": "code",
   "execution_count": 94,
   "metadata": {},
   "outputs": [
    {
     "data": {
      "text/html": [
       "<pre style=\"white-space:pre;overflow-x:auto;line-height:normal;font-family:Menlo,'DejaVu Sans Mono',consolas,'Courier New',monospace\">Titulo: Shin Kachikachi Yama\n",
       "</pre>\n"
      ],
      "text/plain": [
       "Titulo: Shin Kachikachi Yama\n"
      ]
     },
     "metadata": {},
     "output_type": "display_data"
    },
    {
     "data": {
      "text/html": [
       "<pre style=\"white-space:pre;overflow-x:auto;line-height:normal;font-family:Menlo,'DejaVu Sans Mono',consolas,'Courier New',monospace\">Sinopsis: A short film directed by Takeo Ueno <span style=\"font-weight: bold\">(</span>上野武夫<span style=\"font-weight: bold\">)</span>.\n",
       "</pre>\n"
      ],
      "text/plain": [
       "Sinopsis: A short film directed by Takeo Ueno \u001b[1m(\u001b[0m上野武夫\u001b[1m)\u001b[0m.\n"
      ]
     },
     "metadata": {},
     "output_type": "display_data"
    },
    {
     "data": {
      "text/html": [
       "<img src=\"https://cdn.myanimelist.net/img/sp/icon/apple-touch-icon-256.png\"/>"
      ],
      "text/plain": [
       "<IPython.core.display.Image object>"
      ]
     },
     "metadata": {},
     "output_type": "display_data"
    },
    {
     "data": {
      "text/html": [
       "<pre style=\"white-space:pre;overflow-x:auto;line-height:normal;font-family:Menlo,'DejaVu Sans Mono',consolas,'Courier New',monospace\">Trailer: <span style=\"color: #800080; text-decoration-color: #800080; font-style: italic\">None</span>\n",
       "</pre>\n"
      ],
      "text/plain": [
       "Trailer: \u001b[3;35mNone\u001b[0m\n"
      ]
     },
     "metadata": {},
     "output_type": "display_data"
    },
    {
     "data": {
      "text/html": [
       "<pre style=\"white-space:pre;overflow-x:auto;line-height:normal;font-family:Menlo,'DejaVu Sans Mono',consolas,'Courier New',monospace\">-----------------------------------------------------------------\n",
       "</pre>\n"
      ],
      "text/plain": [
       "-----------------------------------------------------------------\n"
      ]
     },
     "metadata": {},
     "output_type": "display_data"
    },
    {
     "data": {
      "text/html": [
       "<pre style=\"white-space:pre;overflow-x:auto;line-height:normal;font-family:Menlo,'DejaVu Sans Mono',consolas,'Courier New',monospace\">Titulo: Ookami Kodomo no Ame to Yuki\n",
       "</pre>\n"
      ],
      "text/plain": [
       "Titulo: Ookami Kodomo no Ame to Yuki\n"
      ]
     },
     "metadata": {},
     "output_type": "display_data"
    },
    {
     "data": {
      "text/html": [
       "<pre style=\"white-space:pre;overflow-x:auto;line-height:normal;font-family:Menlo,'DejaVu Sans Mono',consolas,'Courier New',monospace\">Sinopsis: Hana, a hard-working college student, falls in love with a mysterious man who attends one of her classes \n",
       "though he is not an actual student. As it turns out, he is not truly human either. On a full moon night, he \n",
       "transforms, revealing that he is the last werewolf alive. Despite this, Hana's love remains strong, and the two \n",
       "ultimately decide to start a family.\n",
       "\n",
       "Hana gives birth to two healthy children—Ame, born during rainfall, and Yuki, born during snowfall—both possessing \n",
       "the ability to turn into wolves, a trait inherited from their father. All too soon, however, the sudden death of \n",
       "her lover devastates Hana's life, leaving her to raise a peculiar family completely on her own. The stress of \n",
       "raising her wild-natured children in a densely populated city, all while keeping their identity a secret, \n",
       "culminates in a decision to move to the countryside, where she hopes Ame and Yuki can live a life free from the \n",
       "judgments of society. Wolf Children is the heartwarming story about the challenges of being a single mother in an \n",
       "unforgiving modern world.\n",
       "\n",
       "<span style=\"font-weight: bold\">[</span>Written by MAL Rewrite<span style=\"font-weight: bold\">]</span>\n",
       "</pre>\n"
      ],
      "text/plain": [
       "Sinopsis: Hana, a hard-working college student, falls in love with a mysterious man who attends one of her classes \n",
       "though he is not an actual student. As it turns out, he is not truly human either. On a full moon night, he \n",
       "transforms, revealing that he is the last werewolf alive. Despite this, Hana's love remains strong, and the two \n",
       "ultimately decide to start a family.\n",
       "\n",
       "Hana gives birth to two healthy children—Ame, born during rainfall, and Yuki, born during snowfall—both possessing \n",
       "the ability to turn into wolves, a trait inherited from their father. All too soon, however, the sudden death of \n",
       "her lover devastates Hana's life, leaving her to raise a peculiar family completely on her own. The stress of \n",
       "raising her wild-natured children in a densely populated city, all while keeping their identity a secret, \n",
       "culminates in a decision to move to the countryside, where she hopes Ame and Yuki can live a life free from the \n",
       "judgments of society. Wolf Children is the heartwarming story about the challenges of being a single mother in an \n",
       "unforgiving modern world.\n",
       "\n",
       "\u001b[1m[\u001b[0mWritten by MAL Rewrite\u001b[1m]\u001b[0m\n"
      ]
     },
     "metadata": {},
     "output_type": "display_data"
    },
    {
     "data": {
      "text/html": [
       "<img src=\"https://cdn.myanimelist.net/images/anime/9/35721.webp\"/>"
      ],
      "text/plain": [
       "<IPython.core.display.Image object>"
      ]
     },
     "metadata": {},
     "output_type": "display_data"
    },
    {
     "data": {
      "text/html": [
       "<pre style=\"white-space:pre;overflow-x:auto;line-height:normal;font-family:Menlo,'DejaVu Sans Mono',consolas,'Courier New',monospace\">Trailer: <span style=\"color: #0000ff; text-decoration-color: #0000ff; text-decoration: underline\">https://www.youtube.com/watch?v=8xLji7WsW0w</span>\n",
       "</pre>\n"
      ],
      "text/plain": [
       "Trailer: \u001b[4;94mhttps://www.youtube.com/watch?\u001b[0m\u001b[4;94mv\u001b[0m\u001b[4;94m=\u001b[0m\u001b[4;94m8xLji7WsW0w\u001b[0m\n"
      ]
     },
     "metadata": {},
     "output_type": "display_data"
    },
    {
     "data": {
      "text/html": [
       "<pre style=\"white-space:pre;overflow-x:auto;line-height:normal;font-family:Menlo,'DejaVu Sans Mono',consolas,'Courier New',monospace\">-----------------------------------------------------------------\n",
       "</pre>\n"
      ],
      "text/plain": [
       "-----------------------------------------------------------------\n"
      ]
     },
     "metadata": {},
     "output_type": "display_data"
    },
    {
     "data": {
      "text/html": [
       "<pre style=\"white-space:pre;overflow-x:auto;line-height:normal;font-family:Menlo,'DejaVu Sans Mono',consolas,'Courier New',monospace\">Titulo: Luo Xiao Hei Zhan Ji <span style=\"font-weight: bold\">(</span>Movie<span style=\"font-weight: bold\">)</span>\n",
       "</pre>\n"
      ],
      "text/plain": [
       "Titulo: Luo Xiao Hei Zhan Ji \u001b[1m(\u001b[0mMovie\u001b[1m)\u001b[0m\n"
      ]
     },
     "metadata": {},
     "output_type": "display_data"
    },
    {
     "data": {
      "text/html": [
       "<pre style=\"white-space:pre;overflow-x:auto;line-height:normal;font-family:Menlo,'DejaVu Sans Mono',consolas,'Courier New',monospace\">Sinopsis: Luo Xiaohei is a young monster who normally takes the form of a small black cat. Living freely in the \n",
       "forests, gradual deforestation and human development force him to flee and find a new home. Wandering the city \n",
       "streets, the black cat struggles to survive until he encounters Feng Xi, a fellow monster who takes Xiaohei to an \n",
       "isolated island inhabited by a small group of monsters. Excited to find what he thinks is his new home, Xiaohei \n",
       "lives with the monsters for only a short time before Wuxian, a human Guild Executor, arrives on the island in \n",
       "pursuit of Feng Xi.\n",
       "\n",
       "Feng Xi and his companions manage to teleport off the island, leaving Xiaohei and Wuxian alone. Though Xiaohei \n",
       "refuses to cooperate with the man who attacked his friends, Wuxian forces the black cat to travel to the Guild \n",
       "along with him. Embarking on an uncertain journey, Xiaohei is exposed to a new perspective on the relations between\n",
       "humans and monsters in a rapidly changing world.\n",
       "\n",
       "<span style=\"font-weight: bold\">[</span>Written by MAL Rewrite<span style=\"font-weight: bold\">]</span>\n",
       "</pre>\n"
      ],
      "text/plain": [
       "Sinopsis: Luo Xiaohei is a young monster who normally takes the form of a small black cat. Living freely in the \n",
       "forests, gradual deforestation and human development force him to flee and find a new home. Wandering the city \n",
       "streets, the black cat struggles to survive until he encounters Feng Xi, a fellow monster who takes Xiaohei to an \n",
       "isolated island inhabited by a small group of monsters. Excited to find what he thinks is his new home, Xiaohei \n",
       "lives with the monsters for only a short time before Wuxian, a human Guild Executor, arrives on the island in \n",
       "pursuit of Feng Xi.\n",
       "\n",
       "Feng Xi and his companions manage to teleport off the island, leaving Xiaohei and Wuxian alone. Though Xiaohei \n",
       "refuses to cooperate with the man who attacked his friends, Wuxian forces the black cat to travel to the Guild \n",
       "along with him. Embarking on an uncertain journey, Xiaohei is exposed to a new perspective on the relations between\n",
       "humans and monsters in a rapidly changing world.\n",
       "\n",
       "\u001b[1m[\u001b[0mWritten by MAL Rewrite\u001b[1m]\u001b[0m\n"
      ]
     },
     "metadata": {},
     "output_type": "display_data"
    },
    {
     "data": {
      "text/html": [
       "<img src=\"https://cdn.myanimelist.net/images/anime/1480/123374.webp\"/>"
      ],
      "text/plain": [
       "<IPython.core.display.Image object>"
      ]
     },
     "metadata": {},
     "output_type": "display_data"
    },
    {
     "data": {
      "text/html": [
       "<pre style=\"white-space:pre;overflow-x:auto;line-height:normal;font-family:Menlo,'DejaVu Sans Mono',consolas,'Courier New',monospace\">Trailer: <span style=\"color: #0000ff; text-decoration-color: #0000ff; text-decoration: underline\">https://www.youtube.com/watch?v=G9oTNGF1OZE</span>\n",
       "</pre>\n"
      ],
      "text/plain": [
       "Trailer: \u001b[4;94mhttps://www.youtube.com/watch?\u001b[0m\u001b[4;94mv\u001b[0m\u001b[4;94m=\u001b[0m\u001b[4;94mG9oTNGF1OZE\u001b[0m\n"
      ]
     },
     "metadata": {},
     "output_type": "display_data"
    },
    {
     "data": {
      "text/html": [
       "<pre style=\"white-space:pre;overflow-x:auto;line-height:normal;font-family:Menlo,'DejaVu Sans Mono',consolas,'Courier New',monospace\">-----------------------------------------------------------------\n",
       "</pre>\n"
      ],
      "text/plain": [
       "-----------------------------------------------------------------\n"
      ]
     },
     "metadata": {},
     "output_type": "display_data"
    },
    {
     "data": {
      "text/html": [
       "<pre style=\"white-space:pre;overflow-x:auto;line-height:normal;font-family:Menlo,'DejaVu Sans Mono',consolas,'Courier New',monospace\">Titulo: Mushishi Zoku Shou: Suzu no Shizuku\n",
       "</pre>\n"
      ],
      "text/plain": [
       "Titulo: Mushishi Zoku Shou: Suzu no Shizuku\n"
      ]
     },
     "metadata": {},
     "output_type": "display_data"
    },
    {
     "data": {
      "text/html": [
       "<pre style=\"white-space:pre;overflow-x:auto;line-height:normal;font-family:Menlo,'DejaVu Sans Mono',consolas,'Courier New',monospace\">Sinopsis: On a warm summer day, a boy heard the sound of bells ringing, as if in celebration, in the mountain near \n",
       "his home. Several years later in that same mountain, the mushishi Ginko encounters a strange girl with weeds \n",
       "growing out of her body. Soon after, Ginko coincidentally runs into the now grown-up boy Yoshiro on his way off the\n",
       "mountain. With Yoshiro's help, Ginko soon begins to uncover who this mysterious girl is and what happened to her.\n",
       "\n",
       "An adaptation of the last arc in the manga, Mushishi Zoku Shou: Suzu no Shizuku follows Ginko's peculiar journey \n",
       "amidst the occult to unravel the mystery behind the enigmatic girl called Kaya and the mountain that has become her\n",
       "home.\n",
       "\n",
       "<span style=\"font-weight: bold\">[</span>Written by MAL Rewrite<span style=\"font-weight: bold\">]</span>\n",
       "</pre>\n"
      ],
      "text/plain": [
       "Sinopsis: On a warm summer day, a boy heard the sound of bells ringing, as if in celebration, in the mountain near \n",
       "his home. Several years later in that same mountain, the mushishi Ginko encounters a strange girl with weeds \n",
       "growing out of her body. Soon after, Ginko coincidentally runs into the now grown-up boy Yoshiro on his way off the\n",
       "mountain. With Yoshiro's help, Ginko soon begins to uncover who this mysterious girl is and what happened to her.\n",
       "\n",
       "An adaptation of the last arc in the manga, Mushishi Zoku Shou: Suzu no Shizuku follows Ginko's peculiar journey \n",
       "amidst the occult to unravel the mystery behind the enigmatic girl called Kaya and the mountain that has become her\n",
       "home.\n",
       "\n",
       "\u001b[1m[\u001b[0mWritten by MAL Rewrite\u001b[1m]\u001b[0m\n"
      ]
     },
     "metadata": {},
     "output_type": "display_data"
    },
    {
     "data": {
      "text/html": [
       "<img src=\"https://cdn.myanimelist.net/images/anime/9/72689.webp\"/>"
      ],
      "text/plain": [
       "<IPython.core.display.Image object>"
      ]
     },
     "metadata": {},
     "output_type": "display_data"
    },
    {
     "data": {
      "text/html": [
       "<pre style=\"white-space:pre;overflow-x:auto;line-height:normal;font-family:Menlo,'DejaVu Sans Mono',consolas,'Courier New',monospace\">Trailer: <span style=\"color: #0000ff; text-decoration-color: #0000ff; text-decoration: underline\">https://www.youtube.com/watch?v=BDdPKndfd68</span>\n",
       "</pre>\n"
      ],
      "text/plain": [
       "Trailer: \u001b[4;94mhttps://www.youtube.com/watch?\u001b[0m\u001b[4;94mv\u001b[0m\u001b[4;94m=\u001b[0m\u001b[4;94mBDdPKndfd68\u001b[0m\n"
      ]
     },
     "metadata": {},
     "output_type": "display_data"
    },
    {
     "data": {
      "text/html": [
       "<pre style=\"white-space:pre;overflow-x:auto;line-height:normal;font-family:Menlo,'DejaVu Sans Mono',consolas,'Courier New',monospace\">-----------------------------------------------------------------\n",
       "</pre>\n"
      ],
      "text/plain": [
       "-----------------------------------------------------------------\n"
      ]
     },
     "metadata": {},
     "output_type": "display_data"
    },
    {
     "data": {
      "text/html": [
       "<pre style=\"white-space:pre;overflow-x:auto;line-height:normal;font-family:Menlo,'DejaVu Sans Mono',consolas,'Courier New',monospace\">Titulo: Mononoke Hime\n",
       "</pre>\n"
      ],
      "text/plain": [
       "Titulo: Mononoke Hime\n"
      ]
     },
     "metadata": {},
     "output_type": "display_data"
    },
    {
     "data": {
      "text/html": [
       "<pre style=\"white-space:pre;overflow-x:auto;line-height:normal;font-family:Menlo,'DejaVu Sans Mono',consolas,'Courier New',monospace\">Sinopsis: When an Emishi village is attacked by a fierce demon boar, the young prince Ashitaka puts his life at \n",
       "stake to defend his tribe. With its dying breath, the beast curses the prince's arm, granting him demonic powers \n",
       "while gradually siphoning his life away. Instructed by the village elders to travel westward for a cure, Ashitaka \n",
       "arrives at Tatara, the Iron Town, where he finds himself embroiled in a fierce conflict: Lady Eboshi of Tatara, \n",
       "promoting constant deforestation, stands against Princess San and the sacred spirits of the forest, who are furious\n",
       "at the destruction brought by the humans. As the opposing forces of nature and mankind begin to clash in a \n",
       "desperate struggle for survival, Ashitaka attempts to seek harmony between the two, all the while battling the \n",
       "latent demon inside of him. Princess Mononoke is a tale depicting the connection of technology and nature, while \n",
       "showing the path to harmony that could be achieved by mutual acceptance.\n",
       "\n",
       "<span style=\"font-weight: bold\">[</span>Written by MAL Rewrite<span style=\"font-weight: bold\">]</span>\n",
       "</pre>\n"
      ],
      "text/plain": [
       "Sinopsis: When an Emishi village is attacked by a fierce demon boar, the young prince Ashitaka puts his life at \n",
       "stake to defend his tribe. With its dying breath, the beast curses the prince's arm, granting him demonic powers \n",
       "while gradually siphoning his life away. Instructed by the village elders to travel westward for a cure, Ashitaka \n",
       "arrives at Tatara, the Iron Town, where he finds himself embroiled in a fierce conflict: Lady Eboshi of Tatara, \n",
       "promoting constant deforestation, stands against Princess San and the sacred spirits of the forest, who are furious\n",
       "at the destruction brought by the humans. As the opposing forces of nature and mankind begin to clash in a \n",
       "desperate struggle for survival, Ashitaka attempts to seek harmony between the two, all the while battling the \n",
       "latent demon inside of him. Princess Mononoke is a tale depicting the connection of technology and nature, while \n",
       "showing the path to harmony that could be achieved by mutual acceptance.\n",
       "\n",
       "\u001b[1m[\u001b[0mWritten by MAL Rewrite\u001b[1m]\u001b[0m\n"
      ]
     },
     "metadata": {},
     "output_type": "display_data"
    },
    {
     "data": {
      "text/html": [
       "<img src=\"https://cdn.myanimelist.net/images/anime/7/75919.webp\"/>"
      ],
      "text/plain": [
       "<IPython.core.display.Image object>"
      ]
     },
     "metadata": {},
     "output_type": "display_data"
    },
    {
     "data": {
      "text/html": [
       "<pre style=\"white-space:pre;overflow-x:auto;line-height:normal;font-family:Menlo,'DejaVu Sans Mono',consolas,'Courier New',monospace\">Trailer: <span style=\"color: #0000ff; text-decoration-color: #0000ff; text-decoration: underline\">https://www.youtube.com/watch?v=4OiMOHRDs14</span>\n",
       "</pre>\n"
      ],
      "text/plain": [
       "Trailer: \u001b[4;94mhttps://www.youtube.com/watch?\u001b[0m\u001b[4;94mv\u001b[0m\u001b[4;94m=\u001b[0m\u001b[4;94m4OiMOHRDs14\u001b[0m\n"
      ]
     },
     "metadata": {},
     "output_type": "display_data"
    },
    {
     "data": {
      "text/html": [
       "<pre style=\"white-space:pre;overflow-x:auto;line-height:normal;font-family:Menlo,'DejaVu Sans Mono',consolas,'Courier New',monospace\">-----------------------------------------------------------------\n",
       "</pre>\n"
      ],
      "text/plain": [
       "-----------------------------------------------------------------\n"
      ]
     },
     "metadata": {},
     "output_type": "display_data"
    },
    {
     "data": {
      "text/html": [
       "<pre style=\"white-space:pre;overflow-x:auto;line-height:normal;font-family:Menlo,'DejaVu Sans Mono',consolas,'Courier New',monospace\">Titulo: Fullmetal Alchemist: Brotherhood\n",
       "</pre>\n"
      ],
      "text/plain": [
       "Titulo: Fullmetal Alchemist: Brotherhood\n"
      ]
     },
     "metadata": {},
     "output_type": "display_data"
    },
    {
     "data": {
      "text/html": [
       "<pre style=\"white-space:pre;overflow-x:auto;line-height:normal;font-family:Menlo,'DejaVu Sans Mono',consolas,'Courier New',monospace\">Sinopsis: After a horrific alchemy experiment goes wrong in the Elric household, brothers Edward and Alphonse are \n",
       "left in a catastrophic new reality. Ignoring the alchemical principle banning human transmutation, the boys \n",
       "attempted to bring their recently deceased mother back to life. Instead, they suffered brutal personal loss: \n",
       "Alphonse's body disintegrated while Edward lost a leg and then sacrificed an arm to keep Alphonse's soul in the \n",
       "physical realm by binding it to a hulking suit of armor.\n",
       "\n",
       "The brothers are rescued by their neighbor Pinako Rockbell and her granddaughter Winry. Known as a bio-mechanical \n",
       "engineering prodigy, Winry creates prosthetic limbs for Edward by utilizing <span style=\"color: #008000; text-decoration-color: #008000\">\"automail,\"</span> a tough, versatile metal \n",
       "used in robots and combat armor. After years of training, the Elric brothers set off on a quest to restore their \n",
       "bodies by locating the Philosopher's Stone—a powerful gem that allows an alchemist to defy the traditional laws of \n",
       "Equivalent Exchange.\n",
       "\n",
       "As Edward becomes an infamous alchemist and gains the nickname <span style=\"color: #008000; text-decoration-color: #008000\">\"Fullmetal,\"</span> the boys' journey embroils them in a \n",
       "growing conspiracy that threatens the fate of the world.\n",
       "\n",
       "<span style=\"font-weight: bold\">[</span>Written by MAL Rewrite<span style=\"font-weight: bold\">]</span>\n",
       "</pre>\n"
      ],
      "text/plain": [
       "Sinopsis: After a horrific alchemy experiment goes wrong in the Elric household, brothers Edward and Alphonse are \n",
       "left in a catastrophic new reality. Ignoring the alchemical principle banning human transmutation, the boys \n",
       "attempted to bring their recently deceased mother back to life. Instead, they suffered brutal personal loss: \n",
       "Alphonse's body disintegrated while Edward lost a leg and then sacrificed an arm to keep Alphonse's soul in the \n",
       "physical realm by binding it to a hulking suit of armor.\n",
       "\n",
       "The brothers are rescued by their neighbor Pinako Rockbell and her granddaughter Winry. Known as a bio-mechanical \n",
       "engineering prodigy, Winry creates prosthetic limbs for Edward by utilizing \u001b[32m\"automail,\"\u001b[0m a tough, versatile metal \n",
       "used in robots and combat armor. After years of training, the Elric brothers set off on a quest to restore their \n",
       "bodies by locating the Philosopher's Stone—a powerful gem that allows an alchemist to defy the traditional laws of \n",
       "Equivalent Exchange.\n",
       "\n",
       "As Edward becomes an infamous alchemist and gains the nickname \u001b[32m\"Fullmetal,\"\u001b[0m the boys' journey embroils them in a \n",
       "growing conspiracy that threatens the fate of the world.\n",
       "\n",
       "\u001b[1m[\u001b[0mWritten by MAL Rewrite\u001b[1m]\u001b[0m\n"
      ]
     },
     "metadata": {},
     "output_type": "display_data"
    },
    {
     "data": {
      "text/html": [
       "<img src=\"https://cdn.myanimelist.net/images/anime/1208/94745.webp\"/>"
      ],
      "text/plain": [
       "<IPython.core.display.Image object>"
      ]
     },
     "metadata": {},
     "output_type": "display_data"
    },
    {
     "data": {
      "text/html": [
       "<pre style=\"white-space:pre;overflow-x:auto;line-height:normal;font-family:Menlo,'DejaVu Sans Mono',consolas,'Courier New',monospace\">Trailer: <span style=\"color: #0000ff; text-decoration-color: #0000ff; text-decoration: underline\">https://www.youtube.com/watch?v=--IcmZkvL0Q</span>\n",
       "</pre>\n"
      ],
      "text/plain": [
       "Trailer: \u001b[4;94mhttps://www.youtube.com/watch?\u001b[0m\u001b[4;94mv\u001b[0m\u001b[4;94m=--IcmZkvL0Q\u001b[0m\n"
      ]
     },
     "metadata": {},
     "output_type": "display_data"
    },
    {
     "data": {
      "text/html": [
       "<pre style=\"white-space:pre;overflow-x:auto;line-height:normal;font-family:Menlo,'DejaVu Sans Mono',consolas,'Courier New',monospace\">-----------------------------------------------------------------\n",
       "</pre>\n"
      ],
      "text/plain": [
       "-----------------------------------------------------------------\n"
      ]
     },
     "metadata": {},
     "output_type": "display_data"
    },
    {
     "data": {
      "text/html": [
       "<pre style=\"white-space:pre;overflow-x:auto;line-height:normal;font-family:Menlo,'DejaVu Sans Mono',consolas,'Courier New',monospace\">Titulo: Gintama°\n",
       "</pre>\n"
      ],
      "text/plain": [
       "Titulo: Gintama°\n"
      ]
     },
     "metadata": {},
     "output_type": "display_data"
    },
    {
     "data": {
      "text/html": [
       "<pre style=\"white-space:pre;overflow-x:auto;line-height:normal;font-family:Menlo,'DejaVu Sans Mono',consolas,'Courier New',monospace\">Sinopsis: Gintoki, Shinpachi, and Kagura return as the fun-loving but broke members of the Yorozuya team! Living in\n",
       "an alternate-reality Edo, where swords are prohibited and alien overlords have conquered Japan, they try to thrive \n",
       "on doing whatever work they can get their hands on. However, Shinpachi and Kagura still haven't been paid<span style=\"color: #808000; text-decoration-color: #808000\">...</span> Does \n",
       "Gin-chan really spend all that cash playing pachinko?\n",
       "\n",
       "Meanwhile, when Gintoki drunkenly staggers home one night, an alien spaceship crashes nearby. A fatally injured \n",
       "crew member emerges from the ship and gives Gintoki a strange, clock-shaped device, warning him that it is \n",
       "incredibly powerful and must be safeguarded. Mistaking it for his alarm clock, Gintoki proceeds to smash the device\n",
       "the next morning and suddenly discovers that the world outside his apartment has come to a standstill. With Kagura \n",
       "and Shinpachi at his side, he sets off to get the device fixed; though, as usual, nothing is ever that simple for \n",
       "the Yorozuya team.\n",
       "\n",
       "Filled with tongue-in-cheek humor and moments of heartfelt emotion, Gintama's fourth season finds Gintoki and his \n",
       "friends facing both their most hilarious misadventures and most dangerous crises yet.\n",
       "\n",
       "<span style=\"font-weight: bold\">[</span>Written by MAL Rewrite<span style=\"font-weight: bold\">]</span>\n",
       "</pre>\n"
      ],
      "text/plain": [
       "Sinopsis: Gintoki, Shinpachi, and Kagura return as the fun-loving but broke members of the Yorozuya team! Living in\n",
       "an alternate-reality Edo, where swords are prohibited and alien overlords have conquered Japan, they try to thrive \n",
       "on doing whatever work they can get their hands on. However, Shinpachi and Kagura still haven't been paid\u001b[33m...\u001b[0m Does \n",
       "Gin-chan really spend all that cash playing pachinko?\n",
       "\n",
       "Meanwhile, when Gintoki drunkenly staggers home one night, an alien spaceship crashes nearby. A fatally injured \n",
       "crew member emerges from the ship and gives Gintoki a strange, clock-shaped device, warning him that it is \n",
       "incredibly powerful and must be safeguarded. Mistaking it for his alarm clock, Gintoki proceeds to smash the device\n",
       "the next morning and suddenly discovers that the world outside his apartment has come to a standstill. With Kagura \n",
       "and Shinpachi at his side, he sets off to get the device fixed; though, as usual, nothing is ever that simple for \n",
       "the Yorozuya team.\n",
       "\n",
       "Filled with tongue-in-cheek humor and moments of heartfelt emotion, Gintama's fourth season finds Gintoki and his \n",
       "friends facing both their most hilarious misadventures and most dangerous crises yet.\n",
       "\n",
       "\u001b[1m[\u001b[0mWritten by MAL Rewrite\u001b[1m]\u001b[0m\n"
      ]
     },
     "metadata": {},
     "output_type": "display_data"
    },
    {
     "data": {
      "text/html": [
       "<img src=\"https://cdn.myanimelist.net/images/anime/3/72078.webp\"/>"
      ],
      "text/plain": [
       "<IPython.core.display.Image object>"
      ]
     },
     "metadata": {},
     "output_type": "display_data"
    },
    {
     "data": {
      "text/html": [
       "<pre style=\"white-space:pre;overflow-x:auto;line-height:normal;font-family:Menlo,'DejaVu Sans Mono',consolas,'Courier New',monospace\">Trailer: <span style=\"color: #800080; text-decoration-color: #800080; font-style: italic\">None</span>\n",
       "</pre>\n"
      ],
      "text/plain": [
       "Trailer: \u001b[3;35mNone\u001b[0m\n"
      ]
     },
     "metadata": {},
     "output_type": "display_data"
    },
    {
     "data": {
      "text/html": [
       "<pre style=\"white-space:pre;overflow-x:auto;line-height:normal;font-family:Menlo,'DejaVu Sans Mono',consolas,'Courier New',monospace\">-----------------------------------------------------------------\n",
       "</pre>\n"
      ],
      "text/plain": [
       "-----------------------------------------------------------------\n"
      ]
     },
     "metadata": {},
     "output_type": "display_data"
    },
    {
     "data": {
      "text/html": [
       "<pre style=\"white-space:pre;overflow-x:auto;line-height:normal;font-family:Menlo,'DejaVu Sans Mono',consolas,'Courier New',monospace\">Titulo: <span style=\"color: #008080; text-decoration-color: #008080; font-weight: bold\">3</span>-gatsu no Lion 2nd Season\n",
       "</pre>\n"
      ],
      "text/plain": [
       "Titulo: \u001b[1;36m3\u001b[0m-gatsu no Lion 2nd Season\n"
      ]
     },
     "metadata": {},
     "output_type": "display_data"
    },
    {
     "data": {
      "text/html": [
       "<pre style=\"white-space:pre;overflow-x:auto;line-height:normal;font-family:Menlo,'DejaVu Sans Mono',consolas,'Courier New',monospace\">Sinopsis: Now in his second year of high school, Rei Kiriyama continues pushing through his struggles in the \n",
       "professional shogi world as well as his personal life. Surrounded by vibrant personalities at the shogi hall, the \n",
       "school club, and in the local community, his solitary shell slowly begins to crack. Among them are the three \n",
       "Kawamoto sisters—Akari, Hinata, and Momo—who forge an affectionate and familial bond with Rei. Through these ties, \n",
       "he realizes that everyone is burdened by their own emotional hardships and begins learning how to rely on others \n",
       "while supporting them in return. \n",
       "\n",
       "Nonetheless, the life of a professional is not easy. Between tournaments, championships, and title matches, the \n",
       "pressure mounts as Rei advances through the ranks and encounters incredibly skilled opponents. As he manages his \n",
       "relationships with those who have grown close to him, the shogi player continues to search for the reason he plays \n",
       "the game that defines his career.\n",
       "\n",
       "<span style=\"font-weight: bold\">[</span>Written by MAL Rewrite<span style=\"font-weight: bold\">]</span>\n",
       "</pre>\n"
      ],
      "text/plain": [
       "Sinopsis: Now in his second year of high school, Rei Kiriyama continues pushing through his struggles in the \n",
       "professional shogi world as well as his personal life. Surrounded by vibrant personalities at the shogi hall, the \n",
       "school club, and in the local community, his solitary shell slowly begins to crack. Among them are the three \n",
       "Kawamoto sisters—Akari, Hinata, and Momo—who forge an affectionate and familial bond with Rei. Through these ties, \n",
       "he realizes that everyone is burdened by their own emotional hardships and begins learning how to rely on others \n",
       "while supporting them in return. \n",
       "\n",
       "Nonetheless, the life of a professional is not easy. Between tournaments, championships, and title matches, the \n",
       "pressure mounts as Rei advances through the ranks and encounters incredibly skilled opponents. As he manages his \n",
       "relationships with those who have grown close to him, the shogi player continues to search for the reason he plays \n",
       "the game that defines his career.\n",
       "\n",
       "\u001b[1m[\u001b[0mWritten by MAL Rewrite\u001b[1m]\u001b[0m\n"
      ]
     },
     "metadata": {},
     "output_type": "display_data"
    },
    {
     "data": {
      "text/html": [
       "<img src=\"https://cdn.myanimelist.net/images/anime/3/88469.webp\"/>"
      ],
      "text/plain": [
       "<IPython.core.display.Image object>"
      ]
     },
     "metadata": {},
     "output_type": "display_data"
    },
    {
     "data": {
      "text/html": [
       "<pre style=\"white-space:pre;overflow-x:auto;line-height:normal;font-family:Menlo,'DejaVu Sans Mono',consolas,'Courier New',monospace\">Trailer: <span style=\"color: #0000ff; text-decoration-color: #0000ff; text-decoration: underline\">https://www.youtube.com/watch?v=OfSaJb5OOPA</span>\n",
       "</pre>\n"
      ],
      "text/plain": [
       "Trailer: \u001b[4;94mhttps://www.youtube.com/watch?\u001b[0m\u001b[4;94mv\u001b[0m\u001b[4;94m=\u001b[0m\u001b[4;94mOfSaJb5OOPA\u001b[0m\n"
      ]
     },
     "metadata": {},
     "output_type": "display_data"
    },
    {
     "data": {
      "text/html": [
       "<pre style=\"white-space:pre;overflow-x:auto;line-height:normal;font-family:Menlo,'DejaVu Sans Mono',consolas,'Courier New',monospace\">-----------------------------------------------------------------\n",
       "</pre>\n"
      ],
      "text/plain": [
       "-----------------------------------------------------------------\n"
      ]
     },
     "metadata": {},
     "output_type": "display_data"
    },
    {
     "data": {
      "text/html": [
       "<pre style=\"white-space:pre;overflow-x:auto;line-height:normal;font-family:Menlo,'DejaVu Sans Mono',consolas,'Courier New',monospace\">Titulo: Hunter x Hunter <span style=\"font-weight: bold\">(</span><span style=\"color: #008080; text-decoration-color: #008080; font-weight: bold\">2011</span><span style=\"font-weight: bold\">)</span>\n",
       "</pre>\n"
      ],
      "text/plain": [
       "Titulo: Hunter x Hunter \u001b[1m(\u001b[0m\u001b[1;36m2011\u001b[0m\u001b[1m)\u001b[0m\n"
      ]
     },
     "metadata": {},
     "output_type": "display_data"
    },
    {
     "data": {
      "text/html": [
       "<pre style=\"white-space:pre;overflow-x:auto;line-height:normal;font-family:Menlo,'DejaVu Sans Mono',consolas,'Courier New',monospace\">Sinopsis: Hunters devote themselves to accomplishing hazardous tasks, all from traversing the world's uncharted \n",
       "territories to locating rare items and monsters. Before becoming a Hunter, one must pass the Hunter Examination—a \n",
       "high-risk selection process in which most applicants end up handicapped or worse, deceased.\n",
       "\n",
       "Ambitious participants who challenge the notorious exam carry their own reason. What drives <span style=\"color: #008080; text-decoration-color: #008080; font-weight: bold\">12</span>-year-old Gon Freecss\n",
       "is finding Ging, his father and a Hunter himself. Believing that he will meet his father by becoming a Hunter, Gon \n",
       "takes the first step to walk the same path.\n",
       "\n",
       "During the Hunter Examination, Gon befriends the medical student Leorio Paladiknight, the vindictive Kurapika, and \n",
       "ex-assassin Killua Zoldyck. While their motives vastly differ from each other, they band together for a common goal\n",
       "and begin to venture into a perilous world.\n",
       "\n",
       "<span style=\"font-weight: bold\">[</span>Written by MAL Rewrite<span style=\"font-weight: bold\">]</span>\n",
       "</pre>\n"
      ],
      "text/plain": [
       "Sinopsis: Hunters devote themselves to accomplishing hazardous tasks, all from traversing the world's uncharted \n",
       "territories to locating rare items and monsters. Before becoming a Hunter, one must pass the Hunter Examination—a \n",
       "high-risk selection process in which most applicants end up handicapped or worse, deceased.\n",
       "\n",
       "Ambitious participants who challenge the notorious exam carry their own reason. What drives \u001b[1;36m12\u001b[0m-year-old Gon Freecss\n",
       "is finding Ging, his father and a Hunter himself. Believing that he will meet his father by becoming a Hunter, Gon \n",
       "takes the first step to walk the same path.\n",
       "\n",
       "During the Hunter Examination, Gon befriends the medical student Leorio Paladiknight, the vindictive Kurapika, and \n",
       "ex-assassin Killua Zoldyck. While their motives vastly differ from each other, they band together for a common goal\n",
       "and begin to venture into a perilous world.\n",
       "\n",
       "\u001b[1m[\u001b[0mWritten by MAL Rewrite\u001b[1m]\u001b[0m\n"
      ]
     },
     "metadata": {},
     "output_type": "display_data"
    },
    {
     "data": {
      "text/html": [
       "<img src=\"https://cdn.myanimelist.net/images/anime/1337/99013.webp\"/>"
      ],
      "text/plain": [
       "<IPython.core.display.Image object>"
      ]
     },
     "metadata": {},
     "output_type": "display_data"
    },
    {
     "data": {
      "text/html": [
       "<pre style=\"white-space:pre;overflow-x:auto;line-height:normal;font-family:Menlo,'DejaVu Sans Mono',consolas,'Courier New',monospace\">Trailer: <span style=\"color: #0000ff; text-decoration-color: #0000ff; text-decoration: underline\">https://www.youtube.com/watch?v=D9iTQRB4XRk</span>\n",
       "</pre>\n"
      ],
      "text/plain": [
       "Trailer: \u001b[4;94mhttps://www.youtube.com/watch?\u001b[0m\u001b[4;94mv\u001b[0m\u001b[4;94m=\u001b[0m\u001b[4;94mD9iTQRB4XRk\u001b[0m\n"
      ]
     },
     "metadata": {},
     "output_type": "display_data"
    },
    {
     "data": {
      "text/html": [
       "<pre style=\"white-space:pre;overflow-x:auto;line-height:normal;font-family:Menlo,'DejaVu Sans Mono',consolas,'Courier New',monospace\">-----------------------------------------------------------------\n",
       "</pre>\n"
      ],
      "text/plain": [
       "-----------------------------------------------------------------\n"
      ]
     },
     "metadata": {},
     "output_type": "display_data"
    },
    {
     "data": {
      "text/html": [
       "<pre style=\"white-space:pre;overflow-x:auto;line-height:normal;font-family:Menlo,'DejaVu Sans Mono',consolas,'Courier New',monospace\">Titulo: SK∞\n",
       "</pre>\n"
      ],
      "text/plain": [
       "Titulo: SK∞\n"
      ]
     },
     "metadata": {},
     "output_type": "display_data"
    },
    {
     "data": {
      "text/html": [
       "<pre style=\"white-space:pre;overflow-x:auto;line-height:normal;font-family:Menlo,'DejaVu Sans Mono',consolas,'Courier New',monospace\">Sinopsis: High school student Reki Kyan is passionate about one thing: skateboarding. When night falls, he heads to\n",
       "<span style=\"color: #008000; text-decoration-color: #008000\">\"S,\"</span> an illegal underground race inside a mine where skaters compete in highly dangerous situations. After a loss \n",
       "that results in his skateboard being destroyed and his arm being broken, Reki is now incapable of practicing at \n",
       "all.\n",
       "\n",
       "While working, Reki runs into his new classmate, Langa Hasegawa, a half-Canadian and half-Japanese boy with no \n",
       "skateboarding experience whatsoever. Langa is in desperate need of money. After they both visit <span style=\"color: #008000; text-decoration-color: #008000\">\"S\"</span> when tasked by \n",
       "Reki's boss, they get into trouble and are forced into a bet that requires Langa to skate in a race. However, the \n",
       "mysterious transfer student holds a trump card that Reki is unaware of, one which might help him win the race in \n",
       "the most unexpected way.\n",
       "\n",
       "<span style=\"font-weight: bold\">[</span>Written by MAL Rewrite<span style=\"font-weight: bold\">]</span>\n",
       "</pre>\n"
      ],
      "text/plain": [
       "Sinopsis: High school student Reki Kyan is passionate about one thing: skateboarding. When night falls, he heads to\n",
       "\u001b[32m\"S,\"\u001b[0m an illegal underground race inside a mine where skaters compete in highly dangerous situations. After a loss \n",
       "that results in his skateboard being destroyed and his arm being broken, Reki is now incapable of practicing at \n",
       "all.\n",
       "\n",
       "While working, Reki runs into his new classmate, Langa Hasegawa, a half-Canadian and half-Japanese boy with no \n",
       "skateboarding experience whatsoever. Langa is in desperate need of money. After they both visit \u001b[32m\"S\"\u001b[0m when tasked by \n",
       "Reki's boss, they get into trouble and are forced into a bet that requires Langa to skate in a race. However, the \n",
       "mysterious transfer student holds a trump card that Reki is unaware of, one which might help him win the race in \n",
       "the most unexpected way.\n",
       "\n",
       "\u001b[1m[\u001b[0mWritten by MAL Rewrite\u001b[1m]\u001b[0m\n"
      ]
     },
     "metadata": {},
     "output_type": "display_data"
    },
    {
     "data": {
      "text/html": [
       "<img src=\"https://cdn.myanimelist.net/images/anime/1549/119195.webp\"/>"
      ],
      "text/plain": [
       "<IPython.core.display.Image object>"
      ]
     },
     "metadata": {},
     "output_type": "display_data"
    },
    {
     "data": {
      "text/html": [
       "<pre style=\"white-space:pre;overflow-x:auto;line-height:normal;font-family:Menlo,'DejaVu Sans Mono',consolas,'Courier New',monospace\">Trailer: <span style=\"color: #0000ff; text-decoration-color: #0000ff; text-decoration: underline\">https://www.youtube.com/watch?v=PcS3QIc6ma8</span>\n",
       "</pre>\n"
      ],
      "text/plain": [
       "Trailer: \u001b[4;94mhttps://www.youtube.com/watch?\u001b[0m\u001b[4;94mv\u001b[0m\u001b[4;94m=\u001b[0m\u001b[4;94mPcS3QIc6ma8\u001b[0m\n"
      ]
     },
     "metadata": {},
     "output_type": "display_data"
    },
    {
     "data": {
      "text/html": [
       "<pre style=\"white-space:pre;overflow-x:auto;line-height:normal;font-family:Menlo,'DejaVu Sans Mono',consolas,'Courier New',monospace\">-----------------------------------------------------------------\n",
       "</pre>\n"
      ],
      "text/plain": [
       "-----------------------------------------------------------------\n"
      ]
     },
     "metadata": {},
     "output_type": "display_data"
    }
   ],
   "source": [
    "# Se muestran las peliculas y series recomendadas a traves de la API de Jikan\n",
    "mostrar_animes_series(array_lista_anime_id_movies)\n",
    "mostrar_animes_series(array_lista_anime_id_series)"
   ]
  }
 ],
 "metadata": {
  "kernelspec": {
   "display_name": "Python 3",
   "language": "python",
   "name": "python3"
  },
  "language_info": {
   "codemirror_mode": {
    "name": "ipython",
    "version": 3
   },
   "file_extension": ".py",
   "mimetype": "text/x-python",
   "name": "python",
   "nbconvert_exporter": "python",
   "pygments_lexer": "ipython3",
   "version": "3.10.2"
  }
 },
 "nbformat": 4,
 "nbformat_minor": 2
}
