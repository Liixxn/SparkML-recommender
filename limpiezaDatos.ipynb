{
 "cells": [
  {
   "cell_type": "code",
   "execution_count": 89,
   "metadata": {},
   "outputs": [],
   "source": [
    "from pyspark.sql import SparkSession\n",
    "from pyspark.sql.functions import col, when, round\n",
    "from pyspark.ml.evaluation import RegressionEvaluator\n",
    "from pyspark.ml.recommendation import ALS\n",
    "from pyspark.sql.functions import explode\n",
    "# Inicializamos la sesion de Spark\n",
    "spark = SparkSession.builder.appName(\"SistemaRecomendacion_ALS\").config(\"spark.executor.memory\", \"8g\").config(\"spark.executor.cores\", \"6\").config(\"spark.driver.memory\",\"8g\").getOrCreate()\n",
    "\n",
    "# Cargamos el dataset\n",
    "df = spark.read.option(\"delimiter\", \",\").option(\"quote\", '\"').option(\"escape\", '\"').csv(\"data/anime.csv\", header=True, inferSchema=True)\n"
   ]
  },
  {
   "cell_type": "markdown",
   "metadata": {},
   "source": [
    "# Limpieza de los datos"
   ]
  },
  {
   "cell_type": "code",
   "execution_count": 90,
   "metadata": {},
   "outputs": [
    {
     "name": "stdout",
     "output_type": "stream",
     "text": [
      "+---+--------------------+-----+--------------------+--------------------+------------------------------+-----+--------+--------------------+-----------+--------------------+--------------------+----------------+-----------+---------------+--------------------+------+----------+-------+---------+--------+---------+-------+-------+-------------+--------+--------+--------+--------+--------+-------+-------+-------+-------+-------+\n",
      "| ID|                Name|Score|              Genres|        English name|                 Japanese name| Type|Episodes|               Aired|  Premiered|           Producers|           Licensors|         Studios|     Source|       Duration|              Rating|Ranked|Popularity|Members|Favorites|Watching|Completed|On-Hold|Dropped|Plan to Watch|Score-10| Score-9| Score-8| Score-7| Score-6|Score-5|Score-4|Score-3|Score-2|Score-1|\n",
      "+---+--------------------+-----+--------------------+--------------------+------------------------------+-----+--------+--------------------+-----------+--------------------+--------------------+----------------+-----------+---------------+--------------------+------+----------+-------+---------+--------+---------+-------+-------+-------------+--------+--------+--------+--------+--------+-------+-------+-------+-------+-------+\n",
      "|  1|        Cowboy Bebop| 8.78|Action, Adventure...|        Cowboy Bebop|            カウボーイビバップ|   TV|      26|Apr 3, 1998 to Ap...|Spring 1998|       Bandai Visual|Funimation, Banda...|         Sunrise|   Original|24 min. per ep.|R - 17+ (violence...|  28.0|        39|1251960|    61971|  105808|   718161|  71513|  26678|       329800|229170.0|182126.0|131625.0| 62330.0| 20688.0| 8904.0| 3184.0| 1357.0|  741.0| 1580.0|\n",
      "|  5|Cowboy Bebop: Ten...| 8.39|Action, Drama, My...|Cowboy Bebop:The ...|   カウボーイビバップ 天国の扉|Movie|       1|         Sep 1, 2001|    Unknown|Sunrise, Bandai V...|Sony Pictures Ent...|           Bones|   Original|  1 hr. 55 min.|R - 17+ (violence...| 159.0|       518| 273145|     1174|    4143|   208333|   1935|    770|        57964| 30043.0| 49201.0| 49505.0| 22632.0|  5805.0| 1877.0|  577.0|  221.0|  109.0|  379.0|\n",
      "|  6|              Trigun| 8.24|Action, Sci-Fi, A...|              Trigun|                    トライガン|   TV|      26|Apr 1, 1998 to Se...|Spring 1998|Victor Entertainment|Funimation, Geneo...|        Madhouse|      Manga|24 min. per ep.|PG-13 - Teens 13 ...| 266.0|       201| 558913|    12944|   29113|   343492|  25465|  13925|       146918| 50229.0| 75651.0| 86142.0| 49432.0| 15376.0| 5838.0| 1965.0|  664.0|  316.0|  533.0|\n",
      "|  7|  Witch Hunter Robin| 7.27|Action, Mystery, ...|  Witch Hunter Robin|          Witch Hunter ROBI...|   TV|      26|Jul 2, 2002 to De...|Summer 2002|TV Tokyo, Bandai ...|Funimation, Banda...|         Sunrise|   Original|25 min. per ep.|PG-13 - Teens 13 ...|2481.0|      1467|  94683|      587|    4300|    46165|   5121|   5378|        33719|  2182.0|  4806.0| 10128.0| 11618.0|  5709.0| 2920.0| 1083.0|  353.0|  164.0|  131.0|\n",
      "|  8|      Bouken Ou Beet| 6.98|Adventure, Fantas...|Beet the Vandel B...|                  冒険王ビィト|   TV|      52|Sep 30, 2004 to S...|  Fall 2004|    TV Tokyo, Dentsu|             Unknown|  Toei Animation|      Manga|23 min. per ep.|       PG - Children|3710.0|      4369|  13224|       18|     642|     7314|    766|   1108|         3394|   312.0|   529.0|  1242.0|  1713.0|  1068.0|  634.0|  265.0|   83.0|   50.0|   27.0|\n",
      "| 15|        Eyeshield 21| 7.95|Action, Sports, C...|             Unknown|                アイシールド21|   TV|     145|Apr 6, 2005 to Ma...|Spring 2005|TV Tokyo, Nihon A...|VIZ Media, Sentai...|          Gallop|      Manga|23 min. per ep.|PG-13 - Teens 13 ...| 604.0|      1003| 148259|     2066|   13907|    78349|  14228|  11573|        30202|  9226.0| 14904.0| 22811.0| 16734.0|  6206.0| 2621.0|  795.0|  336.0|  140.0|  151.0|\n",
      "| 16|Hachimitsu to Clover| 8.06|Comedy, Drama, Jo...|    Honey and Clover|          ハチミツとクローバー|   TV|      24|Apr 15, 2005 to S...|Spring 2005|Genco, Fuji TV, S...|VIZ Media, Discot...|       J.C.Staff|      Manga|23 min. per ep.|PG-13 - Teens 13 ...| 468.0|       687| 214499|     4101|   11909|    81145|  11901|  11026|        98518| 11829.0| 16309.0| 20008.0| 13062.0|  5574.0| 3148.0| 1339.0|  484.0|  278.0|  321.0|\n",
      "| 17|Hungry Heart: Wil...| 7.59|Slice of Life, Co...|             Unknown|  ハングリーハート Wild Str...|   TV|      52|Sep 11, 2002 to S...|  Fall 2002|             Unknown|             Unknown|Nippon Animation|      Manga|23 min. per ep.|PG-13 - Teens 13 ...|1317.0|      3612|  20470|      231|     817|    13778|    828|   1168|         3879|  1123.0|  1777.0|  3102.0|  3075.0|  1286.0|  602.0|  218.0|   88.0|   31.0|   32.0|\n",
      "| 18|Initial D Fourth ...| 8.15|Action, Cars, Spo...|             Unknown|頭文字〈イニシャル〉D FOURT...|   TV|      24|Apr 17, 2004 to F...|Spring 2004|OB Planning, Stud...|          Funimation|        A.C.G.T.|      Manga|27 min. per ep.|PG-13 - Teens 13 ...| 360.0|      1233| 117929|      979|    6082|    90967|   3053|   1356|        16471| 10948.0| 15820.0| 22379.0| 12912.0|  3874.0| 1236.0|  369.0|   97.0|   48.0|  259.0|\n",
      "| 19|             Monster| 8.76|Drama, Horror, My...|             Monster|                    モンスター|   TV|      74|Apr 7, 2004 to Se...|Spring 2004|VAP, Shogakukan-S...|           VIZ Media|        Madhouse|      Manga|24 min. per ep.|    R+ - Mild Nudity|  30.0|       169| 614100|    29436|   64648|   214491|  47488|  23008|       264465| 77350.0| 60652.0| 43459.0| 22045.0|  8861.0| 4381.0| 2086.0|  882.0|  593.0| 1177.0|\n",
      "| 20|              Naruto| 7.91|Action, Adventure...|              Naruto|                        ナルト|   TV|     220|Oct 3, 2002 to Fe...|  Fall 2002|TV Tokyo, Aniplex...|           VIZ Media|  Studio Pierrot|      Manga|23 min. per ep.|PG-13 - Teens 13 ...| 660.0|         8|1830540|    65586|  137167|  1462223|  61734|  99806|        69610|216866.0|234481.0|345563.0|286175.0|108155.0|46886.0|15477.0| 6098.0| 3582.0| 5310.0|\n",
      "| 21|           One Piece| 8.52|Action, Adventure...|           One Piece|                     ONE PIECE|   TV| Unknown|   Oct 20, 1999 to ?|  Fall 1999|Fuji TV, TAP, Shu...|Funimation, 4Kids...|  Toei Animation|      Manga|        24 min.|PG-13 - Teens 13 ...|  95.0|        31|1352724|   126645|  887333|       33| 187919| 136245|       141194|292445.0|166186.0|141755.0| 85424.0| 35342.0|19019.0| 8201.0| 3675.0| 2616.0| 6340.0|\n",
      "| 22| Tennis no Ouji-sama|  7.9|Action, Comedy, S...|The Prince of Tennis|                テニスの王子様|   TV|     178|Oct 10, 2001 to M...|  Fall 2001|Production I.G, N...|           VIZ Media|      Trans Arts|      Manga|22 min. per ep.|PG-13 - Teens 13 ...| 675.0|      1039| 141832|     3124|   11235|    76881|  12905|  12516|        28295|  9576.0| 12719.0| 19791.0| 16284.0|  6624.0| 3086.0| 1071.0|  443.0|  210.0|  225.0|\n",
      "| 23|    Ring ni Kakero 1| 6.38|Action, Shounen, ...|             Unknown|              リングにかけろ１|   TV|      12|Oct 6, 2004 to De...|  Fall 2004|             Unknown|             Unknown|  Toei Animation|      Manga|25 min. per ep.|       PG - Children|6493.0|      7333|   3648|       16|     170|     1333|    145|    296|         1704|    69.0|    61.0|   152.0|   260.0|   236.0|  143.0|   88.0|   40.0|   32.0|   28.0|\n",
      "| 24|       School Rumble| 7.94|Comedy, Romance, ...|       School Rumble|              スクールランブル|   TV|      26|Oct 5, 2004 to Ma...|  Fall 2004|TV Tokyo, Sotsu, ...|          Funimation|    Studio Comet|      Manga|23 min. per ep.|PG-13 - Teens 13 ...| 625.0|       514| 275464|     5137|   12277|   157789|  12856|  13491|        79051| 17907.0| 27623.0| 38112.0| 27327.0| 11034.0| 5396.0| 1897.0|  780.0|  441.0|  405.0|\n",
      "| 25|           Sunabouzu| 7.42|Action, Adventure...|         Desert Punk|                      砂ぼうず|   TV|      24|Oct 6, 2004 to Ma...|  Fall 2004|GDH, Pony Canyon,...|          Funimation|           Gonzo|      Manga|24 min. per ep.|R - 17+ (violence...|1844.0|      1284| 111734|      790|    6273|    53819|   6255|   7951|        37436|  3589.0|  6664.0| 12349.0| 12702.0|  6033.0| 3079.0| 1521.0|  643.0|  350.0|  297.0|\n",
      "| 26|          Texhnolyze| 7.76|Action, Sci-Fi, P...|          Texhnolyze|                    TEXHNOLYZE|   TV|      22|Apr 17, 2003 to S...|Spring 2003|Group TAC, Rondo ...|Funimation, Geneo...|        Madhouse|   Original|23 min. per ep.|    R+ - Mild Nudity| 896.0|       823| 182599|     3671|   11335|    47532|   9815|   8112|       105805|  6856.0|  8309.0| 10851.0|  8636.0|  4429.0| 2462.0| 1456.0|  684.0|  411.0|  664.0|\n",
      "| 27|       Trinity Blood| 7.32|Action, Supernatu...|       Trinity Blood|          トリニティ・ブラッド|   TV|      24|Apr 29, 2005 to O...|Spring 2005|             Unknown|          Funimation|           Gonzo|Light novel|24 min. per ep.|R - 17+ (violence...|2240.0|       936| 158343|     1479|    7794|    87958|   8940|   9349|        44302|  6091.0|  9759.0| 17761.0| 20152.0| 10273.0| 5392.0| 2250.0|  873.0|  456.0|  298.0|\n",
      "| 28|    Yakitate!! Japan| 7.95|     Comedy, Shounen|    Yakitate!! Japan|           焼きたて!! ジャぱん|   TV|      69|Oct 12, 2004 to M...|  Fall 2004|TV Tokyo, Aniplex...|Nozomi Entertainment|         Sunrise|      Manga|24 min. per ep.|PG-13 - Teens 13 ...| 609.0|      1666|  80183|      887|    5007|    39992|   5764|   4633|        24787|  4347.0|  7425.0| 11074.0|  7965.0|  3038.0| 1248.0|  345.0|  118.0|   56.0|   58.0|\n",
      "| 29|              Zipang| 7.51|Action, Military,...|             Unknown|                      ジパング|   TV|      26|Oct 8, 2004 to Ap...|  Fall 2004|      Marvelous, TBS|Geneon Entertainm...|     Studio Deen|      Manga|24 min. per ep.|PG-13 - Teens 13 ...|1565.0|      3985|  16652|      152|     857|     6807|    721|    599|         7668|   430.0|   874.0|  1801.0|  1696.0|   662.0|  279.0|  114.0|   38.0|   13.0|   28.0|\n",
      "+---+--------------------+-----+--------------------+--------------------+------------------------------+-----+--------+--------------------+-----------+--------------------+--------------------+----------------+-----------+---------------+--------------------+------+----------+-------+---------+--------+---------+-------+-------+-------------+--------+--------+--------+--------+--------+-------+-------+-------+-------+-------+\n",
      "only showing top 20 rows\n",
      "\n"
     ]
    }
   ],
   "source": [
    "# Visualizamos todo el dataset de animes\n",
    "df.show()"
   ]
  },
  {
   "cell_type": "code",
   "execution_count": 91,
   "metadata": {},
   "outputs": [
    {
     "data": {
      "text/plain": [
       "37"
      ]
     },
     "execution_count": 91,
     "metadata": {},
     "output_type": "execute_result"
    }
   ],
   "source": [
    "# Visualizamos las filas con valores nulos\n",
    "df.where(df[\"Type\"] == \"Unknown\").count()"
   ]
  },
  {
   "cell_type": "code",
   "execution_count": 92,
   "metadata": {},
   "outputs": [
    {
     "name": "stdout",
     "output_type": "stream",
     "text": [
      "+-------+\n",
      "|Type   |\n",
      "+-------+\n",
      "|TV     |\n",
      "|Special|\n",
      "|Unknown|\n",
      "|OVA    |\n",
      "|Music  |\n",
      "|Movie  |\n",
      "|ONA    |\n",
      "+-------+\n",
      "\n"
     ]
    }
   ],
   "source": [
    "# Visualizamos los tipos de animes que existen (Movie, TV, OVA, etc)\n",
    "df.select(\"Type\").distinct().show(20, False)"
   ]
  },
  {
   "cell_type": "code",
   "execution_count": 93,
   "metadata": {},
   "outputs": [],
   "source": [
    "df = df.drop(df[\"Premiered\"])"
   ]
  },
  {
   "cell_type": "code",
   "execution_count": 94,
   "metadata": {},
   "outputs": [],
   "source": [
    "#df = df.drop(*[\n",
    "#    when(col(\"Genres\") == \"Uknown\", column).alias(column)\n",
    "#    for column in df.columns\n",
    "#])"
   ]
  },
  {
   "cell_type": "code",
   "execution_count": 95,
   "metadata": {},
   "outputs": [],
   "source": [
    "# Se filtra el dataset para que solo contenga los animes de tipo Movie y TV\n",
    "df_filtered = df.filter((df[\"Type\"] == \"Movie\") | (df[\"Type\"] == \"TV\"))"
   ]
  },
  {
   "cell_type": "code",
   "execution_count": 96,
   "metadata": {},
   "outputs": [],
   "source": [
    "\n",
    "# Convertimos los valores de las columnas de Score-1 a Score-10 a valores numericos cambiando los Unknown por 0\n",
    "df_filtered = df_filtered.withColumn(\"Score-1\", when(df_filtered[\"Score-1\"] == \"Unknown\", 0).otherwise(df_filtered[\"Score-1\"])) \\\n",
    "    .withColumn(\"Score-2\", when(df_filtered[\"Score-2\"] == \"Unknown\", 0).otherwise(df_filtered[\"Score-2\"])) \\\n",
    "    .withColumn(\"Score-3\", when(df_filtered[\"Score-3\"] == \"Unknown\", 0).otherwise(df_filtered[\"Score-3\"])) \\\n",
    "    .withColumn(\"Score-4\", when(df_filtered[\"Score-4\"] == \"Unknown\", 0).otherwise(df_filtered[\"Score-4\"])) \\\n",
    "    .withColumn(\"Score-5\", when(df_filtered[\"Score-5\"] == \"Unknown\", 0).otherwise(df_filtered[\"Score-5\"])) \\\n",
    "    .withColumn(\"Score-6\", when(df_filtered[\"Score-6\"] == \"Unknown\", 0).otherwise(df_filtered[\"Score-6\"])) \\\n",
    "    .withColumn(\"Score-7\", when(df_filtered[\"Score-7\"] == \"Unknown\", 0).otherwise(df_filtered[\"Score-7\"])) \\\n",
    "    .withColumn(\"Score-8\", when(df_filtered[\"Score-8\"] == \"Unknown\", 0).otherwise(df_filtered[\"Score-8\"])) \\\n",
    "    .withColumn(\"Score-9\", when(df_filtered[\"Score-9\"] == \"Unknown\", 0).otherwise(df_filtered[\"Score-9\"])) \\\n",
    "    .withColumn(\"Score-10\", when(df_filtered[\"Score-10\"] == \"Unknown\", 0).otherwise(df_filtered[\"Score-10\"]))\n",
    "    "
   ]
  },
  {
   "cell_type": "code",
   "execution_count": 97,
   "metadata": {},
   "outputs": [
    {
     "name": "stdout",
     "output_type": "stream",
     "text": [
      "+----+--------------------+-------+--------------------+--------------------+-------------------------------------+-----+--------+--------------------+--------------------+---------+--------------------+---------+---------------+--------------------+-------+----------+-------+---------+--------+---------+-------+-------+-------------+--------+-------+-------+-------+-------+-------+-------+-------+-------+-------+\n",
      "|  ID|                Name|  Score|              Genres|        English name|                        Japanese name| Type|Episodes|               Aired|           Producers|Licensors|             Studios|   Source|       Duration|              Rating| Ranked|Popularity|Members|Favorites|Watching|Completed|On-Hold|Dropped|Plan to Watch|Score-10|Score-9|Score-8|Score-7|Score-6|Score-5|Score-4|Score-3|Score-2|Score-1|\n",
      "+----+--------------------+-------+--------------------+--------------------+-------------------------------------+-----+--------+--------------------+--------------------+---------+--------------------+---------+---------------+--------------------+-------+----------+-------+---------+--------+---------+-------+-------+-------------+--------+-------+-------+-------+-------+-------+-------+-------+-------+-------+\n",
      "|1547|    Obake no Q-tarou|Unknown|Comedy, School, S...|             Unknown|                       オバケのＱ太郎|   TV|      96|Aug 29, 1965 to J...|             Unknown|  Unknown|   Shin-Ei Animation|    Manga|25 min. per ep.|        G - All Ages|11270.0|     11870|    557|        0|      25|      175|     26|    107|          224|     8.0|    5.0|    6.0|   20.0|   28.0|   31.0|    6.0|    6.0|    2.0|   10.0|\n",
      "|1656|     PostPet Momobin|Unknown|        Comedy, Kids|             Unknown|                   ポストペットモモ便|   TV|      24|Jul 4, 2004 to Ja...|             Unknown|  Unknown|             Unknown|  Unknown| 3 min. per ep.|        G - All Ages|11598.0|     12929|    359|        0|      18|      140|     12|     71|          118|     7.0|    2.0|    6.0|   13.0|   17.0|   22.0|   15.0|   12.0|    7.0|   10.0|\n",
      "|1739|Shibawanko no Wa ...|Unknown|                Kids|             Unknown|               しばわんこの和のこころ|   TV|      80|Apr 5, 2006 to Ma...|             Unknown|  Unknown|             Three-d|  Unknown| 2 min. per ep.|        G - All Ages|11947.0|     11799|    574|        0|      52|      104|     61|    100|          257|     6.0|    4.0|   23.0|   28.0|   18.0|   17.0|    1.0|    3.0|      0|    8.0|\n",
      "|1863|Silk Road Shounen...|Unknown|Adventure, Fantas...|             Unknown|              シルクロード少年 ユート|   TV|      26|Sep 16, 2006 to M...|             NHK-BS2|  Unknown|                 OLM|  Unknown|20 min. per ep.|             Unknown|12096.0|     12286|    473|        0|      31|       71|      8|     57|          306|     3.0|    1.0|    2.0|    9.0|    5.0|    9.0|    3.0|    1.0|    2.0|    3.0|\n",
      "|2173|Kouchuu Ouja Mush...|Unknown|  Adventure, Fantasy|Mushiking:The Kin...|甲虫王者ムシキング　スーパーバトル...|Movie|       1|        Mar 21, 2007|                Sega|  Unknown|             Unknown|Card game|        50 min.|        G - All Ages|15166.0|     12530|    424|        1|      20|      159|     16|     41|          188|     9.0|    5.0|    4.0|   20.0|   22.0|   18.0|    9.0|    3.0|    7.0|    4.0|\n",
      "|2366| Touma Kishinden Oni|Unknown|        Supernatural|             Unknown|                        闘魔鬼神伝ONI|   TV|      25|Oct 5, 1995 to Ma...|Sotsu, Youmex, Ji...|  Unknown|           J.C.Staff|     Game| 8 min. per ep.|PG-13 - Teens 13 ...|12591.0|     11179|    736|        0|      56|      133|     26|     66|          455|     5.0|    7.0|   16.0|   10.0|   19.0|   18.0|    6.0|    4.0|    2.0|    6.0|\n",
      "|2636|Dorami-chan: Wow,...|Unknown|             Fantasy|             Unknown|    ドラミちゃん アララ・少年山賊団！|Movie|       1|         Mar 9, 1991|             Unknown|  Unknown|             Unknown|  Unknown|        40 min.|        G - All Ages|13835.0|     13232|    324|        0|      14|      157|     11|     34|          108|     8.0|    1.0|    7.0|   22.0|   24.0|   21.0|    7.0|    2.0|    1.0|    4.0|\n",
      "|2639|Dorami-chan: Hell...|Unknown|             Fantasy|             Unknown|      ドラミちゃん ハロー恐竜キッズ!!|Movie|       1|         Mar 6, 1993|             Unknown|  Unknown|             Unknown|  Unknown|        40 min.|        G - All Ages|13844.0|     13242|    321|        0|      13|      165|      9|     32|          102|     6.0|    3.0|    3.0|   23.0|   30.0|   27.0|    8.0|    2.0|      0|    3.0|\n",
      "|2642|Dorami-chan: A Bl...|Unknown|       Kids, Fantasy|             Unknown|      ドラミちゃん 青いストローハット|Movie|       1|        Mar 12, 1994|             Unknown|  Unknown|             Unknown|  Unknown|        15 min.|        G - All Ages|13845.0|     13790|    274|        0|      10|      137|      9|     29|           89|     7.0|    2.0|    4.0|   13.0|   22.0|   26.0|    4.0|    3.0|    2.0|    2.0|\n",
      "|2691|Gensei Shugoshin ...|Unknown|  Adventure, Fantasy|             Unknown|           現世守護神　ぴーひょろ一家|Movie|       1|         Jul 9, 1988|       Bandai Visual|  Unknown|             Unknown|    Manga|        30 min.|PG-13 - Teens 13 ...|14116.0|     13295|    320|        0|      17|       64|     11|     43|          185|     5.0|      0|    2.0|    3.0|    6.0|   14.0|    2.0|    4.0|    1.0|    5.0|\n",
      "|2701| Susie-chan to Marvy|Unknown|        Comedy, Kids|Little Susie and ...|             スージーちゃんとマービー|   TV|     104|Apr 5, 1999 to Fe...|             Unknown|  Unknown|               Xebec|  Unknown|15 min. per ep.|             Unknown|12301.0|     14538|    221|        0|      13|       68|     10|     56|           74|     4.0|    4.0|      0|    8.0|    6.0|    8.0|    6.0|    2.0|    3.0|    3.0|\n",
      "|2708|          Wankorobee|Unknown|Comedy, Fantasy, ...|             Unknown|                         わんころべえ|   TV|      26|Oct 6, 1996 to Ma...|             Unknown|  Unknown|Ajia-Do, TMS Ente...| Original|15 min. per ep.|        G - All Ages|12782.0|     14602|    216|        0|      11|       59|      7|     66|           73|     2.0|      0|    3.0|    7.0|    1.0|    9.0|    6.0|    2.0|      0|    4.0|\n",
      "|2735|Mugen Senki Portriss|Unknown|Action, Mecha, Sc...|             Unknown|                     無限戦記ポトリス|   TV|      52|Apr 5, 2003 to Ma...|TV Tokyo, Bandai ...|  Unknown|Sunrise, Dongwoo A&E|  Unknown|25 min. per ep.|       PG - Children|15698.0|     12851|    372|        0|      32|       95|     13|     62|          170|     3.0|      0|    7.0|   11.0|   10.0|   17.0|    1.0|    6.0|    1.0|    4.0|\n",
      "|2738|  Kasumin 3rd Season|Unknown|       Kids, Fantasy|             Unknown|               カスミン (第3シリーズ)|   TV|      26|Apr 9, 2003 to Oc...|                 NHK|  Unknown|                 OLM|  Unknown|25 min. per ep.|       PG - Children|14908.0|     12369|    455|        3|      32|      125|     31|     68|          199|     5.0|    5.0|   11.0|   28.0|   18.0|   18.0|   10.0|    3.0|      0|    3.0|\n",
      "|2741|       Monkey Turn V|Unknown|Action, Sports, D...|             Unknown|                    モンキー ターン V|   TV|      25|Jul 4, 2004 to De...|                 AIC|  Unknown|                 OLM|    Manga|24 min. per ep.|PG-13 - Teens 13 ...|15646.0|     11845|    562|        0|      37|      168|     20|     63|          274|    12.0|    2.0|   24.0|   28.0|   19.0|   11.0|    5.0|    4.0|    3.0|    4.0|\n",
      "|2742|Omoikkiri Kagaku ...|Unknown|Comedy, Kids, Sci-Fi|Full-Blast Scienc...| おもいっきり科学アドベンチャー そ...|   TV|      26|Oct 5, 2003 to Ma...|TV Tokyo, Geneon ...|  Unknown|                 OLM|  Unknown|20 min. per ep.|             Unknown|11329.0|     12746|    387|        0|      33|       87|     14|     70|          183|     5.0|    2.0|    3.0|   12.0|    5.0|   16.0|    7.0|    4.0|    2.0|    5.0|\n",
      "|2750|Heisei Inu Monoga...|Unknown|   Adventure, Comedy|Heisei Dog Storie...|                     平成イヌ物語バウ|Movie|       1|        Aug 20, 1994|             Unknown|  Unknown|    Nippon Animation|  Unknown|        22 min.|             Unknown|14333.0|     13734|    278|        0|      13|      104|      6|     44|          111|     5.0|    3.0|   12.0|   16.0|   10.0|   11.0|    2.0|      0|    3.0|    5.0|\n",
      "|2930|   Tensai? Dr. Hamax|Unknown|              Comedy|             Unknown|                  天才？Dr.ハマックス|   TV|      12|Oct 6, 2007 to De...|Trans Arts, Tohok...|  Unknown|      Production I.G| Original|23 min. per ep.|        G - All Ages|12443.0|     14501|    223|        0|      15|       50|     10|     57|           91|     3.0|    2.0|    2.0|    2.0|    1.0|    8.0|    3.0|      0|    2.0|    3.0|\n",
      "|3073|    Robby to Kerobby|Unknown|        Kids, Comedy|     Robby & Kerobby|                     ロビーとケロビー|   TV|      52|Apr 1, 2007 to Ma...|Aniplex, Yomiko A...|  Unknown|        A-1 Pictures| Original|10 min. per ep.|        G - All Ages|11725.0|     14482|    224|        0|      20|       50|      6|     56|           92|     4.0|      0|    3.0|    5.0|    8.0|    5.0|    1.0|    2.0|    3.0|    1.0|\n",
      "|3164|Ichigo Ichie: Koi...|Unknown|Slice of Life, Co...|             Unknown|                一期一会 恋バナ友バナ|   TV|      13|Oct 20, 2007 to J...|           Four Some|  Unknown|             Unknown|  Unknown| 5 min. per ep.|        G - All Ages|14573.0|     12626|    412|        0|      29|      121|     16|     49|          197|     7.0|    8.0|    6.0|   18.0|   14.0|   15.0|    3.0|      0|    1.0|    7.0|\n",
      "+----+--------------------+-------+--------------------+--------------------+-------------------------------------+-----+--------+--------------------+--------------------+---------+--------------------+---------+---------------+--------------------+-------+----------+-------+---------+--------+---------+-------+-------+-------------+--------+-------+-------+-------+-------+-------+-------+-------+-------+-------+\n",
      "only showing top 20 rows\n",
      "\n"
     ]
    }
   ],
   "source": [
    "# Visualizamos el dataset con Scores en Unknown y verificamos que los valores de Scores-1 al Scores-10 sean numericos\n",
    "df_filtered.where(df_filtered[\"Score\"] == \"Unknown\").show()\n"
   ]
  },
  {
   "cell_type": "code",
   "execution_count": 98,
   "metadata": {},
   "outputs": [
    {
     "name": "stdout",
     "output_type": "stream",
     "text": [
      "+----+----------------+-------+--------------------+------------+--------------+----+--------+--------------------+---------+---------+-----------------+------+---------------+------------+-------+----------+-------+---------+--------+---------+-------+-------+-------------+--------+-------+-------+-------+-------+-------+-------+-------+-------+-------+\n",
      "|  ID|            Name|  Score|              Genres|English name| Japanese name|Type|Episodes|               Aired|Producers|Licensors|          Studios|Source|       Duration|      Rating| Ranked|Popularity|Members|Favorites|Watching|Completed|On-Hold|Dropped|Plan to Watch|Score-10|Score-9|Score-8|Score-7|Score-6|Score-5|Score-4|Score-3|Score-2|Score-1|\n",
      "+----+----------------+-------+--------------------+------------+--------------+----+--------+--------------------+---------+---------+-----------------+------+---------------+------------+-------+----------+-------+---------+--------+---------+-------+-------+-------------+--------+-------+-------+-------+-------+-------+-------+-------+-------+-------+\n",
      "|1547|Obake no Q-tarou|Unknown|Comedy, School, S...|     Unknown|オバケのＱ太郎|  TV|      96|Aug 29, 1965 to J...|  Unknown|  Unknown|Shin-Ei Animation| Manga|25 min. per ep.|G - All Ages|11270.0|     11870|    557|        0|      25|      175|     26|    107|          224|     8.0|    5.0|    6.0|   20.0|   28.0|   31.0|    6.0|    6.0|    2.0|   10.0|\n",
      "+----+----------------+-------+--------------------+------------+--------------+----+--------+--------------------+---------+---------+-----------------+------+---------------+------------+-------+----------+-------+---------+--------+---------+-------+-------+-------------+--------+-------+-------+-------+-------+-------+-------+-------+-------+-------+\n",
      "\n"
     ]
    }
   ],
   "source": [
    "## Se muestra uno de los animes para verificar un cambio en la siguinete ejecución\n",
    "df_filtered.where(df_filtered[\"ID\"] == \"1547\").show()"
   ]
  },
  {
   "cell_type": "code",
   "execution_count": 99,
   "metadata": {},
   "outputs": [],
   "source": [
    "# Se calcula el Score promedio de cada anime si no tiene, y se guarda en la columna Score en otro caso mantiene el Score que tiene\n",
    "df_filtered = df_filtered.withColumn(\"Score\", when(df_filtered[\"Score\"] == \"Unknown\", (df_filtered[\"Score-1\"] *1 + df_filtered[\"Score-2\"] *2 + df_filtered[\"Score-3\"] *3 + df_filtered[\"Score-4\"] *4 + df_filtered[\"Score-5\"] *5 + df_filtered[\"Score-6\"] *6 + df_filtered[\"Score-7\"] *7 + df_filtered[\"Score-8\"] *8 + df_filtered[\"Score-9\"] *9 + df_filtered[\"Score-10\"] *10) / (df_filtered[\"Score-1\"] + df_filtered[\"Score-2\"] + df_filtered[\"Score-3\"] + df_filtered[\"Score-4\"] + df_filtered[\"Score-5\"] + df_filtered[\"Score-6\"] + df_filtered[\"Score-7\"] + df_filtered[\"Score-8\"] + df_filtered[\"Score-9\"] + df_filtered[\"Score-10\"])).otherwise(df_filtered[\"Score\"]))"
   ]
  },
  {
   "cell_type": "code",
   "execution_count": 100,
   "metadata": {},
   "outputs": [],
   "source": [
    "# Redondeamos el Score a 2 decimales\n",
    "df_filtered = df_filtered.withColumn(\"Score\", round(df_filtered.Score, 2))"
   ]
  },
  {
   "cell_type": "code",
   "execution_count": 101,
   "metadata": {},
   "outputs": [
    {
     "name": "stdout",
     "output_type": "stream",
     "text": [
      "+----+----------------+-----+--------------------+------------+--------------+----+--------+--------------------+---------+---------+-----------------+------+---------------+------------+-------+----------+-------+---------+--------+---------+-------+-------+-------------+--------+-------+-------+-------+-------+-------+-------+-------+-------+-------+\n",
      "|  ID|            Name|Score|              Genres|English name| Japanese name|Type|Episodes|               Aired|Producers|Licensors|          Studios|Source|       Duration|      Rating| Ranked|Popularity|Members|Favorites|Watching|Completed|On-Hold|Dropped|Plan to Watch|Score-10|Score-9|Score-8|Score-7|Score-6|Score-5|Score-4|Score-3|Score-2|Score-1|\n",
      "+----+----------------+-----+--------------------+------------+--------------+----+--------+--------------------+---------+---------+-----------------+------+---------------+------------+-------+----------+-------+---------+--------+---------+-------+-------+-------------+--------+-------+-------+-------+-------+-------+-------+-------+-------+-------+\n",
      "|1547|Obake no Q-tarou| 5.67|Comedy, School, S...|     Unknown|オバケのＱ太郎|  TV|      96|Aug 29, 1965 to J...|  Unknown|  Unknown|Shin-Ei Animation| Manga|25 min. per ep.|G - All Ages|11270.0|     11870|    557|        0|      25|      175|     26|    107|          224|     8.0|    5.0|    6.0|   20.0|   28.0|   31.0|    6.0|    6.0|    2.0|   10.0|\n",
      "+----+----------------+-----+--------------------+------------+--------------+----+--------+--------------------+---------+---------+-----------------+------+---------------+------------+-------+----------+-------+---------+--------+---------+-------+-------+-------------+--------+-------+-------+-------+-------+-------+-------+-------+-------+-------+\n",
      "\n"
     ]
    }
   ],
   "source": [
    "# Se muestra uno de los animes para verificar que el Score se haya calculado correctamente\n",
    "df_filtered.where(df_filtered[\"ID\"] == \"1547\").show()"
   ]
  },
  {
   "cell_type": "code",
   "execution_count": 102,
   "metadata": {},
   "outputs": [],
   "source": [
    "# Comprobación de la media de los scores\n",
    "# num = (8*10+5*9+6*8+20*7+28*6+31*5+6*4+6*3+2*2+10*1)/(8+5+6+20.0+28+31+6+6+2+10.0)\n",
    "# num"
   ]
  },
  {
   "cell_type": "code",
   "execution_count": 103,
   "metadata": {},
   "outputs": [
    {
     "name": "stdout",
     "output_type": "stream",
     "text": [
      "+---+--------------------+-----+--------------------+--------------------+------------------------------+-----+--------+--------------------+--------------------+--------------------+----------------+-----------+---------------+--------------------+------+----------+-------+---------+--------+---------+-------+-------+-------------+--------+--------+--------+--------+--------+-------+-------+-------+-------+-------+\n",
      "| ID|                Name|Score|              Genres|        English name|                 Japanese name| Type|Episodes|               Aired|           Producers|           Licensors|         Studios|     Source|       Duration|              Rating|Ranked|Popularity|Members|Favorites|Watching|Completed|On-Hold|Dropped|Plan to Watch|Score-10| Score-9| Score-8| Score-7| Score-6|Score-5|Score-4|Score-3|Score-2|Score-1|\n",
      "+---+--------------------+-----+--------------------+--------------------+------------------------------+-----+--------+--------------------+--------------------+--------------------+----------------+-----------+---------------+--------------------+------+----------+-------+---------+--------+---------+-------+-------+-------------+--------+--------+--------+--------+--------+-------+-------+-------+-------+-------+\n",
      "|  1|        Cowboy Bebop| 8.78|Action, Adventure...|        Cowboy Bebop|            カウボーイビバップ|   TV|      26|Apr 3, 1998 to Ap...|       Bandai Visual|Funimation, Banda...|         Sunrise|   Original|24 min. per ep.|R - 17+ (violence...|  28.0|        39|1251960|    61971|  105808|   718161|  71513|  26678|       329800|229170.0|182126.0|131625.0| 62330.0| 20688.0| 8904.0| 3184.0| 1357.0|  741.0| 1580.0|\n",
      "|  5|Cowboy Bebop: Ten...| 8.39|Action, Drama, My...|Cowboy Bebop:The ...|   カウボーイビバップ 天国の扉|Movie|       1|         Sep 1, 2001|Sunrise, Bandai V...|Sony Pictures Ent...|           Bones|   Original|  1 hr. 55 min.|R - 17+ (violence...| 159.0|       518| 273145|     1174|    4143|   208333|   1935|    770|        57964| 30043.0| 49201.0| 49505.0| 22632.0|  5805.0| 1877.0|  577.0|  221.0|  109.0|  379.0|\n",
      "|  6|              Trigun| 8.24|Action, Sci-Fi, A...|              Trigun|                    トライガン|   TV|      26|Apr 1, 1998 to Se...|Victor Entertainment|Funimation, Geneo...|        Madhouse|      Manga|24 min. per ep.|PG-13 - Teens 13 ...| 266.0|       201| 558913|    12944|   29113|   343492|  25465|  13925|       146918| 50229.0| 75651.0| 86142.0| 49432.0| 15376.0| 5838.0| 1965.0|  664.0|  316.0|  533.0|\n",
      "|  7|  Witch Hunter Robin| 7.27|Action, Mystery, ...|  Witch Hunter Robin|          Witch Hunter ROBI...|   TV|      26|Jul 2, 2002 to De...|TV Tokyo, Bandai ...|Funimation, Banda...|         Sunrise|   Original|25 min. per ep.|PG-13 - Teens 13 ...|2481.0|      1467|  94683|      587|    4300|    46165|   5121|   5378|        33719|  2182.0|  4806.0| 10128.0| 11618.0|  5709.0| 2920.0| 1083.0|  353.0|  164.0|  131.0|\n",
      "|  8|      Bouken Ou Beet| 6.98|Adventure, Fantas...|Beet the Vandel B...|                  冒険王ビィト|   TV|      52|Sep 30, 2004 to S...|    TV Tokyo, Dentsu|             Unknown|  Toei Animation|      Manga|23 min. per ep.|       PG - Children|3710.0|      4369|  13224|       18|     642|     7314|    766|   1108|         3394|   312.0|   529.0|  1242.0|  1713.0|  1068.0|  634.0|  265.0|   83.0|   50.0|   27.0|\n",
      "| 15|        Eyeshield 21| 7.95|Action, Sports, C...|             Unknown|                アイシールド21|   TV|     145|Apr 6, 2005 to Ma...|TV Tokyo, Nihon A...|VIZ Media, Sentai...|          Gallop|      Manga|23 min. per ep.|PG-13 - Teens 13 ...| 604.0|      1003| 148259|     2066|   13907|    78349|  14228|  11573|        30202|  9226.0| 14904.0| 22811.0| 16734.0|  6206.0| 2621.0|  795.0|  336.0|  140.0|  151.0|\n",
      "| 16|Hachimitsu to Clover| 8.06|Comedy, Drama, Jo...|    Honey and Clover|          ハチミツとクローバー|   TV|      24|Apr 15, 2005 to S...|Genco, Fuji TV, S...|VIZ Media, Discot...|       J.C.Staff|      Manga|23 min. per ep.|PG-13 - Teens 13 ...| 468.0|       687| 214499|     4101|   11909|    81145|  11901|  11026|        98518| 11829.0| 16309.0| 20008.0| 13062.0|  5574.0| 3148.0| 1339.0|  484.0|  278.0|  321.0|\n",
      "| 17|Hungry Heart: Wil...| 7.59|Slice of Life, Co...|             Unknown|  ハングリーハート Wild Str...|   TV|      52|Sep 11, 2002 to S...|             Unknown|             Unknown|Nippon Animation|      Manga|23 min. per ep.|PG-13 - Teens 13 ...|1317.0|      3612|  20470|      231|     817|    13778|    828|   1168|         3879|  1123.0|  1777.0|  3102.0|  3075.0|  1286.0|  602.0|  218.0|   88.0|   31.0|   32.0|\n",
      "| 18|Initial D Fourth ...| 8.15|Action, Cars, Spo...|             Unknown|頭文字〈イニシャル〉D FOURT...|   TV|      24|Apr 17, 2004 to F...|OB Planning, Stud...|          Funimation|        A.C.G.T.|      Manga|27 min. per ep.|PG-13 - Teens 13 ...| 360.0|      1233| 117929|      979|    6082|    90967|   3053|   1356|        16471| 10948.0| 15820.0| 22379.0| 12912.0|  3874.0| 1236.0|  369.0|   97.0|   48.0|  259.0|\n",
      "| 19|             Monster| 8.76|Drama, Horror, My...|             Monster|                    モンスター|   TV|      74|Apr 7, 2004 to Se...|VAP, Shogakukan-S...|           VIZ Media|        Madhouse|      Manga|24 min. per ep.|    R+ - Mild Nudity|  30.0|       169| 614100|    29436|   64648|   214491|  47488|  23008|       264465| 77350.0| 60652.0| 43459.0| 22045.0|  8861.0| 4381.0| 2086.0|  882.0|  593.0| 1177.0|\n",
      "| 20|              Naruto| 7.91|Action, Adventure...|              Naruto|                        ナルト|   TV|     220|Oct 3, 2002 to Fe...|TV Tokyo, Aniplex...|           VIZ Media|  Studio Pierrot|      Manga|23 min. per ep.|PG-13 - Teens 13 ...| 660.0|         8|1830540|    65586|  137167|  1462223|  61734|  99806|        69610|216866.0|234481.0|345563.0|286175.0|108155.0|46886.0|15477.0| 6098.0| 3582.0| 5310.0|\n",
      "| 21|           One Piece| 8.52|Action, Adventure...|           One Piece|                     ONE PIECE|   TV| Unknown|   Oct 20, 1999 to ?|Fuji TV, TAP, Shu...|Funimation, 4Kids...|  Toei Animation|      Manga|        24 min.|PG-13 - Teens 13 ...|  95.0|        31|1352724|   126645|  887333|       33| 187919| 136245|       141194|292445.0|166186.0|141755.0| 85424.0| 35342.0|19019.0| 8201.0| 3675.0| 2616.0| 6340.0|\n",
      "| 22| Tennis no Ouji-sama|  7.9|Action, Comedy, S...|The Prince of Tennis|                テニスの王子様|   TV|     178|Oct 10, 2001 to M...|Production I.G, N...|           VIZ Media|      Trans Arts|      Manga|22 min. per ep.|PG-13 - Teens 13 ...| 675.0|      1039| 141832|     3124|   11235|    76881|  12905|  12516|        28295|  9576.0| 12719.0| 19791.0| 16284.0|  6624.0| 3086.0| 1071.0|  443.0|  210.0|  225.0|\n",
      "| 23|    Ring ni Kakero 1| 6.38|Action, Shounen, ...|             Unknown|              リングにかけろ１|   TV|      12|Oct 6, 2004 to De...|             Unknown|             Unknown|  Toei Animation|      Manga|25 min. per ep.|       PG - Children|6493.0|      7333|   3648|       16|     170|     1333|    145|    296|         1704|    69.0|    61.0|   152.0|   260.0|   236.0|  143.0|   88.0|   40.0|   32.0|   28.0|\n",
      "| 24|       School Rumble| 7.94|Comedy, Romance, ...|       School Rumble|              スクールランブル|   TV|      26|Oct 5, 2004 to Ma...|TV Tokyo, Sotsu, ...|          Funimation|    Studio Comet|      Manga|23 min. per ep.|PG-13 - Teens 13 ...| 625.0|       514| 275464|     5137|   12277|   157789|  12856|  13491|        79051| 17907.0| 27623.0| 38112.0| 27327.0| 11034.0| 5396.0| 1897.0|  780.0|  441.0|  405.0|\n",
      "| 25|           Sunabouzu| 7.42|Action, Adventure...|         Desert Punk|                      砂ぼうず|   TV|      24|Oct 6, 2004 to Ma...|GDH, Pony Canyon,...|          Funimation|           Gonzo|      Manga|24 min. per ep.|R - 17+ (violence...|1844.0|      1284| 111734|      790|    6273|    53819|   6255|   7951|        37436|  3589.0|  6664.0| 12349.0| 12702.0|  6033.0| 3079.0| 1521.0|  643.0|  350.0|  297.0|\n",
      "| 26|          Texhnolyze| 7.76|Action, Sci-Fi, P...|          Texhnolyze|                    TEXHNOLYZE|   TV|      22|Apr 17, 2003 to S...|Group TAC, Rondo ...|Funimation, Geneo...|        Madhouse|   Original|23 min. per ep.|    R+ - Mild Nudity| 896.0|       823| 182599|     3671|   11335|    47532|   9815|   8112|       105805|  6856.0|  8309.0| 10851.0|  8636.0|  4429.0| 2462.0| 1456.0|  684.0|  411.0|  664.0|\n",
      "| 27|       Trinity Blood| 7.32|Action, Supernatu...|       Trinity Blood|          トリニティ・ブラッド|   TV|      24|Apr 29, 2005 to O...|             Unknown|          Funimation|           Gonzo|Light novel|24 min. per ep.|R - 17+ (violence...|2240.0|       936| 158343|     1479|    7794|    87958|   8940|   9349|        44302|  6091.0|  9759.0| 17761.0| 20152.0| 10273.0| 5392.0| 2250.0|  873.0|  456.0|  298.0|\n",
      "| 28|    Yakitate!! Japan| 7.95|     Comedy, Shounen|    Yakitate!! Japan|           焼きたて!! ジャぱん|   TV|      69|Oct 12, 2004 to M...|TV Tokyo, Aniplex...|Nozomi Entertainment|         Sunrise|      Manga|24 min. per ep.|PG-13 - Teens 13 ...| 609.0|      1666|  80183|      887|    5007|    39992|   5764|   4633|        24787|  4347.0|  7425.0| 11074.0|  7965.0|  3038.0| 1248.0|  345.0|  118.0|   56.0|   58.0|\n",
      "| 29|              Zipang| 7.51|Action, Military,...|             Unknown|                      ジパング|   TV|      26|Oct 8, 2004 to Ap...|      Marvelous, TBS|Geneon Entertainm...|     Studio Deen|      Manga|24 min. per ep.|PG-13 - Teens 13 ...|1565.0|      3985|  16652|      152|     857|     6807|    721|    599|         7668|   430.0|   874.0|  1801.0|  1696.0|   662.0|  279.0|  114.0|   38.0|   13.0|   28.0|\n",
      "+---+--------------------+-----+--------------------+--------------------+------------------------------+-----+--------+--------------------+--------------------+--------------------+----------------+-----------+---------------+--------------------+------+----------+-------+---------+--------+---------+-------+-------+-------------+--------+--------+--------+--------+--------+-------+-------+-------+-------+-------+\n",
      "only showing top 20 rows\n",
      "\n"
     ]
    }
   ],
   "source": [
    "# Se visualiza el dataset filtrado nuevamente\n",
    "df_filtered.show()"
   ]
  },
  {
   "cell_type": "code",
   "execution_count": 104,
   "metadata": {},
   "outputs": [
    {
     "data": {
      "text/plain": [
       "8037"
      ]
     },
     "execution_count": 104,
     "metadata": {},
     "output_type": "execute_result"
    }
   ],
   "source": [
    "# se visualiza el numero de filas del dataset filtrado\n",
    "df_filtered.count()"
   ]
  },
  {
   "cell_type": "code",
   "execution_count": 105,
   "metadata": {},
   "outputs": [
    {
     "data": {
      "text/plain": [
       "188"
      ]
     },
     "execution_count": 105,
     "metadata": {},
     "output_type": "execute_result"
    }
   ],
   "source": [
    "# Visualizamos el numero de filas sin valoraciones\n",
    "df_filtered.where((df_filtered[\"Score-1\"] == 0) & (df_filtered[\"Score-2\"] == 0) & (df_filtered[\"Score-3\"] == 0) & (df_filtered[\"Score-4\"] == 0) & (df_filtered[\"Score-5\"] == 0) & (df_filtered[\"Score-6\"] == 0) & (df_filtered[\"Score-7\"] == 0) & (df_filtered[\"Score-8\"] == 0) & (df_filtered[\"Score-9\"] == 0) & (df_filtered[\"Score-10\"] == 0)).count()"
   ]
  },
  {
   "cell_type": "code",
   "execution_count": 106,
   "metadata": {},
   "outputs": [
    {
     "name": "stdout",
     "output_type": "stream",
     "text": [
      "+-----+--------------------+-----+--------------------+--------------------+----------------------------------+-----+--------+--------------+--------------------+----------+------------+------------+--------+--------------------+-------+----------+-------+---------+--------+---------+-------+-------+-------------+--------+-------+-------+-------+-------+-------+-------+-------+-------+-------+\n",
      "|   ID|                Name|Score|              Genres|        English name|                     Japanese name| Type|Episodes|         Aired|           Producers| Licensors|     Studios|      Source|Duration|              Rating| Ranked|Popularity|Members|Favorites|Watching|Completed|On-Hold|Dropped|Plan to Watch|Score-10|Score-9|Score-8|Score-7|Score-6|Score-5|Score-4|Score-3|Score-2|Score-1|\n",
      "+-----+--------------------+-----+--------------------+--------------------+----------------------------------+-----+--------+--------------+--------------------+----------+------------+------------+--------+--------------------+-------+----------+-------+---------+--------+---------+-------+-------+-------------+--------+-------+-------+-------+-------+-------+-------+-------+-------+-------+\n",
      "|20471|            Aoki Uru| null|    Military, Sci-Fi|         Uru in Blue|                          蒼きウル|Movie|       1|       Unknown|             Unknown|   Unknown|       Gaina|    Original| Unknown|             Unknown|Unknown|      6340|   5334|        1|       0|        0|      0|      0|         5334|       0|      0|      0|      0|      0|      0|      0|      0|      0|      0|\n",
      "|20715|                Mint| null|      Drama, Fantasy|             Unknown|                              MINT|Movie|       1|       Unknown|             Unknown|   Unknown|     Unknown|    Original| Unknown|             Unknown|Unknown|      8138|   2651|        1|       0|        0|      0|      0|         2651|       0|      0|      0|      0|      0|      0|      0|      0|      0|      0|\n",
      "|30223|      Shishou Series| null|Horror, Supernatu...|             Unknown|                      師匠シリーズ|   TV| Unknown|       Unknown|             Unknown|   Unknown|Pierrot Plus|       Novel| Unknown|             Unknown|Unknown|      5969|   6184|        4|       0|        0|      0|      0|         6184|       0|      0|      0|      0|      0|      0|      0|      0|      0|      0|\n",
      "|31445|Minna Atsumare! F...| null|Comedy, Parody, S...|             Unknown|みんな集まれ! ファルコム学園　３期|   TV| Unknown|       Unknown|             Unknown|   Unknown|     Unknown|4-koma manga| Unknown|PG-13 - Teens 13 ...|Unknown|     11309|    711|        0|       0|        0|      0|      0|          711|       0|      0|      0|      0|      0|      0|      0|      0|      0|      0|\n",
      "|33737|Megaton-kyuu Musashi| null|       Mecha, School|             Unknown|                  メガトン級ムサシ|   TV| Unknown|Jul, 2021 to ?|             Unknown|   Unknown|         OLM|    Original| Unknown|             Unknown|Unknown|     10328|   1084|        1|       0|        0|      0|      0|         1084|       0|      0|      0|      0|      0|      0|      0|      0|      0|      0|\n",
      "|34264|Ninja Bear the An...| null|      Comedy, School|             Unknown|          忍者ベアーthe Animation★|   TV| Unknown|       Unknown|TV Tokyo, TriF St...|   Unknown|      KOO-KI|    Original| Unknown|        G - All Ages|Unknown|     13029|    355|        0|       0|        0|      0|      0|          355|       0|      0|      0|      0|      0|      0|      0|      0|      0|      0|\n",
      "|34348|     Rescue Academia| null|   Sci-Fi, Adventure|             Unknown|              レスキューアカデミア|   TV| Unknown|     2021 to ?|             Unknown|   Unknown|       Gaina|    Original| Unknown|        G - All Ages|Unknown|      9825|   1359|        2|       0|        0|      0|      0|         1359|       0|      0|      0|      0|      0|      0|      0|      0|      0|      0|\n",
      "|34832|Macross (Shin Ser...| null|Action, Military,...|             Unknown|             マクロス (新シリーズ)|   TV| Unknown|       Unknown|             Unknown|   Unknown|     Unknown|    Original| 23 min.|PG-13 - Teens 13 ...|Unknown|      7501|   3456|        6|       0|        0|      0|      0|         3456|       0|      0|      0|      0|      0|      0|      0|      0|      0|      0|\n",
      "|34900|Biblia Koshodou n...| null|      Mystery, Drama|             Unknown|          ビブリア古書堂の事件手帖|Movie|       1|       Unknown|             Unknown|   Unknown|     Unknown| Light novel| Unknown|             Unknown|Unknown|      7219|   3842|        5|       0|        0|      0|      0|         3842|       0|      0|      0|      0|      0|      0|      0|      0|      0|      0|\n",
      "|35136|Koukyoushihen Eur...| null|Sci-Fi, Adventure...|Eureka Seven Hi-E...|   EUREKA／交響詩篇エウレカセブ...|Movie|       1|          2021|Mainichi Broadcas...|Funimation|       Bones|    Original| Unknown|PG-13 - Teens 13 ...|Unknown|      5391|   7940|        9|       0|        0|      0|      0|         7940|       0|      0|      0|      0|      0|      0|      0|      0|      0|      0|\n",
      "|35210|        Kuroi Hitomi| null|Demons, Supernatu...|             Unknown|                            黒い瞳|Movie|       1|       Unknown|             Unknown|   Unknown|     Unknown|   Web manga|   2 hr.|             Unknown|Unknown|     11886|    557|        0|       0|        0|      0|      0|          557|       0|      0|      0|      0|      0|      0|      0|      0|      0|      0|\n",
      "|35213|Kai Feng Kidan Movie| null|Action, Comedy, S...|             Unknown|                          開封奇談|Movie|       1|       Unknown|             Unknown|   Unknown|     Unknown|   Web manga|   2 hr.|             Unknown|Unknown|     13676|    286|        0|       0|        0|      0|      0|          286|       0|      0|      0|      0|      0|      0|      0|      0|      0|      0|\n",
      "|35335|          Musashino!| null|Comedy, School, S...|             Unknown|                        むさしの！|   TV| Unknown|       Unknown|             Harappa|   Unknown|      A-Real|    Original|  3 min.|       PG - Children|Unknown|      7465|   3504|        2|       0|        0|      0|      0|         3504|       0|      0|      0|      0|      0|      0|      0|      0|      0|      0|\n",
      "|35362|Mori no Yousei: K...| null|Music, Comedy, Fa...|             Unknown|               森の妖精 キノコの娘|   TV| Unknown|       Unknown|             Unknown|   Unknown|     Unknown|Picture book| Unknown|             Unknown|Unknown|      9967|   1261|        1|       0|        0|      0|      0|         1261|       0|      0|      0|      0|      0|      0|      0|      0|      0|      0|\n",
      "|35500|Yuri!!! on Ice Th...| null|      Comedy, Sports|Yuri on Ice the M...|        ユーリ!!! on ICE 劇場版...|Movie|       1|       Unknown|             Unknown|   Unknown|       MAPPA|    Original| Unknown|             Unknown|Unknown|      2132|  55311|      214|       1|        0|      1|      0|        55309|       0|      0|      0|      0|      0|      0|      0|      0|      0|      0|\n",
      "|35853|Zero Seiki Movie ...| null|Action, Sci-Fi, A...|             Unknown|               零世紀 エメラルダス|Movie|       1|       Unknown|             Unknown|   Unknown|     Unknown|       Manga| Unknown|             Unknown|Unknown|      8808|   2037|        0|       0|        0|      0|      0|         2037|       0|      0|      0|      0|      0|      0|      0|      0|      0|      0|\n",
      "|35854|Zero Seiki Movie ...| null|Action, Sci-Fi, A...|             Unknown|                 零世紀 ハーロック|Movie|       1|       Unknown|             Unknown|   Unknown|     Unknown|       Manga| Unknown|             Unknown|Unknown|      9863|   1330|        0|       0|        0|      0|      0|         1330|       0|      0|      0|      0|      0|      0|      0|      0|      0|      0|\n",
      "|35855|Zero Seiki Movie ...| null|Action, Sci-Fi, A...|             Unknown|                   零世紀 メーテル|Movie|       1|       Unknown|             Unknown|   Unknown|     Unknown|       Manga| Unknown|             Unknown|Unknown|     10359|   1061|        0|       0|        0|      0|      0|         1061|       0|      0|      0|      0|      0|      0|      0|      0|      0|      0|\n",
      "|36252|Library Cross Inf...| null|Mystery, Supernat...|             Unknown|                     LibraryCross∞|   TV| Unknown|       Unknown|             Unknown|   Unknown|     Unknown|        Game| Unknown|             Unknown|Unknown|      9633|   1476|        0|       0|        0|      0|      0|         1476|       0|      0|      0|      0|      0|      0|      0|      0|      0|      0|\n",
      "|36699|Kimitachi wa Dou ...| null|               Drama|             Unknown|              君たちはどう生きるか|Movie|       1|       Unknown|             Unknown|   Unknown|     Unknown|    Original| Unknown|             Unknown|Unknown|      8601|   2226|        0|       0|        0|      0|      0|         2226|       0|      0|      0|      0|      0|      0|      0|      0|      0|      0|\n",
      "+-----+--------------------+-----+--------------------+--------------------+----------------------------------+-----+--------+--------------+--------------------+----------+------------+------------+--------+--------------------+-------+----------+-------+---------+--------+---------+-------+-------+-------------+--------+-------+-------+-------+-------+-------+-------+-------+-------+-------+\n",
      "only showing top 20 rows\n",
      "\n"
     ]
    }
   ],
   "source": [
    "# Visualizamos las filas sin valoraciones\n",
    "df_filtered.where((df_filtered[\"Score-1\"] == 0) & (df_filtered[\"Score-2\"] == 0) & (df_filtered[\"Score-3\"] == 0) & (df_filtered[\"Score-4\"] == 0) & (df_filtered[\"Score-5\"] == 0) & (df_filtered[\"Score-6\"] == 0) & (df_filtered[\"Score-7\"] == 0) & (df_filtered[\"Score-8\"] == 0) & (df_filtered[\"Score-9\"] == 0) & (df_filtered[\"Score-10\"] == 0)).show()"
   ]
  },
  {
   "cell_type": "code",
   "execution_count": 107,
   "metadata": {},
   "outputs": [
    {
     "name": "stdout",
     "output_type": "stream",
     "text": [
      "+-----+--------------------+-----+--------------------+--------------------+----------------------------------+-----+--------+--------------+--------------------+----------+------------+------------+--------+--------------------+-------+----------+-------+---------+--------+---------+-------+-------+-------------+--------+-------+-------+-------+-------+-------+-------+-------+-------+-------+\n",
      "|   ID|                Name|Score|              Genres|        English name|                     Japanese name| Type|Episodes|         Aired|           Producers| Licensors|     Studios|      Source|Duration|              Rating| Ranked|Popularity|Members|Favorites|Watching|Completed|On-Hold|Dropped|Plan to Watch|Score-10|Score-9|Score-8|Score-7|Score-6|Score-5|Score-4|Score-3|Score-2|Score-1|\n",
      "+-----+--------------------+-----+--------------------+--------------------+----------------------------------+-----+--------+--------------+--------------------+----------+------------+------------+--------+--------------------+-------+----------+-------+---------+--------+---------+-------+-------+-------------+--------+-------+-------+-------+-------+-------+-------+-------+-------+-------+\n",
      "|20471|            Aoki Uru| null|    Military, Sci-Fi|         Uru in Blue|                          蒼きウル|Movie|       1|       Unknown|             Unknown|   Unknown|       Gaina|    Original| Unknown|             Unknown|Unknown|      6340|   5334|        1|       0|        0|      0|      0|         5334|       0|      0|      0|      0|      0|      0|      0|      0|      0|      0|\n",
      "|20715|                Mint| null|      Drama, Fantasy|             Unknown|                              MINT|Movie|       1|       Unknown|             Unknown|   Unknown|     Unknown|    Original| Unknown|             Unknown|Unknown|      8138|   2651|        1|       0|        0|      0|      0|         2651|       0|      0|      0|      0|      0|      0|      0|      0|      0|      0|\n",
      "|30223|      Shishou Series| null|Horror, Supernatu...|             Unknown|                      師匠シリーズ|   TV| Unknown|       Unknown|             Unknown|   Unknown|Pierrot Plus|       Novel| Unknown|             Unknown|Unknown|      5969|   6184|        4|       0|        0|      0|      0|         6184|       0|      0|      0|      0|      0|      0|      0|      0|      0|      0|\n",
      "|31445|Minna Atsumare! F...| null|Comedy, Parody, S...|             Unknown|みんな集まれ! ファルコム学園　３期|   TV| Unknown|       Unknown|             Unknown|   Unknown|     Unknown|4-koma manga| Unknown|PG-13 - Teens 13 ...|Unknown|     11309|    711|        0|       0|        0|      0|      0|          711|       0|      0|      0|      0|      0|      0|      0|      0|      0|      0|\n",
      "|33737|Megaton-kyuu Musashi| null|       Mecha, School|             Unknown|                  メガトン級ムサシ|   TV| Unknown|Jul, 2021 to ?|             Unknown|   Unknown|         OLM|    Original| Unknown|             Unknown|Unknown|     10328|   1084|        1|       0|        0|      0|      0|         1084|       0|      0|      0|      0|      0|      0|      0|      0|      0|      0|\n",
      "|34264|Ninja Bear the An...| null|      Comedy, School|             Unknown|          忍者ベアーthe Animation★|   TV| Unknown|       Unknown|TV Tokyo, TriF St...|   Unknown|      KOO-KI|    Original| Unknown|        G - All Ages|Unknown|     13029|    355|        0|       0|        0|      0|      0|          355|       0|      0|      0|      0|      0|      0|      0|      0|      0|      0|\n",
      "|34348|     Rescue Academia| null|   Sci-Fi, Adventure|             Unknown|              レスキューアカデミア|   TV| Unknown|     2021 to ?|             Unknown|   Unknown|       Gaina|    Original| Unknown|        G - All Ages|Unknown|      9825|   1359|        2|       0|        0|      0|      0|         1359|       0|      0|      0|      0|      0|      0|      0|      0|      0|      0|\n",
      "|34832|Macross (Shin Ser...| null|Action, Military,...|             Unknown|             マクロス (新シリーズ)|   TV| Unknown|       Unknown|             Unknown|   Unknown|     Unknown|    Original| 23 min.|PG-13 - Teens 13 ...|Unknown|      7501|   3456|        6|       0|        0|      0|      0|         3456|       0|      0|      0|      0|      0|      0|      0|      0|      0|      0|\n",
      "|34900|Biblia Koshodou n...| null|      Mystery, Drama|             Unknown|          ビブリア古書堂の事件手帖|Movie|       1|       Unknown|             Unknown|   Unknown|     Unknown| Light novel| Unknown|             Unknown|Unknown|      7219|   3842|        5|       0|        0|      0|      0|         3842|       0|      0|      0|      0|      0|      0|      0|      0|      0|      0|\n",
      "|35136|Koukyoushihen Eur...| null|Sci-Fi, Adventure...|Eureka Seven Hi-E...|   EUREKA／交響詩篇エウレカセブ...|Movie|       1|          2021|Mainichi Broadcas...|Funimation|       Bones|    Original| Unknown|PG-13 - Teens 13 ...|Unknown|      5391|   7940|        9|       0|        0|      0|      0|         7940|       0|      0|      0|      0|      0|      0|      0|      0|      0|      0|\n",
      "|35210|        Kuroi Hitomi| null|Demons, Supernatu...|             Unknown|                            黒い瞳|Movie|       1|       Unknown|             Unknown|   Unknown|     Unknown|   Web manga|   2 hr.|             Unknown|Unknown|     11886|    557|        0|       0|        0|      0|      0|          557|       0|      0|      0|      0|      0|      0|      0|      0|      0|      0|\n",
      "|35213|Kai Feng Kidan Movie| null|Action, Comedy, S...|             Unknown|                          開封奇談|Movie|       1|       Unknown|             Unknown|   Unknown|     Unknown|   Web manga|   2 hr.|             Unknown|Unknown|     13676|    286|        0|       0|        0|      0|      0|          286|       0|      0|      0|      0|      0|      0|      0|      0|      0|      0|\n",
      "|35335|          Musashino!| null|Comedy, School, S...|             Unknown|                        むさしの！|   TV| Unknown|       Unknown|             Harappa|   Unknown|      A-Real|    Original|  3 min.|       PG - Children|Unknown|      7465|   3504|        2|       0|        0|      0|      0|         3504|       0|      0|      0|      0|      0|      0|      0|      0|      0|      0|\n",
      "|35362|Mori no Yousei: K...| null|Music, Comedy, Fa...|             Unknown|               森の妖精 キノコの娘|   TV| Unknown|       Unknown|             Unknown|   Unknown|     Unknown|Picture book| Unknown|             Unknown|Unknown|      9967|   1261|        1|       0|        0|      0|      0|         1261|       0|      0|      0|      0|      0|      0|      0|      0|      0|      0|\n",
      "|35500|Yuri!!! on Ice Th...| null|      Comedy, Sports|Yuri on Ice the M...|        ユーリ!!! on ICE 劇場版...|Movie|       1|       Unknown|             Unknown|   Unknown|       MAPPA|    Original| Unknown|             Unknown|Unknown|      2132|  55311|      214|       1|        0|      1|      0|        55309|       0|      0|      0|      0|      0|      0|      0|      0|      0|      0|\n",
      "|35853|Zero Seiki Movie ...| null|Action, Sci-Fi, A...|             Unknown|               零世紀 エメラルダス|Movie|       1|       Unknown|             Unknown|   Unknown|     Unknown|       Manga| Unknown|             Unknown|Unknown|      8808|   2037|        0|       0|        0|      0|      0|         2037|       0|      0|      0|      0|      0|      0|      0|      0|      0|      0|\n",
      "|35854|Zero Seiki Movie ...| null|Action, Sci-Fi, A...|             Unknown|                 零世紀 ハーロック|Movie|       1|       Unknown|             Unknown|   Unknown|     Unknown|       Manga| Unknown|             Unknown|Unknown|      9863|   1330|        0|       0|        0|      0|      0|         1330|       0|      0|      0|      0|      0|      0|      0|      0|      0|      0|\n",
      "|35855|Zero Seiki Movie ...| null|Action, Sci-Fi, A...|             Unknown|                   零世紀 メーテル|Movie|       1|       Unknown|             Unknown|   Unknown|     Unknown|       Manga| Unknown|             Unknown|Unknown|     10359|   1061|        0|       0|        0|      0|      0|         1061|       0|      0|      0|      0|      0|      0|      0|      0|      0|      0|\n",
      "|36252|Library Cross Inf...| null|Mystery, Supernat...|             Unknown|                     LibraryCross∞|   TV| Unknown|       Unknown|             Unknown|   Unknown|     Unknown|        Game| Unknown|             Unknown|Unknown|      9633|   1476|        0|       0|        0|      0|      0|         1476|       0|      0|      0|      0|      0|      0|      0|      0|      0|      0|\n",
      "|36699|Kimitachi wa Dou ...| null|               Drama|             Unknown|              君たちはどう生きるか|Movie|       1|       Unknown|             Unknown|   Unknown|     Unknown|    Original| Unknown|             Unknown|Unknown|      8601|   2226|        0|       0|        0|      0|      0|         2226|       0|      0|      0|      0|      0|      0|      0|      0|      0|      0|\n",
      "+-----+--------------------+-----+--------------------+--------------------+----------------------------------+-----+--------+--------------+--------------------+----------+------------+------------+--------+--------------------+-------+----------+-------+---------+--------+---------+-------+-------+-------------+--------+-------+-------+-------+-------+-------+-------+-------+-------+-------+\n",
      "only showing top 20 rows\n",
      "\n"
     ]
    }
   ],
   "source": [
    "# Visualizamos las filas sin valoraciones de otra manera\n",
    "df_filtered.filter(df_filtered.Score.isNull()).show()"
   ]
  },
  {
   "cell_type": "code",
   "execution_count": 108,
   "metadata": {},
   "outputs": [],
   "source": [
    "# Se filtra por los animes que tienen valoraciones\n",
    "df_filtered = df_filtered.filter(df_filtered.Score.isNotNull())"
   ]
  },
  {
   "cell_type": "markdown",
   "metadata": {},
   "source": [
    "## Entrenamiento del Algoritmo ALS"
   ]
  },
  {
   "cell_type": "code",
   "execution_count": 109,
   "metadata": {},
   "outputs": [],
   "source": [
    "# Se cargan los valores del csv de ratings\n",
    "df_ratings = spark.read.csv(\"data/rating_complete.csv\", header=True, sep=\",\", encoding=\"UTF-8\", inferSchema=True)\n",
    "\n",
    "# Se cargan los valores de ratings del usuario 66666\n",
    "df_ratings_ep = spark.read.csv(\"data/valoraciones_EP.csv\", header=False, sep=\",\", encoding=\"UTF-8\", inferSchema=True)\n",
    "# Como el csv de datos no tiene header, se reemplaza el nombre por defecto por los que se quieren\n",
    "df_ratings_ep = df_ratings_ep.withColumnRenamed(\"_c0\", \"user_id\")\n",
    "df_ratings_ep = df_ratings_ep.withColumnRenamed(\"_c1\", \"anime_id\")\n",
    "df_ratings_ep = df_ratings_ep.withColumnRenamed(\"_c2\", \"rating\")"
   ]
  },
  {
   "cell_type": "code",
   "execution_count": 110,
   "metadata": {},
   "outputs": [
    {
     "name": "stdout",
     "output_type": "stream",
     "text": [
      "El numero de valoraciones: 57633278\n",
      "El numero de valoraciones del usuario EP: 65\n"
     ]
    }
   ],
   "source": [
    "print(\"El numero de valoraciones: \" + str(df_ratings.count()))\n",
    "print(\"El numero de valoraciones del usuario EP: \" + str(df_ratings_ep.count()))"
   ]
  },
  {
   "cell_type": "code",
   "execution_count": 111,
   "metadata": {},
   "outputs": [],
   "source": [
    "df_filtered = df_filtered.withColumnRenamed(\"Rating\",\"Category_rating\")"
   ]
  },
  {
   "cell_type": "code",
   "execution_count": 112,
   "metadata": {},
   "outputs": [],
   "source": [
    "# Se realiza un union de los dos dataframes de valoraciones\n",
    "df_ratings_completo = df_ratings.union(df_ratings_ep)"
   ]
  },
  {
   "cell_type": "code",
   "execution_count": 113,
   "metadata": {},
   "outputs": [
    {
     "name": "stdout",
     "output_type": "stream",
     "text": [
      "+-------+--------+------+\n",
      "|user_id|anime_id|rating|\n",
      "+-------+--------+------+\n",
      "|      0|     430|   9.0|\n",
      "|      0|    1004|   5.0|\n",
      "|      0|    3010|   7.0|\n",
      "|      0|     570|   7.0|\n",
      "|      0|    2762|   9.0|\n",
      "|      0|     431|   8.0|\n",
      "|      0|     578|  10.0|\n",
      "|      0|     433|   6.0|\n",
      "|      0|    1571|  10.0|\n",
      "|      0|     121|   9.0|\n",
      "|      0|     356|   9.0|\n",
      "|      0|    1250|   7.0|\n",
      "|      0|    2913|   6.0|\n",
      "|      0|    1689|   6.0|\n",
      "|      0|      68|   6.0|\n",
      "|      0|    1829|   7.0|\n",
      "|      0|     600|   6.0|\n",
      "|      0|    3418|   9.0|\n",
      "|      0|     164|   8.0|\n",
      "|      0|    1894|   7.0|\n",
      "+-------+--------+------+\n",
      "only showing top 20 rows\n",
      "\n"
     ]
    }
   ],
   "source": [
    "df_ratings_completo.show()"
   ]
  },
  {
   "cell_type": "code",
   "execution_count": 114,
   "metadata": {},
   "outputs": [],
   "source": [
    "# Se realiza un join con el dataframe de animes, para conocer cuales son peliculas y cuales son series\n",
    "df_ratings_completo_movies = df_ratings_completo.join(df_filtered, df_ratings_completo[\"anime_id\"] == df_filtered[\"ID\"], \"inner\")"
   ]
  },
  {
   "cell_type": "code",
   "execution_count": 115,
   "metadata": {},
   "outputs": [],
   "source": [
    "# Se obtienen las peliculas valoradas por los usuarios\n",
    "df_ratings_movies = df_ratings_completo_movies.filter(df_ratings_completo_movies[\"Type\"] == \"Movie\").select(\"user_id\", \"anime_id\", \"rating\")"
   ]
  },
  {
   "cell_type": "code",
   "execution_count": 116,
   "metadata": {},
   "outputs": [],
   "source": [
    "# Se obtienen las series valoradas por los usuarios\n",
    "df_ratings_series = df_ratings_completo_movies.filter(df_ratings_completo_movies[\"Type\"] == \"TV\").select(\"user_id\", \"anime_id\", \"rating\")"
   ]
  },
  {
   "cell_type": "code",
   "execution_count": 117,
   "metadata": {},
   "outputs": [
    {
     "name": "stdout",
     "output_type": "stream",
     "text": [
      "+-------+--------+------+\n",
      "|user_id|anime_id|rating|\n",
      "+-------+--------+------+\n",
      "|      0|    3010|   7.0|\n",
      "|      0|    2762|   9.0|\n",
      "|      0|    1571|  10.0|\n",
      "|      0|     121|   9.0|\n",
      "|      0|     356|   9.0|\n",
      "|      0|    1250|   7.0|\n",
      "|      0|    2913|   6.0|\n",
      "|      0|      68|   6.0|\n",
      "|      0|     600|   6.0|\n",
      "|      0|    3418|   9.0|\n",
      "|      0|    2034|   8.0|\n",
      "|      0|    2547|   7.0|\n",
      "|      0|     169|   7.0|\n",
      "|      0|     174|   4.0|\n",
      "|      0|    2543|   7.0|\n",
      "|      0|    4086|   6.0|\n",
      "|      0|     419|   8.0|\n",
      "|      1|   22535|   9.0|\n",
      "|      1|   38000|   9.0|\n",
      "|      1|   18679|   6.0|\n",
      "+-------+--------+------+\n",
      "only showing top 20 rows\n",
      "\n"
     ]
    }
   ],
   "source": [
    "df_ratings_series.show()"
   ]
  },
  {
   "cell_type": "markdown",
   "metadata": {},
   "source": [
    "## Dividir los sets de datos"
   ]
  },
  {
   "cell_type": "code",
   "execution_count": 118,
   "metadata": {},
   "outputs": [],
   "source": [
    "(training_movies, test_movies) = df_ratings_movies.randomSplit([0.8, 0.2])\n",
    "(training_series, test_series) = df_ratings_series.randomSplit([0.8, 0.2])"
   ]
  },
  {
   "cell_type": "code",
   "execution_count": 142,
   "metadata": {},
   "outputs": [],
   "source": [
    "als_movie = ALS(maxIter=5, regParam=0.1, userCol=\"user_id\", itemCol=\"anime_id\", ratingCol=\"rating\", coldStartStrategy=\"drop\")\n",
    "model_movie = als_movie.fit(training_movies)"
   ]
  },
  {
   "cell_type": "code",
   "execution_count": 143,
   "metadata": {},
   "outputs": [],
   "source": [
    "als_series = ALS(maxIter=5, regParam=0.1, userCol=\"user_id\", itemCol=\"anime_id\", ratingCol=\"rating\", coldStartStrategy=\"drop\")\n",
    "model_series = als_series.fit(training_series)"
   ]
  },
  {
   "cell_type": "code",
   "execution_count": 144,
   "metadata": {},
   "outputs": [],
   "source": [
    "predictions_movies = model_movie.transform(test_movies)\n",
    "predictions_series = model_series.transform(test_series)"
   ]
  },
  {
   "cell_type": "code",
   "execution_count": 145,
   "metadata": {},
   "outputs": [
    {
     "name": "stdout",
     "output_type": "stream",
     "text": [
      "+-------+--------+------+----------+\n",
      "|user_id|anime_id|rating|prediction|\n",
      "+-------+--------+------+----------+\n",
      "|     27|     199|   7.0|  7.467622|\n",
      "|     27|     433|   5.0|  5.477476|\n",
      "|     27|     468|   9.0| 5.9065013|\n",
      "|     27|   28851|  10.0|  7.915716|\n",
      "|     28|     431|  10.0|   8.14528|\n",
      "|     28|     459|   8.0|  7.685598|\n",
      "|     28|    1119|   8.0| 7.3078337|\n",
      "|     28|    1120|   8.0|  7.199186|\n",
      "|     28|    1526|  10.0| 7.6236405|\n",
      "|     28|    2006|   8.0|  7.375023|\n",
      "|     28|    2201|   8.0|  7.438695|\n",
      "|     34|     371|   9.0|  8.593226|\n",
      "|     34|     449|  10.0|  8.187546|\n",
      "|     34|     450|  10.0|  8.418671|\n",
      "|     34|    2144|   6.0|  6.718346|\n",
      "|     34|   16528|  10.0|  8.204545|\n",
      "|     44|     512|   7.0|  6.846034|\n",
      "|     44|     597|   6.0| 5.8049736|\n",
      "|     44|     974|   7.0|  6.132569|\n",
      "|     44|    2236|   7.0| 6.6550636|\n",
      "+-------+--------+------+----------+\n",
      "only showing top 20 rows\n",
      "\n"
     ]
    }
   ],
   "source": [
    "predictions_movies.show()"
   ]
  },
  {
   "cell_type": "code",
   "execution_count": 146,
   "metadata": {},
   "outputs": [
    {
     "name": "stdout",
     "output_type": "stream",
     "text": [
      "+-------+--------+------+----------+\n",
      "|user_id|anime_id|rating|prediction|\n",
      "+-------+--------+------+----------+\n",
      "|     27|      20|  10.0| 7.5609174|\n",
      "|     27|     121|   8.0|  7.710748|\n",
      "|     27|     276|   9.0| 6.0174265|\n",
      "|     27|     934|   7.0|  7.494112|\n",
      "|     27|    2476|   7.0| 4.1868806|\n",
      "|     27|    2966|   9.0| 7.8213067|\n",
      "|     27|   11757|   9.0| 7.8251987|\n",
      "|     27|   13601|   8.0|  8.378403|\n",
      "|     27|   18153|  10.0|  7.951451|\n",
      "|     27|   22319|  10.0|  8.284065|\n",
      "|     27|   25777|   9.0|  8.295728|\n",
      "|     27|   31637|   7.0| 7.8112297|\n",
      "|     27|   31798|   8.0|  7.685741|\n",
      "|     27|   32901|   8.0| 6.6412864|\n",
      "|     27|   33487|   7.0| 6.8316526|\n",
      "|     27|   34382|   6.0| 6.5436797|\n",
      "|     27|   34392|   6.0|  4.913827|\n",
      "|     27|   35076|   8.0|  6.530383|\n",
      "|     28|     226|  10.0|   8.97889|\n",
      "|     28|     813|  10.0|  9.728958|\n",
      "+-------+--------+------+----------+\n",
      "only showing top 20 rows\n",
      "\n"
     ]
    }
   ],
   "source": [
    "predictions_series.show()"
   ]
  },
  {
   "cell_type": "code",
   "execution_count": 147,
   "metadata": {},
   "outputs": [
    {
     "name": "stdout",
     "output_type": "stream",
     "text": [
      "Root-mean-square error movies = 1.2982498330260732\n",
      "Root-mean-square error series = 1.1786542177458779\n"
     ]
    }
   ],
   "source": [
    "evaluator = RegressionEvaluator(metricName=\"rmse\", labelCol=\"rating\", predictionCol=\"prediction\")\n",
    "rmse_movies = evaluator.evaluate(predictions_movies)\n",
    "rmse_series = evaluator.evaluate(predictions_series)\n",
    "print(\"Root-mean-square error movies = \" + str(rmse_movies))\n",
    "print(\"Root-mean-square error series = \" + str(rmse_series))"
   ]
  },
  {
   "cell_type": "code",
   "execution_count": 148,
   "metadata": {},
   "outputs": [],
   "source": [
    "user_ep = df_ratings_movies.select(als_movie.getUserCol()).where(df_ratings_movies[\"user_id\"] == 66666).distinct()"
   ]
  },
  {
   "cell_type": "code",
   "execution_count": 149,
   "metadata": {},
   "outputs": [],
   "source": [
    "recomendation_userEp_movies = model_movie.recommendForUserSubset(user_ep, 5)\n",
    "recomendation_userEp_series = model_series.recommendForUserSubset(user_ep, 5)"
   ]
  },
  {
   "cell_type": "code",
   "execution_count": 150,
   "metadata": {},
   "outputs": [
    {
     "name": "stdout",
     "output_type": "stream",
     "text": [
      "+-------+-----------------------------------------------------------------------------------------------+\n",
      "|user_id|recommendations                                                                                |\n",
      "+-------+-----------------------------------------------------------------------------------------------+\n",
      "|66666  |[{33894, 9.740658}, {39486, 9.616261}, {31463, 9.583441}, {28023, 9.529836}, {33132, 9.305414}]|\n",
      "+-------+-----------------------------------------------------------------------------------------------+\n",
      "\n",
      "+-------+---------------------------------------------------------------------------------------------+\n",
      "|user_id|recommendations                                                                              |\n",
      "+-------+---------------------------------------------------------------------------------------------+\n",
      "|66666  |[{40748, 9.23185}, {13455, 9.219774}, {42923, 9.134537}, {5114, 9.089539}, {11061, 9.018715}]|\n",
      "+-------+---------------------------------------------------------------------------------------------+\n",
      "\n"
     ]
    }
   ],
   "source": [
    "# Se obtienen las recomendaciones de peliculas y series para el usuario ep\n",
    "recomendation_userEp_movies.show(20, False)\n",
    "recomendation_userEp_series.show(20, False)"
   ]
  },
  {
   "cell_type": "code",
   "execution_count": 151,
   "metadata": {},
   "outputs": [
    {
     "name": "stdout",
     "output_type": "stream",
     "text": [
      "root\n",
      " |-- user_id: integer (nullable = false)\n",
      " |-- recommendations: array (nullable = true)\n",
      " |    |-- element: struct (containsNull = true)\n",
      " |    |    |-- anime_id: integer (nullable = true)\n",
      " |    |    |-- rating: float (nullable = true)\n",
      "\n",
      "root\n",
      " |-- user_id: integer (nullable = false)\n",
      " |-- recommendations: array (nullable = true)\n",
      " |    |-- element: struct (containsNull = true)\n",
      " |    |    |-- anime_id: integer (nullable = true)\n",
      " |    |    |-- rating: float (nullable = true)\n",
      "\n"
     ]
    }
   ],
   "source": [
    "recomendation_userEp_movies.printSchema()\n",
    "recomendation_userEp_series.printSchema()"
   ]
  },
  {
   "cell_type": "code",
   "execution_count": 152,
   "metadata": {},
   "outputs": [],
   "source": [
    "# Separamos las recomendaciones de peliculas en columnas\n",
    "df_recomendations_movies_userEp = recomendation_userEp_movies.select(\"user_id\", explode(\"recommendations\").alias(\"recommendations\"))\n",
    "# Separamos las recomendaciones de series en columnas\n",
    "df_recomendations_series_userEp = recomendation_userEp_series.select(\"user_id\", explode(\"recommendations\").alias(\"recommendations\"))"
   ]
  },
  {
   "cell_type": "code",
   "execution_count": 153,
   "metadata": {},
   "outputs": [],
   "source": [
    "df_recomendations_movies_userEp = df_recomendations_movies_userEp.select(\"user_id\", \"recommendations.anime_id\", \"recommendations.rating\")\n",
    "df_recomendations_series_userEp = df_recomendations_series_userEp.select(\"user_id\", \"recommendations.anime_id\", \"recommendations.rating\")"
   ]
  },
  {
   "cell_type": "code",
   "execution_count": 154,
   "metadata": {},
   "outputs": [
    {
     "name": "stdout",
     "output_type": "stream",
     "text": [
      "+-------+--------+--------+\n",
      "|user_id|anime_id|rating  |\n",
      "+-------+--------+--------+\n",
      "|66666  |33894   |9.740658|\n",
      "|66666  |39486   |9.616261|\n",
      "|66666  |31463   |9.583441|\n",
      "|66666  |28023   |9.529836|\n",
      "|66666  |33132   |9.305414|\n",
      "+-------+--------+--------+\n",
      "\n",
      "+-------+--------+--------+\n",
      "|user_id|anime_id|rating  |\n",
      "+-------+--------+--------+\n",
      "|66666  |40748   |9.23185 |\n",
      "|66666  |13455   |9.219774|\n",
      "|66666  |42923   |9.134537|\n",
      "|66666  |5114    |9.089539|\n",
      "|66666  |11061   |9.018715|\n",
      "+-------+--------+--------+\n",
      "\n"
     ]
    }
   ],
   "source": [
    "df_recomendations_movies_userEp.show(truncate=False)\n",
    "df_recomendations_series_userEp.show(truncate=False)"
   ]
  },
  {
   "cell_type": "code",
   "execution_count": 164,
   "metadata": {},
   "outputs": [],
   "source": [
    "df_movies_recomended = df_recomendations_movies_userEp.join(df_filtered, df_recomendations_movies_userEp[\"anime_id\"] == df_filtered[\"ID\"], \"inner\")"
   ]
  },
  {
   "cell_type": "code",
   "execution_count": 165,
   "metadata": {},
   "outputs": [],
   "source": [
    "df_movies_recomended = df_movies_recomended.orderBy(\"Score\", ascending=False).select(\"anime_id\", \"Name\", \"English name\", \"Score\")"
   ]
  },
  {
   "cell_type": "code",
   "execution_count": 166,
   "metadata": {},
   "outputs": [
    {
     "name": "stdout",
     "output_type": "stream",
     "text": [
      "+--------+------------------------------------------+--------------------+-----+\n",
      "|anime_id|Name                                      |English name        |Score|\n",
      "+--------+------------------------------------------+--------------------+-----+\n",
      "|39486   |Gintama: The Final                        |Unknown             |8.88 |\n",
      "|33894   |Sensou: Kodomo-tachi no Yuigon            |Unknown             |8.06 |\n",
      "|33132   |Shin Kachikachi Yama                      |Unknown             |6.94 |\n",
      "|28023   |Tsuru no Sugomori                         |Unknown             |6.57 |\n",
      "|31463   |Maemilggot, Unsu Joeun Nal, Geurigo Bombom|The Road Called Life|5.62 |\n",
      "+--------+------------------------------------------+--------------------+-----+\n",
      "\n"
     ]
    }
   ],
   "source": [
    "df_movies_recomended.show(truncate=False)"
   ]
  },
  {
   "cell_type": "code",
   "execution_count": 167,
   "metadata": {},
   "outputs": [],
   "source": [
    "df_series_recomended = df_recomendations_series_userEp.join(df_filtered, df_recomendations_series_userEp[\"anime_id\"] == df_filtered[\"ID\"], \"inner\")"
   ]
  },
  {
   "cell_type": "code",
   "execution_count": 168,
   "metadata": {},
   "outputs": [],
   "source": [
    "df_series_recomended = df_series_recomended.orderBy(\"Score\", ascending=False).select(\"anime_id\", \"Name\", \"English name\", \"Score\")"
   ]
  },
  {
   "cell_type": "code",
   "execution_count": 169,
   "metadata": {},
   "outputs": [
    {
     "name": "stdout",
     "output_type": "stream",
     "text": [
      "+--------+--------------------------------+-------------------------------+-----+\n",
      "|anime_id|Name                            |English name                   |Score|\n",
      "+--------+--------------------------------+-------------------------------+-----+\n",
      "|5114    |Fullmetal Alchemist: Brotherhood|Fullmetal Alchemist:Brotherhood|9.19 |\n",
      "|11061   |Hunter x Hunter (2011)          |Hunter x Hunter                |9.1  |\n",
      "|40748   |Jujutsu Kaisen (TV)             |Unknown                        |8.54 |\n",
      "|42923   |SK∞                             |SK8 the Infinity               |7.96 |\n",
      "|13455   |Zumomo to Nupepe                |Unknown                        |5.95 |\n",
      "+--------+--------------------------------+-------------------------------+-----+\n",
      "\n"
     ]
    }
   ],
   "source": [
    "df_series_recomended.show(truncate=False)"
   ]
  },
  {
   "cell_type": "code",
   "execution_count": null,
   "metadata": {},
   "outputs": [],
   "source": [
    "df_movies_recomended.write.text(\"results/movies_recomended.txt\")\n",
    "df_series_recomended.write.text(\"results/series_recomended.txt\")"
   ]
  }
 ],
 "metadata": {
  "kernelspec": {
   "display_name": "Python 3",
   "language": "python",
   "name": "python3"
  },
  "language_info": {
   "codemirror_mode": {
    "name": "ipython",
    "version": 3
   },
   "file_extension": ".py",
   "mimetype": "text/x-python",
   "name": "python",
   "nbconvert_exporter": "python",
   "pygments_lexer": "ipython3",
   "version": "3.10.2"
  }
 },
 "nbformat": 4,
 "nbformat_minor": 2
}
