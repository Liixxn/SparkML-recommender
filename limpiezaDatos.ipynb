{
 "cells": [
  {
   "cell_type": "code",
   "execution_count": null,
   "metadata": {},
   "outputs": [],
   "source": [
    "from pyspark.sql import SparkSession\n",
    "spark = SparkSession.builder.appName(\"preprocesamiento\").getOrCreate()\n",
    "\n",
    "# Cargamos el dataset\n",
    "df_anime = spark.read.csv(\"anime.csv\", header=True, inferSchema=True)\n",
    "df_anime.printSchema()"
   ]
  }
 ],
 "metadata": {
  "language_info": {
   "name": "python"
  }
 },
 "nbformat": 4,
 "nbformat_minor": 2
}
